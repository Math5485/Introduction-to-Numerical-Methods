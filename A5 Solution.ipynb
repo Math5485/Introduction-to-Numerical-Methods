{
 "cells": [
  {
   "cell_type": "markdown",
   "id": "3d0a47e3-7c72-43fc-8563-d44cf886a24b",
   "metadata": {},
   "source": [
    "# A5: Solving nonlinear equations in 1d III"
   ]
  },
  {
   "cell_type": "code",
   "execution_count": null,
   "id": "abcd4e70",
   "metadata": {},
   "outputs": [
    {
     "data": {
      "text/plain": [
       "6.283185307179586"
      ]
     },
     "execution_count": 22,
     "metadata": {},
     "output_type": "execute_result"
    }
   ],
   "source": [
    "# | code-fold: true\n",
    "\n",
    "# useful definitions that we've used so far:\n",
    "\n",
    "using Plots\n",
    "using LaTeXStrings\n",
    "using Polynomials\n",
    "using PrettyTables\n",
    "\n",
    "function simple_iteration( g, x1; N=100, tol=1e-10 )\n",
    "    x = [ x1 ]\n",
    "    for n in 2:N\n",
    "        push!( x, g(x[n-1]) )\n",
    "        if (abs(g(x[end]) - x[end]) < tol)\n",
    "            break\n",
    "        elseif (x[end] == Inf)\n",
    "            @warn \"simple iteration diverges to Inf\";\n",
    "            break\n",
    "        elseif (x[end] == -Inf)\n",
    "            @warn \"simple iteration diverges to -Inf\";\n",
    "            break\n",
    "        end \n",
    "    end\n",
    "    return x\n",
    "end\n",
    "\n",
    "function relaxation( f, λ, x1; N=100, tol=1e-10)\n",
    "    x = [x1]\n",
    "    r = 0.;\n",
    "    for n in 2:N\n",
    "        push!( x, x[n-1] - λ*f(x[n-1]) )\n",
    "        r = abs(f(x[end]));\n",
    "        if (r < tol)\n",
    "            return x\n",
    "        end\n",
    "    end\n",
    "    @warn \"max interations with |f| = $r\";\n",
    "    return x\n",
    "end\n",
    "\n",
    "function Newton( f, f_prime, x1; N=100, tol=1e-10)\n",
    "    x = [x1]\n",
    "    for n in 2:N\n",
    "        push!( x, x[n-1] - f(x[n-1])/f_prime(x[n-1]) )\n",
    "        r = abs(f(x[end]));\n",
    "        if (r < tol)\n",
    "            return x\n",
    "        end\n",
    "    end\n",
    "    @warn \"max interations |f| = $r\";\n",
    "    return x\n",
    "end\n",
    "\n",
    "function orderOfConvergence( x, ξ; α=0 )\n",
    "    err = @. abs(x - ξ)\n",
    "    logerr = @. log10( err )\n",
    "    ratios = [NaN; [logerr[i+1] / logerr[i] for i in 1:length(logerr)-1]]\n",
    "    if (α == 0) \n",
    "        α = ratios[end]\n",
    "        αr = round(α, sigdigits=3)\n",
    "    end\n",
    "    mu = [NaN; [err[i+1] / err[i]^α for i in 1:length(err)-1]]\n",
    "    pretty_table( \n",
    "         [1:length(x) err logerr ratios mu];\n",
    "        column_labels = [\"iteration\", \"absolute error\", \"log error\", \"alpha\", \"mu (α = $α)\" ]\n",
    "    )\n",
    "end\n",
    "\n",
    "function μ( x, ξ; α=1 )\n",
    "    return @. abs( x[2:end] - ξ ) / ( abs(x[1:end-1] - ξ )^α );\n",
    "end \n",
    "\n",
    "ϵ = 1.;\n",
    "f = ψ -> ψ - ϵ * sin(ψ) - 2π; # has a zero at 2π\n",
    "df = ψ -> 1 - ϵ * cos(ψ)\n",
    "ξ = 2π"
   ]
  },
  {
   "cell_type": "markdown",
   "id": "4909df0c",
   "metadata": {},
   "source": [
    "## B. Kepler's Equation\n",
    "\n",
    "In lectures, we considered the equation \n",
    "\n",
    "\\begin{align}\n",
    "    f(\\psi) := \\psi - \\epsilon \\sin \\psi - 2\\pi = 0\n",
    "\\end{align}\n",
    "\n",
    "with $\\epsilon = 0.9$. Recall that we showed that the Relaxation Method ($x_{n+1} = x_n - \\lambda f(x_n)$) converged linearly with asymptotic error constant $\\left| 1 - 0.1 \\lambda \\right|$ and Newton's Method converged faster than quadratically. For the remainder of this question, fix $\\epsilon = 1$. Here's a plot of $f$:"
   ]
  },
  {
   "cell_type": "code",
   "execution_count": 23,
   "id": "cab1b7cc",
   "metadata": {},
   "outputs": [
    {
     "data": {
      "image/png": "[encoded data removed]",
      "image/svg+xml": [
       "<?xml version=\"1.0\" encoding=\"utf-8\"?>\n",
       "<svg xmlns=\"http://www.w3.org/2000/svg\" xmlns:xlink=\"http://www.w3.org/1999/xlink\" width=\"600\" height=\"400\" viewBox=\"0 0 2400 1600\">\n",
       "<defs>\n",
       "  <clipPath id=\"clip930\">\n",
       "    <rect x=\"0\" y=\"0\" width=\"2400\" height=\"1600\"/>\n",
       "  </clipPath>\n",
       "</defs>\n",
       "<path clip-path=\"url(#clip930)\" d=\"M0 1600 L2400 1600 L2400 0 L0 0  Z\" fill=\"#ffffff\" fill-rule=\"evenodd\" fill-opacity=\"1\"/>\n",
       "<defs>\n",
       "  <clipPath id=\"clip931\">\n",
       "    <rect x=\"480\" y=\"0\" width=\"1681\" height=\"1600\"/>\n",
       "  </clipPath>\n",
       "</defs>\n",
       "<path clip-path=\"url(#clip930)\" d=\"M193.936 1486.45 L2352.76 1486.45 L2352.76 47.2441 L193.936 47.2441  Z\" fill=\"#ffffff\" fill-rule=\"evenodd\" fill-opacity=\"1\"/>\n",
       "<defs>\n",
       "  <clipPath id=\"clip932\">\n",
       "    <rect x=\"193\" y=\"47\" width=\"2160\" height=\"1440\"/>\n",
       "  </clipPath>\n",
       "</defs>\n",
       "<polyline clip-path=\"url(#clip932)\" style=\"stroke:#000000; stroke-linecap:round; stroke-linejoin:round; stroke-width:2; stroke-opacity:0.1; fill:none\" points=\"255.035,1486.45 255.035,47.2441 \"/>\n",
       "<polyline clip-path=\"url(#clip932)\" style=\"stroke:#000000; stroke-linecap:round; stroke-linejoin:round; stroke-width:2; stroke-opacity:0.1; fill:none\" points=\"764.19,1486.45 764.19,47.2441 \"/>\n",
       "<polyline clip-path=\"url(#clip932)\" style=\"stroke:#000000; stroke-linecap:round; stroke-linejoin:round; stroke-width:2; stroke-opacity:0.1; fill:none\" points=\"1273.35,1486.45 1273.35,47.2441 \"/>\n",
       "<polyline clip-path=\"url(#clip932)\" style=\"stroke:#000000; stroke-linecap:round; stroke-linejoin:round; stroke-width:2; stroke-opacity:0.1; fill:none\" points=\"1782.5,1486.45 1782.5,47.2441 \"/>\n",
       "<polyline clip-path=\"url(#clip932)\" style=\"stroke:#000000; stroke-linecap:round; stroke-linejoin:round; stroke-width:2; stroke-opacity:0.1; fill:none\" points=\"2291.66,1486.45 2291.66,47.2441 \"/>\n",
       "<polyline clip-path=\"url(#clip932)\" style=\"stroke:#000000; stroke-linecap:round; stroke-linejoin:round; stroke-width:2; stroke-opacity:0.1; fill:none\" points=\"193.936,1280.48 2352.76,1280.48 \"/>\n",
       "<polyline clip-path=\"url(#clip932)\" style=\"stroke:#000000; stroke-linecap:round; stroke-linejoin:round; stroke-width:2; stroke-opacity:0.1; fill:none\" points=\"193.936,958.56 2352.76,958.56 \"/>\n",
       "<polyline clip-path=\"url(#clip932)\" style=\"stroke:#000000; stroke-linecap:round; stroke-linejoin:round; stroke-width:2; stroke-opacity:0.1; fill:none\" points=\"193.936,636.638 2352.76,636.638 \"/>\n",
       "<polyline clip-path=\"url(#clip932)\" style=\"stroke:#000000; stroke-linecap:round; stroke-linejoin:round; stroke-width:2; stroke-opacity:0.1; fill:none\" points=\"193.936,314.717 2352.76,314.717 \"/>\n",
       "<polyline clip-path=\"url(#clip930)\" style=\"stroke:#000000; stroke-linecap:round; stroke-linejoin:round; stroke-width:4; stroke-opacity:1; fill:none\" points=\"193.936,1486.45 2352.76,1486.45 \"/>\n",
       "<polyline clip-path=\"url(#clip930)\" style=\"stroke:#000000; stroke-linecap:round; stroke-linejoin:round; stroke-width:4; stroke-opacity:1; fill:none\" points=\"255.035,1486.45 255.035,1467.55 \"/>\n",
       "<polyline clip-path=\"url(#clip930)\" style=\"stroke:#000000; stroke-linecap:round; stroke-linejoin:round; stroke-width:4; stroke-opacity:1; fill:none\" points=\"764.19,1486.45 764.19,1467.55 \"/>\n",
       "<polyline clip-path=\"url(#clip930)\" style=\"stroke:#000000; stroke-linecap:round; stroke-linejoin:round; stroke-width:4; stroke-opacity:1; fill:none\" points=\"1273.35,1486.45 1273.35,1467.55 \"/>\n",
       "<polyline clip-path=\"url(#clip930)\" style=\"stroke:#000000; stroke-linecap:round; stroke-linejoin:round; stroke-width:4; stroke-opacity:1; fill:none\" points=\"1782.5,1486.45 1782.5,1467.55 \"/>\n",
       "<polyline clip-path=\"url(#clip930)\" style=\"stroke:#000000; stroke-linecap:round; stroke-linejoin:round; stroke-width:4; stroke-opacity:1; fill:none\" points=\"2291.66,1486.45 2291.66,1467.55 \"/>\n",
       "<path clip-path=\"url(#clip930)\" d=\"M232.419 1517.37 Q228.808 1517.37 226.979 1520.93 Q225.174 1524.47 225.174 1531.6 Q225.174 1538.71 226.979 1542.27 Q228.808 1545.82 232.419 1545.82 Q236.053 1545.82 237.859 1542.27 Q239.688 1538.71 239.688 1531.6 Q239.688 1524.47 237.859 1520.93 Q236.053 1517.37 232.419 1517.37 M232.419 1513.66 Q238.229 1513.66 241.285 1518.27 Q244.363 1522.85 244.363 1531.6 Q244.363 1540.33 241.285 1544.94 Q238.229 1549.52 232.419 1549.52 Q226.609 1549.52 223.53 1544.94 Q220.475 1540.33 220.475 1531.6 Q220.475 1522.85 223.53 1518.27 Q226.609 1513.66 232.419 1513.66 Z\" fill=\"#000000\" fill-rule=\"nonzero\" fill-opacity=\"1\" /><path clip-path=\"url(#clip930)\" d=\"M252.581 1542.97 L257.465 1542.97 L257.465 1548.85 L252.581 1548.85 L252.581 1542.97 Z\" fill=\"#000000\" fill-rule=\"nonzero\" fill-opacity=\"1\" /><path clip-path=\"url(#clip930)\" d=\"M277.65 1517.37 Q274.039 1517.37 272.211 1520.93 Q270.405 1524.47 270.405 1531.6 Q270.405 1538.71 272.211 1542.27 Q274.039 1545.82 277.65 1545.82 Q281.285 1545.82 283.09 1542.27 Q284.919 1538.71 284.919 1531.6 Q284.919 1524.47 283.09 1520.93 Q281.285 1517.37 277.65 1517.37 M277.65 1513.66 Q283.46 1513.66 286.516 1518.27 Q289.595 1522.85 289.595 1531.6 Q289.595 1540.33 286.516 1544.94 Q283.46 1549.52 277.65 1549.52 Q271.84 1549.52 268.761 1544.94 Q265.706 1540.33 265.706 1531.6 Q265.706 1522.85 268.761 1518.27 Q271.84 1513.66 277.65 1513.66 Z\" fill=\"#000000\" fill-rule=\"nonzero\" fill-opacity=\"1\" /><path clip-path=\"url(#clip930)\" d=\"M735.927 1544.91 L752.246 1544.91 L752.246 1548.85 L730.302 1548.85 L730.302 1544.91 Q732.964 1542.16 737.547 1537.53 Q742.153 1532.88 743.334 1531.53 Q745.579 1529.01 746.459 1527.27 Q747.362 1525.51 747.362 1523.82 Q747.362 1521.07 745.417 1519.33 Q743.496 1517.6 740.394 1517.6 Q738.195 1517.6 735.741 1518.36 Q733.311 1519.13 730.533 1520.68 L730.533 1515.95 Q733.357 1514.82 735.811 1514.24 Q738.265 1513.66 740.302 1513.66 Q745.672 1513.66 748.866 1516.35 Q752.061 1519.03 752.061 1523.52 Q752.061 1525.65 751.251 1527.57 Q750.464 1529.47 748.357 1532.07 Q747.778 1532.74 744.677 1535.95 Q741.575 1539.15 735.927 1544.91 Z\" fill=\"#000000\" fill-rule=\"nonzero\" fill-opacity=\"1\" /><path clip-path=\"url(#clip930)\" d=\"M762.061 1542.97 L766.945 1542.97 L766.945 1548.85 L762.061 1548.85 L762.061 1542.97 Z\" fill=\"#000000\" fill-rule=\"nonzero\" fill-opacity=\"1\" /><path clip-path=\"url(#clip930)\" d=\"M777.176 1514.29 L795.533 1514.29 L795.533 1518.22 L781.459 1518.22 L781.459 1526.7 Q782.477 1526.35 783.496 1526.19 Q784.514 1526 785.533 1526 Q791.32 1526 794.699 1529.17 Q798.079 1532.34 798.079 1537.76 Q798.079 1543.34 794.607 1546.44 Q791.135 1549.52 784.815 1549.52 Q782.639 1549.52 780.371 1549.15 Q778.125 1548.78 775.718 1548.04 L775.718 1543.34 Q777.801 1544.47 780.024 1545.03 Q782.246 1545.58 784.723 1545.58 Q788.727 1545.58 791.065 1543.48 Q793.403 1541.37 793.403 1537.76 Q793.403 1534.15 791.065 1532.04 Q788.727 1529.94 784.723 1529.94 Q782.848 1529.94 780.973 1530.35 Q779.121 1530.77 777.176 1531.65 L777.176 1514.29 Z\" fill=\"#000000\" fill-rule=\"nonzero\" fill-opacity=\"1\" /><path clip-path=\"url(#clip930)\" d=\"M1240.51 1514.29 L1258.87 1514.29 L1258.87 1518.22 L1244.79 1518.22 L1244.79 1526.7 Q1245.81 1526.35 1246.83 1526.19 Q1247.85 1526 1248.87 1526 Q1254.65 1526 1258.03 1529.17 Q1261.41 1532.34 1261.41 1537.76 Q1261.41 1543.34 1257.94 1546.44 Q1254.47 1549.52 1248.15 1549.52 Q1245.97 1549.52 1243.7 1549.15 Q1241.46 1548.78 1239.05 1548.04 L1239.05 1543.34 Q1241.14 1544.47 1243.36 1545.03 Q1245.58 1545.58 1248.06 1545.58 Q1252.06 1545.58 1254.4 1543.48 Q1256.74 1541.37 1256.74 1537.76 Q1256.74 1534.15 1254.4 1532.04 Q1252.06 1529.94 1248.06 1529.94 Q1246.18 1529.94 1244.31 1530.35 Q1242.45 1530.77 1240.51 1531.65 L1240.51 1514.29 Z\" fill=\"#000000\" fill-rule=\"nonzero\" fill-opacity=\"1\" /><path clip-path=\"url(#clip930)\" d=\"M1270.63 1542.97 L1275.51 1542.97 L1275.51 1548.85 L1270.63 1548.85 L1270.63 1542.97 Z\" fill=\"#000000\" fill-rule=\"nonzero\" fill-opacity=\"1\" /><path clip-path=\"url(#clip930)\" d=\"M1295.7 1517.37 Q1292.08 1517.37 1290.26 1520.93 Q1288.45 1524.47 1288.45 1531.6 Q1288.45 1538.71 1290.26 1542.27 Q1292.08 1545.82 1295.7 1545.82 Q1299.33 1545.82 1301.14 1542.27 Q1302.96 1538.71 1302.96 1531.6 Q1302.96 1524.47 1301.14 1520.93 Q1299.33 1517.37 1295.7 1517.37 M1295.7 1513.66 Q1301.51 1513.66 1304.56 1518.27 Q1307.64 1522.85 1307.64 1531.6 Q1307.64 1540.33 1304.56 1544.94 Q1301.51 1549.52 1295.7 1549.52 Q1289.89 1549.52 1286.81 1544.94 Q1283.75 1540.33 1283.75 1531.6 Q1283.75 1522.85 1286.81 1518.27 Q1289.89 1513.66 1295.7 1513.66 Z\" fill=\"#000000\" fill-rule=\"nonzero\" fill-opacity=\"1\" /><path clip-path=\"url(#clip930)\" d=\"M1748.82 1514.29 L1771.04 1514.29 L1771.04 1516.28 L1758.5 1548.85 L1753.61 1548.85 L1765.42 1518.22 L1748.82 1518.22 L1748.82 1514.29 Z\" fill=\"#000000\" fill-rule=\"nonzero\" fill-opacity=\"1\" /><path clip-path=\"url(#clip930)\" d=\"M1780.16 1542.97 L1785.05 1542.97 L1785.05 1548.85 L1780.16 1548.85 L1780.16 1542.97 Z\" fill=\"#000000\" fill-rule=\"nonzero\" fill-opacity=\"1\" /><path clip-path=\"url(#clip930)\" d=\"M1795.28 1514.29 L1813.64 1514.29 L1813.64 1518.22 L1799.56 1518.22 L1799.56 1526.7 Q1800.58 1526.35 1801.6 1526.19 Q1802.62 1526 1803.64 1526 Q1809.42 1526 1812.8 1529.17 Q1816.18 1532.34 1816.18 1537.76 Q1816.18 1543.34 1812.71 1546.44 Q1809.24 1549.52 1802.92 1549.52 Q1800.74 1549.52 1798.47 1549.15 Q1796.23 1548.78 1793.82 1548.04 L1793.82 1543.34 Q1795.9 1544.47 1798.13 1545.03 Q1800.35 1545.58 1802.83 1545.58 Q1806.83 1545.58 1809.17 1543.48 Q1811.51 1541.37 1811.51 1537.76 Q1811.51 1534.15 1809.17 1532.04 Q1806.83 1529.94 1802.83 1529.94 Q1800.95 1529.94 1799.08 1530.35 Q1797.22 1530.77 1795.28 1531.65 L1795.28 1514.29 Z\" fill=\"#000000\" fill-rule=\"nonzero\" fill-opacity=\"1\" /><path clip-path=\"url(#clip930)\" d=\"M2243.73 1544.91 L2251.37 1544.91 L2251.37 1518.55 L2243.06 1520.21 L2243.06 1515.95 L2251.32 1514.29 L2256 1514.29 L2256 1544.91 L2263.64 1544.91 L2263.64 1548.85 L2243.73 1548.85 L2243.73 1544.91 Z\" fill=\"#000000\" fill-rule=\"nonzero\" fill-opacity=\"1\" /><path clip-path=\"url(#clip930)\" d=\"M2283.08 1517.37 Q2279.47 1517.37 2277.64 1520.93 Q2275.84 1524.47 2275.84 1531.6 Q2275.84 1538.71 2277.64 1542.27 Q2279.47 1545.82 2283.08 1545.82 Q2286.72 1545.82 2288.52 1542.27 Q2290.35 1538.71 2290.35 1531.6 Q2290.35 1524.47 2288.52 1520.93 Q2286.72 1517.37 2283.08 1517.37 M2283.08 1513.66 Q2288.89 1513.66 2291.95 1518.27 Q2295.03 1522.85 2295.03 1531.6 Q2295.03 1540.33 2291.95 1544.94 Q2288.89 1549.52 2283.08 1549.52 Q2277.27 1549.52 2274.19 1544.94 Q2271.14 1540.33 2271.14 1531.6 Q2271.14 1522.85 2274.19 1518.27 Q2277.27 1513.66 2283.08 1513.66 Z\" fill=\"#000000\" fill-rule=\"nonzero\" fill-opacity=\"1\" /><path clip-path=\"url(#clip930)\" d=\"M2303.24 1542.97 L2308.13 1542.97 L2308.13 1548.85 L2303.24 1548.85 L2303.24 1542.97 Z\" fill=\"#000000\" fill-rule=\"nonzero\" fill-opacity=\"1\" /><path clip-path=\"url(#clip930)\" d=\"M2328.31 1517.37 Q2324.7 1517.37 2322.87 1520.93 Q2321.07 1524.47 2321.07 1531.6 Q2321.07 1538.71 2322.87 1542.27 Q2324.7 1545.82 2328.31 1545.82 Q2331.95 1545.82 2333.75 1542.27 Q2335.58 1538.71 2335.58 1531.6 Q2335.58 1524.47 2333.75 1520.93 Q2331.95 1517.37 2328.31 1517.37 M2328.31 1513.66 Q2334.12 1513.66 2337.18 1518.27 Q2340.26 1522.85 2340.26 1531.6 Q2340.26 1540.33 2337.18 1544.94 Q2334.12 1549.52 2328.31 1549.52 Q2322.5 1549.52 2319.42 1544.94 Q2316.37 1540.33 2316.37 1531.6 Q2316.37 1522.85 2319.42 1518.27 Q2322.5 1513.66 2328.31 1513.66 Z\" fill=\"#000000\" fill-rule=\"nonzero\" fill-opacity=\"1\" /><polyline clip-path=\"url(#clip930)\" style=\"stroke:#000000; stroke-linecap:round; stroke-linejoin:round; stroke-width:4; stroke-opacity:1; fill:none\" points=\"193.936,1486.45 193.936,47.2441 \"/>\n",
       "<polyline clip-path=\"url(#clip930)\" style=\"stroke:#000000; stroke-linecap:round; stroke-linejoin:round; stroke-width:4; stroke-opacity:1; fill:none\" points=\"193.936,1280.48 212.834,1280.48 \"/>\n",
       "<polyline clip-path=\"url(#clip930)\" style=\"stroke:#000000; stroke-linecap:round; stroke-linejoin:round; stroke-width:4; stroke-opacity:1; fill:none\" points=\"193.936,958.56 212.834,958.56 \"/>\n",
       "<polyline clip-path=\"url(#clip930)\" style=\"stroke:#000000; stroke-linecap:round; stroke-linejoin:round; stroke-width:4; stroke-opacity:1; fill:none\" points=\"193.936,636.638 212.834,636.638 \"/>\n",
       "<polyline clip-path=\"url(#clip930)\" style=\"stroke:#000000; stroke-linecap:round; stroke-linejoin:round; stroke-width:4; stroke-opacity:1; fill:none\" points=\"193.936,314.717 212.834,314.717 \"/>\n",
       "<path clip-path=\"url(#clip930)\" d=\"M50.9921 1280.93 L80.6679 1280.93 L80.6679 1284.87 L50.9921 1284.87 L50.9921 1280.93 Z\" fill=\"#000000\" fill-rule=\"nonzero\" fill-opacity=\"1\" /><path clip-path=\"url(#clip930)\" d=\"M90.8067 1263.2 L109.163 1263.2 L109.163 1267.14 L95.0891 1267.14 L95.0891 1275.61 Q96.1076 1275.26 97.1261 1275.1 Q98.1447 1274.91 99.1632 1274.91 Q104.95 1274.91 108.33 1278.09 Q111.709 1281.26 111.709 1286.67 Q111.709 1292.25 108.237 1295.35 Q104.765 1298.43 98.4456 1298.43 Q96.2697 1298.43 94.0012 1298.06 Q91.7558 1297.69 89.3484 1296.95 L89.3484 1292.25 Q91.4317 1293.39 93.6539 1293.94 Q95.8761 1294.5 98.353 1294.5 Q102.358 1294.5 104.696 1292.39 Q107.033 1290.28 107.033 1286.67 Q107.033 1283.06 104.696 1280.96 Q102.358 1278.85 98.353 1278.85 Q96.478 1278.85 94.603 1279.27 Q92.7512 1279.68 90.8067 1280.56 L90.8067 1263.2 Z\" fill=\"#000000\" fill-rule=\"nonzero\" fill-opacity=\"1\" /><path clip-path=\"url(#clip930)\" d=\"M120.922 1291.88 L125.807 1291.88 L125.807 1297.76 L120.922 1297.76 L120.922 1291.88 Z\" fill=\"#000000\" fill-rule=\"nonzero\" fill-opacity=\"1\" /><path clip-path=\"url(#clip930)\" d=\"M145.992 1266.28 Q142.381 1266.28 140.552 1269.85 Q138.746 1273.39 138.746 1280.52 Q138.746 1287.62 140.552 1291.19 Q142.381 1294.73 145.992 1294.73 Q149.626 1294.73 151.431 1291.19 Q153.26 1287.62 153.26 1280.52 Q153.26 1273.39 151.431 1269.85 Q149.626 1266.28 145.992 1266.28 M145.992 1262.58 Q151.802 1262.58 154.857 1267.18 Q157.936 1271.77 157.936 1280.52 Q157.936 1289.24 154.857 1293.85 Q151.802 1298.43 145.992 1298.43 Q140.181 1298.43 137.103 1293.85 Q134.047 1289.24 134.047 1280.52 Q134.047 1271.77 137.103 1267.18 Q140.181 1262.58 145.992 1262.58 Z\" fill=\"#000000\" fill-rule=\"nonzero\" fill-opacity=\"1\" /><path clip-path=\"url(#clip930)\" d=\"M51.9875 959.011 L81.6633 959.011 L81.6633 962.947 L51.9875 962.947 L51.9875 959.011 Z\" fill=\"#000000\" fill-rule=\"nonzero\" fill-opacity=\"1\" /><path clip-path=\"url(#clip930)\" d=\"M95.7836 971.905 L112.103 971.905 L112.103 975.84 L90.1586 975.84 L90.1586 971.905 Q92.8206 969.15 97.4039 964.521 Q102.01 959.868 103.191 958.525 Q105.436 956.002 106.316 954.266 Q107.219 952.507 107.219 950.817 Q107.219 948.062 105.274 946.326 Q103.353 944.59 100.251 944.59 Q98.0521 944.59 95.5984 945.354 Q93.1678 946.118 90.3901 947.669 L90.3901 942.947 Q93.2141 941.812 95.6678 941.234 Q98.1215 940.655 100.159 940.655 Q105.529 940.655 108.723 943.34 Q111.918 946.025 111.918 950.516 Q111.918 952.646 111.108 954.567 Q110.321 956.465 108.214 959.058 Q107.635 959.729 104.534 962.947 Q101.432 966.141 95.7836 971.905 Z\" fill=\"#000000\" fill-rule=\"nonzero\" fill-opacity=\"1\" /><path clip-path=\"url(#clip930)\" d=\"M121.918 969.96 L126.802 969.96 L126.802 975.84 L121.918 975.84 L121.918 969.96 Z\" fill=\"#000000\" fill-rule=\"nonzero\" fill-opacity=\"1\" /><path clip-path=\"url(#clip930)\" d=\"M137.033 941.28 L155.39 941.28 L155.39 945.215 L141.316 945.215 L141.316 953.687 Q142.334 953.34 143.353 953.178 Q144.371 952.993 145.39 952.993 Q151.177 952.993 154.556 956.164 Q157.936 959.335 157.936 964.752 Q157.936 970.331 154.464 973.433 Q150.992 976.511 144.672 976.511 Q142.496 976.511 140.228 976.141 Q137.982 975.771 135.575 975.03 L135.575 970.331 Q137.658 971.465 139.881 972.021 Q142.103 972.576 144.58 972.576 Q148.584 972.576 150.922 970.47 Q153.26 968.363 153.26 964.752 Q153.26 961.141 150.922 959.035 Q148.584 956.928 144.58 956.928 Q142.705 956.928 140.83 957.345 Q138.978 957.761 137.033 958.641 L137.033 941.28 Z\" fill=\"#000000\" fill-rule=\"nonzero\" fill-opacity=\"1\" /><path clip-path=\"url(#clip930)\" d=\"M100.76 622.437 Q97.1493 622.437 95.3206 626.002 Q93.515 629.544 93.515 636.673 Q93.515 643.78 95.3206 647.344 Q97.1493 650.886 100.76 650.886 Q104.395 650.886 106.2 647.344 Q108.029 643.78 108.029 636.673 Q108.029 629.544 106.2 626.002 Q104.395 622.437 100.76 622.437 M100.76 618.733 Q106.571 618.733 109.626 623.34 Q112.705 627.923 112.705 636.673 Q112.705 645.4 109.626 650.006 Q106.571 654.59 100.76 654.59 Q94.9502 654.59 91.8715 650.006 Q88.816 645.4 88.816 636.673 Q88.816 627.923 91.8715 623.34 Q94.9502 618.733 100.76 618.733 Z\" fill=\"#000000\" fill-rule=\"nonzero\" fill-opacity=\"1\" /><path clip-path=\"url(#clip930)\" d=\"M120.922 648.039 L125.807 648.039 L125.807 653.918 L120.922 653.918 L120.922 648.039 Z\" fill=\"#000000\" fill-rule=\"nonzero\" fill-opacity=\"1\" /><path clip-path=\"url(#clip930)\" d=\"M145.992 622.437 Q142.381 622.437 140.552 626.002 Q138.746 629.544 138.746 636.673 Q138.746 643.78 140.552 647.344 Q142.381 650.886 145.992 650.886 Q149.626 650.886 151.431 647.344 Q153.26 643.78 153.26 636.673 Q153.26 629.544 151.431 626.002 Q149.626 622.437 145.992 622.437 M145.992 618.733 Q151.802 618.733 154.857 623.34 Q157.936 627.923 157.936 636.673 Q157.936 645.4 154.857 650.006 Q151.802 654.59 145.992 654.59 Q140.181 654.59 137.103 650.006 Q134.047 645.4 134.047 636.673 Q134.047 627.923 137.103 623.34 Q140.181 618.733 145.992 618.733 Z\" fill=\"#000000\" fill-rule=\"nonzero\" fill-opacity=\"1\" /><path clip-path=\"url(#clip930)\" d=\"M95.7836 328.062 L112.103 328.062 L112.103 331.997 L90.1586 331.997 L90.1586 328.062 Q92.8206 325.307 97.4039 320.677 Q102.01 316.025 103.191 314.682 Q105.436 312.159 106.316 310.423 Q107.219 308.664 107.219 306.974 Q107.219 304.219 105.274 302.483 Q103.353 300.747 100.251 300.747 Q98.0521 300.747 95.5984 301.511 Q93.1678 302.275 90.3901 303.826 L90.3901 299.103 Q93.2141 297.969 95.6678 297.39 Q98.1215 296.812 100.159 296.812 Q105.529 296.812 108.723 299.497 Q111.918 302.182 111.918 306.673 Q111.918 308.802 111.108 310.724 Q110.321 312.622 108.214 315.214 Q107.635 315.886 104.534 319.103 Q101.432 322.298 95.7836 328.062 Z\" fill=\"#000000\" fill-rule=\"nonzero\" fill-opacity=\"1\" /><path clip-path=\"url(#clip930)\" d=\"M121.918 326.117 L126.802 326.117 L126.802 331.997 L121.918 331.997 L121.918 326.117 Z\" fill=\"#000000\" fill-rule=\"nonzero\" fill-opacity=\"1\" /><path clip-path=\"url(#clip930)\" d=\"M137.033 297.437 L155.39 297.437 L155.39 301.372 L141.316 301.372 L141.316 309.844 Q142.334 309.497 143.353 309.335 Q144.371 309.15 145.39 309.15 Q151.177 309.15 154.556 312.321 Q157.936 315.492 157.936 320.909 Q157.936 326.488 154.464 329.589 Q150.992 332.668 144.672 332.668 Q142.496 332.668 140.228 332.298 Q137.982 331.927 135.575 331.187 L135.575 326.488 Q137.658 327.622 139.881 328.177 Q142.103 328.733 144.58 328.733 Q148.584 328.733 150.922 326.626 Q153.26 324.52 153.26 320.909 Q153.26 317.298 150.922 315.191 Q148.584 313.085 144.58 313.085 Q142.705 313.085 140.83 313.501 Q138.978 313.918 137.033 314.798 L137.033 297.437 Z\" fill=\"#000000\" fill-rule=\"nonzero\" fill-opacity=\"1\" /><polyline clip-path=\"url(#clip932)\" style=\"stroke:#009af9; stroke-linecap:round; stroke-linejoin:round; stroke-width:12; stroke-opacity:1; fill:none\" points=\"255.035,1445.72 260.291,1445.72 265.547,1445.71 270.804,1445.71 276.06,1445.69 306.846,1445.36 337.632,1444.3 368.418,1442.07 399.205,1438.29 427.848,1433.07 456.491,1425.94 475.688,1419.98 494.884,1413.01 514.081,1404.99 533.277,1395.88 565.001,1378.35 596.726,1357.71 611.476,1347.05 626.226,1335.73 640.976,1323.76 655.726,1311.14 692.76,1276.78 729.793,1238.85 763.012,1202.2 796.231,1163.49 872.278,1069.7 929.123,997.95 965.476,952.768 1001.83,908.976 1035.01,870.782 1068.19,834.754 1087.07,815.374 1105.95,796.89 1124.83,779.357 1143.71,762.824 1173.65,738.755 1203.58,717.406 1222.18,705.54 1240.77,694.746 1259.37,685.015 1277.97,676.332 1306.45,665.002 1334.93,655.936 1375.09,646.654 1415.24,640.894 1445.25,638.438 1475.26,637.169 1543.51,636.637 1611.1,635.513 1648.28,632.972 1685.46,628.165 1713.86,622.579 1742.26,615.066 1760.18,609.242 1778.1,602.526 1796.02,594.883 1813.94,586.286 1847.09,567.798 1880.23,545.908 1897.33,533.296 1914.42,519.797 1931.51,505.431 1948.6,490.222 1983.25,456.938 2017.91,420.654 2054.09,380.014 2090.27,337.114 2118.77,302.139 2147.27,266.484 2212.18,184.592 2277.09,105.085 2284.37,96.4882 2291.66,87.9763 \"/>\n",
       "<polyline clip-path=\"url(#clip932)\" style=\"stroke:#e26f46; stroke-linecap:round; stroke-linejoin:round; stroke-width:12; stroke-opacity:1; fill:none\" stroke-dasharray=\"48, 30\" points=\"-1964.88,636.638 4511.58,636.638 \"/>\n",
       "<circle clip-path=\"url(#clip932)\" cx=\"1534.68\" cy=\"636.638\" r=\"18\" fill=\"#e26f46\" fill-rule=\"evenodd\" fill-opacity=\"1\" stroke=\"#000000\" stroke-opacity=\"1\" stroke-width=\"3.2\"/>\n",
       "<path clip-path=\"url(#clip930)\" d=\"M265.897 250.738 L592.348 250.738 L592.348 95.2176 L265.897 95.2176  Z\" fill=\"#ffffff\" fill-rule=\"evenodd\" fill-opacity=\"1\"/>\n",
       "<polyline clip-path=\"url(#clip930)\" style=\"stroke:#000000; stroke-linecap:round; stroke-linejoin:round; stroke-width:4; stroke-opacity:1; fill:none\" points=\"265.897,250.738 592.348,250.738 592.348,95.2176 265.897,95.2176 265.897,250.738 \"/>\n",
       "<polyline clip-path=\"url(#clip930)\" style=\"stroke:#009af9; stroke-linecap:round; stroke-linejoin:round; stroke-width:12; stroke-opacity:1; fill:none\" points=\"289.884,147.058 433.805,147.058 \"/>\n",
       "<path clip-path=\"url(#clip930)\" d=\"M481.706 128.413 Q481.706 129.701 480.886 130.498 Q480.09 131.294 479.083 131.294 Q478.357 131.294 477.818 130.849 Q477.303 130.404 477.303 129.631 Q477.303 128.835 477.912 127.992 Q478.521 127.148 479.903 127.031 Q478.989 126.165 477.537 126.165 Q476.811 126.165 476.202 126.633 Q475.616 127.078 475.288 127.804 Q474.937 128.554 474.141 132.793 Q473.883 134.175 473.649 135.51 Q473.415 136.845 473.133 138.251 L477.115 138.251 Q477.631 138.251 477.841 138.274 Q478.052 138.297 478.216 138.414 Q478.404 138.532 478.404 138.789 Q478.404 139.445 478.099 139.609 Q477.818 139.75 476.975 139.75 L472.852 139.75 L469.971 154.951 Q469.901 155.396 469.597 156.801 Q469.316 158.183 468.636 160.455 Q467.957 162.75 467.278 164.109 Q466.903 164.882 466.411 165.608 Q465.943 166.357 465.264 167.107 Q464.584 167.857 463.694 168.302 Q462.804 168.77 461.867 168.77 Q460.275 168.77 459.033 167.88 Q457.792 166.99 457.792 165.467 Q457.792 164.179 458.588 163.383 Q459.408 162.586 460.415 162.586 Q461.141 162.586 461.656 163.031 Q462.195 163.477 462.195 164.249 Q462.195 164.577 462.078 164.952 Q461.961 165.327 461.703 165.748 Q461.446 166.194 460.884 166.498 Q460.321 166.802 459.548 166.849 Q460.462 167.716 461.867 167.716 Q462.312 167.716 462.71 167.529 Q463.109 167.365 463.437 166.943 Q463.788 166.521 464.046 166.1 Q464.303 165.702 464.561 164.929 Q464.818 164.179 464.982 163.617 Q465.146 163.055 465.357 162.048 Q465.591 161.041 465.709 160.432 Q465.826 159.846 466.036 158.698 L469.62 139.75 L466.458 139.75 Q465.896 139.75 465.662 139.726 Q465.451 139.703 465.287 139.586 Q465.123 139.445 465.123 139.164 Q465.123 138.719 465.31 138.532 Q465.521 138.321 465.755 138.297 Q465.99 138.251 466.552 138.251 L469.878 138.251 Q471.002 132.325 471.447 130.732 Q471.962 129.046 472.759 127.874 Q473.555 126.68 474.445 126.118 Q475.335 125.556 476.061 125.345 Q476.811 125.111 477.537 125.111 Q479.176 125.111 480.441 126.001 Q481.706 126.867 481.706 128.413 Z\" fill=\"#000000\" fill-rule=\"nonzero\" fill-opacity=\"1\" /><polyline clip-path=\"url(#clip930)\" style=\"stroke:#e26f46; stroke-linecap:round; stroke-linejoin:round; stroke-width:12; stroke-opacity:1; fill:none\" stroke-dasharray=\"48, 30\" points=\"289.884,198.898 433.805,198.898 \"/>\n",
       "<path clip-path=\"url(#clip930)\" d=\"M479.926 190.48 Q479.926 190.808 479.715 191.581 L475.124 209.898 Q474.117 213.973 470.838 216.831 Q467.582 219.688 463.882 219.688 Q461.656 219.688 460.228 218.494 Q458.799 217.322 458.799 215.519 Q458.799 213.926 459.642 213.153 Q460.485 212.404 461.493 212.404 Q461.82 212.404 462.172 212.497 Q462.523 212.591 462.898 212.989 Q463.273 213.387 463.273 214.067 Q463.273 215.168 462.312 216.034 Q461.844 216.432 461.399 216.526 Q460.977 216.62 460.251 216.62 Q460.532 217.276 461.047 217.721 Q461.563 218.166 462.148 218.33 Q462.734 218.517 463.109 218.564 Q463.507 218.634 463.882 218.634 Q466.88 218.634 469.175 215.613 Q469.854 214.699 470.346 213.786 Q470.861 212.896 471.236 211.795 Q471.611 210.717 471.775 210.132 Q471.962 209.546 472.29 208.211 Q470.112 210.389 467.442 210.389 Q466.318 210.389 465.31 210.085 Q464.327 209.78 463.46 209.148 Q462.593 208.492 462.078 207.344 Q461.586 206.197 461.586 204.674 Q461.586 203.058 462.219 200.856 Q462.851 198.655 464.373 194.603 Q465.193 192.331 465.193 191.23 Q465.193 190.691 465.076 190.363 Q464.959 190.012 464.725 189.895 Q464.491 189.754 464.35 189.731 Q464.233 189.707 463.999 189.707 Q462.617 189.707 461.329 191.113 Q460.04 192.518 459.15 195.657 Q458.963 196.242 458.846 196.383 Q458.729 196.523 458.377 196.523 Q457.792 196.5 457.792 196.031 Q457.792 195.844 458.003 195.118 Q458.213 194.368 458.705 193.268 Q459.221 192.143 459.923 191.136 Q460.626 190.106 461.727 189.379 Q462.851 188.653 464.139 188.653 Q465.896 188.653 466.973 189.801 Q468.074 190.925 468.074 192.588 Q468.074 193.268 467.887 193.877 Q467.723 194.462 467.114 196.031 Q464.655 202.355 464.655 205.447 Q464.655 206.197 464.772 206.829 Q464.912 207.438 465.217 208.047 Q465.521 208.633 466.13 208.984 Q466.763 209.312 467.629 209.312 Q468.73 209.312 469.761 208.797 Q470.815 208.258 471.47 207.532 Q472.15 206.806 472.548 206.197 Q472.97 205.564 473.063 205.236 L475.218 196.617 L476.178 192.776 Q476.623 190.691 476.834 190.176 Q477.115 189.684 477.607 189.426 Q478.099 189.169 478.521 189.169 Q479.106 189.169 479.504 189.52 Q479.926 189.871 479.926 190.48 Z\" fill=\"#000000\" fill-rule=\"nonzero\" fill-opacity=\"1\" /><path clip-path=\"url(#clip930)\" d=\"M494.359 202.566 Q494.406 201.981 495.32 201.981 L524.715 201.981 Q526.097 201.981 526.12 202.519 Q526.12 203.105 524.809 203.082 L495.648 203.082 Q494.359 203.105 494.359 202.566 M494.359 193.197 Q494.359 192.612 495.367 192.635 L524.668 192.635 Q526.097 192.635 526.12 193.197 Q526.12 193.736 524.902 193.736 L495.32 193.736 Q494.359 193.736 494.359 193.197 Z\" fill=\"#000000\" fill-rule=\"nonzero\" fill-opacity=\"1\" /><path clip-path=\"url(#clip930)\" d=\"M544.611 194.509 Q544.611 187.459 546.391 183.618 Q548.874 177.902 554.73 177.902 Q555.971 177.902 557.259 178.254 Q558.571 178.582 560.21 179.87 Q561.873 181.158 562.881 183.266 Q564.801 187.342 564.801 194.509 Q564.801 201.512 563.021 205.33 Q560.421 210.905 554.683 210.905 Q552.528 210.905 550.326 209.804 Q548.148 208.703 546.766 206.056 Q544.611 202.098 544.611 194.509 M548.593 193.923 Q548.593 201.161 549.108 204.042 Q549.694 207.157 551.287 208.516 Q552.903 209.851 554.683 209.851 Q556.603 209.851 558.196 208.422 Q559.812 206.97 560.304 203.855 Q560.843 200.786 560.819 193.923 Q560.819 187.248 560.351 184.578 Q559.719 181.463 558.032 180.221 Q556.369 178.956 554.683 178.956 Q554.05 178.956 553.371 179.144 Q552.715 179.331 551.755 179.87 Q550.795 180.409 550.045 181.744 Q549.319 183.079 548.968 185.093 Q548.593 187.693 548.593 193.923 Z\" fill=\"#000000\" fill-rule=\"nonzero\" fill-opacity=\"1\" /></svg>\n"
      ],
      "text/html": [
       "<img src=\"data:image/png;base64,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\" />"
      ]
     },
     "execution_count": 23,
     "metadata": {},
     "output_type": "execute_result"
    }
   ],
   "source": [
    "plot( f, 0, 10, label=L\"f\", lw=3 )\n",
    "hline!( [0] , linestyle=:dash, lw = 3, label=L\"y=0\")\n",
    "scatter!( [ξ], [f(ξ)], markersize=5, primary=false )"
   ]
  },
  {
   "cell_type": "markdown",
   "id": "f425d0fc",
   "metadata": {},
   "source": [
    "1. ✍ Show that $2\\pi$ is the unique solution to $f = 0$.\n",
    "\n",
    "<div class='alert alert-block alert-success'><b>Answer.</b> \n",
    "\n",
    "First notice that $f(2\\pi) = 2\\pi - \\sin2\\pi - 2\\pi = 0$. We will use the fact that $| \\sin x | < |x|$ for all $x \\not= 0$. Using the fact that $\\sin$ is $2\\pi$-periodic, we have  \n",
    "\n",
    "\\begin{align}\n",
    "    f(\\psi) &= \\psi - 2\\pi - \\sin(\\psi - 2\\pi). \n",
    "\\end{align}\n",
    "\n",
    "Therefore, for $\\psi > 2\\pi$, we have $f(\\psi) > 0$ and, for $\\psi < 2\\pi$, we have $f(\\psi) < 0$.\n",
    "\n",
    "</div> \n",
    "\n",
    "2. 💻 Show numerically that the relaxation method converges for some choice of $\\lambda$. What is the order of convergence of this method?\n",
    "\n",
    "<div class='alert alert-block alert-success'><b>Answer.</b> \n",
    "\n",
    "Here is the the relaxation method applied to $f$ with $\\lambda = 10$: that is $x_{n+1} = x_n - 10 f(x_n)$.\n",
    "</div> "
   ]
  },
  {
   "cell_type": "code",
   "execution_count": 36,
   "id": "be629ea8",
   "metadata": {},
   "outputs": [
    {
     "name": "stdout",
     "output_type": "stream",
     "text": [
      "┌───────────┬────────────────┬───────────┬─────────┬────────────┐\n",
      "│\u001b[1m iteration \u001b[0m│\u001b[1m absolute error \u001b[0m│\u001b[1m log error \u001b[0m│\u001b[1m   alpha \u001b[0m│\u001b[1m mu (α = 1) \u001b[0m│\n",
      "├───────────┼────────────────┼───────────┼─────────┼────────────┤\n",
      "│       1.0 │       0.283185 │ -0.547929 │     NaN │        NaN │\n",
      "│       2.0 │       0.245487 │ -0.609971 │ 1.11323 │   0.866878 │\n",
      "│       3.0 │       0.220905 │ -0.655795 │ 1.07512 │   0.899862 │\n",
      "│       4.0 │       0.202982 │ -0.692543 │ 1.05603 │   0.918867 │\n",
      "│       5.0 │       0.189072 │ -0.723373 │ 1.04452 │   0.931472 │\n",
      "│       6.0 │       0.177827 │ -0.750002 │ 1.03681 │   0.940526 │\n",
      "│       7.0 │        0.16847 │ -0.773478 │  1.0313 │   0.947379 │\n",
      "│       8.0 │       0.160512 │ -0.794493 │ 1.02717 │   0.952764 │\n",
      "│       9.0 │       0.153628 │ -0.813529 │ 1.02396 │   0.957115 │\n",
      "│      10.0 │       0.147592 │ -0.830936 │  1.0214 │    0.96071 │\n",
      "│      11.0 │        0.14224 │ -0.846979 │ 1.01931 │   0.963734 │\n",
      "│      12.0 │       0.137448 │ -0.861861 │ 1.01757 │   0.966314 │\n",
      "│      13.0 │       0.133124 │ -0.875742 │ 1.01611 │   0.968543 │\n",
      "│      14.0 │       0.129196 │ -0.888751 │ 1.01486 │   0.970489 │\n",
      "│      15.0 │       0.125605 │ -0.900994 │ 1.01378 │   0.972204 │\n",
      "│      16.0 │       0.122305 │ -0.912557 │ 1.01283 │   0.973726 │\n",
      "│      17.0 │       0.119258 │ -0.923513 │ 1.01201 │   0.975088 │\n",
      "│      18.0 │       0.116433 │ -0.933924 │ 1.01127 │   0.976313 │\n",
      "│      19.0 │       0.113804 │ -0.943843 │ 1.01062 │   0.977421 │\n",
      "│      20.0 │       0.111349 │ -0.953314 │ 1.01003 │   0.978428 │\n",
      "│      21.0 │        0.10905 │ -0.962376 │ 1.00951 │   0.979348 │\n",
      "│      22.0 │       0.106889 │ -0.971065 │ 1.00903 │   0.980192 │\n",
      "│         ⋮ │              ⋮ │         ⋮ │       ⋮ │          ⋮ │\n",
      "└───────────┴────────────────┴───────────┴─────────┴────────────┘\n",
      "\u001b[36m                                                  78 rows omitted\u001b[0m\n"
     ]
    },
    {
     "name": "stderr",
     "output_type": "stream",
     "text": [
      "\u001b[33m\u001b[1m┌ \u001b[22m\u001b[39m\u001b[33m\u001b[1mWarning: \u001b[22m\u001b[39mmax interations with |f| = 2.5345819611999332e-5\n",
      "\u001b[33m\u001b[1m└ \u001b[22m\u001b[39m\u001b[90m@ Main In[22]:35\u001b[39m\n"
     ]
    }
   ],
   "source": [
    "x = relaxation(f, 10., 6.) \n",
    "orderOfConvergence( x, 2π; α=1  )"
   ]
  },
  {
   "cell_type": "markdown",
   "id": "c36ecf27",
   "metadata": {},
   "source": [
    "<div class='alert alert-block alert-success'>\n",
    "\n",
    "This iteration seems to converge very slowly and the computed order of convergence seems to appoach $1$. However, since $\\mu$ also approaches $1$, we have sub-linear convergence. </div> "
   ]
  },
  {
   "cell_type": "markdown",
   "id": "d0399d7e",
   "metadata": {},
   "source": [
    "3. 💻 Show numerically that Newton's method converges. What is the order of convergence?\n",
    "\n",
    "<div class='alert alert-block alert-success'><b>Answer.</b> \n",
    "\n",
    "Here is the code for Newton's method starting at $x_1 = 6$.\n",
    "</div> "
   ]
  },
  {
   "cell_type": "code",
   "execution_count": 40,
   "id": "112fd6d3",
   "metadata": {},
   "outputs": [
    {
     "name": "stdout",
     "output_type": "stream",
     "text": [
      "┌───────────┬────────────────┬───────────┬─────────┬────────────┐\n",
      "│\u001b[1m iteration \u001b[0m│\u001b[1m absolute error \u001b[0m│\u001b[1m log error \u001b[0m│\u001b[1m   alpha \u001b[0m│\u001b[1m mu (α = 1) \u001b[0m│\n",
      "├───────────┼────────────────┼───────────┼─────────┼────────────┤\n",
      "│       1.0 │       0.283185 │ -0.547929 │     NaN │        NaN │\n",
      "│       2.0 │       0.188537 │ -0.724603 │ 1.32244 │   0.665773 │\n",
      "│       3.0 │       0.125617 │ -0.900952 │ 1.24337 │   0.666271 │\n",
      "│       4.0 │      0.0837225 │  -1.07716 │ 1.19558 │   0.666491 │\n",
      "│       5.0 │      0.0558085 │   -1.2533 │ 1.16352 │   0.666589 │\n",
      "│       6.0 │      0.0372037 │  -1.42941 │ 1.14052 │   0.666632 │\n",
      "│       7.0 │      0.0248019 │  -1.60551 │  1.1232 │   0.666651 │\n",
      "│       8.0 │      0.0165344 │  -1.78161 │ 1.10968 │    0.66666 │\n",
      "│       9.0 │      0.0110229 │   -1.9577 │ 1.09884 │   0.666664 │\n",
      "│      10.0 │     0.00734859 │   -2.1338 │ 1.08995 │   0.666665 │\n",
      "│      11.0 │     0.00489906 │  -2.30989 │ 1.08253 │   0.666666 │\n",
      "│      12.0 │     0.00326604 │  -2.48598 │ 1.07623 │   0.666666 │\n",
      "│      13.0 │     0.00217736 │  -2.66207 │ 1.07083 │   0.666667 │\n",
      "│      14.0 │     0.00145157 │  -2.83816 │ 1.06615 │   0.666667 │\n",
      "│      15.0 │    0.000967715 │  -3.01425 │ 1.06204 │   0.666667 │\n",
      "│      16.0 │    0.000645144 │  -3.19034 │ 1.05842 │   0.666667 │\n",
      "└───────────┴────────────────┴───────────┴─────────┴────────────┘\n"
     ]
    }
   ],
   "source": [
    "y = Newton(f, df, 6.);\n",
    "orderOfConvergence( y, 2π, α = 1) "
   ]
  },
  {
   "cell_type": "markdown",
   "id": "a598af0c",
   "metadata": {},
   "source": [
    "<div class='alert alert-block alert-success'>\n",
    "\n",
    "The iteration seems to converge linearly with asymptotic error constant $\\mu = \\frac{2}3$.\n",
    "</div> "
   ]
  },
  {
   "cell_type": "markdown",
   "id": "0d5eac14",
   "metadata": {},
   "source": [
    "4. ✍ Compare your answers to this question to the $\\epsilon = 0.9$ case. Why is the convergence slower/faster?"
   ]
  },
  {
   "cell_type": "markdown",
   "id": "cee3a004",
   "metadata": {},
   "source": [
    "<div class='alert alert-block alert-success'><b>Answer.</b> \n",
    "\n",
    "In lectures, we saw that, if $| g'(\\xi) | < 1$, and $|x_1 - \\xi|$ is sufficiently small then the simple iteration $x_{n+1} = g(x_n)$ converges at least linearly with asymptotic erorr constant $\\mu = |g'(\\xi)|$. We are considering $g(\\psi) = \\psi - \\lambda f(\\psi)$ with $f(\\psi) = \\psi - \\epsilon \\sin \\psi - 2\\pi$. We see that $|g'(2\\pi)| = | 1 - \\lambda( 1 - \\epsilon) |$. Therefore, in the $\\epsilon = 0.9$ case we have linear convergence whenever $|1 - 0.1 \\lambda | < 1$. However, when $\\epsilon = 1$, we get $|g'(2\\pi)| = 1$ and sublinear convergence.\n",
    "\n",
    "In lectures, we saw that if $f : [a,b] \\to \\mathbb R$ is twice continuously differentiable with $f(\\xi) = 0$ and $f'(\\xi) \\not= 0$, then the Newton iteration converges at least quadratically to $\\xi$ for all $x_1$ sufficiently close to $\\xi$. We have $f'(2\\pi) = 1 - \\epsilon$ so $f'(2\\pi) \\not= 0$ when $\\epsilon = 0.9$ but $f'(2\\pi) = 0$ when $\\epsilon = 1$. \n",
    "\n",
    "When $\\epsilon = 1$, we have \n",
    "\n",
    "\\begin{align}\n",
    "    f'(\\psi) &= 1 - \\cos \\psi \\nonumber\\\\\n",
    "    f''(\\psi) &= \\sin\\psi \\nonumber\\\\\n",
    "    f'''(\\psi) &= \\cos\\psi\n",
    "\\end{align}\n",
    "\n",
    "This means that, for $\\xi = 2\\pi$, we have $f(\\xi) = f'(\\xi) = f''(\\xi) = 0$ but $f'''(\\xi) \\not= 0$. In this case, there exists an interval $a< \\xi < b$ and $m > 0$ such that $m < |f'''(x)| < 2m$ for all $x \\in [a,b]$. Therefore, for $x_n \\in [a,b]$, there exists $\\eta_n, \\theta_n$ between $x_n$ and $\\xi$ for which \n",
    "\n",
    "\\begin{align}\n",
    "    &\\left| x_{n+1} - \\xi \\right| = \\left| x_n - \\xi - \\frac{f(x_n)}{f'(x_n)} \\right|  \\nonumber\\\\\n",
    "    %\n",
    "    &= \\left| x_n - \\xi - \\frac{f(\\xi) + f'(\\xi)(x_n- \\xi) + \\frac12 f''(\\xi) (x_n-\\xi)^2 + \\frac16 f'''(\\eta_n) (x_n-\\xi)^3}{f'(\\xi) + f''(\\xi) (x_n - \\xi) + \\frac12 f'''(\\theta_n)(x_n-\\xi)^2} \\right| \\nonumber\\\\\n",
    "    %\n",
    "    &= \\left| 1 - \\frac13\\frac{f'''(\\eta_n)}{f'''(\\theta_n)} \\right| \\left| x_n- \\xi \\right| \\nonumber\\\\\n",
    "    %\n",
    "    &\\leq \\frac56 |x_n - \\xi| \n",
    "\\end{align}\n",
    "\n",
    "Here, we have used the fact that $\\frac13 = 1 -\\frac{1}3\\frac{2m}{m} \\leq 1-\\frac{1}3\\frac{f'''(\\eta_n)}{f'''(\\theta_n)} \\leq 1- \\frac{1}3\\frac{m}{2m} = \\frac56$. As a result, Newton's iteration starting in $[a,b]$ converges linearly with asymptotic error constant \n",
    "\n",
    "\\begin{align}\n",
    "    \\mu = \\lim_{n\\to \\infty} \\frac{|x_{n+1} - \\xi|}{|x_n - \\xi|} = \\left| 1 - \\frac13\\frac{f'''(\\xi)}{f'''(\\xi)} \\right| = \\frac23.\n",
    "\\end{align}\n",
    "\n",
    "</div> \n",
    "\n",
    "<div class='alert alert-block alert-danger'><b>Remark.</b> \n",
    "\n",
    "In general, if $\\xi$ is a root of $f$ of multiplicity $m$ and $f^{(m)}$ is continuous (and $f^{(m)}(\\xi) \\not=0$), then one can find an interval $[a,b]$ around $\\xi$ for which Newton's iteration converges linearly to $\\xi$ for all $x_1 \\in [a,b]$ and the asymptotic error constant is $\\mu = \\frac{m-1}{m}$ (can you prove this?). \n",
    "\n",
    "</div> "
   ]
  },
  {
   "cell_type": "markdown",
   "id": "d7a38ab5",
   "metadata": {},
   "source": [
    "## D. Research Task\n",
    "\n",
    "Find a research paper explaining a method named after one of the following people: Halley, Householder, Osada, Ostrowski, Steffensen, Traub. What is the main novelty of this method? How does it (claim to) improve upon previous methods in the literature? Implement your chosen method and test it on a function of your choice. \n",
    "\n",
    "Please clearly cite which paper you are describing."
   ]
  },
  {
   "cell_type": "markdown",
   "id": "7c9a0127",
   "metadata": {},
   "source": [
    "<div class='alert alert-block alert-success'> \n",
    "\n",
    "There are many possible answers! Let me know if you want to present your answer to the rest of the class (see Syllabus for grading info).\n",
    "\n",
    "Maybe we could also add some of the best answers to <a href=\"https://z.umn.edu/Math5485\">https://z.umn.edu/Math5485</a>\n",
    "</div> "
   ]
  }
 ],
 "metadata": {
  "kernelspec": {
   "display_name": "Julia 1.11.6",
   "language": "julia",
   "name": "julia-1.11"
  },
  "language_info": {
   "file_extension": ".jl",
   "mimetype": "application/julia",
   "name": "julia",
   "version": "1.11.6"
  }
 },
 "nbformat": 4,
 "nbformat_minor": 5
}
