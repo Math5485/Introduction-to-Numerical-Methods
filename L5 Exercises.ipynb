{
 "cells": [
  {
   "cell_type": "markdown",
   "id": "aad6bc09-0de2-4531-9043-0bacc8e41409",
   "metadata": {},
   "source": [
    "# Lecture 5: Exercises"
   ]
  },
  {
   "cell_type": "markdown",
   "id": "69d3b225",
   "metadata": {},
   "source": [
    "<div style='background-color: #cce0ff; padding: 10px; border-left: 5px solid #0066ff;'><strong>Exercise 1.</strong> \n",
    "\n",
    "Show that each of the following have fixed points on $[2,4]$:\n",
    "\n",
    "\\begin{align}\n",
    "    g_1(x) &= 1 + x - \\frac19 x^2 \\nonumber\\\\\n",
    "    g_2(x) &= \\pi + 0.99 \\sin x \\nonumber\\\\\n",
    "    g_3(x) &= x + 1 - \\tan\\frac{x}4\n",
    "\\end{align}\n",
    "\n",
    "1. Do you expect the simple iterations $x_{n+1} = g_j( x_n )$ to converge? \n",
    "2. Why? \n",
    "3. Test your hypothesis numerically. \n",
    "4. Compute the order of convergence and asymptotic error constants. \n",
    "\n",
    "</div> "
   ]
  },
  {
   "cell_type": "markdown",
   "id": "414c99a9",
   "metadata": {},
   "source": [
    "<div style='background-color: #cce0ff; padding: 10px; border-left: 5px solid #0066ff;'><strong>Exercise 2.</strong> \n",
    "\n",
    "Suppose that $g(\\xi) = \\xi$, $g'(\\xi) = 0$ and $|g''|$ is bounded near $\\xi$. \n",
    "\n",
    "1. Show that the simple iteration $x_{n+1} = g(x_n)$ with $x_1 \\approx \\xi$ converges to $\\xi$. \n",
    "2. What is the order of convergence?\n",
    "3. Can you generalise this statement to the case where $g'(\\xi) = \\cdots = g^{(\\ell-1)}(\\xi) = 0$ and $g^{(\\ell)}$ bounded near $\\xi$?\n",
    "\n",
    "</div> "
   ]
  },
  {
   "cell_type": "markdown",
   "id": "22cb119c",
   "metadata": {},
   "source": [
    "<div style='background-color: #cce0ff; padding: 10px; border-left: 5px solid #0066ff;'><strong>Exercise 3.</strong> \n",
    "\n",
    "For $\\alpha \\in (0,1]$, define $x_{n+1} := x_n + \\alpha ( g(x_n) - x_n )$ where $g$ is continuous. \n",
    "\n",
    "1. Show that if $(x_n) \\to \\xi$ then $\\xi$ is a fixed point of $g$\n",
    "2. Suppose that $g'$ is continuous with $g'(\\xi) < 0$. Show that there exists $\\alpha_0 > 0$ such that, if $\\alpha \\leq \\alpha_0$, then $(x_n)$ converges to $\\xi$ for all $x_1$ sufficiently close to $\\xi$\n",
    "</div> "
   ]
  }
 ],
 "metadata": {
  "kernelspec": {
   "display_name": "Julia 1.7.1",
   "language": "julia",
   "name": "julia-1.7"
  },
  "language_info": {
   "file_extension": ".jl",
   "mimetype": "application/julia",
   "name": "julia",
   "version": "1.7.1"
  }
 },
 "nbformat": 4,
 "nbformat_minor": 5
}
