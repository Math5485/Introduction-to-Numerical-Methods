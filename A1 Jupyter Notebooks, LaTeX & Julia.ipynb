{
 "cells": [
  {
   "cell_type": "markdown",
   "id": "3d0a47e3-7c72-43fc-8563-d44cf886a24b",
   "metadata": {},
   "source": [
    "# A1: Jupyter Notebooks, LaTeX & Julia\n",
    "\n",
    "Jupyter Notebooks allow you to include Markdown, LaTex, and Julia (as well as python and other languages)\n",
    "\n",
    "- Complete the following and submit to Canvas before Sept 10 5PM,\n",
    "- Late work will recieve 0%,\n",
    "- Each assignment is worth the same, \n",
    "- Please get in contact with the TA/instructor in plenty of time if you need help,\n",
    "- Before submitting your work, make sure to check everything runs as expected. Click **Kernel > Restart Kernel and Run All Cells**.\n",
    "- Feel free to add more cells to experiment or test your answers,\n",
    "- I encourage you to discuss the course material and assignment questions with your classmates. However, unless otherwise explicitly stated on the assignment, you must complete and write up your solutions on your own,\n",
    "- The use of GenAI is prohibited as outlined in the course syllabus. If I suspect you of cheating, you may be asked to complete a written or oral exam on the content of this assignment."
   ]
  },
  {
   "cell_type": "markdown",
   "id": "a68964f5-cf05-4d3d-93c4-67bb15f897a5",
   "metadata": {},
   "source": [
    "## A. Install Julia/Jupyter [20 pts]"
   ]
  },
  {
   "cell_type": "markdown",
   "id": "2e26f4a3-3674-4036-8cba-37acd7137f26",
   "metadata": {},
   "source": [
    ">You may do this part (A) with help from your classmates"
   ]
  },
  {
   "cell_type": "markdown",
   "id": "1799b862-3cff-4fe3-a7ed-828320ec887d",
   "metadata": {
    "jp-MarkdownHeadingCollapsed": true
   },
   "source": [
    "- Follow the steps [here](https://canvas.umn.edu/courses/519209/pages/installing-julia-and-jupyter) to install Julia and Jupyter,\n",
    "- Upload and run this .ipynb file,\n",
    "- Double click on the following cell to replace <span style=\"color:red\">**YOUR NAME HERE**</span> with your name:"
   ]
  },
  {
   "cell_type": "code",
   "execution_count": 1,
   "id": "e6ca0abb-7489-4d0c-852a-7ab98ee00e96",
   "metadata": {},
   "outputs": [],
   "source": [
    "Name = \"YOUR NAME HERE\";"
   ]
  },
  {
   "cell_type": "markdown",
   "id": "fd40e03d-3a48-4f35-9c18-4fbbcc7c9bbd",
   "metadata": {},
   "source": [
    "## Markdown"
   ]
  },
  {
   "cell_type": "markdown",
   "id": "e9092a73-504b-479d-aec5-528a2a6ab837",
   "metadata": {},
   "source": [
    ">Note: You may double click to see the syntax and edit cells. Press ctrl+enter to exit edit mode.  \n",
    ">Pressing enter on the selected cell has the same effect as double clicking"
   ]
  },
  {
   "cell_type": "markdown",
   "id": "3b806ca9-3b86-4edc-8d52-c10a9fbd1141",
   "metadata": {
    "jp-MarkdownHeadingCollapsed": true
   },
   "source": [
    "Text in this cell can be **bold**, *italic*, ***bold italic***, quotes \n",
    "\n",
    ">\"The only source of knowledge is experience\"  \n",
    ">-- Einstein\n",
    "\n",
    "```\n",
    "Preformatted text,\n",
    "    useful for\n",
    "pseudocode\n",
    "```\n",
    "\n",
    "Markdown cheat sheet: [link](https://www.markdownguide.org/basic-syntax/)  "
   ]
  },
  {
   "cell_type": "markdown",
   "id": "6b065807-0ef0-4f0a-baa8-772e6212172c",
   "metadata": {},
   "source": [
    "## B. LaTeX [40 pts]\n",
    "\n",
    "LaTeX allows you to display math: e.g. $\\pi \\approx \\frac{22}{7}$ and $$f(x) = f(a) + f'(a) (x - a) + \\frac{1}{2} f''(a) (x-a)^2 + R(x).$$\n",
    "\n",
    "LaTex cheat sheet: [link](https://quickref.me/latex.html)  \n",
    "Draw symbol to get latex syntax: [link](https://detexify.kirelabs.org/classify.html#google_vignette)"
   ]
  },
  {
   "cell_type": "markdown",
   "id": "57f9f5c9-8a22-4c4f-91c4-d7925ecf5b42",
   "metadata": {},
   "source": [
    "1. **[10 pts]** Write down the integral form of $R(x)$, as seen above."
   ]
  },
  {
   "cell_type": "markdown",
   "id": "2baf14af-b6a6-4789-bc89-8988c3b0094d",
   "metadata": {},
   "source": [
    ">Use the syntax $\\int_a^b$ for definite integrals"
   ]
  },
  {
   "cell_type": "markdown",
   "id": "53ca47ca-c825-498b-894c-661f23e18d00",
   "metadata": {},
   "source": [
    "$$R(x) = \\textcolor{red}{\\text{INSERT FORMULA HERE}}$$"
   ]
  },
  {
   "cell_type": "markdown",
   "id": "3a7f33e3-b383-469a-bc70-f6e72d6d8cc7",
   "metadata": {
    "jp-MarkdownHeadingCollapsed": true
   },
   "source": [
    "2. **[30 pts]** Prove that, for $x \\geq 0$, there exists a unique $W(x) \\geq 0$ for which $W(x) e^{W(x)} = x$. Show that $\\Omega := W(1)$ satisfies $0.56 < \\Omega < 0.58$."
   ]
  },
  {
   "cell_type": "markdown",
   "id": "442166c4-7293-475b-89e0-10500be8dc78",
   "metadata": {},
   "source": [
    ">Note: You may complete the proof started below or start again on your own"
   ]
  },
  {
   "cell_type": "markdown",
   "id": "569cc348-5517-455c-a01c-058957efb71b",
   "metadata": {},
   "source": [
    "*Proof.* The function $f(w) := w e^w$ is continuously differentiable on $\\mathbb R$ with $f(0) = 0$, $f(w) \\geq 0$ for all $w \\geq 0$, and $f(w) \\to \\infty$ as $w \\to \\infty$. Moreover, $f'(w) = \\textcolor{red}{\\text{INSERT FORMULA HERE}}$. Therefore, $\\text{\\textcolor{red}{FINISH PROOF HERE}}$. "
   ]
  },
  {
   "cell_type": "code",
   "execution_count": null,
   "id": "0ce08f94-08e4-465f-9e8b-71aea7808423",
   "metadata": {},
   "outputs": [],
   "source": []
  },
  {
   "cell_type": "markdown",
   "id": "dd55ba86-3acc-493f-8b1e-6a974e04dce6",
   "metadata": {},
   "source": [
    "# C. Julia [40 pts]"
   ]
  },
  {
   "cell_type": "markdown",
   "id": "b8809e2e-19e8-49c8-9deb-b95a0d1fd3a2",
   "metadata": {},
   "source": [
    ">You can use greek symbols in Julia code: type \\pi and tab to get the symbol  \n",
    ">You can show the result of a calculation by not ending a line with a semi-colon"
   ]
  },
  {
   "cell_type": "code",
   "execution_count": 2,
   "id": "65def6a2-4c6e-47a2-bc77-56eb255296ca",
   "metadata": {},
   "outputs": [
    {
     "data": {
      "text/plain": [
       "π = 3.1415926535897..."
      ]
     },
     "execution_count": 2,
     "metadata": {},
     "output_type": "execute_result"
    }
   ],
   "source": [
    "π"
   ]
  },
  {
   "cell_type": "markdown",
   "id": "5a7b6134-a987-4802-9f08-fe400fa75204",
   "metadata": {},
   "source": [
    "1. **[10 pts]** Approximate $\\pi$ with $\\pi_1 := 22/7$ and $\\pi_2 := 355/113$ and compute the corresponding absolute and relative errors."
   ]
  },
  {
   "cell_type": "markdown",
   "id": "b529b7c2-25b9-4b7b-80dc-2346f5b59667",
   "metadata": {},
   "source": [
    ">Note: you can add comments with #"
   ]
  },
  {
   "cell_type": "code",
   "execution_count": 3,
   "id": "db3b6dab-12e1-4d45-9d6e-e96b8add1156",
   "metadata": {},
   "outputs": [],
   "source": [
    "# Define π1 and π2\n",
    "π1 = 22/7; π2 = 355/113;"
   ]
  },
  {
   "cell_type": "markdown",
   "id": "32516a0d-e644-4b57-9668-9e2d1221975b",
   "metadata": {},
   "source": [
    "Absolute error between $\\pi$ and $\\pi_1$:"
   ]
  },
  {
   "cell_type": "code",
   "execution_count": 4,
   "id": "4caed898-eeb5-4a63-b5af-29675f49d770",
   "metadata": {},
   "outputs": [],
   "source": [
    "\"CALCULATION HERE\""
   ]
  },
  {
   "cell_type": "markdown",
   "id": "4c8ec5e5-2018-41ea-b71a-615dfa73252c",
   "metadata": {},
   "source": [
    "Relative error between $\\pi$ and $\\pi_1$:"
   ]
  },
  {
   "cell_type": "code",
   "execution_count": 5,
   "id": "946e6eaa-b75e-408f-9200-fff0457eafb6",
   "metadata": {},
   "outputs": [],
   "source": [
    "\"CALCULATION HERE\""
   ]
  },
  {
   "cell_type": "markdown",
   "id": "6895177d-919e-4c1c-8e59-fe6047f0a031",
   "metadata": {},
   "source": [
    "Absolute error between $\\pi$ and $\\pi_2$:"
   ]
  },
  {
   "cell_type": "code",
   "execution_count": 6,
   "id": "46db574f-399b-4cc8-9bbe-348e0f86d57d",
   "metadata": {},
   "outputs": [],
   "source": [
    "\"CALCULATION HERE\""
   ]
  },
  {
   "cell_type": "markdown",
   "id": "d9b4dbf3-1b30-4132-a677-da6ceba799a2",
   "metadata": {},
   "source": [
    "Relative error between $\\pi$ and $\\pi_2$:"
   ]
  },
  {
   "cell_type": "code",
   "execution_count": 7,
   "id": "05a91c74-8ee4-4034-b17a-91fd8b1f6e52",
   "metadata": {},
   "outputs": [],
   "source": [
    "\"CALCULATION HERE\""
   ]
  },
  {
   "cell_type": "markdown",
   "id": "1245b0ff-8535-4fd7-a5cf-8eb576814fc1",
   "metadata": {},
   "source": [
    "2. **[30 pts]** The quantities $$\\pi_N := 4 \\sum_{n=0}^N \\frac{(-1)^n}{2n+1}$$ approximate $\\pi$ by using the Taylor expansion of $\\arctan$ together with the fact that $\\pi = 4 \\arctan(1)$.\n",
    "   \n",
    "   Read the following to start to get used to Julia syntax:"
   ]
  },
  {
   "cell_type": "code",
   "execution_count": 3,
   "id": "a19628b1-df4e-4ee9-9ea4-1f64c7c3c00d",
   "metadata": {},
   "outputs": [
    {
     "data": {
      "image/svg+xml": [
       "<?xml version=\"1.0\" encoding=\"utf-8\"?>\n",
       "<svg xmlns=\"http://www.w3.org/2000/svg\" xmlns:xlink=\"http://www.w3.org/1999/xlink\" width=\"600\" height=\"400\" viewBox=\"0 0 2400 1600\">\n",
       "<defs>\n",
       "  <clipPath id=\"clip420\">\n",
       "    <rect x=\"0\" y=\"0\" width=\"2400\" height=\"1600\"/>\n",
       "  </clipPath>\n",
       "</defs>\n",
       "<path clip-path=\"url(#clip420)\" d=\"M0 1600 L2400 1600 L2400 0 L0 0  Z\" fill=\"#ffffff\" fill-rule=\"evenodd\" fill-opacity=\"1\"/>\n",
       "<defs>\n",
       "  <clipPath id=\"clip421\">\n",
       "    <rect x=\"480\" y=\"0\" width=\"1681\" height=\"1600\"/>\n",
       "  </clipPath>\n",
       "</defs>\n",
       "<path clip-path=\"url(#clip420)\" d=\"M156.112 1423.18 L2352.76 1423.18 L2352.76 123.472 L156.112 123.472  Z\" fill=\"#ffffff\" fill-rule=\"evenodd\" fill-opacity=\"1\"/>\n",
       "<defs>\n",
       "  <clipPath id=\"clip422\">\n",
       "    <rect x=\"156\" y=\"123\" width=\"2198\" height=\"1301\"/>\n",
       "  </clipPath>\n",
       "</defs>\n",
       "<polyline clip-path=\"url(#clip422)\" style=\"stroke:#000000; stroke-linecap:round; stroke-linejoin:round; stroke-width:2; stroke-opacity:0.1; fill:none\" points=\"197.349,1423.18 197.349,123.472 \"/>\n",
       "<polyline clip-path=\"url(#clip422)\" style=\"stroke:#000000; stroke-linecap:round; stroke-linejoin:round; stroke-width:2; stroke-opacity:0.1; fill:none\" points=\"720.658,1423.18 720.658,123.472 \"/>\n",
       "<polyline clip-path=\"url(#clip422)\" style=\"stroke:#000000; stroke-linecap:round; stroke-linejoin:round; stroke-width:2; stroke-opacity:0.1; fill:none\" points=\"1243.97,1423.18 1243.97,123.472 \"/>\n",
       "<polyline clip-path=\"url(#clip422)\" style=\"stroke:#000000; stroke-linecap:round; stroke-linejoin:round; stroke-width:2; stroke-opacity:0.1; fill:none\" points=\"1767.28,1423.18 1767.28,123.472 \"/>\n",
       "<polyline clip-path=\"url(#clip422)\" style=\"stroke:#000000; stroke-linecap:round; stroke-linejoin:round; stroke-width:2; stroke-opacity:0.1; fill:none\" points=\"2290.59,1423.18 2290.59,123.472 \"/>\n",
       "<polyline clip-path=\"url(#clip420)\" style=\"stroke:#000000; stroke-linecap:round; stroke-linejoin:round; stroke-width:4; stroke-opacity:1; fill:none\" points=\"156.112,1423.18 2352.76,1423.18 \"/>\n",
       "<polyline clip-path=\"url(#clip420)\" style=\"stroke:#000000; stroke-linecap:round; stroke-linejoin:round; stroke-width:4; stroke-opacity:1; fill:none\" points=\"197.349,1423.18 197.349,1404.28 \"/>\n",
       "<polyline clip-path=\"url(#clip420)\" style=\"stroke:#000000; stroke-linecap:round; stroke-linejoin:round; stroke-width:4; stroke-opacity:1; fill:none\" points=\"720.658,1423.18 720.658,1404.28 \"/>\n",
       "<polyline clip-path=\"url(#clip420)\" style=\"stroke:#000000; stroke-linecap:round; stroke-linejoin:round; stroke-width:4; stroke-opacity:1; fill:none\" points=\"1243.97,1423.18 1243.97,1404.28 \"/>\n",
       "<polyline clip-path=\"url(#clip420)\" style=\"stroke:#000000; stroke-linecap:round; stroke-linejoin:round; stroke-width:4; stroke-opacity:1; fill:none\" points=\"1767.28,1423.18 1767.28,1404.28 \"/>\n",
       "<polyline clip-path=\"url(#clip420)\" style=\"stroke:#000000; stroke-linecap:round; stroke-linejoin:round; stroke-width:4; stroke-opacity:1; fill:none\" points=\"2290.59,1423.18 2290.59,1404.28 \"/>\n",
       "<path clip-path=\"url(#clip420)\" d=\"M197.349 1454.1 Q193.738 1454.1 191.909 1457.66 Q190.104 1461.2 190.104 1468.33 Q190.104 1475.44 191.909 1479.01 Q193.738 1482.55 197.349 1482.55 Q200.983 1482.55 202.789 1479.01 Q204.617 1475.44 204.617 1468.33 Q204.617 1461.2 202.789 1457.66 Q200.983 1454.1 197.349 1454.1 M197.349 1450.39 Q203.159 1450.39 206.215 1455 Q209.293 1459.58 209.293 1468.33 Q209.293 1477.06 206.215 1481.67 Q203.159 1486.25 197.349 1486.25 Q191.539 1486.25 188.46 1481.67 Q185.405 1477.06 185.405 1468.33 Q185.405 1459.58 188.46 1455 Q191.539 1450.39 197.349 1450.39 Z\" fill=\"#000000\" fill-rule=\"nonzero\" fill-opacity=\"1\" /><path clip-path=\"url(#clip420)\" d=\"M699.929 1481.64 L716.249 1481.64 L716.249 1485.58 L694.304 1485.58 L694.304 1481.64 Q696.966 1478.89 701.55 1474.26 Q706.156 1469.61 707.337 1468.27 Q709.582 1465.74 710.462 1464.01 Q711.364 1462.25 711.364 1460.56 Q711.364 1457.8 709.42 1456.07 Q707.499 1454.33 704.397 1454.33 Q702.198 1454.33 699.744 1455.09 Q697.314 1455.86 694.536 1457.41 L694.536 1452.69 Q697.36 1451.55 699.814 1450.97 Q702.267 1450.39 704.304 1450.39 Q709.675 1450.39 712.869 1453.08 Q716.063 1455.77 716.063 1460.26 Q716.063 1462.39 715.253 1464.31 Q714.466 1466.2 712.36 1468.8 Q711.781 1469.47 708.679 1472.69 Q705.577 1475.88 699.929 1481.64 Z\" fill=\"#000000\" fill-rule=\"nonzero\" fill-opacity=\"1\" /><path clip-path=\"url(#clip420)\" d=\"M726.11 1451.02 L744.466 1451.02 L744.466 1454.96 L730.392 1454.96 L730.392 1463.43 Q731.411 1463.08 732.429 1462.92 Q733.448 1462.73 734.466 1462.73 Q740.253 1462.73 743.633 1465.9 Q747.012 1469.08 747.012 1474.49 Q747.012 1480.07 743.54 1483.17 Q740.068 1486.25 733.749 1486.25 Q731.573 1486.25 729.304 1485.88 Q727.059 1485.51 724.651 1484.77 L724.651 1480.07 Q726.735 1481.2 728.957 1481.76 Q731.179 1482.32 733.656 1482.32 Q737.661 1482.32 739.999 1480.21 Q742.336 1478.1 742.336 1474.49 Q742.336 1470.88 739.999 1468.77 Q737.661 1466.67 733.656 1466.67 Q731.781 1466.67 729.906 1467.08 Q728.054 1467.5 726.11 1468.38 L726.11 1451.02 Z\" fill=\"#000000\" fill-rule=\"nonzero\" fill-opacity=\"1\" /><path clip-path=\"url(#clip420)\" d=\"M1218.67 1451.02 L1237.02 1451.02 L1237.02 1454.96 L1222.95 1454.96 L1222.95 1463.43 Q1223.97 1463.08 1224.99 1462.92 Q1226 1462.73 1227.02 1462.73 Q1232.81 1462.73 1236.19 1465.9 Q1239.57 1469.08 1239.57 1474.49 Q1239.57 1480.07 1236.1 1483.17 Q1232.63 1486.25 1226.31 1486.25 Q1224.13 1486.25 1221.86 1485.88 Q1219.62 1485.51 1217.21 1484.77 L1217.21 1480.07 Q1219.29 1481.2 1221.51 1481.76 Q1223.74 1482.32 1226.21 1482.32 Q1230.22 1482.32 1232.56 1480.21 Q1234.89 1478.1 1234.89 1474.49 Q1234.89 1470.88 1232.56 1468.77 Q1230.22 1466.67 1226.21 1466.67 Q1224.34 1466.67 1222.46 1467.08 Q1220.61 1467.5 1218.67 1468.38 L1218.67 1451.02 Z\" fill=\"#000000\" fill-rule=\"nonzero\" fill-opacity=\"1\" /><path clip-path=\"url(#clip420)\" d=\"M1258.78 1454.1 Q1255.17 1454.1 1253.34 1457.66 Q1251.54 1461.2 1251.54 1468.33 Q1251.54 1475.44 1253.34 1479.01 Q1255.17 1482.55 1258.78 1482.55 Q1262.42 1482.55 1264.22 1479.01 Q1266.05 1475.44 1266.05 1468.33 Q1266.05 1461.2 1264.22 1457.66 Q1262.42 1454.1 1258.78 1454.1 M1258.78 1450.39 Q1264.59 1450.39 1267.65 1455 Q1270.73 1459.58 1270.73 1468.33 Q1270.73 1477.06 1267.65 1481.67 Q1264.59 1486.25 1258.78 1486.25 Q1252.97 1486.25 1249.89 1481.67 Q1246.84 1477.06 1246.84 1468.33 Q1246.84 1459.58 1249.89 1455 Q1252.97 1450.39 1258.78 1450.39 Z\" fill=\"#000000\" fill-rule=\"nonzero\" fill-opacity=\"1\" /><path clip-path=\"url(#clip420)\" d=\"M1741.13 1451.02 L1763.35 1451.02 L1763.35 1453.01 L1750.81 1485.58 L1745.92 1485.58 L1757.73 1454.96 L1741.13 1454.96 L1741.13 1451.02 Z\" fill=\"#000000\" fill-rule=\"nonzero\" fill-opacity=\"1\" /><path clip-path=\"url(#clip420)\" d=\"M1772.52 1451.02 L1790.88 1451.02 L1790.88 1454.96 L1776.8 1454.96 L1776.8 1463.43 Q1777.82 1463.08 1778.84 1462.92 Q1779.86 1462.73 1780.88 1462.73 Q1786.66 1462.73 1790.04 1465.9 Q1793.42 1469.08 1793.42 1474.49 Q1793.42 1480.07 1789.95 1483.17 Q1786.48 1486.25 1780.16 1486.25 Q1777.98 1486.25 1775.71 1485.88 Q1773.47 1485.51 1771.06 1484.77 L1771.06 1480.07 Q1773.15 1481.2 1775.37 1481.76 Q1777.59 1482.32 1780.07 1482.32 Q1784.07 1482.32 1786.41 1480.21 Q1788.75 1478.1 1788.75 1474.49 Q1788.75 1470.88 1786.41 1468.77 Q1784.07 1466.67 1780.07 1466.67 Q1778.19 1466.67 1776.32 1467.08 Q1774.46 1467.5 1772.52 1468.38 L1772.52 1451.02 Z\" fill=\"#000000\" fill-rule=\"nonzero\" fill-opacity=\"1\" /><path clip-path=\"url(#clip420)\" d=\"M2250.19 1481.64 L2257.83 1481.64 L2257.83 1455.28 L2249.52 1456.95 L2249.52 1452.69 L2257.79 1451.02 L2262.46 1451.02 L2262.46 1481.64 L2270.1 1481.64 L2270.1 1485.58 L2250.19 1485.58 L2250.19 1481.64 Z\" fill=\"#000000\" fill-rule=\"nonzero\" fill-opacity=\"1\" /><path clip-path=\"url(#clip420)\" d=\"M2289.55 1454.1 Q2285.93 1454.1 2284.11 1457.66 Q2282.3 1461.2 2282.3 1468.33 Q2282.3 1475.44 2284.11 1479.01 Q2285.93 1482.55 2289.55 1482.55 Q2293.18 1482.55 2294.98 1479.01 Q2296.81 1475.44 2296.81 1468.33 Q2296.81 1461.2 2294.98 1457.66 Q2293.18 1454.1 2289.55 1454.1 M2289.55 1450.39 Q2295.36 1450.39 2298.41 1455 Q2301.49 1459.58 2301.49 1468.33 Q2301.49 1477.06 2298.41 1481.67 Q2295.36 1486.25 2289.55 1486.25 Q2283.73 1486.25 2280.66 1481.67 Q2277.6 1477.06 2277.6 1468.33 Q2277.6 1459.58 2280.66 1455 Q2283.73 1450.39 2289.55 1450.39 Z\" fill=\"#000000\" fill-rule=\"nonzero\" fill-opacity=\"1\" /><path clip-path=\"url(#clip420)\" d=\"M2319.71 1454.1 Q2316.1 1454.1 2314.27 1457.66 Q2312.46 1461.2 2312.46 1468.33 Q2312.46 1475.44 2314.27 1479.01 Q2316.1 1482.55 2319.71 1482.55 Q2323.34 1482.55 2325.15 1479.01 Q2326.98 1475.44 2326.98 1468.33 Q2326.98 1461.2 2325.15 1457.66 Q2323.34 1454.1 2319.71 1454.1 M2319.71 1450.39 Q2325.52 1450.39 2328.57 1455 Q2331.65 1459.58 2331.65 1468.33 Q2331.65 1477.06 2328.57 1481.67 Q2325.52 1486.25 2319.71 1486.25 Q2313.9 1486.25 2310.82 1481.67 Q2307.76 1477.06 2307.76 1468.33 Q2307.76 1459.58 2310.82 1455 Q2313.9 1450.39 2319.71 1450.39 Z\" fill=\"#000000\" fill-rule=\"nonzero\" fill-opacity=\"1\" /><path clip-path=\"url(#clip420)\" d=\"M1236.45 1520.52 L1245.11 1520.52 L1266.18 1560.28 L1266.18 1520.52 L1272.42 1520.52 L1272.42 1568.04 L1263.76 1568.04 L1242.69 1528.29 L1242.69 1568.04 L1236.45 1568.04 L1236.45 1520.52 Z\" fill=\"#000000\" fill-rule=\"nonzero\" fill-opacity=\"1\" /><polyline clip-path=\"url(#clip422)\" style=\"stroke:#000000; stroke-linecap:round; stroke-linejoin:round; stroke-width:2; stroke-opacity:0.1; fill:none\" points=\"156.112,1182.04 2352.76,1182.04 \"/>\n",
       "<polyline clip-path=\"url(#clip422)\" style=\"stroke:#000000; stroke-linecap:round; stroke-linejoin:round; stroke-width:2; stroke-opacity:0.1; fill:none\" points=\"156.112,875.504 2352.76,875.504 \"/>\n",
       "<polyline clip-path=\"url(#clip422)\" style=\"stroke:#000000; stroke-linecap:round; stroke-linejoin:round; stroke-width:2; stroke-opacity:0.1; fill:none\" points=\"156.112,568.969 2352.76,568.969 \"/>\n",
       "<polyline clip-path=\"url(#clip422)\" style=\"stroke:#000000; stroke-linecap:round; stroke-linejoin:round; stroke-width:2; stroke-opacity:0.1; fill:none\" points=\"156.112,262.435 2352.76,262.435 \"/>\n",
       "<polyline clip-path=\"url(#clip420)\" style=\"stroke:#000000; stroke-linecap:round; stroke-linejoin:round; stroke-width:4; stroke-opacity:1; fill:none\" points=\"156.112,1423.18 156.112,123.472 \"/>\n",
       "<polyline clip-path=\"url(#clip420)\" style=\"stroke:#000000; stroke-linecap:round; stroke-linejoin:round; stroke-width:4; stroke-opacity:1; fill:none\" points=\"156.112,1182.04 175.01,1182.04 \"/>\n",
       "<polyline clip-path=\"url(#clip420)\" style=\"stroke:#000000; stroke-linecap:round; stroke-linejoin:round; stroke-width:4; stroke-opacity:1; fill:none\" points=\"156.112,875.504 175.01,875.504 \"/>\n",
       "<polyline clip-path=\"url(#clip420)\" style=\"stroke:#000000; stroke-linecap:round; stroke-linejoin:round; stroke-width:4; stroke-opacity:1; fill:none\" points=\"156.112,568.969 175.01,568.969 \"/>\n",
       "<polyline clip-path=\"url(#clip420)\" style=\"stroke:#000000; stroke-linecap:round; stroke-linejoin:round; stroke-width:4; stroke-opacity:1; fill:none\" points=\"156.112,262.435 175.01,262.435 \"/>\n",
       "<path clip-path=\"url(#clip420)\" d=\"M57.0569 1195.38 L73.3763 1195.38 L73.3763 1199.32 L51.4319 1199.32 L51.4319 1195.38 Q54.094 1192.63 58.6773 1188 Q63.2837 1183.35 64.4643 1182 Q66.7096 1179.48 67.5893 1177.75 Q68.492 1175.99 68.492 1174.3 Q68.492 1171.54 66.5476 1169.81 Q64.6263 1168.07 61.5245 1168.07 Q59.3254 1168.07 56.8717 1168.83 Q54.4412 1169.6 51.6634 1171.15 L51.6634 1166.43 Q54.4875 1165.29 56.9412 1164.71 Q59.3949 1164.13 61.4319 1164.13 Q66.8022 1164.13 69.9967 1166.82 Q73.1911 1169.5 73.1911 1174 Q73.1911 1176.12 72.3809 1178.05 Q71.5939 1179.94 69.4874 1182.54 Q68.9087 1183.21 65.8069 1186.43 Q62.705 1189.62 57.0569 1195.38 Z\" fill=\"#000000\" fill-rule=\"nonzero\" fill-opacity=\"1\" /><path clip-path=\"url(#clip420)\" d=\"M83.191 1193.44 L88.0753 1193.44 L88.0753 1199.32 L83.191 1199.32 L83.191 1193.44 Z\" fill=\"#000000\" fill-rule=\"nonzero\" fill-opacity=\"1\" /><path clip-path=\"url(#clip420)\" d=\"M108.26 1182.91 Q104.927 1182.91 103.006 1184.69 Q101.108 1186.47 101.108 1189.6 Q101.108 1192.72 103.006 1194.5 Q104.927 1196.29 108.26 1196.29 Q111.594 1196.29 113.515 1194.5 Q115.436 1192.7 115.436 1189.6 Q115.436 1186.47 113.515 1184.69 Q111.617 1182.91 108.26 1182.91 M103.584 1180.92 Q100.575 1180.18 98.8854 1178.12 Q97.2187 1176.06 97.2187 1173.09 Q97.2187 1168.95 100.159 1166.54 Q103.121 1164.13 108.26 1164.13 Q113.422 1164.13 116.362 1166.54 Q119.302 1168.95 119.302 1173.09 Q119.302 1176.06 117.612 1178.12 Q115.945 1180.18 112.959 1180.92 Q116.339 1181.7 118.214 1184 Q120.112 1186.29 120.112 1189.6 Q120.112 1194.62 117.033 1197.31 Q113.978 1199.99 108.26 1199.99 Q102.543 1199.99 99.4641 1197.31 Q96.4085 1194.62 96.4085 1189.6 Q96.4085 1186.29 98.3067 1184 Q100.205 1181.7 103.584 1180.92 M101.871 1173.53 Q101.871 1176.22 103.538 1177.72 Q105.228 1179.23 108.26 1179.23 Q111.27 1179.23 112.959 1177.72 Q114.672 1176.22 114.672 1173.53 Q114.672 1170.85 112.959 1169.34 Q111.27 1167.84 108.26 1167.84 Q105.228 1167.84 103.538 1169.34 Q101.871 1170.85 101.871 1173.53 Z\" fill=\"#000000\" fill-rule=\"nonzero\" fill-opacity=\"1\" /><path clip-path=\"url(#clip420)\" d=\"M67.1032 874.15 Q70.4596 874.868 72.3346 877.136 Q74.2327 879.405 74.2327 882.738 Q74.2327 887.854 70.7142 890.655 Q67.1957 893.456 60.7143 893.456 Q58.5384 893.456 56.2236 893.016 Q53.9319 892.599 51.4782 891.743 L51.4782 887.229 Q53.4227 888.363 55.7375 888.942 Q58.0523 889.52 60.5754 889.52 Q64.9735 889.52 67.2652 887.784 Q69.58 886.048 69.58 882.738 Q69.58 879.682 67.4272 877.97 Q65.2976 876.233 61.4782 876.233 L57.4504 876.233 L57.4504 872.391 L61.6634 872.391 Q65.1124 872.391 66.9411 871.025 Q68.7698 869.636 68.7698 867.044 Q68.7698 864.382 66.8717 862.97 Q64.9967 861.534 61.4782 861.534 Q59.5569 861.534 57.3578 861.951 Q55.1588 862.368 52.5199 863.247 L52.5199 859.081 Q55.1819 858.34 57.4967 857.97 Q59.8347 857.599 61.8948 857.599 Q67.2189 857.599 70.3207 860.03 Q73.4226 862.437 73.4226 866.558 Q73.4226 869.428 71.7791 871.419 Q70.1355 873.386 67.1032 874.15 Z\" fill=\"#000000\" fill-rule=\"nonzero\" fill-opacity=\"1\" /><path clip-path=\"url(#clip420)\" d=\"M83.0984 886.905 L87.9827 886.905 L87.9827 892.784 L83.0984 892.784 L83.0984 886.905 Z\" fill=\"#000000\" fill-rule=\"nonzero\" fill-opacity=\"1\" /><path clip-path=\"url(#clip420)\" d=\"M108.168 861.303 Q104.557 861.303 102.728 864.868 Q100.922 868.409 100.922 875.539 Q100.922 882.645 102.728 886.21 Q104.557 889.752 108.168 889.752 Q111.802 889.752 113.608 886.21 Q115.436 882.645 115.436 875.539 Q115.436 868.409 113.608 864.868 Q111.802 861.303 108.168 861.303 M108.168 857.599 Q113.978 857.599 117.033 862.206 Q120.112 866.789 120.112 875.539 Q120.112 884.266 117.033 888.872 Q113.978 893.456 108.168 893.456 Q102.358 893.456 99.2789 888.872 Q96.2234 884.266 96.2234 875.539 Q96.2234 866.789 99.2789 862.206 Q102.358 857.599 108.168 857.599 Z\" fill=\"#000000\" fill-rule=\"nonzero\" fill-opacity=\"1\" /><path clip-path=\"url(#clip420)\" d=\"M68.7004 567.615 Q72.0568 568.333 73.9318 570.601 Q75.83 572.87 75.83 576.203 Q75.83 581.319 72.3115 584.12 Q68.793 586.921 62.3115 586.921 Q60.1356 586.921 57.8208 586.481 Q55.5291 586.064 53.0754 585.208 L53.0754 580.694 Q55.0199 581.828 57.3347 582.407 Q59.6495 582.986 62.1726 582.986 Q66.5707 582.986 68.8624 581.249 Q71.1772 579.513 71.1772 576.203 Q71.1772 573.148 69.0244 571.435 Q66.8948 569.699 63.0754 569.699 L59.0476 569.699 L59.0476 565.856 L63.2606 565.856 Q66.7096 565.856 68.5383 564.49 Q70.367 563.101 70.367 560.509 Q70.367 557.847 68.4689 556.435 Q66.5939 555 63.0754 555 Q61.1541 555 58.955 555.416 Q56.756 555.833 54.1171 556.713 L54.1171 552.546 Q56.7791 551.805 59.0939 551.435 Q61.4319 551.064 63.4921 551.064 Q68.8161 551.064 71.9179 553.495 Q75.0198 555.902 75.0198 560.023 Q75.0198 562.893 73.3763 564.884 Q71.7328 566.851 68.7004 567.615 Z\" fill=\"#000000\" fill-rule=\"nonzero\" fill-opacity=\"1\" /><path clip-path=\"url(#clip420)\" d=\"M84.6956 580.37 L89.5799 580.37 L89.5799 586.249 L84.6956 586.249 L84.6956 580.37 Z\" fill=\"#000000\" fill-rule=\"nonzero\" fill-opacity=\"1\" /><path clip-path=\"url(#clip420)\" d=\"M103.793 582.314 L120.112 582.314 L120.112 586.249 L98.1678 586.249 L98.1678 582.314 Q100.83 579.56 105.413 574.93 Q110.02 570.277 111.2 568.935 Q113.445 566.412 114.325 564.675 Q115.228 562.916 115.228 561.226 Q115.228 558.472 113.283 556.736 Q111.362 555 108.26 555 Q106.061 555 103.608 555.763 Q101.177 556.527 98.3993 558.078 L98.3993 553.356 Q101.223 552.222 103.677 551.643 Q106.131 551.064 108.168 551.064 Q113.538 551.064 116.733 553.75 Q119.927 556.435 119.927 560.925 Q119.927 563.055 119.117 564.976 Q118.33 566.875 116.223 569.467 Q115.645 570.138 112.543 573.356 Q109.441 576.55 103.793 582.314 Z\" fill=\"#000000\" fill-rule=\"nonzero\" fill-opacity=\"1\" /><path clip-path=\"url(#clip420)\" d=\"M66.617 261.08 Q69.9735 261.798 71.8485 264.067 Q73.7466 266.335 73.7466 269.668 Q73.7466 274.784 70.2281 277.585 Q66.7096 280.386 60.2282 280.386 Q58.0523 280.386 55.7375 279.946 Q53.4458 279.529 50.9921 278.673 L50.9921 274.159 Q52.9366 275.293 55.2514 275.872 Q57.5662 276.451 60.0893 276.451 Q64.4874 276.451 66.7791 274.715 Q69.0939 272.979 69.0939 269.668 Q69.0939 266.613 66.9411 264.9 Q64.8115 263.164 60.9921 263.164 L56.9643 263.164 L56.9643 259.321 L61.1773 259.321 Q64.6263 259.321 66.455 257.955 Q68.2837 256.567 68.2837 253.974 Q68.2837 251.312 66.3856 249.9 Q64.5106 248.465 60.9921 248.465 Q59.0708 248.465 56.8717 248.881 Q54.6727 249.298 52.0338 250.178 L52.0338 246.011 Q54.6958 245.27 57.0106 244.9 Q59.3486 244.53 61.4087 244.53 Q66.7328 244.53 69.8346 246.96 Q72.9365 249.368 72.9365 253.488 Q72.9365 256.358 71.2929 258.349 Q69.6494 260.317 66.617 261.08 Z\" fill=\"#000000\" fill-rule=\"nonzero\" fill-opacity=\"1\" /><path clip-path=\"url(#clip420)\" d=\"M82.6123 273.835 L87.4966 273.835 L87.4966 279.715 L82.6123 279.715 L82.6123 273.835 Z\" fill=\"#000000\" fill-rule=\"nonzero\" fill-opacity=\"1\" /><path clip-path=\"url(#clip420)\" d=\"M110.529 249.229 L98.7234 267.678 L110.529 267.678 L110.529 249.229 M109.302 245.155 L115.182 245.155 L115.182 267.678 L120.112 267.678 L120.112 271.566 L115.182 271.566 L115.182 279.715 L110.529 279.715 L110.529 271.566 L94.9271 271.566 L94.9271 267.053 L109.302 245.155 Z\" fill=\"#000000\" fill-rule=\"nonzero\" fill-opacity=\"1\" /><path clip-path=\"url(#clip420)\" d=\"M1243.87 25.7727 Q1243.87 28.642 1239.77 28.642 L1230.18 28.642 Q1228.7 35.4462 1228.7 42.0045 Q1228.7 49.8334 1231.12 55.8589 Q1231.61 57.0475 1231.61 57.7034 Q1231.61 58.933 1230.51 59.9168 Q1229.44 60.9005 1228.17 60.9005 Q1227.1 60.9005 1226.41 60.0807 Q1225.75 59.261 1225.18 56.6786 Q1224.48 53.6454 1224.48 50.2843 Q1224.48 46.2674 1225.14 42.4144 Q1225.79 38.5204 1228.01 28.642 L1218.54 28.642 L1213.82 47.2101 Q1212.14 53.4815 1211.57 55.408 Q1211.2 56.5557 1211.08 56.9246 Q1210.95 57.2935 1210.59 58.1952 Q1210.26 59.056 1210.01 59.3839 Q1209.77 59.6709 1209.36 60.1217 Q1208.95 60.6136 1208.45 60.7366 Q1207.96 60.9005 1207.35 60.9005 Q1206.4 60.9005 1205.67 60.2857 Q1204.93 59.7118 1204.93 58.6051 Q1204.93 57.8673 1205.58 56.5967 Q1213.37 39.7911 1216.32 28.642 L1211.57 28.642 Q1205.01 28.642 1200.91 35.1183 Q1200.26 35.9791 1199.89 36.061 Q1199.72 36.102 1199.56 36.102 Q1199.11 36.102 1198.82 35.8971 Q1198.58 35.6921 1198.58 35.4872 L1198.53 35.2822 Q1198.53 35.0363 1199.15 33.9296 Q1199.8 32.7819 1201.03 31.0194 Q1202.31 29.2568 1203.66 27.7402 Q1204.97 26.3466 1206.24 25.4858 Q1207.55 24.584 1208.78 24.2561 Q1210.01 23.9282 1210.71 23.8462 Q1211.4 23.7642 1212.39 23.7642 L1240.51 23.7642 Q1241.57 23.7642 1242.15 23.8462 Q1242.72 23.8872 1243.29 24.3791 Q1243.87 24.83 1243.87 25.7727 Z\" fill=\"#000000\" fill-rule=\"nonzero\" fill-opacity=\"1\" /><path clip-path=\"url(#clip420)\" d=\"M1301.85 45.2691 Q1301.85 46.4455 1300.85 46.4455 Q1297.6 46.5603 1296.28 47.6506 Q1294.99 48.7122 1294.51 50.7781 L1286.3 83.5162 Q1286.01 84.5491 1285.84 84.6639 Q1285.67 84.75 1285.35 84.75 Q1284.95 84.75 1284.72 84.5491 Q1284.52 84.3483 1284.23 83.631 L1269.6 49.0278 Q1269.49 48.7983 1269.34 48.4827 Q1269.2 48.167 1269.08 47.9662 L1261.31 78.9828 Q1261.08 79.8722 1261.08 80.3313 Q1261.08 81.4503 1261.85 82.1676 Q1262.66 82.8563 1264.95 82.9423 Q1266.13 82.9423 1266.13 83.5736 Q1266.13 84.75 1265.07 84.75 Q1264.09 84.75 1262.05 84.6639 Q1260.02 84.5778 1259.01 84.5778 Q1258.04 84.5778 1256.06 84.6639 Q1254.08 84.75 1253.13 84.75 Q1252.38 84.75 1252.38 84.09 Q1252.38 83.5736 1252.59 83.3153 Q1252.79 83.0284 1252.96 82.9997 Q1253.13 82.9423 1253.39 82.9423 Q1255.11 82.885 1256.29 82.5406 Q1257.46 82.1963 1258.12 81.5364 Q1258.81 80.8765 1259.13 80.2166 Q1259.47 79.5279 1259.73 78.5237 L1267.59 46.962 Q1267.59 46.4455 1263.6 46.4455 Q1262.91 46.4455 1262.63 46.4168 Q1262.37 46.3881 1262.17 46.2446 Q1261.97 46.1012 1261.97 45.7856 Q1261.97 44.9822 1262.31 44.81 Q1262.66 44.6092 1263.66 44.6092 L1271.55 44.6092 Q1272.56 44.6092 1272.81 44.7813 Q1273.07 44.9248 1273.42 45.7282 L1286.41 76.4005 L1292.98 50.2616 Q1293.16 49.7451 1293.16 49.0278 Q1293.16 47.8801 1292.3 47.1915 Q1291.46 46.4742 1289.17 46.4455 Q1288.11 46.4455 1288.11 45.7856 Q1288.11 45.2404 1288.31 44.9822 Q1288.54 44.6952 1288.71 44.6666 Q1288.91 44.6092 1289.17 44.6092 Q1290.14 44.6092 1292.15 44.6952 Q1294.16 44.7813 1295.17 44.7813 Q1296.14 44.7813 1298.12 44.6952 Q1300.13 44.6092 1301.1 44.6092 Q1301.45 44.6092 1301.62 44.7813 Q1301.82 44.9248 1301.85 45.0969 L1301.85 45.2691 Z\" fill=\"#000000\" fill-rule=\"nonzero\" fill-opacity=\"1\" /><polyline clip-path=\"url(#clip422)\" style=\"stroke:#009af9; stroke-linecap:round; stroke-linejoin:round; stroke-width:4; stroke-opacity:1; fill:none\" points=\"218.281,1386.4 239.214,160.256 260.146,1036.07 281.078,354.882 302.011,912.218 322.943,440.626 343.876,849.339 364.808,488.71 385.74,811.378 406.673,519.44 427.605,785.992 448.537,540.764 469.47,767.827 490.402,556.423 511.335,754.188 532.267,568.409 553.199,743.572 574.132,577.877 595.064,735.075 615.996,585.546 636.929,728.12 657.861,591.882 678.794,722.323 699.726,597.206 720.658,717.416 741.591,601.743 762.523,713.21 783.456,605.654 804.388,709.564 825.32,609.061 846.253,706.373 867.185,612.055 888.117,703.558 909.05,614.707 929.982,701.055 950.915,617.073 971.847,698.815 992.779,619.196 1013.71,696.8 1034.64,621.112 1055.58,694.976 1076.51,622.85 1097.44,693.318 1118.37,624.434 1139.31,691.804 1160.24,625.882 1181.17,690.416 1202.1,627.213 1223.04,689.139 1243.97,628.439 1264.9,687.961 1285.83,629.573 1306.76,686.869 1327.7,630.624 1348.63,685.856 1369.56,631.602 1390.49,684.912 1411.43,632.513 1432.36,684.032 1453.29,633.365 1474.22,683.208 1495.16,634.162 1516.09,682.435 1537.02,634.911 1557.95,681.71 1578.89,635.614 1599.82,681.027 1620.75,636.277 1641.68,680.383 1662.62,636.903 1683.55,679.775 1704.48,637.494 1725.41,679.2 1746.34,638.054 1767.28,678.655 1788.21,638.585 1809.14,678.138 1830.07,639.089 1851.01,677.647 1871.94,639.568 1892.87,677.179 1913.8,640.024 1934.74,676.734 1955.67,640.458 1976.6,676.31 1997.53,640.872 2018.47,675.905 2039.4,641.268 2060.33,675.518 2081.26,641.647 2102.2,675.148 2123.13,642.009 2144.06,674.793 2164.99,642.356 2185.92,674.454 2206.86,642.689 2227.79,674.128 2248.72,643.008 2269.65,673.815 2290.59,643.314 \"/>\n",
       "</svg>\n"
      ]
     },
     "execution_count": 3,
     "metadata": {},
     "output_type": "execute_result"
    }
   ],
   "source": [
    "# We need the following packages to plot functions\n",
    "using Plots\n",
    "using LaTeXStrings\n",
    "\n",
    "Nmax = 100;\n",
    "Ninter = 1:Nmax;\n",
    "\n",
    "# vectors of length Nmax\n",
    "p = zeros( Nmax ); q = zeros( Nmax );\n",
    "p[1] = 4 * ( 1 - 1/3 ) ;\n",
    "q[1] = abs( p[1] - π );\n",
    "for N in 2:Nmax\n",
    "    p[N] = p[N-1] + 4 * (-1)^N/(2*N + 1);\n",
    "    q[N] = abs( p[N] - π );\n",
    "end\n",
    "\n",
    "plot(p, legend=false, xlabel=\"N\", title=L\"\\pi_N\")"
   ]
  },
  {
   "cell_type": "markdown",
   "id": "2c10a747-9b49-4b52-ae2d-b90c09ea8501",
   "metadata": {},
   "source": [
    "Based on the following graph, what is the rate of convergence of this particular approximation to $\\pi$? Why do we use a log-log scale for this graph?"
   ]
  },
  {
   "cell_type": "code",
   "execution_count": 4,
   "id": "9e1cd361-34ed-47f8-9a9f-b490b1275583",
   "metadata": {},
   "outputs": [
    {
     "data": {
      "image/svg+xml": [
       "<?xml version=\"1.0\" encoding=\"utf-8\"?>\n",
       "<svg xmlns=\"http://www.w3.org/2000/svg\" xmlns:xlink=\"http://www.w3.org/1999/xlink\" width=\"600\" height=\"400\" viewBox=\"0 0 2400 1600\">\n",
       "<defs>\n",
       "  <clipPath id=\"clip460\">\n",
       "    <rect x=\"0\" y=\"0\" width=\"2400\" height=\"1600\"/>\n",
       "  </clipPath>\n",
       "</defs>\n",
       "<path clip-path=\"url(#clip460)\" d=\"M0 1600 L2400 1600 L2400 0 L0 0  Z\" fill=\"#ffffff\" fill-rule=\"evenodd\" fill-opacity=\"1\"/>\n",
       "<defs>\n",
       "  <clipPath id=\"clip461\">\n",
       "    <rect x=\"480\" y=\"0\" width=\"1681\" height=\"1600\"/>\n",
       "  </clipPath>\n",
       "</defs>\n",
       "<path clip-path=\"url(#clip460)\" d=\"M188.104 1410.9 L2352.76 1410.9 L2352.76 123.472 L188.104 123.472  Z\" fill=\"#ffffff\" fill-rule=\"evenodd\" fill-opacity=\"1\"/>\n",
       "<defs>\n",
       "  <clipPath id=\"clip462\">\n",
       "    <rect x=\"188\" y=\"123\" width=\"2166\" height=\"1288\"/>\n",
       "  </clipPath>\n",
       "</defs>\n",
       "<polyline clip-path=\"url(#clip462)\" style=\"stroke:#000000; stroke-linecap:round; stroke-linejoin:round; stroke-width:2; stroke-opacity:0.1; fill:none\" points=\"249.368,1410.9 249.368,123.472 \"/>\n",
       "<polyline clip-path=\"url(#clip462)\" style=\"stroke:#000000; stroke-linecap:round; stroke-linejoin:round; stroke-width:2; stroke-opacity:0.1; fill:none\" points=\"1270.43,1410.9 1270.43,123.472 \"/>\n",
       "<polyline clip-path=\"url(#clip462)\" style=\"stroke:#000000; stroke-linecap:round; stroke-linejoin:round; stroke-width:2; stroke-opacity:0.1; fill:none\" points=\"2291.49,1410.9 2291.49,123.472 \"/>\n",
       "<polyline clip-path=\"url(#clip460)\" style=\"stroke:#000000; stroke-linecap:round; stroke-linejoin:round; stroke-width:4; stroke-opacity:1; fill:none\" points=\"188.104,1410.9 2352.76,1410.9 \"/>\n",
       "<polyline clip-path=\"url(#clip460)\" style=\"stroke:#000000; stroke-linecap:round; stroke-linejoin:round; stroke-width:4; stroke-opacity:1; fill:none\" points=\"249.368,1410.9 249.368,1392 \"/>\n",
       "<polyline clip-path=\"url(#clip460)\" style=\"stroke:#000000; stroke-linecap:round; stroke-linejoin:round; stroke-width:4; stroke-opacity:1; fill:none\" points=\"1270.43,1410.9 1270.43,1392 \"/>\n",
       "<polyline clip-path=\"url(#clip460)\" style=\"stroke:#000000; stroke-linecap:round; stroke-linejoin:round; stroke-width:4; stroke-opacity:1; fill:none\" points=\"2291.49,1410.9 2291.49,1392 \"/>\n",
       "<path clip-path=\"url(#clip460)\" d=\"M214.351 1485.02 L221.99 1485.02 L221.99 1458.66 L213.679 1460.32 L213.679 1456.06 L221.943 1454.4 L226.619 1454.4 L226.619 1485.02 L234.258 1485.02 L234.258 1488.96 L214.351 1488.96 L214.351 1485.02 Z\" fill=\"#000000\" fill-rule=\"nonzero\" fill-opacity=\"1\" /><path clip-path=\"url(#clip460)\" d=\"M253.702 1457.48 Q250.091 1457.48 248.263 1461.04 Q246.457 1464.58 246.457 1471.71 Q246.457 1478.82 248.263 1482.38 Q250.091 1485.92 253.702 1485.92 Q257.337 1485.92 259.142 1482.38 Q260.971 1478.82 260.971 1471.71 Q260.971 1464.58 259.142 1461.04 Q257.337 1457.48 253.702 1457.48 M253.702 1453.77 Q259.512 1453.77 262.568 1458.38 Q265.647 1462.96 265.647 1471.71 Q265.647 1480.44 262.568 1485.04 Q259.512 1489.63 253.702 1489.63 Q247.892 1489.63 244.813 1485.04 Q241.758 1480.44 241.758 1471.71 Q241.758 1462.96 244.813 1458.38 Q247.892 1453.77 253.702 1453.77 Z\" fill=\"#000000\" fill-rule=\"nonzero\" fill-opacity=\"1\" /><path clip-path=\"url(#clip460)\" d=\"M275.352 1435.97 Q272.418 1435.97 270.932 1438.86 Q269.465 1441.74 269.465 1447.53 Q269.465 1453.31 270.932 1456.2 Q272.418 1459.08 275.352 1459.08 Q278.304 1459.08 279.771 1456.2 Q281.257 1453.31 281.257 1447.53 Q281.257 1441.74 279.771 1438.86 Q278.304 1435.97 275.352 1435.97 M275.352 1432.96 Q280.072 1432.96 282.555 1436.7 Q285.056 1440.43 285.056 1447.53 Q285.056 1454.62 282.555 1458.37 Q280.072 1462.09 275.352 1462.09 Q270.631 1462.09 268.129 1458.37 Q265.647 1454.62 265.647 1447.53 Q265.647 1440.43 268.129 1436.7 Q270.631 1432.96 275.352 1432.96 Z\" fill=\"#000000\" fill-rule=\"nonzero\" fill-opacity=\"1\" /><path clip-path=\"url(#clip460)\" d=\"M1236.76 1485.02 L1244.4 1485.02 L1244.4 1458.66 L1236.09 1460.32 L1236.09 1456.06 L1244.35 1454.4 L1249.03 1454.4 L1249.03 1485.02 L1256.66 1485.02 L1256.66 1488.96 L1236.76 1488.96 L1236.76 1485.02 Z\" fill=\"#000000\" fill-rule=\"nonzero\" fill-opacity=\"1\" /><path clip-path=\"url(#clip460)\" d=\"M1276.11 1457.48 Q1272.5 1457.48 1270.67 1461.04 Q1268.86 1464.58 1268.86 1471.71 Q1268.86 1478.82 1270.67 1482.38 Q1272.5 1485.92 1276.11 1485.92 Q1279.74 1485.92 1281.55 1482.38 Q1283.38 1478.82 1283.38 1471.71 Q1283.38 1464.58 1281.55 1461.04 Q1279.74 1457.48 1276.11 1457.48 M1276.11 1453.77 Q1281.92 1453.77 1284.97 1458.38 Q1288.05 1462.96 1288.05 1471.71 Q1288.05 1480.44 1284.97 1485.04 Q1281.92 1489.63 1276.11 1489.63 Q1270.3 1489.63 1267.22 1485.04 Q1264.16 1480.44 1264.16 1471.71 Q1264.16 1462.96 1267.22 1458.38 Q1270.3 1453.77 1276.11 1453.77 Z\" fill=\"#000000\" fill-rule=\"nonzero\" fill-opacity=\"1\" /><path clip-path=\"url(#clip460)\" d=\"M1288.6 1458.35 L1294.81 1458.35 L1294.81 1436.93 L1288.05 1438.28 L1288.05 1434.82 L1294.77 1433.47 L1298.57 1433.47 L1298.57 1458.35 L1304.77 1458.35 L1304.77 1461.55 L1288.6 1461.55 L1288.6 1458.35 Z\" fill=\"#000000\" fill-rule=\"nonzero\" fill-opacity=\"1\" /><path clip-path=\"url(#clip460)\" d=\"M2257.26 1485.02 L2264.9 1485.02 L2264.9 1458.66 L2256.59 1460.32 L2256.59 1456.06 L2264.86 1454.4 L2269.53 1454.4 L2269.53 1485.02 L2277.17 1485.02 L2277.17 1488.96 L2257.26 1488.96 L2257.26 1485.02 Z\" fill=\"#000000\" fill-rule=\"nonzero\" fill-opacity=\"1\" /><path clip-path=\"url(#clip460)\" d=\"M2296.62 1457.48 Q2293.01 1457.48 2291.18 1461.04 Q2289.37 1464.58 2289.37 1471.71 Q2289.37 1478.82 2291.18 1482.38 Q2293.01 1485.92 2296.62 1485.92 Q2300.25 1485.92 2302.06 1482.38 Q2303.89 1478.82 2303.89 1471.71 Q2303.89 1464.58 2302.06 1461.04 Q2300.25 1457.48 2296.62 1457.48 M2296.62 1453.77 Q2302.43 1453.77 2305.48 1458.38 Q2308.56 1462.96 2308.56 1471.71 Q2308.56 1480.44 2305.48 1485.04 Q2302.43 1489.63 2296.62 1489.63 Q2290.81 1489.63 2287.73 1485.04 Q2284.67 1480.44 2284.67 1471.71 Q2284.67 1462.96 2287.73 1458.38 Q2290.81 1453.77 2296.62 1453.77 Z\" fill=\"#000000\" fill-rule=\"nonzero\" fill-opacity=\"1\" /><path clip-path=\"url(#clip460)\" d=\"M2313.13 1458.35 L2326.39 1458.35 L2326.39 1461.55 L2308.56 1461.55 L2308.56 1458.35 Q2310.72 1456.11 2314.45 1452.35 Q2318.19 1448.57 2319.15 1447.48 Q2320.97 1445.43 2321.69 1444.02 Q2322.42 1442.59 2322.42 1441.22 Q2322.42 1438.98 2320.84 1437.57 Q2319.28 1436.16 2316.76 1436.16 Q2314.97 1436.16 2312.98 1436.78 Q2311.01 1437.4 2308.75 1438.66 L2308.75 1434.82 Q2311.04 1433.9 2313.04 1433.43 Q2315.03 1432.96 2316.69 1432.96 Q2321.05 1432.96 2323.64 1435.14 Q2326.24 1437.32 2326.24 1440.97 Q2326.24 1442.7 2325.58 1444.26 Q2324.94 1445.8 2323.23 1447.91 Q2322.76 1448.46 2320.24 1451.07 Q2317.72 1453.67 2313.13 1458.35 Z\" fill=\"#000000\" fill-rule=\"nonzero\" fill-opacity=\"1\" /><path clip-path=\"url(#clip460)\" d=\"M1252.45 1526.67 L1261.1 1526.67 L1282.17 1566.42 L1282.17 1526.67 L1288.41 1526.67 L1288.41 1574.19 L1279.76 1574.19 L1258.69 1534.43 L1258.69 1574.19 L1252.45 1574.19 L1252.45 1526.67 Z\" fill=\"#000000\" fill-rule=\"nonzero\" fill-opacity=\"1\" /><polyline clip-path=\"url(#clip462)\" style=\"stroke:#000000; stroke-linecap:round; stroke-linejoin:round; stroke-width:2; stroke-opacity:0.1; fill:none\" points=\"188.104,1371.84 2352.76,1371.84 \"/>\n",
       "<polyline clip-path=\"url(#clip462)\" style=\"stroke:#000000; stroke-linecap:round; stroke-linejoin:round; stroke-width:2; stroke-opacity:0.1; fill:none\" points=\"188.104,765.872 2352.76,765.872 \"/>\n",
       "<polyline clip-path=\"url(#clip462)\" style=\"stroke:#000000; stroke-linecap:round; stroke-linejoin:round; stroke-width:2; stroke-opacity:0.1; fill:none\" points=\"188.104,159.909 2352.76,159.909 \"/>\n",
       "<polyline clip-path=\"url(#clip460)\" style=\"stroke:#000000; stroke-linecap:round; stroke-linejoin:round; stroke-width:4; stroke-opacity:1; fill:none\" points=\"188.104,1410.9 188.104,123.472 \"/>\n",
       "<polyline clip-path=\"url(#clip460)\" style=\"stroke:#000000; stroke-linecap:round; stroke-linejoin:round; stroke-width:4; stroke-opacity:1; fill:none\" points=\"188.104,1371.84 207.002,1371.84 \"/>\n",
       "<polyline clip-path=\"url(#clip460)\" style=\"stroke:#000000; stroke-linecap:round; stroke-linejoin:round; stroke-width:4; stroke-opacity:1; fill:none\" points=\"188.104,765.872 207.002,765.872 \"/>\n",
       "<polyline clip-path=\"url(#clip460)\" style=\"stroke:#000000; stroke-linecap:round; stroke-linejoin:round; stroke-width:4; stroke-opacity:1; fill:none\" points=\"188.104,159.909 207.002,159.909 \"/>\n",
       "<path clip-path=\"url(#clip460)\" d=\"M51.9643 1391.63 L59.6032 1391.63 L59.6032 1365.26 L51.2931 1366.93 L51.2931 1362.67 L59.5569 1361 L64.2328 1361 L64.2328 1391.63 L71.8716 1391.63 L71.8716 1395.56 L51.9643 1395.56 L51.9643 1391.63 Z\" fill=\"#000000\" fill-rule=\"nonzero\" fill-opacity=\"1\" /><path clip-path=\"url(#clip460)\" d=\"M91.316 1364.08 Q87.7049 1364.08 85.8762 1367.65 Q84.0707 1371.19 84.0707 1378.32 Q84.0707 1385.42 85.8762 1388.99 Q87.7049 1392.53 91.316 1392.53 Q94.9502 1392.53 96.7558 1388.99 Q98.5845 1385.42 98.5845 1378.32 Q98.5845 1371.19 96.7558 1367.65 Q94.9502 1364.08 91.316 1364.08 M91.316 1360.38 Q97.1261 1360.38 100.182 1364.98 Q103.26 1369.57 103.26 1378.32 Q103.26 1387.04 100.182 1391.65 Q97.1261 1396.23 91.316 1396.23 Q85.5058 1396.23 82.4271 1391.65 Q79.3716 1387.04 79.3716 1378.32 Q79.3716 1369.57 82.4271 1364.98 Q85.5058 1360.38 91.316 1360.38 Z\" fill=\"#000000\" fill-rule=\"nonzero\" fill-opacity=\"1\" /><path clip-path=\"url(#clip460)\" d=\"M103.26 1354.48 L127.372 1354.48 L127.372 1357.68 L103.26 1357.68 L103.26 1354.48 Z\" fill=\"#000000\" fill-rule=\"nonzero\" fill-opacity=\"1\" /><path clip-path=\"url(#clip460)\" d=\"M138.845 1364.95 L152.104 1364.95 L152.104 1368.15 L134.274 1368.15 L134.274 1364.95 Q136.437 1362.72 140.161 1358.96 Q143.904 1355.17 144.863 1354.08 Q146.688 1352.03 147.402 1350.62 Q148.136 1349.19 148.136 1347.82 Q148.136 1345.58 146.556 1344.17 Q144.995 1342.76 142.475 1342.76 Q140.688 1342.76 138.694 1343.38 Q136.719 1344 134.462 1345.26 L134.462 1341.43 Q136.757 1340.5 138.751 1340.03 Q140.744 1339.56 142.399 1339.56 Q146.763 1339.56 149.358 1341.75 Q151.954 1343.93 151.954 1347.58 Q151.954 1349.31 151.295 1350.87 Q150.656 1352.41 148.944 1354.52 Q148.474 1355.06 145.954 1357.68 Q143.434 1360.27 138.845 1364.95 Z\" fill=\"#000000\" fill-rule=\"nonzero\" fill-opacity=\"1\" /><path clip-path=\"url(#clip460)\" d=\"M51.6634 785.664 L59.3023 785.664 L59.3023 759.299 L50.9921 760.965 L50.9921 756.706 L59.256 755.039 L63.9319 755.039 L63.9319 785.664 L71.5707 785.664 L71.5707 789.599 L51.6634 789.599 L51.6634 785.664 Z\" fill=\"#000000\" fill-rule=\"nonzero\" fill-opacity=\"1\" /><path clip-path=\"url(#clip460)\" d=\"M91.0151 758.118 Q87.404 758.118 85.5753 761.683 Q83.7697 765.225 83.7697 772.354 Q83.7697 779.461 85.5753 783.025 Q87.404 786.567 91.0151 786.567 Q94.6493 786.567 96.4548 783.025 Q98.2835 779.461 98.2835 772.354 Q98.2835 765.225 96.4548 761.683 Q94.6493 758.118 91.0151 758.118 M91.0151 754.414 Q96.8252 754.414 99.8808 759.021 Q102.959 763.604 102.959 772.354 Q102.959 781.081 99.8808 785.687 Q96.8252 790.271 91.0151 790.271 Q85.2049 790.271 82.1262 785.687 Q79.0707 781.081 79.0707 772.354 Q79.0707 763.604 82.1262 759.021 Q85.2049 754.414 91.0151 754.414 Z\" fill=\"#000000\" fill-rule=\"nonzero\" fill-opacity=\"1\" /><path clip-path=\"url(#clip460)\" d=\"M102.959 748.516 L127.071 748.516 L127.071 751.713 L102.959 751.713 L102.959 748.516 Z\" fill=\"#000000\" fill-rule=\"nonzero\" fill-opacity=\"1\" /><path clip-path=\"url(#clip460)\" d=\"M135.929 758.992 L142.136 758.992 L142.136 737.57 L135.384 738.924 L135.384 735.463 L142.098 734.109 L145.898 734.109 L145.898 758.992 L152.104 758.992 L152.104 762.189 L135.929 762.189 L135.929 758.992 Z\" fill=\"#000000\" fill-rule=\"nonzero\" fill-opacity=\"1\" /><path clip-path=\"url(#clip460)\" d=\"M81.3985 179.701 L89.0374 179.701 L89.0374 153.336 L80.7272 155.002 L80.7272 150.743 L88.9911 149.076 L93.667 149.076 L93.667 179.701 L101.306 179.701 L101.306 183.636 L81.3985 183.636 L81.3985 179.701 Z\" fill=\"#000000\" fill-rule=\"nonzero\" fill-opacity=\"1\" /><path clip-path=\"url(#clip460)\" d=\"M120.75 152.155 Q117.139 152.155 115.31 155.72 Q113.505 159.261 113.505 166.391 Q113.505 173.497 115.31 177.062 Q117.139 180.604 120.75 180.604 Q124.384 180.604 126.19 177.062 Q128.019 173.497 128.019 166.391 Q128.019 159.261 126.19 155.72 Q124.384 152.155 120.75 152.155 M120.75 148.451 Q126.56 148.451 129.616 153.058 Q132.695 157.641 132.695 166.391 Q132.695 175.118 129.616 179.724 Q126.56 184.308 120.75 184.308 Q114.94 184.308 111.861 179.724 Q108.806 175.118 108.806 166.391 Q108.806 157.641 111.861 153.058 Q114.94 148.451 120.75 148.451 Z\" fill=\"#000000\" fill-rule=\"nonzero\" fill-opacity=\"1\" /><path clip-path=\"url(#clip460)\" d=\"M142.399 130.647 Q139.465 130.647 137.98 133.544 Q136.513 136.421 136.513 142.214 Q136.513 147.988 137.98 150.884 Q139.465 153.762 142.399 153.762 Q145.352 153.762 146.819 150.884 Q148.305 147.988 148.305 142.214 Q148.305 136.421 146.819 133.544 Q145.352 130.647 142.399 130.647 M142.399 127.638 Q147.12 127.638 149.603 131.381 Q152.104 135.105 152.104 142.214 Q152.104 149.305 149.603 153.047 Q147.12 156.771 142.399 156.771 Q137.679 156.771 135.177 153.047 Q132.695 149.305 132.695 142.214 Q132.695 135.105 135.177 131.381 Q137.679 127.638 142.399 127.638 Z\" fill=\"#000000\" fill-rule=\"nonzero\" fill-opacity=\"1\" /><path clip-path=\"url(#clip460)\" d=\"M1004.43 49.7694 Q995.394 49.7694 991.91 51.8354 Q988.426 53.9013 988.426 58.8839 Q988.426 62.8538 991.019 65.2034 Q993.652 67.5124 998.148 67.5124 Q1004.35 67.5124 1008.07 63.1374 Q1011.84 58.7219 1011.84 51.4303 L1011.84 49.7694 L1004.43 49.7694 M1019.29 46.6907 L1019.29 72.576 L1011.84 72.576 L1011.84 65.6895 Q1009.29 69.8214 1005.48 71.8063 Q1001.67 73.7508 996.164 73.7508 Q989.196 73.7508 985.064 69.8619 Q980.973 65.9325 980.973 59.3701 Q980.973 51.7138 986.077 47.825 Q991.221 43.9361 1001.39 43.9361 L1011.84 43.9361 L1011.84 43.2069 Q1011.84 38.0623 1008.44 35.2672 Q1005.08 32.4315 998.959 32.4315 Q995.07 32.4315 991.383 33.3632 Q987.697 34.295 984.294 36.1584 L984.294 29.2718 Q988.386 27.692 992.234 26.9223 Q996.083 26.1121 999.728 26.1121 Q1009.57 26.1121 1014.43 31.2163 Q1019.29 36.3204 1019.29 46.6907 Z\" fill=\"#000000\" fill-rule=\"nonzero\" fill-opacity=\"1\" /><path clip-path=\"url(#clip460)\" d=\"M1067.22 49.9314 Q1067.22 41.7081 1063.81 37.0496 Q1060.45 32.3505 1054.54 32.3505 Q1048.62 32.3505 1045.22 37.0496 Q1041.86 41.7081 1041.86 49.9314 Q1041.86 58.1548 1045.22 62.8538 Q1048.62 67.5124 1054.54 67.5124 Q1060.45 67.5124 1063.81 62.8538 Q1067.22 58.1548 1067.22 49.9314 M1041.86 34.0924 Q1044.21 30.0415 1047.77 28.0971 Q1051.38 26.1121 1056.36 26.1121 Q1064.62 26.1121 1069.77 32.6746 Q1074.95 39.2371 1074.95 49.9314 Q1074.95 60.6258 1069.77 67.1883 Q1064.62 73.7508 1056.36 73.7508 Q1051.38 73.7508 1047.77 71.8063 Q1044.21 69.8214 1041.86 65.7705 L1041.86 72.576 L1034.36 72.576 L1034.36 9.54393 L1041.86 9.54393 L1041.86 34.0924 Z\" fill=\"#000000\" fill-rule=\"nonzero\" fill-opacity=\"1\" /><path clip-path=\"url(#clip460)\" d=\"M1116.23 28.5427 L1116.23 35.5912 Q1113.07 33.9709 1109.67 33.1607 Q1106.27 32.3505 1102.62 32.3505 Q1097.07 32.3505 1094.28 34.0519 Q1091.52 35.7533 1091.52 39.156 Q1091.52 41.7486 1093.51 43.2475 Q1095.49 44.7058 1101.49 46.0426 L1104.04 46.6097 Q1111.98 48.3111 1115.3 51.4303 Q1118.66 54.509 1118.66 60.0587 Q1118.66 66.3781 1113.64 70.0644 Q1108.66 73.7508 1099.91 73.7508 Q1096.26 73.7508 1092.29 73.0216 Q1088.36 72.3329 1083.99 70.9151 L1083.99 63.2184 Q1088.12 65.3654 1092.13 66.4591 Q1096.14 67.5124 1100.07 67.5124 Q1105.34 67.5124 1108.17 65.73 Q1111.01 63.9071 1111.01 60.6258 Q1111.01 57.5877 1108.94 55.9673 Q1106.92 54.3469 1099.99 52.8481 L1097.4 52.2405 Q1090.47 50.7821 1087.39 47.7845 Q1084.31 44.7463 1084.31 39.4801 Q1084.31 33.0797 1088.85 29.5959 Q1093.39 26.1121 1101.73 26.1121 Q1105.86 26.1121 1109.51 26.7198 Q1113.15 27.3274 1116.23 28.5427 Z\" fill=\"#000000\" fill-rule=\"nonzero\" fill-opacity=\"1\" /><path clip-path=\"url(#clip460)\" d=\"M1148.11 32.4315 Q1142.12 32.4315 1138.63 37.1306 Q1135.15 41.7891 1135.15 49.9314 Q1135.15 58.0738 1138.59 62.7728 Q1142.08 67.4314 1148.11 67.4314 Q1154.07 67.4314 1157.55 62.7323 Q1161.04 58.0333 1161.04 49.9314 Q1161.04 41.8701 1157.55 37.1711 Q1154.07 32.4315 1148.11 32.4315 M1148.11 26.1121 Q1157.84 26.1121 1163.38 32.4315 Q1168.93 38.7509 1168.93 49.9314 Q1168.93 61.0714 1163.38 67.4314 Q1157.84 73.7508 1148.11 73.7508 Q1138.35 73.7508 1132.8 67.4314 Q1127.29 61.0714 1127.29 49.9314 Q1127.29 38.7509 1132.8 32.4315 Q1138.35 26.1121 1148.11 26.1121 Z\" fill=\"#000000\" fill-rule=\"nonzero\" fill-opacity=\"1\" /><path clip-path=\"url(#clip460)\" d=\"M1181.29 9.54393 L1188.74 9.54393 L1188.74 72.576 L1181.29 72.576 L1181.29 9.54393 Z\" fill=\"#000000\" fill-rule=\"nonzero\" fill-opacity=\"1\" /><path clip-path=\"url(#clip460)\" d=\"M1203.57 54.671 L1203.57 27.2059 L1211.02 27.2059 L1211.02 54.3874 Q1211.02 60.8284 1213.54 64.0691 Q1216.05 67.2693 1221.07 67.2693 Q1227.11 67.2693 1230.59 63.421 Q1234.11 59.5726 1234.11 52.9291 L1234.11 27.2059 L1241.57 27.2059 L1241.57 72.576 L1234.11 72.576 L1234.11 65.6084 Q1231.4 69.7404 1227.79 71.7658 Q1224.23 73.7508 1219.49 73.7508 Q1211.67 73.7508 1207.62 68.8897 Q1203.57 64.0286 1203.57 54.671 M1222.33 26.1121 L1222.33 26.1121 Z\" fill=\"#000000\" fill-rule=\"nonzero\" fill-opacity=\"1\" /><path clip-path=\"url(#clip460)\" d=\"M1264.29 14.324 L1264.29 27.2059 L1279.65 27.2059 L1279.65 32.9987 L1264.29 32.9987 L1264.29 57.6282 Q1264.29 63.1779 1265.79 64.7578 Q1267.33 66.3376 1271.99 66.3376 L1279.65 66.3376 L1279.65 72.576 L1271.99 72.576 Q1263.36 72.576 1260.08 69.3758 Q1256.8 66.1351 1256.8 57.6282 L1256.8 32.9987 L1251.33 32.9987 L1251.33 27.2059 L1256.8 27.2059 L1256.8 14.324 L1264.29 14.324 Z\" fill=\"#000000\" fill-rule=\"nonzero\" fill-opacity=\"1\" /><path clip-path=\"url(#clip460)\" d=\"M1328.26 48.0275 L1328.26 51.6733 L1293.99 51.6733 Q1294.47 59.3701 1298.6 63.421 Q1302.78 67.4314 1310.19 67.4314 Q1314.48 67.4314 1318.49 66.3781 Q1322.54 65.3249 1326.51 63.2184 L1326.51 70.267 Q1322.5 71.9684 1318.29 72.8596 Q1314.08 73.7508 1309.74 73.7508 Q1298.89 73.7508 1292.53 67.4314 Q1286.21 61.1119 1286.21 50.3365 Q1286.21 39.1965 1292.2 32.6746 Q1298.24 26.1121 1308.45 26.1121 Q1317.6 26.1121 1322.91 32.0264 Q1328.26 37.9003 1328.26 48.0275 M1320.8 45.84 Q1320.72 39.7232 1317.36 36.0774 Q1314.04 32.4315 1308.53 32.4315 Q1302.29 32.4315 1298.52 35.9558 Q1294.8 39.4801 1294.23 45.8805 L1320.8 45.84 Z\" fill=\"#000000\" fill-rule=\"nonzero\" fill-opacity=\"1\" /><path clip-path=\"url(#clip460)\" d=\"M1405.67 48.0275 L1405.67 51.6733 L1371.4 51.6733 Q1371.88 59.3701 1376.02 63.421 Q1380.19 67.4314 1387.6 67.4314 Q1391.9 67.4314 1395.91 66.3781 Q1399.96 65.3249 1403.93 63.2184 L1403.93 70.267 Q1399.92 71.9684 1395.7 72.8596 Q1391.49 73.7508 1387.16 73.7508 Q1376.3 73.7508 1369.94 67.4314 Q1363.62 61.1119 1363.62 50.3365 Q1363.62 39.1965 1369.62 32.6746 Q1375.65 26.1121 1385.86 26.1121 Q1395.02 26.1121 1400.32 32.0264 Q1405.67 37.9003 1405.67 48.0275 M1398.22 45.84 Q1398.13 39.7232 1394.77 36.0774 Q1391.45 32.4315 1385.94 32.4315 Q1379.7 32.4315 1375.94 35.9558 Q1372.21 39.4801 1371.64 45.8805 L1398.22 45.84 Z\" fill=\"#000000\" fill-rule=\"nonzero\" fill-opacity=\"1\" /><path clip-path=\"url(#clip460)\" d=\"M1444.19 34.1734 Q1442.94 33.4443 1441.44 33.1202 Q1439.98 32.7556 1438.2 32.7556 Q1431.88 32.7556 1428.48 36.8875 Q1425.11 40.9789 1425.11 48.6757 L1425.11 72.576 L1417.62 72.576 L1417.62 27.2059 L1425.11 27.2059 L1425.11 34.2544 Q1427.46 30.1225 1431.23 28.1376 Q1435 26.1121 1440.39 26.1121 Q1441.16 26.1121 1442.09 26.2337 Q1443.02 26.3147 1444.15 26.5172 L1444.19 34.1734 Z\" fill=\"#000000\" fill-rule=\"nonzero\" fill-opacity=\"1\" /><path clip-path=\"url(#clip460)\" d=\"M1476.84 34.1734 Q1475.59 33.4443 1474.09 33.1202 Q1472.63 32.7556 1470.85 32.7556 Q1464.53 32.7556 1461.13 36.8875 Q1457.76 40.9789 1457.76 48.6757 L1457.76 72.576 L1450.27 72.576 L1450.27 27.2059 L1457.76 27.2059 L1457.76 34.2544 Q1460.11 30.1225 1463.88 28.1376 Q1467.65 26.1121 1473.04 26.1121 Q1473.81 26.1121 1474.74 26.2337 Q1475.67 26.3147 1476.8 26.5172 L1476.84 34.1734 Z\" fill=\"#000000\" fill-rule=\"nonzero\" fill-opacity=\"1\" /><path clip-path=\"url(#clip460)\" d=\"M1500.42 32.4315 Q1494.42 32.4315 1490.94 37.1306 Q1487.46 41.7891 1487.46 49.9314 Q1487.46 58.0738 1490.9 62.7728 Q1494.38 67.4314 1500.42 67.4314 Q1506.37 67.4314 1509.86 62.7323 Q1513.34 58.0333 1513.34 49.9314 Q1513.34 41.8701 1509.86 37.1711 Q1506.37 32.4315 1500.42 32.4315 M1500.42 26.1121 Q1510.14 26.1121 1515.69 32.4315 Q1521.24 38.7509 1521.24 49.9314 Q1521.24 61.0714 1515.69 67.4314 Q1510.14 73.7508 1500.42 73.7508 Q1490.66 73.7508 1485.11 67.4314 Q1479.6 61.0714 1479.6 49.9314 Q1479.6 38.7509 1485.11 32.4315 Q1490.66 26.1121 1500.42 26.1121 Z\" fill=\"#000000\" fill-rule=\"nonzero\" fill-opacity=\"1\" /><path clip-path=\"url(#clip460)\" d=\"M1559.89 34.1734 Q1558.63 33.4443 1557.13 33.1202 Q1555.67 32.7556 1553.89 32.7556 Q1547.57 32.7556 1544.17 36.8875 Q1540.81 40.9789 1540.81 48.6757 L1540.81 72.576 L1533.31 72.576 L1533.31 27.2059 L1540.81 27.2059 L1540.81 34.2544 Q1543.16 30.1225 1546.92 28.1376 Q1550.69 26.1121 1556.08 26.1121 Q1556.85 26.1121 1557.78 26.2337 Q1558.71 26.3147 1559.85 26.5172 L1559.89 34.1734 Z\" fill=\"#000000\" fill-rule=\"nonzero\" fill-opacity=\"1\" /><polyline clip-path=\"url(#clip462)\" style=\"stroke:#009af9; stroke-linecap:round; stroke-linejoin:round; stroke-width:4; stroke-opacity:1; fill:none\" points=\"249.368,355.861 556.738,455.629 736.538,528.601 864.109,585.984 963.06,633.214 1043.91,673.321 1112.27,708.159 1171.48,738.946 1223.71,766.523 1270.43,791.493 1312.69,814.306 1351.28,835.304 1386.77,854.754 1419.64,872.868 1450.23,889.817 1478.85,905.742 1505.73,920.76 1531.08,934.968 1555.05,948.449 1577.8,961.274 1599.44,973.503 1620.06,985.19 1639.78,996.38 1658.65,1007.11 1676.75,1017.43 1694.14,1027.35 1710.88,1036.92 1727.01,1046.15 1742.57,1055.06 1757.6,1063.69 1772.14,1072.04 1786.22,1080.13 1799.86,1087.99 1813.1,1095.61 1825.96,1103.02 1838.45,1110.23 1850.6,1117.24 1862.43,1124.08 1873.94,1130.74 1885.17,1137.24 1896.12,1143.58 1906.81,1149.77 1917.24,1155.81 1927.44,1161.73 1937.4,1167.51 1947.15,1173.17 1956.68,1178.71 1966.02,1184.13 1975.16,1189.45 1984.12,1194.66 1992.9,1199.77 2001.51,1204.78 2009.96,1209.7 2018.25,1214.53 2026.39,1219.27 2034.38,1223.92 2042.23,1228.5 2049.94,1233 2057.52,1237.42 2064.97,1241.77 2072.3,1246.05 2079.51,1250.26 2086.61,1254.4 2093.59,1258.48 2100.47,1262.5 2107.24,1266.46 2113.9,1270.36 2120.47,1274.2 2126.95,1277.98 2133.33,1281.72 2139.62,1285.4 2145.82,1289.03 2151.94,1292.61 2157.97,1296.14 2163.92,1299.62 2169.8,1303.06 2175.59,1306.46 2181.31,1309.81 2186.96,1313.12 2192.54,1316.39 2198.05,1319.62 2203.49,1322.81 2208.87,1325.96 2214.18,1329.07 2219.42,1332.15 2224.61,1335.19 2229.74,1338.2 2234.81,1341.18 2239.82,1344.12 2244.77,1347.02 2249.67,1349.9 2254.52,1352.74 2259.31,1355.56 2264.05,1358.34 2268.75,1361.1 2273.39,1363.83 2277.99,1366.53 2282.53,1369.2 2287.04,1371.84 2291.49,1374.46 \"/>\n",
       "<polyline clip-path=\"url(#clip462)\" style=\"stroke:#e26f46; stroke-linecap:round; stroke-linejoin:round; stroke-width:4; stroke-opacity:1; fill:none\" stroke-dasharray=\"16, 10\" points=\"249.368,159.909 556.738,342.322 736.538,449.027 864.109,524.735 963.06,583.459 1043.91,631.44 1112.27,672.007 1171.48,707.148 1223.71,738.145 1270.43,765.872 1312.69,790.954 1351.28,813.853 1386.77,834.917 1419.64,854.42 1450.23,872.577 1478.85,889.561 1505.73,905.515 1531.08,920.558 1555.05,934.786 1577.8,948.285 1599.44,961.125 1620.06,973.367 1639.78,985.066 1658.65,996.266 1676.75,1007.01 1694.14,1017.33 1710.88,1027.26 1727.01,1036.83 1742.57,1046.07 1757.6,1054.99 1772.14,1063.62 1786.22,1071.97 1799.86,1080.07 1813.1,1087.93 1825.96,1095.56 1838.45,1102.97 1850.6,1110.18 1862.43,1117.2 1873.94,1124.04 1885.17,1130.7 1896.12,1137.2 1906.81,1143.54 1917.24,1149.73 1927.44,1155.78 1937.4,1161.69 1947.15,1167.48 1956.68,1173.14 1966.02,1178.68 1975.16,1184.11 1984.12,1189.42 1992.9,1194.63 2001.51,1199.74 2009.96,1204.76 2018.25,1209.68 2026.39,1214.5 2034.38,1219.25 2042.23,1223.9 2049.94,1228.48 2057.52,1232.98 2064.97,1237.4 2072.3,1241.75 2079.51,1246.03 2086.61,1250.24 2093.59,1254.39 2100.47,1258.47 2107.24,1262.49 2113.9,1266.44 2120.47,1270.34 2126.95,1274.18 2133.33,1277.97 2139.62,1281.7 2145.82,1285.38 2151.94,1289.01 2157.97,1292.59 2163.92,1296.13 2169.8,1299.61 2175.59,1303.05 2181.31,1306.45 2186.96,1309.8 2192.54,1313.11 2198.05,1316.38 2203.49,1319.61 2208.87,1322.8 2214.18,1325.95 2219.42,1329.07 2224.61,1332.14 2229.74,1335.19 2234.81,1338.19 2239.82,1341.17 2244.77,1344.11 2249.67,1347.02 2254.52,1349.89 2259.31,1352.74 2264.05,1355.55 2268.75,1358.34 2273.39,1361.09 2277.99,1363.82 2282.53,1366.52 2287.04,1369.19 2291.49,1371.84 \"/>\n",
       "</svg>\n"
      ]
     },
     "execution_count": 4,
     "metadata": {},
     "output_type": "execute_result"
    }
   ],
   "source": [
    "plot( q , xaxis=:log, yaxis=:log, xlabel=\"N\", title=\"absolute error\", legend=false)\n",
    "plot!( Ninter.^(-1) , ls=:dash)"
   ]
  },
  {
   "cell_type": "markdown",
   "id": "71b62a38-1e54-4f38-a0f9-37dace9977da",
   "metadata": {},
   "source": [
    "<span style=\"color:red\">**YOUR ANSWER HERE**</span>"
   ]
  }
 ],
 "metadata": {
  "kernelspec": {
   "display_name": "Julia 1.7.1",
   "language": "julia",
   "name": "julia-1.7"
  },
  "language_info": {
   "file_extension": ".jl",
   "mimetype": "application/julia",
   "name": "julia",
   "version": "1.7.1"
  }
 },
 "nbformat": 4,
 "nbformat_minor": 5
}
