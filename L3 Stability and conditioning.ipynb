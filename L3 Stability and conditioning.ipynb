{
 "cells": [
  {
   "cell_type": "markdown",
   "id": "7ef04aea",
   "metadata": {},
   "source": [
    "<a id='top'></a>"
   ]
  },
  {
   "cell_type": "markdown",
   "id": "aad6bc09-0de2-4531-9043-0bacc8e41409",
   "metadata": {},
   "source": [
    "# Lecture 3: Conditioning & Stability"
   ]
  },
  {
   "cell_type": "markdown",
   "id": "fc372a11",
   "metadata": {},
   "source": [
    "<div style=\"background-color: #ffe0b2; padding: 10px; border-left: 5px solid #ff9800;\">\n",
    "    <strong>Note:</strong> \n",
    "This lecture is based on Chapter 1 of [Fundamentals of Numerical Computation by Driscoll, Braun] which is avaliable <a href=\"https://fncbook.com/overview/\">online</a> \n",
    "</div>"
   ]
  },
  {
   "cell_type": "markdown",
   "id": "bdb3c1d1",
   "metadata": {},
   "source": [
    "<div style=\"background-color: #ffe0b2; padding: 10px; border-left: 5px solid #ff9800;\">\n",
    "    <strong>Note:</strong> \n",
    "These notes contain some (but not all) of the content of the lecture. Please let me know if there are any additions that you feel are particularly important and let me know if you find any errors. \n",
    "</div>"
   ]
  },
  {
   "cell_type": "markdown",
   "id": "59a0d3f3",
   "metadata": {},
   "source": [
    "- Review of monday: floating point numbers, round off error\n",
    "- Conditioning \n",
    "- Stability \n",
    "- Extra reading\n",
    "  - [myths of polynomial interpolation](https://people.maths.ox.ac.uk/trefethen/mythspaper.pdf)"
   ]
  },
  {
   "cell_type": "markdown",
   "id": "43fab67d",
   "metadata": {},
   "source": [
    "<div class='alert alert-block alert-danger'><b>⚠ Subtractive cancellation</b> \n",
    "\n",
    "When adding or subtracting numbers so that the result is much smaller in magnitude. For example, we know $x = -1.0000000000000000000147$ to $23$ significant digits but $x + 1 = -1.47 \\times 10^{-20}$ to only $3$ significant digits. </div> "
   ]
  },
  {
   "cell_type": "markdown",
   "id": "bc268740",
   "metadata": {},
   "source": [
    "This concept can be illustrated using (relative) condition number: suppose we are interested in a quantity $f(x)$ for $x\\in \\mathbb R$. In practice, we can only store $\\widetilde{x} := \\mathrm{fl}(x)$ in a computer (recall that $\\widetilde{x} = x(1 + \\epsilon)$ for some $|\\epsilon|\\leq \\frac12 \\epsilon_{\\mathrm{mach}}$). Then the ratio of the relative error in the output to the relative error in the input in the limit as the precision goes to zero is known as the *(relative) condition number* $\\kappa_f(x)$: \n",
    "\n",
    "<div style='background-color: #ddff99; padding: 10px; border-left: 5px solid #009933;'><strong>Definition (relative condition number).</strong>  \n",
    "\n",
    "\\begin{align}\n",
    "\\kappa_f(x) := \\lim_{\\epsilon\\to0}\\left|\n",
    "    \\frac\n",
    "        {f(x) - f(x + \\epsilon x)}\n",
    "        {\\epsilon f(x)}\n",
    "    \\right| \\nonumber\n",
    "    %\n",
    "\\end{align}\n",
    "\n",
    "</div> \n",
    "\n",
    "That is, the (relative) condition number is approximately the constant of proportionality between the relative error in the output and the relative error of the input:\n",
    "\n",
    "\n",
    "\\begin{align}\n",
    "    \\left|\\frac\n",
    "        {f(x) - f(\\widetilde{x})}\n",
    "        {f(x)} \\right|\n",
    "    \\approx \\kappa_f(x) |\\epsilon|. \\nonumber\n",
    "\\end{align}"
   ]
  },
  {
   "cell_type": "markdown",
   "id": "a4a292e6",
   "metadata": {},
   "source": [
    "<div style='background-color: #cce0ff; padding: 10px; border-left: 5px solid #0066ff;'><strong>Example.</strong> \n",
    "\n",
    "The condition number of $f(x) = x + 1$ is $\\kappa_f(x) = \\left|\\frac{x}{x+1}\\right|$. This blows up when $x\\approx -1$ which explains subtractive cancellation that we mentioned above.\n",
    " </div> "
   ]
  },
  {
   "cell_type": "markdown",
   "id": "55eab8b9",
   "metadata": {},
   "source": [
    "<div style='background-color: #ddff99; padding: 10px; border-left: 5px solid #009933;'><strong>Definition.</strong> \n",
    "\n",
    "If the condition number is large, we say the problem is *ill-conditioned* or the problem is badly conditioned </div> "
   ]
  },
  {
   "cell_type": "markdown",
   "id": "7da07edb",
   "metadata": {},
   "source": [
    "Notice that \n",
    "\n",
    "\\begin{align}\n",
    "    \\kappa_f(x) &= \\lim_{\\epsilon\\to0}\\left|\n",
    "    \\frac\n",
    "        {f(x) - f(x + \\epsilon x)}\n",
    "        {\\epsilon f(x)}\n",
    "    \\right| \\nonumber\\\\\n",
    "    %\n",
    "    &= \\lim_{\\epsilon\\to0}\\left|\n",
    "    \\frac\n",
    "        {f(x) - f(x + \\epsilon x)}\n",
    "        {\\epsilon x}\n",
    "    \\right|\n",
    "    \\left| \\frac{x}{f(x)} \\right| \\nonumber\\\\\n",
    "    %\n",
    "    &= \\left| \\frac{x f'(x)}{f(x)} \\right|\n",
    "\\end{align}"
   ]
  },
  {
   "cell_type": "markdown",
   "id": "0c9c0087",
   "metadata": {},
   "source": [
    "<div style='background-color: #cce0ff; padding: 10px; border-left: 5px solid #0066ff;'><strong>Examples.</strong> \n",
    "\n",
    "Suppose\n",
    "\\begin{align}\n",
    "    f_1(x) = cx, \\qquad f_2(x) = \\log(x), \\qquad f_3(x) = e^x, \\qquad f_4(x) = x^p \n",
    "\\end{align}\n",
    "\n",
    "What is $\\kappa_{f_j}(x)$ for $j=1,2,3,4$?\n",
    " </div> "
   ]
  },
  {
   "cell_type": "markdown",
   "id": "89e9fb51",
   "metadata": {},
   "source": [
    "## Polynomial roots as a function of monomial basis coefficients\n",
    "\n",
    "The polynomial \n",
    "\n",
    "\\begin{align}\n",
    "    a \\xi^2 + b \\xi + c = 0\n",
    "\\end{align}\n",
    "\n",
    "has roots $\\xi_1,\\xi_2$. Fix $b,c$ and consider $\\xi_1 = \\xi_1(a)$. What is $\\kappa_{\\xi_1}(a)$?"
   ]
  },
  {
   "cell_type": "markdown",
   "id": "3dc77d82",
   "metadata": {},
   "source": [
    "<div class='alert alert-block alert-danger'><b>⚠ Warning.</b> \n",
    "\n",
    "Polynomials are only badly conditioned with respect to the monomial basis $\\{ x^j \\}_{j=0,1,2,...}$. Computing with e.g. Chebyshev polynomials $\\{T_j(x)\\}_j$ instead is well conditioned. This is a potential topic for a presentation next term! e.g. understand and explain [this](https://www.chebfun.org/examples/linalg/CondNos.html), [this](https://www.chebfun.org/examples/linalg/CondVandermonde.html), ....\n",
    "</div> "
   ]
  },
  {
   "cell_type": "markdown",
   "id": "dd18eae2",
   "metadata": {},
   "source": [
    "Poor conditioning is a problem with the problem! On the other hand, if we see a large error in the result, the problem might be with the solution! That is, the algorithm can also introduce errors. When the error can not be explained by an ill-conditioned problem, we will say the algorithm is *unstable*."
   ]
  },
  {
   "cell_type": "markdown",
   "id": "f3a1657b",
   "metadata": {},
   "source": [
    "## <span id='arithmetic'>Stability: An Example</span>"
   ]
  },
  {
   "cell_type": "markdown",
   "id": "b402e55c",
   "metadata": {},
   "source": [
    "Consider $\\xi^2 - (10^n + 10^{-n})\\xi + 1 = 0$. The roots of this equation are $\\xi_1 := 10^{-n}$ and $\\xi_2 := 10^n$. These roots are well separated so we expect the problem of finding the roots to be well-conditioned. We show below that the quadratic formula is ***unstable***.  \n",
    "\n",
    "The quadratic formula in floating point arithmetic gives:"
   ]
  },
  {
   "cell_type": "code",
   "execution_count": 1,
   "id": "50158bc2-03ac-415b-b2a4-ec59c04c71d7",
   "metadata": {},
   "outputs": [
    {
     "name": "stdout",
     "output_type": "stream",
     "text": [
      "(ξ1, ξ2) = (1.4901161193847656e-8, 1.0e8)\n"
     ]
    }
   ],
   "source": [
    "n = 8;\n",
    "a, b, c = 1, -(10.0^n + 10.0^(-n)), 1;\n",
    "ξ1, ξ2 = ( -b - sqrt( b^2 - 4*a*c) )/(2*a), ( -b + sqrt( b^2 - 4*a*c) )/(2*a);\n",
    "\n",
    "@show ( ξ1, ξ2 ) ;"
   ]
  },
  {
   "cell_type": "markdown",
   "id": "7a6239df",
   "metadata": {},
   "source": [
    "The error in approximating the first root is quite big!"
   ]
  },
  {
   "cell_type": "code",
   "execution_count": 2,
   "id": "eec9afba",
   "metadata": {},
   "outputs": [
    {
     "name": "stdout",
     "output_type": "stream",
     "text": [
      "relative errors = (0.49011611938476557, 0.0)\n"
     ]
    }
   ],
   "source": [
    "println( \"relative errors = (\", abs( ξ1 - 10.0^(-n) )/10.0^(-n) , \", \", abs( ξ2 - 10.0^n )/10.0^n, \")\" )"
   ]
  },
  {
   "cell_type": "markdown",
   "id": "ab2b6aca",
   "metadata": {},
   "source": [
    "But why?"
   ]
  },
  {
   "cell_type": "code",
   "execution_count": 3,
   "id": "3d6adcc9",
   "metadata": {},
   "outputs": [
    {
     "data": {
      "text/plain": [
       "1.0000000000000001e8"
      ]
     },
     "execution_count": 3,
     "metadata": {},
     "output_type": "execute_result"
    }
   ],
   "source": [
    "-b"
   ]
  },
  {
   "cell_type": "code",
   "execution_count": 4,
   "id": "0461b86e",
   "metadata": {},
   "outputs": [
    {
     "data": {
      "text/plain": [
       "9.999999999999999e7"
      ]
     },
     "execution_count": 4,
     "metadata": {},
     "output_type": "execute_result"
    }
   ],
   "source": [
    "sqrt( b^2 - 4 * a * c )"
   ]
  },
  {
   "cell_type": "code",
   "execution_count": 5,
   "id": "60a86782",
   "metadata": {},
   "outputs": [
    {
     "data": {
      "text/plain": [
       "2.9802322387695312e-8"
      ]
     },
     "execution_count": 5,
     "metadata": {},
     "output_type": "execute_result"
    }
   ],
   "source": [
    "-b - sqrt( b^2 - 4*a*c)"
   ]
  },
  {
   "cell_type": "markdown",
   "id": "eaa2017a",
   "metadata": {},
   "source": [
    "The function $f(x) = x -\\sqrt{ b^2 - 4ac }$ has condition number $\\kappa = \\kappa_f(-b)$ given by"
   ]
  },
  {
   "cell_type": "code",
   "execution_count": 6,
   "id": "4dca72a1",
   "metadata": {},
   "outputs": [
    {
     "data": {
      "text/plain": [
       "3.3554432000000005e15"
      ]
     },
     "execution_count": 6,
     "metadata": {},
     "output_type": "execute_result"
    }
   ],
   "source": [
    "κ = abs( b*1 / ( -b - sqrt(b^2 - 4*a*c) ) )"
   ]
  },
  {
   "cell_type": "markdown",
   "id": "cbfe138c",
   "metadata": {},
   "source": [
    "This condition number is large due to ***Subtractive Cancellation***! The quadratic formula is thus ill-conditioned. Alternatively we could compute $\\xi_1$ from $\\xi_2$:"
   ]
  },
  {
   "cell_type": "code",
   "execution_count": 7,
   "id": "702f84b7",
   "metadata": {},
   "outputs": [
    {
     "data": {
      "text/plain": [
       "1.0e-8"
      ]
     },
     "execution_count": 7,
     "metadata": {},
     "output_type": "execute_result"
    }
   ],
   "source": [
    "ξ1 = (c/a)/ξ2"
   ]
  },
  {
   "cell_type": "markdown",
   "id": "d0a39d65",
   "metadata": {},
   "source": [
    "Which is exact in ``Float64``.  \n",
    "\n",
    "Another way of computing $\\xi_1$ is to ***rationalise the numerator***:\n",
    "\n",
    "\\begin{align}\n",
    "    \\xi_1 \n",
    "    &= \\frac{ -b - \\sqrt{ b^2 - 4ac } }{2a} \\\\\n",
    "    %\n",
    "    &= \\frac{ -b - \\sqrt{ b^2 - 4ac } }{2a}\n",
    "    \\times \\frac{ -b + \\sqrt{ b^2 - 4ac } }{-b + \\sqrt{ b^2 - 4ac } } \\nonumber\\\\\n",
    "    %\n",
    "    &= \\frac\n",
    "        { b^2 - ( b^2 - 4ac ) }\n",
    "        {2a( -b + \\sqrt{ b^2 - 4ac } )} \\\\\n",
    "    %\n",
    "    &= \\frac\n",
    "        { 2c }\n",
    "        { -b + \\sqrt{ b^2 - 4ac } }\n",
    "\\end{align}\n",
    "\n",
    "Using this formula, we get"
   ]
  },
  {
   "cell_type": "code",
   "execution_count": 8,
   "id": "675f5d8e",
   "metadata": {},
   "outputs": [
    {
     "data": {
      "text/plain": [
       "1.0e-8"
      ]
     },
     "execution_count": 8,
     "metadata": {},
     "output_type": "execute_result"
    }
   ],
   "source": [
    "ξ1 = 2*c / ( -b + sqrt(b^2 - 4*a*c) )"
   ]
  },
  {
   "cell_type": "markdown",
   "id": "803c1441",
   "metadata": {},
   "source": [
    "Which is again exact in ``Float64``"
   ]
  },
  {
   "cell_type": "markdown",
   "id": "1d0e30a3",
   "metadata": {},
   "source": [
    "## FNC Exercises"
   ]
  },
  {
   "cell_type": "markdown",
   "id": "a4f22c19",
   "metadata": {},
   "source": [
    "### 1.4.1. \n",
    "\n",
    "\\begin{align}\n",
    "    f(x) = \\frac{1-\\cos x}{\\sin x}, \\qquad g(x) = \\frac{2 \\sin^2 \\frac{x}{2}}{\\sin x}\n",
    "\\end{align}\n",
    "\n",
    "(i) Notice mathematically $f = g$ (double angle formula),  \n",
    "(ii) What is $\\kappa_f(x)$ for small $|x|$?    \n",
    "(iii) What is $f(10^{-6})$? $g(10^{-6})$?  \n",
    "(iv) Which is more accurate?  \n",
    "(v) Compute the condition numbers of the individual steps\n",
    "\n",
    "Hint: Calculate the condition numbers for the intermediate steps. For $f$, you need the functions $x \\mapsto \\cos x, \\sin x, 1 - x, \\frac{1}{x}$ and to compute $g$, you need $x\\mapsto x/2, \\sin(x), x^2, 2x, \\frac{1}{x}$."
   ]
  },
  {
   "cell_type": "code",
   "execution_count": 9,
   "id": "a2a3bc9d",
   "metadata": {},
   "outputs": [
    {
     "data": {
      "text/plain": [
       "(5.000444502912538e-7, 5.000000000000416e-7)"
      ]
     },
     "execution_count": 9,
     "metadata": {},
     "output_type": "execute_result"
    }
   ],
   "source": [
    "f = x -> (1 - cos(x) )/sin(x)\n",
    "g = x -> 2*sin(x/2)^2/sin(x)\n",
    "\n",
    "(f(1e-6), g(1e-6))"
   ]
  },
  {
   "cell_type": "markdown",
   "id": "2f3c4c0b",
   "metadata": {},
   "source": [
    "### 1.4.2\n",
    "\n",
    "\\begin{align}\n",
    "    f(x) = \\frac{e^x-1}{x}, \\qquad p(x) = 1 + \\frac1{2!} x + \\frac1{3!} x^2 + \\dots + \\frac{1}{9!} x^8 \n",
    "\\end{align}\n",
    "\n",
    "(i) What is $\\kappa_f(x)$?   \n",
    "(ii) Compute $f$ at $10^{-n}$ for $n=1,2,3,...$,     \n",
    "(iii) Notice that $p$ is a Taylor polynomial of $f$ about $0$,     \n",
    "(iv) Compute $p(x)$ at $10^{-n}$ for $n=1,2,3,...$,  \n",
    "(v) Compare these values to the values of $f$. Which ones are more likely to be accurate?   "
   ]
  },
  {
   "cell_type": "code",
   "execution_count": 10,
   "id": "227b3d4e",
   "metadata": {},
   "outputs": [
    {
     "data": {
      "text/plain": [
       "11-element Vector{Float64}:\n",
       "    1.1102230246251565e-14\n",
       "    1.0658141036401503e-12\n",
       "    4.285460875053104e-11\n",
       "    4.32542890393961e-9\n",
       "    9.701794922989393e-7\n",
       "    3.798317216308078e-5\n",
       "    0.005663214341922185\n",
       "    1.1077470940534795\n",
       "   82.24037095772019\n",
       "  826.9037099495335\n",
       " 8273.537099867668"
      ]
     },
     "execution_count": 10,
     "metadata": {},
     "output_type": "execute_result"
    }
   ],
   "source": [
    "x = @. 10.0^(-(1:11));\n",
    "\n",
    "f = @. (exp(x) - 1)/x;\n",
    "\n",
    "p=1;\n",
    "for n in 1:8\n",
    "    p = @. p + x^n/( factorial(n+1) );\n",
    "end \n",
    "\n",
    "abs.(f-p) ./ x"
   ]
  },
  {
   "cell_type": "code",
   "execution_count": null,
   "id": "d12ebef6",
   "metadata": {},
   "outputs": [
    {
     "data": {
      "text/plain": [
       "11-element Vector{Float64}:\n",
       " 3.061924358220656e-16\n",
       " 2.7835675983824133e-25\n",
       " 2.758490412811401e-34\n",
       " 2.7560075231509052e-43\n",
       " 2.755759479993391e-52\n",
       " 2.755734678133266e-61\n",
       " 2.7557321979718073e-70\n",
       " 2.755731949955909e-79\n",
       " 2.755731925154322e-88\n",
       " 2.7557319226741635e-97\n",
       " 2.755731922426145e-106"
      ]
     },
     "execution_count": 11,
     "metadata": {},
     "output_type": "execute_result"
    }
   ],
   "source": [
    "# upper bound on the error between f and p as functions on x\n",
    "err = @. (1/factorial(10)) * (x^9/(1-x))"
   ]
  },
  {
   "cell_type": "markdown",
   "id": "8689d6e6",
   "metadata": {},
   "source": [
    "## Chapter 2. Solving nonlinear equations in 1d"
   ]
  },
  {
   "cell_type": "markdown",
   "id": "f4f9bc31",
   "metadata": {},
   "source": [
    "<div style='background-color: #ffe0b2; padding: 10px; border-left: 5px solid #ff9800;'><strong>Note.</strong>  This chapter will be mainly based on Chapter 1 of An Introduction to Numerical Analysis by Suli, Mayers. These notes are mainly a record of what we discussed and are not a substitute for attending the lectures and reading books! If anything is unclear/wrong, let me know and I will update the notes.\n",
    " </div> "
   ]
  },
  {
   "cell_type": "markdown",
   "id": "3a8073b2",
   "metadata": {},
   "source": [
    "* Simple functions can be solved explicitly $ax^2 + bx + c = 0$ (also true for degree $3,4$)  \n",
    "* $x^5 - 4x - 2 = 0$ - no closed formula for roots of this equation"
   ]
  },
  {
   "cell_type": "code",
   "execution_count": 12,
   "id": "45dbc198",
   "metadata": {},
   "outputs": [],
   "source": [
    "using Polynomials  \n",
    "using Plots\n",
    "using LaTeXStrings"
   ]
  },
  {
   "cell_type": "code",
   "execution_count": 13,
   "id": "f11502ed",
   "metadata": {},
   "outputs": [
    {
     "name": "stdout",
     "output_type": "stream",
     "text": [
      "p = Polynomial(-2 - 4*x + x^5)\n"
     ]
    },
    {
     "data": {
      "image/svg+xml": [
       "<?xml version=\"1.0\" encoding=\"utf-8\"?>\n",
       "<svg xmlns=\"http://www.w3.org/2000/svg\" xmlns:xlink=\"http://www.w3.org/1999/xlink\" width=\"600\" height=\"400\" viewBox=\"0 0 2400 1600\">\n",
       "<defs>\n",
       "  <clipPath id=\"clip080\">\n",
       "    <rect x=\"0\" y=\"0\" width=\"2400\" height=\"1600\"/>\n",
       "  </clipPath>\n",
       "</defs>\n",
       "<path clip-path=\"url(#clip080)\" d=\"M0 1600 L2400 1600 L2400 0 L0 0  Z\" fill=\"#ffffff\" fill-rule=\"evenodd\" fill-opacity=\"1\"/>\n",
       "<defs>\n",
       "  <clipPath id=\"clip081\">\n",
       "    <rect x=\"480\" y=\"0\" width=\"1681\" height=\"1600\"/>\n",
       "  </clipPath>\n",
       "</defs>\n",
       "<path clip-path=\"url(#clip080)\" d=\"M178.867 1486.45 L2352.76 1486.45 L2352.76 47.2441 L178.867 47.2441  Z\" fill=\"#ffffff\" fill-rule=\"evenodd\" fill-opacity=\"1\"/>\n",
       "<defs>\n",
       "  <clipPath id=\"clip082\">\n",
       "    <rect x=\"178\" y=\"47\" width=\"2175\" height=\"1440\"/>\n",
       "  </clipPath>\n",
       "</defs>\n",
       "<polyline clip-path=\"url(#clip082)\" style=\"stroke:#000000; stroke-linecap:round; stroke-linejoin:round; stroke-width:2; stroke-opacity:0.1; fill:none\" points=\"626.365,1486.45 626.365,47.2441 \"/>\n",
       "<polyline clip-path=\"url(#clip082)\" style=\"stroke:#000000; stroke-linecap:round; stroke-linejoin:round; stroke-width:2; stroke-opacity:0.1; fill:none\" points=\"1188.54,1486.45 1188.54,47.2441 \"/>\n",
       "<polyline clip-path=\"url(#clip082)\" style=\"stroke:#000000; stroke-linecap:round; stroke-linejoin:round; stroke-width:2; stroke-opacity:0.1; fill:none\" points=\"1750.71,1486.45 1750.71,47.2441 \"/>\n",
       "<polyline clip-path=\"url(#clip082)\" style=\"stroke:#000000; stroke-linecap:round; stroke-linejoin:round; stroke-width:2; stroke-opacity:0.1; fill:none\" points=\"2312.88,1486.45 2312.88,47.2441 \"/>\n",
       "<polyline clip-path=\"url(#clip080)\" style=\"stroke:#000000; stroke-linecap:round; stroke-linejoin:round; stroke-width:4; stroke-opacity:1; fill:none\" points=\"178.867,1486.45 2352.76,1486.45 \"/>\n",
       "<polyline clip-path=\"url(#clip080)\" style=\"stroke:#000000; stroke-linecap:round; stroke-linejoin:round; stroke-width:4; stroke-opacity:1; fill:none\" points=\"626.365,1486.45 626.365,1467.55 \"/>\n",
       "<polyline clip-path=\"url(#clip080)\" style=\"stroke:#000000; stroke-linecap:round; stroke-linejoin:round; stroke-width:4; stroke-opacity:1; fill:none\" points=\"1188.54,1486.45 1188.54,1467.55 \"/>\n",
       "<polyline clip-path=\"url(#clip080)\" style=\"stroke:#000000; stroke-linecap:round; stroke-linejoin:round; stroke-width:4; stroke-opacity:1; fill:none\" points=\"1750.71,1486.45 1750.71,1467.55 \"/>\n",
       "<polyline clip-path=\"url(#clip080)\" style=\"stroke:#000000; stroke-linecap:round; stroke-linejoin:round; stroke-width:4; stroke-opacity:1; fill:none\" points=\"2312.88,1486.45 2312.88,1467.55 \"/>\n",
       "<path clip-path=\"url(#clip080)\" d=\"M596.122 1532.02 L625.798 1532.02 L625.798 1535.95 L596.122 1535.95 L596.122 1532.02 Z\" fill=\"#000000\" fill-rule=\"nonzero\" fill-opacity=\"1\" /><path clip-path=\"url(#clip080)\" d=\"M636.701 1544.91 L644.34 1544.91 L644.34 1518.55 L636.029 1520.21 L636.029 1515.95 L644.293 1514.29 L648.969 1514.29 L648.969 1544.91 L656.608 1544.91 L656.608 1548.85 L636.701 1548.85 L636.701 1544.91 Z\" fill=\"#000000\" fill-rule=\"nonzero\" fill-opacity=\"1\" /><path clip-path=\"url(#clip080)\" d=\"M1188.54 1517.37 Q1184.93 1517.37 1183.1 1520.93 Q1181.29 1524.47 1181.29 1531.6 Q1181.29 1538.71 1183.1 1542.27 Q1184.93 1545.82 1188.54 1545.82 Q1192.17 1545.82 1193.98 1542.27 Q1195.8 1538.71 1195.8 1531.6 Q1195.8 1524.47 1193.98 1520.93 Q1192.17 1517.37 1188.54 1517.37 M1188.54 1513.66 Q1194.35 1513.66 1197.4 1518.27 Q1200.48 1522.85 1200.48 1531.6 Q1200.48 1540.33 1197.4 1544.94 Q1194.35 1549.52 1188.54 1549.52 Q1182.73 1549.52 1179.65 1544.94 Q1176.59 1540.33 1176.59 1531.6 Q1176.59 1522.85 1179.65 1518.27 Q1182.73 1513.66 1188.54 1513.66 Z\" fill=\"#000000\" fill-rule=\"nonzero\" fill-opacity=\"1\" /><path clip-path=\"url(#clip080)\" d=\"M1741.09 1544.91 L1748.73 1544.91 L1748.73 1518.55 L1740.42 1520.21 L1740.42 1515.95 L1748.68 1514.29 L1753.36 1514.29 L1753.36 1544.91 L1761 1544.91 L1761 1548.85 L1741.09 1548.85 L1741.09 1544.91 Z\" fill=\"#000000\" fill-rule=\"nonzero\" fill-opacity=\"1\" /><path clip-path=\"url(#clip080)\" d=\"M2307.53 1544.91 L2323.85 1544.91 L2323.85 1548.85 L2301.91 1548.85 L2301.91 1544.91 Q2304.57 1542.16 2309.15 1537.53 Q2313.76 1532.88 2314.94 1531.53 Q2317.18 1529.01 2318.06 1527.27 Q2318.97 1525.51 2318.97 1523.82 Q2318.97 1521.07 2317.02 1519.33 Q2315.1 1517.6 2312 1517.6 Q2309.8 1517.6 2307.35 1518.36 Q2304.92 1519.13 2302.14 1520.68 L2302.14 1515.95 Q2304.96 1514.82 2307.42 1514.24 Q2309.87 1513.66 2311.91 1513.66 Q2317.28 1513.66 2320.47 1516.35 Q2323.67 1519.03 2323.67 1523.52 Q2323.67 1525.65 2322.86 1527.57 Q2322.07 1529.47 2319.96 1532.07 Q2319.38 1532.74 2316.28 1535.95 Q2313.18 1539.15 2307.53 1544.91 Z\" fill=\"#000000\" fill-rule=\"nonzero\" fill-opacity=\"1\" /><polyline clip-path=\"url(#clip082)\" style=\"stroke:#000000; stroke-linecap:round; stroke-linejoin:round; stroke-width:2; stroke-opacity:0.1; fill:none\" points=\"178.867,1330.57 2352.76,1330.57 \"/>\n",
       "<polyline clip-path=\"url(#clip082)\" style=\"stroke:#000000; stroke-linecap:round; stroke-linejoin:round; stroke-width:2; stroke-opacity:0.1; fill:none\" points=\"178.867,1001.91 2352.76,1001.91 \"/>\n",
       "<polyline clip-path=\"url(#clip082)\" style=\"stroke:#000000; stroke-linecap:round; stroke-linejoin:round; stroke-width:2; stroke-opacity:0.1; fill:none\" points=\"178.867,673.252 2352.76,673.252 \"/>\n",
       "<polyline clip-path=\"url(#clip082)\" style=\"stroke:#000000; stroke-linecap:round; stroke-linejoin:round; stroke-width:2; stroke-opacity:0.1; fill:none\" points=\"178.867,344.594 2352.76,344.594 \"/>\n",
       "<polyline clip-path=\"url(#clip080)\" style=\"stroke:#000000; stroke-linecap:round; stroke-linejoin:round; stroke-width:4; stroke-opacity:1; fill:none\" points=\"178.867,1486.45 178.867,47.2441 \"/>\n",
       "<polyline clip-path=\"url(#clip080)\" style=\"stroke:#000000; stroke-linecap:round; stroke-linejoin:round; stroke-width:4; stroke-opacity:1; fill:none\" points=\"178.867,1330.57 197.764,1330.57 \"/>\n",
       "<polyline clip-path=\"url(#clip080)\" style=\"stroke:#000000; stroke-linecap:round; stroke-linejoin:round; stroke-width:4; stroke-opacity:1; fill:none\" points=\"178.867,1001.91 197.764,1001.91 \"/>\n",
       "<polyline clip-path=\"url(#clip080)\" style=\"stroke:#000000; stroke-linecap:round; stroke-linejoin:round; stroke-width:4; stroke-opacity:1; fill:none\" points=\"178.867,673.252 197.764,673.252 \"/>\n",
       "<polyline clip-path=\"url(#clip080)\" style=\"stroke:#000000; stroke-linecap:round; stroke-linejoin:round; stroke-width:4; stroke-opacity:1; fill:none\" points=\"178.867,344.594 197.764,344.594 \"/>\n",
       "<path clip-path=\"url(#clip080)\" d=\"M50.9921 1331.02 L80.6679 1331.02 L80.6679 1334.96 L50.9921 1334.96 L50.9921 1331.02 Z\" fill=\"#000000\" fill-rule=\"nonzero\" fill-opacity=\"1\" /><path clip-path=\"url(#clip080)\" d=\"M91.5706 1343.91 L99.2095 1343.91 L99.2095 1317.55 L90.8993 1319.22 L90.8993 1314.96 L99.1632 1313.29 L103.839 1313.29 L103.839 1343.91 L111.478 1343.91 L111.478 1347.85 L91.5706 1347.85 L91.5706 1343.91 Z\" fill=\"#000000\" fill-rule=\"nonzero\" fill-opacity=\"1\" /><path clip-path=\"url(#clip080)\" d=\"M130.922 1316.37 Q127.311 1316.37 125.482 1319.93 Q123.677 1323.47 123.677 1330.6 Q123.677 1337.71 125.482 1341.28 Q127.311 1344.82 130.922 1344.82 Q134.556 1344.82 136.362 1341.28 Q138.191 1337.71 138.191 1330.6 Q138.191 1323.47 136.362 1319.93 Q134.556 1316.37 130.922 1316.37 M130.922 1312.66 Q136.732 1312.66 139.788 1317.27 Q142.867 1321.85 142.867 1330.6 Q142.867 1339.33 139.788 1343.94 Q136.732 1348.52 130.922 1348.52 Q125.112 1348.52 122.033 1343.94 Q118.978 1339.33 118.978 1330.6 Q118.978 1321.85 122.033 1317.27 Q125.112 1312.66 130.922 1312.66 Z\" fill=\"#000000\" fill-rule=\"nonzero\" fill-opacity=\"1\" /><path clip-path=\"url(#clip080)\" d=\"M130.922 987.71 Q127.311 987.71 125.482 991.274 Q123.677 994.816 123.677 1001.95 Q123.677 1009.05 125.482 1012.62 Q127.311 1016.16 130.922 1016.16 Q134.556 1016.16 136.362 1012.62 Q138.191 1009.05 138.191 1001.95 Q138.191 994.816 136.362 991.274 Q134.556 987.71 130.922 987.71 M130.922 984.006 Q136.732 984.006 139.788 988.612 Q142.867 993.196 142.867 1001.95 Q142.867 1010.67 139.788 1015.28 Q136.732 1019.86 130.922 1019.86 Q125.112 1019.86 122.033 1015.28 Q118.978 1010.67 118.978 1001.95 Q118.978 993.196 122.033 988.612 Q125.112 984.006 130.922 984.006 Z\" fill=\"#000000\" fill-rule=\"nonzero\" fill-opacity=\"1\" /><path clip-path=\"url(#clip080)\" d=\"M91.5706 686.597 L99.2095 686.597 L99.2095 660.232 L90.8993 661.898 L90.8993 657.639 L99.1632 655.972 L103.839 655.972 L103.839 686.597 L111.478 686.597 L111.478 690.532 L91.5706 690.532 L91.5706 686.597 Z\" fill=\"#000000\" fill-rule=\"nonzero\" fill-opacity=\"1\" /><path clip-path=\"url(#clip080)\" d=\"M130.922 659.051 Q127.311 659.051 125.482 662.616 Q123.677 666.157 123.677 673.287 Q123.677 680.394 125.482 683.958 Q127.311 687.5 130.922 687.5 Q134.556 687.5 136.362 683.958 Q138.191 680.394 138.191 673.287 Q138.191 666.157 136.362 662.616 Q134.556 659.051 130.922 659.051 M130.922 655.347 Q136.732 655.347 139.788 659.954 Q142.867 664.537 142.867 673.287 Q142.867 682.014 139.788 686.62 Q136.732 691.204 130.922 691.204 Q125.112 691.204 122.033 686.62 Q118.978 682.014 118.978 673.287 Q118.978 664.537 122.033 659.954 Q125.112 655.347 130.922 655.347 Z\" fill=\"#000000\" fill-rule=\"nonzero\" fill-opacity=\"1\" /><path clip-path=\"url(#clip080)\" d=\"M94.7882 357.939 L111.108 357.939 L111.108 361.874 L89.1632 361.874 L89.1632 357.939 Q91.8252 355.184 96.4085 350.555 Q101.015 345.902 102.196 344.559 Q104.441 342.036 105.321 340.3 Q106.223 338.541 106.223 336.851 Q106.223 334.096 104.279 332.36 Q102.358 330.624 99.2558 330.624 Q97.0567 330.624 94.603 331.388 Q92.1725 332.152 89.3947 333.703 L89.3947 328.981 Q92.2188 327.846 94.6724 327.268 Q97.1261 326.689 99.1632 326.689 Q104.534 326.689 107.728 329.374 Q110.922 332.059 110.922 336.55 Q110.922 338.68 110.112 340.601 Q109.325 342.499 107.219 345.092 Q106.64 345.763 103.538 348.98 Q100.436 352.175 94.7882 357.939 Z\" fill=\"#000000\" fill-rule=\"nonzero\" fill-opacity=\"1\" /><path clip-path=\"url(#clip080)\" d=\"M130.922 330.393 Q127.311 330.393 125.482 333.957 Q123.677 337.499 123.677 344.629 Q123.677 351.735 125.482 355.3 Q127.311 358.842 130.922 358.842 Q134.556 358.842 136.362 355.3 Q138.191 351.735 138.191 344.629 Q138.191 337.499 136.362 333.957 Q134.556 330.393 130.922 330.393 M130.922 326.689 Q136.732 326.689 139.788 331.295 Q142.867 335.879 142.867 344.629 Q142.867 353.355 139.788 357.962 Q136.732 362.545 130.922 362.545 Q125.112 362.545 122.033 357.962 Q118.978 353.355 118.978 344.629 Q118.978 335.879 122.033 331.295 Q125.112 326.689 130.922 326.689 Z\" fill=\"#000000\" fill-rule=\"nonzero\" fill-opacity=\"1\" /><polyline clip-path=\"url(#clip082)\" style=\"stroke:#009af9; stroke-linecap:round; stroke-linejoin:round; stroke-width:4; stroke-opacity:1; fill:none\" points=\"178.867,1445.72 182.405,1435.86 185.943,1426.15 189.482,1416.58 193.02,1407.17 209.378,1365.49 225.737,1326.76 242.095,1290.82 258.453,1257.53 274.812,1226.77 291.17,1198.4 307.528,1172.29 323.887,1148.33 343.548,1122.19 363.209,1098.79 382.871,1077.93 402.532,1059.44 419.156,1045.52 435.779,1033.08 452.403,1022.03 469.026,1012.26 487.084,1003.01 505.141,995.08 523.199,988.369 541.257,982.783 574.552,975.135 607.847,970.496 643.543,968.338 679.239,968.6 720.597,971.348 761.954,976.155 835.461,988.288 899.92,1001.32 970.198,1016.87 1040.89,1033.16 1119.06,1051.4 1193.43,1068.79 1270.75,1086.87 1335.85,1102.05 1415.32,1120.32 1488.12,1136.29 1555.36,1149.54 1623.47,1160.24 1661.63,1164.4 1699.8,1166.75 1734.38,1166.93 1768.96,1164.81 1788.76,1162.4 1808.56,1159 1828.36,1154.5 1848.16,1148.8 1866.49,1142.35 1884.82,1134.67 1903.15,1125.67 1921.48,1115.23 1939.56,1103.42 1957.63,1089.99 1975.7,1074.82 1993.77,1057.78 2011.32,1039.33 2028.87,1018.88 2046.42,996.28 2063.96,971.406 2081.95,943.396 2099.94,912.684 2117.93,879.104 2135.91,842.483 2145.77,821.067 2155.62,798.655 2165.48,775.214 2175.33,750.714 2185.18,725.121 2195.04,698.402 2204.89,670.525 2214.75,641.454 2229.06,597.025 2243.38,549.894 2257.69,499.948 2272,447.069 2286.32,391.139 2300.63,332.036 2314.95,269.633 2329.26,203.801 2335.14,175.767 2341.01,147.125 2346.88,117.864 2352.76,87.9763 \"/>\n",
       "<circle clip-path=\"url(#clip082)\" cx=\"489.422\" cy=\"1001.91\" r=\"14.4\" fill=\"#e26f46\" fill-rule=\"evenodd\" fill-opacity=\"1\" stroke=\"#000000\" stroke-opacity=\"1\" stroke-width=\"3.2\"/>\n",
       "<circle clip-path=\"url(#clip082)\" cx=\"902.673\" cy=\"1001.91\" r=\"14.4\" fill=\"#e26f46\" fill-rule=\"evenodd\" fill-opacity=\"1\" stroke=\"#000000\" stroke-opacity=\"1\" stroke-width=\"3.2\"/>\n",
       "<circle clip-path=\"url(#clip082)\" cx=\"2042.2\" cy=\"1001.91\" r=\"14.4\" fill=\"#e26f46\" fill-rule=\"evenodd\" fill-opacity=\"1\" stroke=\"#000000\" stroke-opacity=\"1\" stroke-width=\"3.2\"/>\n",
       "</svg>\n"
      ]
     },
     "execution_count": 13,
     "metadata": {},
     "output_type": "execute_result"
    }
   ],
   "source": [
    "p = Polynomial([-2, -4, 0, 0, 0, 1]) \n",
    "@show p;\n",
    "plot(p, legend=false)\n",
    "\n",
    "plot!( real( filter( isreal, roots(p) ) ), zeros(3), seriestype=:scatter )"
   ]
  },
  {
   "cell_type": "markdown",
   "id": "a46bc6c8",
   "metadata": {},
   "source": [
    "* Need numerical methods to get the roots!\n",
    "* Aim: for $f: [a,b] \\to \\mathbb R$, solve $f(\\xi) = 0$ for $\\xi \\in \\mathbb R$, \n",
    "* Also, can find $\\xi$ such that $f(\\xi) = c$ (by considering $x \\mapsto f(x) - c$) or stationary points (by considering $f = F'$),\n",
    "* Simple examples with no solution, e.g. $f(x) = x^2 + 1$\n",
    "* Change of sign theorem: if $f$ is continuous on $[a,b]$ and $f(a) f(b) \\leq 0$ then there exists $\\xi \\in [a,b]$ with $f(\\xi) = 0$. Proof: apply intermediate value theorem."
   ]
  },
  {
   "cell_type": "markdown",
   "id": "532a9bf4",
   "metadata": {},
   "source": [
    "<div class='alert alert-block alert-danger'><b>Remark.</b> \n",
    "\n",
    "The converse to this theorem is untrue. i.e. there exists $f$ with a real root in $[a,b]$ but with $f(a)f(b) > 0$. </div> "
   ]
  },
  {
   "cell_type": "markdown",
   "id": "e9a49cc2",
   "metadata": {},
   "source": [
    "* Rewrite as a fixed point problem $g(x) = x$ (for example, we could define $g(x) := x \\pm f(x)$)\n",
    "* Brouwer's fixed point theorem: Suppose $g : [a,b]\\to\\mathbb R$ is continuous with $g(x) \\in [a,b]$ for all $x \\in [a,b]$. Then, there exists $\\xi\\in [a,b]$ with $g(\\xi) = \\xi$. Proof: apply change of sign theorem to $f(x) := g(x) - x$."
   ]
  },
  {
   "cell_type": "markdown",
   "id": "02cd7482",
   "metadata": {},
   "source": [
    "<div style='background-color: #cce0ff; padding: 10px; border-left: 5px solid #0066ff;'><strong>Example.</strong> \n",
    "\n",
    "Let $f(x) = e^x - 2x - 1$. Apply change of sign theorem to $f$ to conclude there exists $\\xi \\in [1,2]$ such that $f(\\xi) = 0$.\n",
    "</div> "
   ]
  },
  {
   "cell_type": "code",
   "execution_count": 21,
   "id": "5f8b44f0",
   "metadata": {},
   "outputs": [
    {
     "name": "stdout",
     "output_type": "stream",
     "text": [
      "(f(1), f(2)) = (-0.2817181715409549, 2.3890560989306504)\n"
     ]
    },
    {
     "data": {
      "image/svg+xml": [
       "<?xml version=\"1.0\" encoding=\"utf-8\"?>\n",
       "<svg xmlns=\"http://www.w3.org/2000/svg\" xmlns:xlink=\"http://www.w3.org/1999/xlink\" width=\"600\" height=\"400\" viewBox=\"0 0 2400 1600\">\n",
       "<defs>\n",
       "  <clipPath id=\"clip200\">\n",
       "    <rect x=\"0\" y=\"0\" width=\"2400\" height=\"1600\"/>\n",
       "  </clipPath>\n",
       "</defs>\n",
       "<path clip-path=\"url(#clip200)\" d=\"M0 1600 L2400 1600 L2400 0 L0 0  Z\" fill=\"#ffffff\" fill-rule=\"evenodd\" fill-opacity=\"1\"/>\n",
       "<defs>\n",
       "  <clipPath id=\"clip201\">\n",
       "    <rect x=\"480\" y=\"0\" width=\"1681\" height=\"1600\"/>\n",
       "  </clipPath>\n",
       "</defs>\n",
       "<path clip-path=\"url(#clip200)\" d=\"M156.112 1486.45 L2352.76 1486.45 L2352.76 47.2441 L156.112 47.2441  Z\" fill=\"#ffffff\" fill-rule=\"evenodd\" fill-opacity=\"1\"/>\n",
       "<defs>\n",
       "  <clipPath id=\"clip202\">\n",
       "    <rect x=\"156\" y=\"47\" width=\"2198\" height=\"1440\"/>\n",
       "  </clipPath>\n",
       "</defs>\n",
       "<polyline clip-path=\"url(#clip202)\" style=\"stroke:#000000; stroke-linecap:round; stroke-linejoin:round; stroke-width:2; stroke-opacity:0.1; fill:none\" points=\"218.281,1486.45 218.281,47.2441 \"/>\n",
       "<polyline clip-path=\"url(#clip202)\" style=\"stroke:#000000; stroke-linecap:round; stroke-linejoin:round; stroke-width:2; stroke-opacity:0.1; fill:none\" points=\"736.358,1486.45 736.358,47.2441 \"/>\n",
       "<polyline clip-path=\"url(#clip202)\" style=\"stroke:#000000; stroke-linecap:round; stroke-linejoin:round; stroke-width:2; stroke-opacity:0.1; fill:none\" points=\"1254.43,1486.45 1254.43,47.2441 \"/>\n",
       "<polyline clip-path=\"url(#clip202)\" style=\"stroke:#000000; stroke-linecap:round; stroke-linejoin:round; stroke-width:2; stroke-opacity:0.1; fill:none\" points=\"1772.51,1486.45 1772.51,47.2441 \"/>\n",
       "<polyline clip-path=\"url(#clip202)\" style=\"stroke:#000000; stroke-linecap:round; stroke-linejoin:round; stroke-width:2; stroke-opacity:0.1; fill:none\" points=\"2290.59,1486.45 2290.59,47.2441 \"/>\n",
       "<polyline clip-path=\"url(#clip200)\" style=\"stroke:#000000; stroke-linecap:round; stroke-linejoin:round; stroke-width:4; stroke-opacity:1; fill:none\" points=\"156.112,1486.45 2352.76,1486.45 \"/>\n",
       "<polyline clip-path=\"url(#clip200)\" style=\"stroke:#000000; stroke-linecap:round; stroke-linejoin:round; stroke-width:4; stroke-opacity:1; fill:none\" points=\"218.281,1486.45 218.281,1467.55 \"/>\n",
       "<polyline clip-path=\"url(#clip200)\" style=\"stroke:#000000; stroke-linecap:round; stroke-linejoin:round; stroke-width:4; stroke-opacity:1; fill:none\" points=\"736.358,1486.45 736.358,1467.55 \"/>\n",
       "<polyline clip-path=\"url(#clip200)\" style=\"stroke:#000000; stroke-linecap:round; stroke-linejoin:round; stroke-width:4; stroke-opacity:1; fill:none\" points=\"1254.43,1486.45 1254.43,1467.55 \"/>\n",
       "<polyline clip-path=\"url(#clip200)\" style=\"stroke:#000000; stroke-linecap:round; stroke-linejoin:round; stroke-width:4; stroke-opacity:1; fill:none\" points=\"1772.51,1486.45 1772.51,1467.55 \"/>\n",
       "<polyline clip-path=\"url(#clip200)\" style=\"stroke:#000000; stroke-linecap:round; stroke-linejoin:round; stroke-width:4; stroke-opacity:1; fill:none\" points=\"2290.59,1486.45 2290.59,1467.55 \"/>\n",
       "<path clip-path=\"url(#clip200)\" d=\"M170.353 1544.91 L177.992 1544.91 L177.992 1518.55 L169.682 1520.21 L169.682 1515.95 L177.946 1514.29 L182.622 1514.29 L182.622 1544.91 L190.261 1544.91 L190.261 1548.85 L170.353 1548.85 L170.353 1544.91 Z\" fill=\"#000000\" fill-rule=\"nonzero\" fill-opacity=\"1\" /><path clip-path=\"url(#clip200)\" d=\"M199.705 1542.97 L204.589 1542.97 L204.589 1548.85 L199.705 1548.85 L199.705 1542.97 Z\" fill=\"#000000\" fill-rule=\"nonzero\" fill-opacity=\"1\" /><path clip-path=\"url(#clip200)\" d=\"M224.774 1517.37 Q221.163 1517.37 219.335 1520.93 Q217.529 1524.47 217.529 1531.6 Q217.529 1538.71 219.335 1542.27 Q221.163 1545.82 224.774 1545.82 Q228.409 1545.82 230.214 1542.27 Q232.043 1538.71 232.043 1531.6 Q232.043 1524.47 230.214 1520.93 Q228.409 1517.37 224.774 1517.37 M224.774 1513.66 Q230.584 1513.66 233.64 1518.27 Q236.719 1522.85 236.719 1531.6 Q236.719 1540.33 233.64 1544.94 Q230.584 1549.52 224.774 1549.52 Q218.964 1549.52 215.885 1544.94 Q212.83 1540.33 212.83 1531.6 Q212.83 1522.85 215.885 1518.27 Q218.964 1513.66 224.774 1513.66 Z\" fill=\"#000000\" fill-rule=\"nonzero\" fill-opacity=\"1\" /><path clip-path=\"url(#clip200)\" d=\"M254.936 1517.37 Q251.325 1517.37 249.496 1520.93 Q247.691 1524.47 247.691 1531.6 Q247.691 1538.71 249.496 1542.27 Q251.325 1545.82 254.936 1545.82 Q258.57 1545.82 260.376 1542.27 Q262.205 1538.71 262.205 1531.6 Q262.205 1524.47 260.376 1520.93 Q258.57 1517.37 254.936 1517.37 M254.936 1513.66 Q260.746 1513.66 263.802 1518.27 Q266.881 1522.85 266.881 1531.6 Q266.881 1540.33 263.802 1544.94 Q260.746 1549.52 254.936 1549.52 Q249.126 1549.52 246.047 1544.94 Q242.992 1540.33 242.992 1531.6 Q242.992 1522.85 246.047 1518.27 Q249.126 1513.66 254.936 1513.66 Z\" fill=\"#000000\" fill-rule=\"nonzero\" fill-opacity=\"1\" /><path clip-path=\"url(#clip200)\" d=\"M688.927 1544.91 L696.566 1544.91 L696.566 1518.55 L688.256 1520.21 L688.256 1515.95 L696.52 1514.29 L701.196 1514.29 L701.196 1544.91 L708.835 1544.91 L708.835 1548.85 L688.927 1548.85 L688.927 1544.91 Z\" fill=\"#000000\" fill-rule=\"nonzero\" fill-opacity=\"1\" /><path clip-path=\"url(#clip200)\" d=\"M718.279 1542.97 L723.163 1542.97 L723.163 1548.85 L718.279 1548.85 L718.279 1542.97 Z\" fill=\"#000000\" fill-rule=\"nonzero\" fill-opacity=\"1\" /><path clip-path=\"url(#clip200)\" d=\"M737.376 1544.91 L753.696 1544.91 L753.696 1548.85 L731.751 1548.85 L731.751 1544.91 Q734.413 1542.16 738.997 1537.53 Q743.603 1532.88 744.784 1531.53 Q747.029 1529.01 747.909 1527.27 Q748.811 1525.51 748.811 1523.82 Q748.811 1521.07 746.867 1519.33 Q744.946 1517.6 741.844 1517.6 Q739.645 1517.6 737.191 1518.36 Q734.76 1519.13 731.983 1520.68 L731.983 1515.95 Q734.807 1514.82 737.26 1514.24 Q739.714 1513.66 741.751 1513.66 Q747.121 1513.66 750.316 1516.35 Q753.51 1519.03 753.51 1523.52 Q753.51 1525.65 752.7 1527.57 Q751.913 1529.47 749.807 1532.07 Q749.228 1532.74 746.126 1535.95 Q743.024 1539.15 737.376 1544.91 Z\" fill=\"#000000\" fill-rule=\"nonzero\" fill-opacity=\"1\" /><path clip-path=\"url(#clip200)\" d=\"M763.557 1514.29 L781.913 1514.29 L781.913 1518.22 L767.839 1518.22 L767.839 1526.7 Q768.857 1526.35 769.876 1526.19 Q770.895 1526 771.913 1526 Q777.7 1526 781.08 1529.17 Q784.459 1532.34 784.459 1537.76 Q784.459 1543.34 780.987 1546.44 Q777.515 1549.52 771.195 1549.52 Q769.02 1549.52 766.751 1549.15 Q764.506 1548.78 762.098 1548.04 L762.098 1543.34 Q764.182 1544.47 766.404 1545.03 Q768.626 1545.58 771.103 1545.58 Q775.107 1545.58 777.445 1543.48 Q779.783 1541.37 779.783 1537.76 Q779.783 1534.15 777.445 1532.04 Q775.107 1529.94 771.103 1529.94 Q769.228 1529.94 767.353 1530.35 Q765.501 1530.77 763.557 1531.65 L763.557 1514.29 Z\" fill=\"#000000\" fill-rule=\"nonzero\" fill-opacity=\"1\" /><path clip-path=\"url(#clip200)\" d=\"M1206.51 1544.91 L1214.14 1544.91 L1214.14 1518.55 L1205.83 1520.21 L1205.83 1515.95 L1214.1 1514.29 L1218.77 1514.29 L1218.77 1544.91 L1226.41 1544.91 L1226.41 1548.85 L1206.51 1548.85 L1206.51 1544.91 Z\" fill=\"#000000\" fill-rule=\"nonzero\" fill-opacity=\"1\" /><path clip-path=\"url(#clip200)\" d=\"M1235.86 1542.97 L1240.74 1542.97 L1240.74 1548.85 L1235.86 1548.85 L1235.86 1542.97 Z\" fill=\"#000000\" fill-rule=\"nonzero\" fill-opacity=\"1\" /><path clip-path=\"url(#clip200)\" d=\"M1250.97 1514.29 L1269.33 1514.29 L1269.33 1518.22 L1255.26 1518.22 L1255.26 1526.7 Q1256.27 1526.35 1257.29 1526.19 Q1258.31 1526 1259.33 1526 Q1265.12 1526 1268.5 1529.17 Q1271.88 1532.34 1271.88 1537.76 Q1271.88 1543.34 1268.4 1546.44 Q1264.93 1549.52 1258.61 1549.52 Q1256.44 1549.52 1254.17 1549.15 Q1251.92 1548.78 1249.52 1548.04 L1249.52 1543.34 Q1251.6 1544.47 1253.82 1545.03 Q1256.04 1545.58 1258.52 1545.58 Q1262.52 1545.58 1264.86 1543.48 Q1267.2 1541.37 1267.2 1537.76 Q1267.2 1534.15 1264.86 1532.04 Q1262.52 1529.94 1258.52 1529.94 Q1256.64 1529.94 1254.77 1530.35 Q1252.92 1530.77 1250.97 1531.65 L1250.97 1514.29 Z\" fill=\"#000000\" fill-rule=\"nonzero\" fill-opacity=\"1\" /><path clip-path=\"url(#clip200)\" d=\"M1291.09 1517.37 Q1287.48 1517.37 1285.65 1520.93 Q1283.84 1524.47 1283.84 1531.6 Q1283.84 1538.71 1285.65 1542.27 Q1287.48 1545.82 1291.09 1545.82 Q1294.72 1545.82 1296.53 1542.27 Q1298.36 1538.71 1298.36 1531.6 Q1298.36 1524.47 1296.53 1520.93 Q1294.72 1517.37 1291.09 1517.37 M1291.09 1513.66 Q1296.9 1513.66 1299.95 1518.27 Q1303.03 1522.85 1303.03 1531.6 Q1303.03 1540.33 1299.95 1544.94 Q1296.9 1549.52 1291.09 1549.52 Q1285.28 1549.52 1282.2 1544.94 Q1279.14 1540.33 1279.14 1531.6 Q1279.14 1522.85 1282.2 1518.27 Q1285.28 1513.66 1291.09 1513.66 Z\" fill=\"#000000\" fill-rule=\"nonzero\" fill-opacity=\"1\" /><path clip-path=\"url(#clip200)\" d=\"M1725.08 1544.91 L1732.72 1544.91 L1732.72 1518.55 L1724.41 1520.21 L1724.41 1515.95 L1732.67 1514.29 L1737.35 1514.29 L1737.35 1544.91 L1744.99 1544.91 L1744.99 1548.85 L1725.08 1548.85 L1725.08 1544.91 Z\" fill=\"#000000\" fill-rule=\"nonzero\" fill-opacity=\"1\" /><path clip-path=\"url(#clip200)\" d=\"M1754.43 1542.97 L1759.32 1542.97 L1759.32 1548.85 L1754.43 1548.85 L1754.43 1542.97 Z\" fill=\"#000000\" fill-rule=\"nonzero\" fill-opacity=\"1\" /><path clip-path=\"url(#clip200)\" d=\"M1768.32 1514.29 L1790.54 1514.29 L1790.54 1516.28 L1778 1548.85 L1773.11 1548.85 L1784.92 1518.22 L1768.32 1518.22 L1768.32 1514.29 Z\" fill=\"#000000\" fill-rule=\"nonzero\" fill-opacity=\"1\" /><path clip-path=\"url(#clip200)\" d=\"M1799.71 1514.29 L1818.07 1514.29 L1818.07 1518.22 L1803.99 1518.22 L1803.99 1526.7 Q1805.01 1526.35 1806.03 1526.19 Q1807.05 1526 1808.07 1526 Q1813.85 1526 1817.23 1529.17 Q1820.61 1532.34 1820.61 1537.76 Q1820.61 1543.34 1817.14 1546.44 Q1813.67 1549.52 1807.35 1549.52 Q1805.17 1549.52 1802.9 1549.15 Q1800.66 1548.78 1798.25 1548.04 L1798.25 1543.34 Q1800.33 1544.47 1802.56 1545.03 Q1804.78 1545.58 1807.26 1545.58 Q1811.26 1545.58 1813.6 1543.48 Q1815.94 1541.37 1815.94 1537.76 Q1815.94 1534.15 1813.6 1532.04 Q1811.26 1529.94 1807.26 1529.94 Q1805.38 1529.94 1803.51 1530.35 Q1801.65 1530.77 1799.71 1531.65 L1799.71 1514.29 Z\" fill=\"#000000\" fill-rule=\"nonzero\" fill-opacity=\"1\" /><path clip-path=\"url(#clip200)\" d=\"M2246.74 1544.91 L2263.06 1544.91 L2263.06 1548.85 L2241.12 1548.85 L2241.12 1544.91 Q2243.78 1542.16 2248.36 1537.53 Q2252.97 1532.88 2254.15 1531.53 Q2256.4 1529.01 2257.28 1527.27 Q2258.18 1525.51 2258.18 1523.82 Q2258.18 1521.07 2256.24 1519.33 Q2254.31 1517.6 2251.21 1517.6 Q2249.01 1517.6 2246.56 1518.36 Q2244.13 1519.13 2241.35 1520.68 L2241.35 1515.95 Q2244.17 1514.82 2246.63 1514.24 Q2249.08 1513.66 2251.12 1513.66 Q2256.49 1513.66 2259.68 1516.35 Q2262.88 1519.03 2262.88 1523.52 Q2262.88 1525.65 2262.07 1527.57 Q2261.28 1529.47 2259.17 1532.07 Q2258.6 1532.74 2255.49 1535.95 Q2252.39 1539.15 2246.74 1544.91 Z\" fill=\"#000000\" fill-rule=\"nonzero\" fill-opacity=\"1\" /><path clip-path=\"url(#clip200)\" d=\"M2272.88 1542.97 L2277.76 1542.97 L2277.76 1548.85 L2272.88 1548.85 L2272.88 1542.97 Z\" fill=\"#000000\" fill-rule=\"nonzero\" fill-opacity=\"1\" /><path clip-path=\"url(#clip200)\" d=\"M2297.95 1517.37 Q2294.34 1517.37 2292.51 1520.93 Q2290.7 1524.47 2290.7 1531.6 Q2290.7 1538.71 2292.51 1542.27 Q2294.34 1545.82 2297.95 1545.82 Q2301.58 1545.82 2303.39 1542.27 Q2305.22 1538.71 2305.22 1531.6 Q2305.22 1524.47 2303.39 1520.93 Q2301.58 1517.37 2297.95 1517.37 M2297.95 1513.66 Q2303.76 1513.66 2306.81 1518.27 Q2309.89 1522.85 2309.89 1531.6 Q2309.89 1540.33 2306.81 1544.94 Q2303.76 1549.52 2297.95 1549.52 Q2292.14 1549.52 2289.06 1544.94 Q2286 1540.33 2286 1531.6 Q2286 1522.85 2289.06 1518.27 Q2292.14 1513.66 2297.95 1513.66 Z\" fill=\"#000000\" fill-rule=\"nonzero\" fill-opacity=\"1\" /><path clip-path=\"url(#clip200)\" d=\"M2328.11 1517.37 Q2324.5 1517.37 2322.67 1520.93 Q2320.86 1524.47 2320.86 1531.6 Q2320.86 1538.71 2322.67 1542.27 Q2324.5 1545.82 2328.11 1545.82 Q2331.74 1545.82 2333.55 1542.27 Q2335.38 1538.71 2335.38 1531.6 Q2335.38 1524.47 2333.55 1520.93 Q2331.74 1517.37 2328.11 1517.37 M2328.11 1513.66 Q2333.92 1513.66 2336.98 1518.27 Q2340.05 1522.85 2340.05 1531.6 Q2340.05 1540.33 2336.98 1544.94 Q2333.92 1549.52 2328.11 1549.52 Q2322.3 1549.52 2319.22 1544.94 Q2316.17 1540.33 2316.17 1531.6 Q2316.17 1522.85 2319.22 1518.27 Q2322.3 1513.66 2328.11 1513.66 Z\" fill=\"#000000\" fill-rule=\"nonzero\" fill-opacity=\"1\" /><polyline clip-path=\"url(#clip202)\" style=\"stroke:#000000; stroke-linecap:round; stroke-linejoin:round; stroke-width:2; stroke-opacity:0.1; fill:none\" points=\"156.112,1302.5 2352.76,1302.5 \"/>\n",
       "<polyline clip-path=\"url(#clip202)\" style=\"stroke:#000000; stroke-linecap:round; stroke-linejoin:round; stroke-width:2; stroke-opacity:0.1; fill:none\" points=\"156.112,1048.31 2352.76,1048.31 \"/>\n",
       "<polyline clip-path=\"url(#clip202)\" style=\"stroke:#000000; stroke-linecap:round; stroke-linejoin:round; stroke-width:2; stroke-opacity:0.1; fill:none\" points=\"156.112,794.13 2352.76,794.13 \"/>\n",
       "<polyline clip-path=\"url(#clip202)\" style=\"stroke:#000000; stroke-linecap:round; stroke-linejoin:round; stroke-width:2; stroke-opacity:0.1; fill:none\" points=\"156.112,539.945 2352.76,539.945 \"/>\n",
       "<polyline clip-path=\"url(#clip202)\" style=\"stroke:#000000; stroke-linecap:round; stroke-linejoin:round; stroke-width:2; stroke-opacity:0.1; fill:none\" points=\"156.112,285.76 2352.76,285.76 \"/>\n",
       "<polyline clip-path=\"url(#clip200)\" style=\"stroke:#000000; stroke-linecap:round; stroke-linejoin:round; stroke-width:4; stroke-opacity:1; fill:none\" points=\"156.112,1486.45 156.112,47.2441 \"/>\n",
       "<polyline clip-path=\"url(#clip200)\" style=\"stroke:#000000; stroke-linecap:round; stroke-linejoin:round; stroke-width:4; stroke-opacity:1; fill:none\" points=\"156.112,1302.5 175.01,1302.5 \"/>\n",
       "<polyline clip-path=\"url(#clip200)\" style=\"stroke:#000000; stroke-linecap:round; stroke-linejoin:round; stroke-width:4; stroke-opacity:1; fill:none\" points=\"156.112,1048.31 175.01,1048.31 \"/>\n",
       "<polyline clip-path=\"url(#clip200)\" style=\"stroke:#000000; stroke-linecap:round; stroke-linejoin:round; stroke-width:4; stroke-opacity:1; fill:none\" points=\"156.112,794.13 175.01,794.13 \"/>\n",
       "<polyline clip-path=\"url(#clip200)\" style=\"stroke:#000000; stroke-linecap:round; stroke-linejoin:round; stroke-width:4; stroke-opacity:1; fill:none\" points=\"156.112,539.945 175.01,539.945 \"/>\n",
       "<polyline clip-path=\"url(#clip200)\" style=\"stroke:#000000; stroke-linecap:round; stroke-linejoin:round; stroke-width:4; stroke-opacity:1; fill:none\" points=\"156.112,285.76 175.01,285.76 \"/>\n",
       "<path clip-path=\"url(#clip200)\" d=\"M62.9365 1288.3 Q59.3254 1288.3 57.4967 1291.86 Q55.6912 1295.4 55.6912 1302.53 Q55.6912 1309.64 57.4967 1313.2 Q59.3254 1316.75 62.9365 1316.75 Q66.5707 1316.75 68.3763 1313.2 Q70.205 1309.64 70.205 1302.53 Q70.205 1295.4 68.3763 1291.86 Q66.5707 1288.3 62.9365 1288.3 M62.9365 1284.59 Q68.7467 1284.59 71.8022 1289.2 Q74.8809 1293.78 74.8809 1302.53 Q74.8809 1311.26 71.8022 1315.87 Q68.7467 1320.45 62.9365 1320.45 Q57.1264 1320.45 54.0477 1315.87 Q50.9921 1311.26 50.9921 1302.53 Q50.9921 1293.78 54.0477 1289.2 Q57.1264 1284.59 62.9365 1284.59 Z\" fill=\"#000000\" fill-rule=\"nonzero\" fill-opacity=\"1\" /><path clip-path=\"url(#clip200)\" d=\"M83.0984 1313.9 L87.9827 1313.9 L87.9827 1319.78 L83.0984 1319.78 L83.0984 1313.9 Z\" fill=\"#000000\" fill-rule=\"nonzero\" fill-opacity=\"1\" /><path clip-path=\"url(#clip200)\" d=\"M108.168 1288.3 Q104.557 1288.3 102.728 1291.86 Q100.922 1295.4 100.922 1302.53 Q100.922 1309.64 102.728 1313.2 Q104.557 1316.75 108.168 1316.75 Q111.802 1316.75 113.608 1313.2 Q115.436 1309.64 115.436 1302.53 Q115.436 1295.4 113.608 1291.86 Q111.802 1288.3 108.168 1288.3 M108.168 1284.59 Q113.978 1284.59 117.033 1289.2 Q120.112 1293.78 120.112 1302.53 Q120.112 1311.26 117.033 1315.87 Q113.978 1320.45 108.168 1320.45 Q102.358 1320.45 99.2789 1315.87 Q96.2234 1311.26 96.2234 1302.53 Q96.2234 1293.78 99.2789 1289.2 Q102.358 1284.59 108.168 1284.59 Z\" fill=\"#000000\" fill-rule=\"nonzero\" fill-opacity=\"1\" /><path clip-path=\"url(#clip200)\" d=\"M63.9319 1034.11 Q60.3208 1034.11 58.4921 1037.68 Q56.6865 1041.22 56.6865 1048.35 Q56.6865 1055.46 58.4921 1059.02 Q60.3208 1062.56 63.9319 1062.56 Q67.5661 1062.56 69.3717 1059.02 Q71.2004 1055.46 71.2004 1048.35 Q71.2004 1041.22 69.3717 1037.68 Q67.5661 1034.11 63.9319 1034.11 M63.9319 1030.41 Q69.742 1030.41 72.7976 1035.02 Q75.8763 1039.6 75.8763 1048.35 Q75.8763 1057.08 72.7976 1061.68 Q69.742 1066.27 63.9319 1066.27 Q58.1217 1066.27 55.043 1061.68 Q51.9875 1057.08 51.9875 1048.35 Q51.9875 1039.6 55.043 1035.02 Q58.1217 1030.41 63.9319 1030.41 Z\" fill=\"#000000\" fill-rule=\"nonzero\" fill-opacity=\"1\" /><path clip-path=\"url(#clip200)\" d=\"M84.0938 1059.71 L88.978 1059.71 L88.978 1065.59 L84.0938 1065.59 L84.0938 1059.71 Z\" fill=\"#000000\" fill-rule=\"nonzero\" fill-opacity=\"1\" /><path clip-path=\"url(#clip200)\" d=\"M99.2095 1031.03 L117.566 1031.03 L117.566 1034.97 L103.492 1034.97 L103.492 1043.44 Q104.51 1043.09 105.529 1042.93 Q106.547 1042.75 107.566 1042.75 Q113.353 1042.75 116.733 1045.92 Q120.112 1049.09 120.112 1054.51 Q120.112 1060.09 116.64 1063.19 Q113.168 1066.27 106.848 1066.27 Q104.672 1066.27 102.404 1065.9 Q100.159 1065.52 97.7511 1064.78 L97.7511 1060.09 Q99.8345 1061.22 102.057 1061.77 Q104.279 1062.33 106.756 1062.33 Q110.76 1062.33 113.098 1060.22 Q115.436 1058.12 115.436 1054.51 Q115.436 1050.9 113.098 1048.79 Q110.76 1046.68 106.756 1046.68 Q104.881 1046.68 103.006 1047.1 Q101.154 1047.52 99.2095 1048.4 L99.2095 1031.03 Z\" fill=\"#000000\" fill-rule=\"nonzero\" fill-opacity=\"1\" /><path clip-path=\"url(#clip200)\" d=\"M53.7467 807.474 L61.3856 807.474 L61.3856 781.109 L53.0754 782.776 L53.0754 778.516 L61.3393 776.85 L66.0152 776.85 L66.0152 807.474 L73.654 807.474 L73.654 811.41 L53.7467 811.41 L53.7467 807.474 Z\" fill=\"#000000\" fill-rule=\"nonzero\" fill-opacity=\"1\" /><path clip-path=\"url(#clip200)\" d=\"M83.0984 805.53 L87.9827 805.53 L87.9827 811.41 L83.0984 811.41 L83.0984 805.53 Z\" fill=\"#000000\" fill-rule=\"nonzero\" fill-opacity=\"1\" /><path clip-path=\"url(#clip200)\" d=\"M108.168 779.928 Q104.557 779.928 102.728 783.493 Q100.922 787.035 100.922 794.164 Q100.922 801.271 102.728 804.836 Q104.557 808.377 108.168 808.377 Q111.802 808.377 113.608 804.836 Q115.436 801.271 115.436 794.164 Q115.436 787.035 113.608 783.493 Q111.802 779.928 108.168 779.928 M108.168 776.225 Q113.978 776.225 117.033 780.831 Q120.112 785.414 120.112 794.164 Q120.112 802.891 117.033 807.498 Q113.978 812.081 108.168 812.081 Q102.358 812.081 99.2789 807.498 Q96.2234 802.891 96.2234 794.164 Q96.2234 785.414 99.2789 780.831 Q102.358 776.225 108.168 776.225 Z\" fill=\"#000000\" fill-rule=\"nonzero\" fill-opacity=\"1\" /><path clip-path=\"url(#clip200)\" d=\"M54.7421 553.29 L62.381 553.29 L62.381 526.924 L54.0708 528.591 L54.0708 524.332 L62.3347 522.665 L67.0106 522.665 L67.0106 553.29 L74.6494 553.29 L74.6494 557.225 L54.7421 557.225 L54.7421 553.29 Z\" fill=\"#000000\" fill-rule=\"nonzero\" fill-opacity=\"1\" /><path clip-path=\"url(#clip200)\" d=\"M84.0938 551.345 L88.978 551.345 L88.978 557.225 L84.0938 557.225 L84.0938 551.345 Z\" fill=\"#000000\" fill-rule=\"nonzero\" fill-opacity=\"1\" /><path clip-path=\"url(#clip200)\" d=\"M99.2095 522.665 L117.566 522.665 L117.566 526.6 L103.492 526.6 L103.492 535.072 Q104.51 534.725 105.529 534.563 Q106.547 534.378 107.566 534.378 Q113.353 534.378 116.733 537.549 Q120.112 540.72 120.112 546.137 Q120.112 551.716 116.64 554.818 Q113.168 557.896 106.848 557.896 Q104.672 557.896 102.404 557.526 Q100.159 557.156 97.7511 556.415 L97.7511 551.716 Q99.8345 552.85 102.057 553.406 Q104.279 553.961 106.756 553.961 Q110.76 553.961 113.098 551.855 Q115.436 549.748 115.436 546.137 Q115.436 542.526 113.098 540.42 Q110.76 538.313 106.756 538.313 Q104.881 538.313 103.006 538.73 Q101.154 539.146 99.2095 540.026 L99.2095 522.665 Z\" fill=\"#000000\" fill-rule=\"nonzero\" fill-opacity=\"1\" /><path clip-path=\"url(#clip200)\" d=\"M56.9643 299.105 L73.2837 299.105 L73.2837 303.04 L51.3393 303.04 L51.3393 299.105 Q54.0014 296.351 58.5847 291.721 Q63.1911 287.068 64.3717 285.726 Q66.617 283.203 67.4967 281.466 Q68.3994 279.707 68.3994 278.017 Q68.3994 275.263 66.455 273.527 Q64.5337 271.791 61.4319 271.791 Q59.2328 271.791 56.7791 272.554 Q54.3486 273.318 51.5708 274.869 L51.5708 270.147 Q54.3949 269.013 56.8486 268.434 Q59.3023 267.855 61.3393 267.855 Q66.7096 267.855 69.9041 270.541 Q73.0985 273.226 73.0985 277.716 Q73.0985 279.846 72.2883 281.767 Q71.5013 283.666 69.3948 286.258 Q68.8161 286.929 65.7143 290.147 Q62.6124 293.341 56.9643 299.105 Z\" fill=\"#000000\" fill-rule=\"nonzero\" fill-opacity=\"1\" /><path clip-path=\"url(#clip200)\" d=\"M83.0984 297.161 L87.9827 297.161 L87.9827 303.04 L83.0984 303.04 L83.0984 297.161 Z\" fill=\"#000000\" fill-rule=\"nonzero\" fill-opacity=\"1\" /><path clip-path=\"url(#clip200)\" d=\"M108.168 271.559 Q104.557 271.559 102.728 275.124 Q100.922 278.666 100.922 285.795 Q100.922 292.902 102.728 296.466 Q104.557 300.008 108.168 300.008 Q111.802 300.008 113.608 296.466 Q115.436 292.902 115.436 285.795 Q115.436 278.666 113.608 275.124 Q111.802 271.559 108.168 271.559 M108.168 267.855 Q113.978 267.855 117.033 272.462 Q120.112 277.045 120.112 285.795 Q120.112 294.522 117.033 299.128 Q113.978 303.712 108.168 303.712 Q102.358 303.712 99.2789 299.128 Q96.2234 294.522 96.2234 285.795 Q96.2234 277.045 99.2789 272.462 Q102.358 267.855 108.168 267.855 Z\" fill=\"#000000\" fill-rule=\"nonzero\" fill-opacity=\"1\" /><polyline clip-path=\"url(#clip202)\" style=\"stroke:#009af9; stroke-linecap:round; stroke-linejoin:round; stroke-width:4; stroke-opacity:1; fill:none\" points=\"218.281,1445.72 231.773,1443.31 356.525,1418.21 431.495,1400.57 494.882,1384.1 563.737,1364.53 627.216,1344.89 695.272,1322.08 774.122,1293.31 844.194,1265.54 905.641,1239.43 972.634,1209.04 1040.03,1176.37 1114.54,1137.72 1185.43,1098.38 1259.14,1054.75 1321.2,1015.78 1396.95,965.343 1466.35,916.277 1530.45,868.449 1595.38,817.461 1668.14,757.181 1734.08,699.598 1771.82,665.331 1809.57,630.094 1844.52,596.587 1879.47,562.219 1913.92,527.477 1948.38,491.87 1981.83,456.457 2015.29,420.2 2049.58,382.142 2083.88,343.168 2121.45,299.398 2159.03,254.49 2213.61,187.183 2268.19,117.365 2279.39,102.725 2290.59,87.9763 \"/>\n",
       "<path clip-path=\"url(#clip200)\" d=\"M229.334 198.898 L501.428 198.898 L501.428 95.2176 L229.334 95.2176  Z\" fill=\"#ffffff\" fill-rule=\"evenodd\" fill-opacity=\"1\"/>\n",
       "<polyline clip-path=\"url(#clip200)\" style=\"stroke:#000000; stroke-linecap:round; stroke-linejoin:round; stroke-width:4; stroke-opacity:1; fill:none\" points=\"229.334,198.898 501.428,198.898 501.428,95.2176 229.334,95.2176 229.334,198.898 \"/>\n",
       "<polyline clip-path=\"url(#clip200)\" style=\"stroke:#009af9; stroke-linecap:round; stroke-linejoin:round; stroke-width:4; stroke-opacity:1; fill:none\" points=\"253.741,147.058 400.184,147.058 \"/>\n",
       "<path clip-path=\"url(#clip200)\" d=\"M438.433 166.745 Q436.628 171.375 434.915 172.787 Q433.202 174.199 430.332 174.199 L426.929 174.199 L426.929 170.634 L429.429 170.634 Q431.188 170.634 432.16 169.8 Q433.132 168.967 434.313 165.865 L435.077 163.921 L424.591 138.412 L429.105 138.412 L437.206 158.689 L445.308 138.412 L449.822 138.412 L438.433 166.745 Z\" fill=\"#000000\" fill-rule=\"nonzero\" fill-opacity=\"1\" /><path clip-path=\"url(#clip200)\" d=\"M457.114 160.402 L464.753 160.402 L464.753 134.037 L456.442 135.703 L456.442 131.444 L464.706 129.778 L469.382 129.778 L469.382 160.402 L477.021 160.402 L477.021 164.338 L457.114 164.338 L457.114 160.402 Z\" fill=\"#000000\" fill-rule=\"nonzero\" fill-opacity=\"1\" /></svg>\n"
      ]
     },
     "execution_count": 21,
     "metadata": {},
     "output_type": "execute_result"
    }
   ],
   "source": [
    "f = x -> exp(x) - 2*x - 1;\n",
    "@show ( f(1), f(2) )\n",
    "\n",
    "plot( f, 1,2)"
   ]
  },
  {
   "cell_type": "markdown",
   "id": "e1db43ec",
   "metadata": {},
   "source": [
    "<div style='background-color: #cce0ff; padding: 10px; border-left: 5px solid #0066ff;'>\n",
    "\n",
    "We could solve $f(x) = 0$ by instead considering the fixed point problems $g(x) = x$ or $h(x) = x$ where\n",
    "\n",
    "\\begin{align}\n",
    "    g(x) = \\log( 2x + 1 ), \\quad  \\text{and} \\quad h(x) = \\frac{e^x - 1}{2}\n",
    "\\end{align}\n",
    "\n",
    "Brouwer's fixed point theorem applies to $g$ but **not** $h$ on $[1,2]$:\n",
    "</div> "
   ]
  },
  {
   "cell_type": "code",
   "execution_count": 15,
   "id": "be89f658",
   "metadata": {},
   "outputs": [
    {
     "name": "stdout",
     "output_type": "stream",
     "text": [
      "(g(1), g(2)) = (1.0986122886681098, 1.6094379124341003)\n",
      "(h(1), h(2)) = (0.8591409142295225, 3.194528049465325)\n"
     ]
    },
    {
     "data": {
      "image/svg+xml": [
       "<?xml version=\"1.0\" encoding=\"utf-8\"?>\n",
       "<svg xmlns=\"http://www.w3.org/2000/svg\" xmlns:xlink=\"http://www.w3.org/1999/xlink\" width=\"600\" height=\"400\" viewBox=\"0 0 2400 1600\">\n",
       "<defs>\n",
       "  <clipPath id=\"clip120\">\n",
       "    <rect x=\"0\" y=\"0\" width=\"2400\" height=\"1600\"/>\n",
       "  </clipPath>\n",
       "</defs>\n",
       "<path clip-path=\"url(#clip120)\" d=\"M0 1600 L2400 1600 L2400 0 L0 0  Z\" fill=\"#ffffff\" fill-rule=\"evenodd\" fill-opacity=\"1\"/>\n",
       "<defs>\n",
       "  <clipPath id=\"clip121\">\n",
       "    <rect x=\"480\" y=\"0\" width=\"1681\" height=\"1600\"/>\n",
       "  </clipPath>\n",
       "</defs>\n",
       "<path clip-path=\"url(#clip120)\" d=\"M155.765 1486.45 L2352.76 1486.45 L2352.76 47.2441 L155.765 47.2441  Z\" fill=\"#ffffff\" fill-rule=\"evenodd\" fill-opacity=\"1\"/>\n",
       "<defs>\n",
       "  <clipPath id=\"clip122\">\n",
       "    <rect x=\"155\" y=\"47\" width=\"2198\" height=\"1440\"/>\n",
       "  </clipPath>\n",
       "</defs>\n",
       "<polyline clip-path=\"url(#clip122)\" style=\"stroke:#000000; stroke-linecap:round; stroke-linejoin:round; stroke-width:2; stroke-opacity:0.1; fill:none\" points=\"217.944,1486.45 217.944,47.2441 \"/>\n",
       "<polyline clip-path=\"url(#clip122)\" style=\"stroke:#000000; stroke-linecap:round; stroke-linejoin:round; stroke-width:2; stroke-opacity:0.1; fill:none\" points=\"736.102,1486.45 736.102,47.2441 \"/>\n",
       "<polyline clip-path=\"url(#clip122)\" style=\"stroke:#000000; stroke-linecap:round; stroke-linejoin:round; stroke-width:2; stroke-opacity:0.1; fill:none\" points=\"1254.26,1486.45 1254.26,47.2441 \"/>\n",
       "<polyline clip-path=\"url(#clip122)\" style=\"stroke:#000000; stroke-linecap:round; stroke-linejoin:round; stroke-width:2; stroke-opacity:0.1; fill:none\" points=\"1772.42,1486.45 1772.42,47.2441 \"/>\n",
       "<polyline clip-path=\"url(#clip122)\" style=\"stroke:#000000; stroke-linecap:round; stroke-linejoin:round; stroke-width:2; stroke-opacity:0.1; fill:none\" points=\"2290.58,1486.45 2290.58,47.2441 \"/>\n",
       "<polyline clip-path=\"url(#clip120)\" style=\"stroke:#000000; stroke-linecap:round; stroke-linejoin:round; stroke-width:4; stroke-opacity:1; fill:none\" points=\"155.765,1486.45 2352.76,1486.45 \"/>\n",
       "<polyline clip-path=\"url(#clip120)\" style=\"stroke:#000000; stroke-linecap:round; stroke-linejoin:round; stroke-width:4; stroke-opacity:1; fill:none\" points=\"217.944,1486.45 217.944,1467.55 \"/>\n",
       "<polyline clip-path=\"url(#clip120)\" style=\"stroke:#000000; stroke-linecap:round; stroke-linejoin:round; stroke-width:4; stroke-opacity:1; fill:none\" points=\"736.102,1486.45 736.102,1467.55 \"/>\n",
       "<polyline clip-path=\"url(#clip120)\" style=\"stroke:#000000; stroke-linecap:round; stroke-linejoin:round; stroke-width:4; stroke-opacity:1; fill:none\" points=\"1254.26,1486.45 1254.26,1467.55 \"/>\n",
       "<polyline clip-path=\"url(#clip120)\" style=\"stroke:#000000; stroke-linecap:round; stroke-linejoin:round; stroke-width:4; stroke-opacity:1; fill:none\" points=\"1772.42,1486.45 1772.42,1467.55 \"/>\n",
       "<polyline clip-path=\"url(#clip120)\" style=\"stroke:#000000; stroke-linecap:round; stroke-linejoin:round; stroke-width:4; stroke-opacity:1; fill:none\" points=\"2290.58,1486.45 2290.58,1467.55 \"/>\n",
       "<path clip-path=\"url(#clip120)\" d=\"M170.016 1544.91 L177.655 1544.91 L177.655 1518.55 L169.345 1520.21 L169.345 1515.95 L177.608 1514.29 L182.284 1514.29 L182.284 1544.91 L189.923 1544.91 L189.923 1548.85 L170.016 1548.85 L170.016 1544.91 Z\" fill=\"#000000\" fill-rule=\"nonzero\" fill-opacity=\"1\" /><path clip-path=\"url(#clip120)\" d=\"M199.368 1542.97 L204.252 1542.97 L204.252 1548.85 L199.368 1548.85 L199.368 1542.97 Z\" fill=\"#000000\" fill-rule=\"nonzero\" fill-opacity=\"1\" /><path clip-path=\"url(#clip120)\" d=\"M224.437 1517.37 Q220.826 1517.37 218.997 1520.93 Q217.192 1524.47 217.192 1531.6 Q217.192 1538.71 218.997 1542.27 Q220.826 1545.82 224.437 1545.82 Q228.071 1545.82 229.877 1542.27 Q231.705 1538.71 231.705 1531.6 Q231.705 1524.47 229.877 1520.93 Q228.071 1517.37 224.437 1517.37 M224.437 1513.66 Q230.247 1513.66 233.303 1518.27 Q236.381 1522.85 236.381 1531.6 Q236.381 1540.33 233.303 1544.94 Q230.247 1549.52 224.437 1549.52 Q218.627 1549.52 215.548 1544.94 Q212.493 1540.33 212.493 1531.6 Q212.493 1522.85 215.548 1518.27 Q218.627 1513.66 224.437 1513.66 Z\" fill=\"#000000\" fill-rule=\"nonzero\" fill-opacity=\"1\" /><path clip-path=\"url(#clip120)\" d=\"M254.599 1517.37 Q250.988 1517.37 249.159 1520.93 Q247.353 1524.47 247.353 1531.6 Q247.353 1538.71 249.159 1542.27 Q250.988 1545.82 254.599 1545.82 Q258.233 1545.82 260.039 1542.27 Q261.867 1538.71 261.867 1531.6 Q261.867 1524.47 260.039 1520.93 Q258.233 1517.37 254.599 1517.37 M254.599 1513.66 Q260.409 1513.66 263.464 1518.27 Q266.543 1522.85 266.543 1531.6 Q266.543 1540.33 263.464 1544.94 Q260.409 1549.52 254.599 1549.52 Q248.789 1549.52 245.71 1544.94 Q242.654 1540.33 242.654 1531.6 Q242.654 1522.85 245.71 1518.27 Q248.789 1513.66 254.599 1513.66 Z\" fill=\"#000000\" fill-rule=\"nonzero\" fill-opacity=\"1\" /><path clip-path=\"url(#clip120)\" d=\"M688.672 1544.91 L696.311 1544.91 L696.311 1518.55 L688.001 1520.21 L688.001 1515.95 L696.264 1514.29 L700.94 1514.29 L700.94 1544.91 L708.579 1544.91 L708.579 1548.85 L688.672 1548.85 L688.672 1544.91 Z\" fill=\"#000000\" fill-rule=\"nonzero\" fill-opacity=\"1\" /><path clip-path=\"url(#clip120)\" d=\"M718.024 1542.97 L722.908 1542.97 L722.908 1548.85 L718.024 1548.85 L718.024 1542.97 Z\" fill=\"#000000\" fill-rule=\"nonzero\" fill-opacity=\"1\" /><path clip-path=\"url(#clip120)\" d=\"M737.121 1544.91 L753.44 1544.91 L753.44 1548.85 L731.496 1548.85 L731.496 1544.91 Q734.158 1542.16 738.741 1537.53 Q743.347 1532.88 744.528 1531.53 Q746.773 1529.01 747.653 1527.27 Q748.556 1525.51 748.556 1523.82 Q748.556 1521.07 746.611 1519.33 Q744.69 1517.6 741.588 1517.6 Q739.389 1517.6 736.935 1518.36 Q734.505 1519.13 731.727 1520.68 L731.727 1515.95 Q734.551 1514.82 737.005 1514.24 Q739.459 1513.66 741.496 1513.66 Q746.866 1513.66 750.06 1516.35 Q753.255 1519.03 753.255 1523.52 Q753.255 1525.65 752.445 1527.57 Q751.658 1529.47 749.551 1532.07 Q748.972 1532.74 745.871 1535.95 Q742.769 1539.15 737.121 1544.91 Z\" fill=\"#000000\" fill-rule=\"nonzero\" fill-opacity=\"1\" /><path clip-path=\"url(#clip120)\" d=\"M763.301 1514.29 L781.657 1514.29 L781.657 1518.22 L767.583 1518.22 L767.583 1526.7 Q768.602 1526.35 769.62 1526.19 Q770.639 1526 771.658 1526 Q777.445 1526 780.824 1529.17 Q784.204 1532.34 784.204 1537.76 Q784.204 1543.34 780.732 1546.44 Q777.259 1549.52 770.94 1549.52 Q768.764 1549.52 766.496 1549.15 Q764.25 1548.78 761.843 1548.04 L761.843 1543.34 Q763.926 1544.47 766.148 1545.03 Q768.37 1545.58 770.847 1545.58 Q774.852 1545.58 777.19 1543.48 Q779.528 1541.37 779.528 1537.76 Q779.528 1534.15 777.19 1532.04 Q774.852 1529.94 770.847 1529.94 Q768.972 1529.94 767.097 1530.35 Q765.246 1530.77 763.301 1531.65 L763.301 1514.29 Z\" fill=\"#000000\" fill-rule=\"nonzero\" fill-opacity=\"1\" /><path clip-path=\"url(#clip120)\" d=\"M1206.33 1544.91 L1213.97 1544.91 L1213.97 1518.55 L1205.66 1520.21 L1205.66 1515.95 L1213.92 1514.29 L1218.6 1514.29 L1218.6 1544.91 L1226.24 1544.91 L1226.24 1548.85 L1206.33 1548.85 L1206.33 1544.91 Z\" fill=\"#000000\" fill-rule=\"nonzero\" fill-opacity=\"1\" /><path clip-path=\"url(#clip120)\" d=\"M1235.68 1542.97 L1240.57 1542.97 L1240.57 1548.85 L1235.68 1548.85 L1235.68 1542.97 Z\" fill=\"#000000\" fill-rule=\"nonzero\" fill-opacity=\"1\" /><path clip-path=\"url(#clip120)\" d=\"M1250.8 1514.29 L1269.16 1514.29 L1269.16 1518.22 L1255.08 1518.22 L1255.08 1526.7 Q1256.1 1526.35 1257.12 1526.19 Q1258.14 1526 1259.16 1526 Q1264.94 1526 1268.32 1529.17 Q1271.7 1532.34 1271.7 1537.76 Q1271.7 1543.34 1268.23 1546.44 Q1264.76 1549.52 1258.44 1549.52 Q1256.26 1549.52 1253.99 1549.15 Q1251.75 1548.78 1249.34 1548.04 L1249.34 1543.34 Q1251.42 1544.47 1253.65 1545.03 Q1255.87 1545.58 1258.35 1545.58 Q1262.35 1545.58 1264.69 1543.48 Q1267.03 1541.37 1267.03 1537.76 Q1267.03 1534.15 1264.69 1532.04 Q1262.35 1529.94 1258.35 1529.94 Q1256.47 1529.94 1254.6 1530.35 Q1252.74 1530.77 1250.8 1531.65 L1250.8 1514.29 Z\" fill=\"#000000\" fill-rule=\"nonzero\" fill-opacity=\"1\" /><path clip-path=\"url(#clip120)\" d=\"M1290.92 1517.37 Q1287.3 1517.37 1285.48 1520.93 Q1283.67 1524.47 1283.67 1531.6 Q1283.67 1538.71 1285.48 1542.27 Q1287.3 1545.82 1290.92 1545.82 Q1294.55 1545.82 1296.36 1542.27 Q1298.18 1538.71 1298.18 1531.6 Q1298.18 1524.47 1296.36 1520.93 Q1294.55 1517.37 1290.92 1517.37 M1290.92 1513.66 Q1296.73 1513.66 1299.78 1518.27 Q1302.86 1522.85 1302.86 1531.6 Q1302.86 1540.33 1299.78 1544.94 Q1296.73 1549.52 1290.92 1549.52 Q1285.11 1549.52 1282.03 1544.94 Q1278.97 1540.33 1278.97 1531.6 Q1278.97 1522.85 1282.03 1518.27 Q1285.11 1513.66 1290.92 1513.66 Z\" fill=\"#000000\" fill-rule=\"nonzero\" fill-opacity=\"1\" /><path clip-path=\"url(#clip120)\" d=\"M1724.99 1544.91 L1732.63 1544.91 L1732.63 1518.55 L1724.32 1520.21 L1724.32 1515.95 L1732.58 1514.29 L1737.26 1514.29 L1737.26 1544.91 L1744.9 1544.91 L1744.9 1548.85 L1724.99 1548.85 L1724.99 1544.91 Z\" fill=\"#000000\" fill-rule=\"nonzero\" fill-opacity=\"1\" /><path clip-path=\"url(#clip120)\" d=\"M1754.34 1542.97 L1759.22 1542.97 L1759.22 1548.85 L1754.34 1548.85 L1754.34 1542.97 Z\" fill=\"#000000\" fill-rule=\"nonzero\" fill-opacity=\"1\" /><path clip-path=\"url(#clip120)\" d=\"M1768.23 1514.29 L1790.45 1514.29 L1790.45 1516.28 L1777.9 1548.85 L1773.02 1548.85 L1784.83 1518.22 L1768.23 1518.22 L1768.23 1514.29 Z\" fill=\"#000000\" fill-rule=\"nonzero\" fill-opacity=\"1\" /><path clip-path=\"url(#clip120)\" d=\"M1799.62 1514.29 L1817.97 1514.29 L1817.97 1518.22 L1803.9 1518.22 L1803.9 1526.7 Q1804.92 1526.35 1805.94 1526.19 Q1806.96 1526 1807.97 1526 Q1813.76 1526 1817.14 1529.17 Q1820.52 1532.34 1820.52 1537.76 Q1820.52 1543.34 1817.05 1546.44 Q1813.58 1549.52 1807.26 1549.52 Q1805.08 1549.52 1802.81 1549.15 Q1800.57 1548.78 1798.16 1548.04 L1798.16 1543.34 Q1800.24 1544.47 1802.46 1545.03 Q1804.69 1545.58 1807.16 1545.58 Q1811.17 1545.58 1813.51 1543.48 Q1815.84 1541.37 1815.84 1537.76 Q1815.84 1534.15 1813.51 1532.04 Q1811.17 1529.94 1807.16 1529.94 Q1805.29 1529.94 1803.41 1530.35 Q1801.56 1530.77 1799.62 1531.65 L1799.62 1514.29 Z\" fill=\"#000000\" fill-rule=\"nonzero\" fill-opacity=\"1\" /><path clip-path=\"url(#clip120)\" d=\"M2246.73 1544.91 L2263.05 1544.91 L2263.05 1548.85 L2241.11 1548.85 L2241.11 1544.91 Q2243.77 1542.16 2248.35 1537.53 Q2252.96 1532.88 2254.14 1531.53 Q2256.39 1529.01 2257.27 1527.27 Q2258.17 1525.51 2258.17 1523.82 Q2258.17 1521.07 2256.23 1519.33 Q2254.3 1517.6 2251.2 1517.6 Q2249 1517.6 2246.55 1518.36 Q2244.12 1519.13 2241.34 1520.68 L2241.34 1515.95 Q2244.17 1514.82 2246.62 1514.24 Q2249.07 1513.66 2251.11 1513.66 Q2256.48 1513.66 2259.67 1516.35 Q2262.87 1519.03 2262.87 1523.52 Q2262.87 1525.65 2262.06 1527.57 Q2261.27 1529.47 2259.17 1532.07 Q2258.59 1532.74 2255.48 1535.95 Q2252.38 1539.15 2246.73 1544.91 Z\" fill=\"#000000\" fill-rule=\"nonzero\" fill-opacity=\"1\" /><path clip-path=\"url(#clip120)\" d=\"M2272.87 1542.97 L2277.75 1542.97 L2277.75 1548.85 L2272.87 1548.85 L2272.87 1542.97 Z\" fill=\"#000000\" fill-rule=\"nonzero\" fill-opacity=\"1\" /><path clip-path=\"url(#clip120)\" d=\"M2297.94 1517.37 Q2294.33 1517.37 2292.5 1520.93 Q2290.69 1524.47 2290.69 1531.6 Q2290.69 1538.71 2292.5 1542.27 Q2294.33 1545.82 2297.94 1545.82 Q2301.57 1545.82 2303.38 1542.27 Q2305.21 1538.71 2305.21 1531.6 Q2305.21 1524.47 2303.38 1520.93 Q2301.57 1517.37 2297.94 1517.37 M2297.94 1513.66 Q2303.75 1513.66 2306.8 1518.27 Q2309.88 1522.85 2309.88 1531.6 Q2309.88 1540.33 2306.8 1544.94 Q2303.75 1549.52 2297.94 1549.52 Q2292.13 1549.52 2289.05 1544.94 Q2285.99 1540.33 2285.99 1531.6 Q2285.99 1522.85 2289.05 1518.27 Q2292.13 1513.66 2297.94 1513.66 Z\" fill=\"#000000\" fill-rule=\"nonzero\" fill-opacity=\"1\" /><path clip-path=\"url(#clip120)\" d=\"M2328.1 1517.37 Q2324.49 1517.37 2322.66 1520.93 Q2320.85 1524.47 2320.85 1531.6 Q2320.85 1538.71 2322.66 1542.27 Q2324.49 1545.82 2328.1 1545.82 Q2331.73 1545.82 2333.54 1542.27 Q2335.37 1538.71 2335.37 1531.6 Q2335.37 1524.47 2333.54 1520.93 Q2331.73 1517.37 2328.1 1517.37 M2328.1 1513.66 Q2333.91 1513.66 2336.97 1518.27 Q2340.04 1522.85 2340.04 1531.6 Q2340.04 1540.33 2336.97 1544.94 Q2333.91 1549.52 2328.1 1549.52 Q2322.29 1549.52 2319.21 1544.94 Q2316.16 1540.33 2316.16 1531.6 Q2316.16 1522.85 2319.21 1518.27 Q2322.29 1513.66 2328.1 1513.66 Z\" fill=\"#000000\" fill-rule=\"nonzero\" fill-opacity=\"1\" /><polyline clip-path=\"url(#clip122)\" style=\"stroke:#000000; stroke-linecap:round; stroke-linejoin:round; stroke-width:2; stroke-opacity:0.1; fill:none\" points=\"155.765,1363.82 2352.76,1363.82 \"/>\n",
       "<polyline clip-path=\"url(#clip122)\" style=\"stroke:#000000; stroke-linecap:round; stroke-linejoin:round; stroke-width:2; stroke-opacity:0.1; fill:none\" points=\"155.765,1073.14 2352.76,1073.14 \"/>\n",
       "<polyline clip-path=\"url(#clip122)\" style=\"stroke:#000000; stroke-linecap:round; stroke-linejoin:round; stroke-width:2; stroke-opacity:0.1; fill:none\" points=\"155.765,782.447 2352.76,782.447 \"/>\n",
       "<polyline clip-path=\"url(#clip122)\" style=\"stroke:#000000; stroke-linecap:round; stroke-linejoin:round; stroke-width:2; stroke-opacity:0.1; fill:none\" points=\"155.765,491.759 2352.76,491.759 \"/>\n",
       "<polyline clip-path=\"url(#clip122)\" style=\"stroke:#000000; stroke-linecap:round; stroke-linejoin:round; stroke-width:2; stroke-opacity:0.1; fill:none\" points=\"155.765,201.07 2352.76,201.07 \"/>\n",
       "<polyline clip-path=\"url(#clip120)\" style=\"stroke:#000000; stroke-linecap:round; stroke-linejoin:round; stroke-width:4; stroke-opacity:1; fill:none\" points=\"155.765,1486.45 155.765,47.2441 \"/>\n",
       "<polyline clip-path=\"url(#clip120)\" style=\"stroke:#000000; stroke-linecap:round; stroke-linejoin:round; stroke-width:4; stroke-opacity:1; fill:none\" points=\"155.765,1363.82 174.663,1363.82 \"/>\n",
       "<polyline clip-path=\"url(#clip120)\" style=\"stroke:#000000; stroke-linecap:round; stroke-linejoin:round; stroke-width:4; stroke-opacity:1; fill:none\" points=\"155.765,1073.14 174.663,1073.14 \"/>\n",
       "<polyline clip-path=\"url(#clip120)\" style=\"stroke:#000000; stroke-linecap:round; stroke-linejoin:round; stroke-width:4; stroke-opacity:1; fill:none\" points=\"155.765,782.447 174.663,782.447 \"/>\n",
       "<polyline clip-path=\"url(#clip120)\" style=\"stroke:#000000; stroke-linecap:round; stroke-linejoin:round; stroke-width:4; stroke-opacity:1; fill:none\" points=\"155.765,491.759 174.663,491.759 \"/>\n",
       "<polyline clip-path=\"url(#clip120)\" style=\"stroke:#000000; stroke-linecap:round; stroke-linejoin:round; stroke-width:4; stroke-opacity:1; fill:none\" points=\"155.765,201.07 174.663,201.07 \"/>\n",
       "<path clip-path=\"url(#clip120)\" d=\"M53.3995 1377.17 L61.0384 1377.17 L61.0384 1350.8 L52.7282 1352.47 L52.7282 1348.21 L60.9921 1346.54 L65.668 1346.54 L65.668 1377.17 L73.3068 1377.17 L73.3068 1381.1 L53.3995 1381.1 L53.3995 1377.17 Z\" fill=\"#000000\" fill-rule=\"nonzero\" fill-opacity=\"1\" /><path clip-path=\"url(#clip120)\" d=\"M82.7512 1375.22 L87.6354 1375.22 L87.6354 1381.1 L82.7512 1381.1 L82.7512 1375.22 Z\" fill=\"#000000\" fill-rule=\"nonzero\" fill-opacity=\"1\" /><path clip-path=\"url(#clip120)\" d=\"M107.821 1349.62 Q104.209 1349.62 102.381 1353.19 Q100.575 1356.73 100.575 1363.86 Q100.575 1370.96 102.381 1374.53 Q104.209 1378.07 107.821 1378.07 Q111.455 1378.07 113.26 1374.53 Q115.089 1370.96 115.089 1363.86 Q115.089 1356.73 113.26 1353.19 Q111.455 1349.62 107.821 1349.62 M107.821 1345.92 Q113.631 1345.92 116.686 1350.52 Q119.765 1355.11 119.765 1363.86 Q119.765 1372.59 116.686 1377.19 Q113.631 1381.77 107.821 1381.77 Q102.01 1381.77 98.9317 1377.19 Q95.8761 1372.59 95.8761 1363.86 Q95.8761 1355.11 98.9317 1350.52 Q102.01 1345.92 107.821 1345.92 Z\" fill=\"#000000\" fill-rule=\"nonzero\" fill-opacity=\"1\" /><path clip-path=\"url(#clip120)\" d=\"M54.3949 1086.48 L62.0337 1086.48 L62.0337 1060.11 L53.7236 1061.78 L53.7236 1057.52 L61.9874 1055.86 L66.6633 1055.86 L66.6633 1086.48 L74.3022 1086.48 L74.3022 1090.42 L54.3949 1090.42 L54.3949 1086.48 Z\" fill=\"#000000\" fill-rule=\"nonzero\" fill-opacity=\"1\" /><path clip-path=\"url(#clip120)\" d=\"M83.7466 1084.54 L88.6308 1084.54 L88.6308 1090.42 L83.7466 1090.42 L83.7466 1084.54 Z\" fill=\"#000000\" fill-rule=\"nonzero\" fill-opacity=\"1\" /><path clip-path=\"url(#clip120)\" d=\"M98.8622 1055.86 L117.219 1055.86 L117.219 1059.79 L103.145 1059.79 L103.145 1068.26 Q104.163 1067.92 105.182 1067.75 Q106.2 1067.57 107.219 1067.57 Q113.006 1067.57 116.385 1070.74 Q119.765 1073.91 119.765 1079.33 Q119.765 1084.91 116.293 1088.01 Q112.82 1091.09 106.501 1091.09 Q104.325 1091.09 102.057 1090.72 Q99.8113 1090.35 97.4039 1089.61 L97.4039 1084.91 Q99.4872 1086.04 101.709 1086.6 Q103.932 1087.15 106.408 1087.15 Q110.413 1087.15 112.751 1085.04 Q115.089 1082.94 115.089 1079.33 Q115.089 1075.72 112.751 1073.61 Q110.413 1071.5 106.408 1071.5 Q104.534 1071.5 102.659 1071.92 Q100.807 1072.34 98.8622 1073.22 L98.8622 1055.86 Z\" fill=\"#000000\" fill-rule=\"nonzero\" fill-opacity=\"1\" /><path clip-path=\"url(#clip120)\" d=\"M56.6171 795.792 L72.9365 795.792 L72.9365 799.727 L50.9921 799.727 L50.9921 795.792 Q53.6541 793.037 58.2375 788.408 Q62.8439 783.755 64.0245 782.412 Q66.2698 779.889 67.1494 778.153 Q68.0522 776.394 68.0522 774.704 Q68.0522 771.949 66.1078 770.213 Q64.1865 768.477 61.0847 768.477 Q58.8856 768.477 56.4319 769.241 Q54.0014 770.005 51.2236 771.556 L51.2236 766.834 Q54.0477 765.699 56.5014 765.121 Q58.955 764.542 60.9921 764.542 Q66.3624 764.542 69.5568 767.227 Q72.7513 769.912 72.7513 774.403 Q72.7513 776.533 71.9411 778.454 Q71.1541 780.352 69.0476 782.945 Q68.4689 783.616 65.367 786.833 Q62.2652 790.028 56.6171 795.792 Z\" fill=\"#000000\" fill-rule=\"nonzero\" fill-opacity=\"1\" /><path clip-path=\"url(#clip120)\" d=\"M82.7512 793.847 L87.6354 793.847 L87.6354 799.727 L82.7512 799.727 L82.7512 793.847 Z\" fill=\"#000000\" fill-rule=\"nonzero\" fill-opacity=\"1\" /><path clip-path=\"url(#clip120)\" d=\"M107.821 768.246 Q104.209 768.246 102.381 771.81 Q100.575 775.352 100.575 782.482 Q100.575 789.588 102.381 793.153 Q104.209 796.695 107.821 796.695 Q111.455 796.695 113.26 793.153 Q115.089 789.588 115.089 782.482 Q115.089 775.352 113.26 771.81 Q111.455 768.246 107.821 768.246 M107.821 764.542 Q113.631 764.542 116.686 769.148 Q119.765 773.732 119.765 782.482 Q119.765 791.208 116.686 795.815 Q113.631 800.398 107.821 800.398 Q102.01 800.398 98.9317 795.815 Q95.8761 791.208 95.8761 782.482 Q95.8761 773.732 98.9317 769.148 Q102.01 764.542 107.821 764.542 Z\" fill=\"#000000\" fill-rule=\"nonzero\" fill-opacity=\"1\" /><path clip-path=\"url(#clip120)\" d=\"M57.6125 505.103 L73.9318 505.103 L73.9318 509.039 L51.9875 509.039 L51.9875 505.103 Q54.6495 502.349 59.2328 497.719 Q63.8393 493.066 65.0198 491.724 Q67.2652 489.201 68.1448 487.465 Q69.0476 485.705 69.0476 484.016 Q69.0476 481.261 67.1032 479.525 Q65.1819 477.789 62.08 477.789 Q59.881 477.789 57.4273 478.553 Q54.9967 479.317 52.219 480.867 L52.219 476.145 Q55.043 475.011 57.4967 474.432 Q59.9504 473.854 61.9874 473.854 Q67.3578 473.854 70.5522 476.539 Q73.7466 479.224 73.7466 483.715 Q73.7466 485.844 72.9365 487.766 Q72.1494 489.664 70.0429 492.256 Q69.4642 492.928 66.3624 496.145 Q63.2606 499.34 57.6125 505.103 Z\" fill=\"#000000\" fill-rule=\"nonzero\" fill-opacity=\"1\" /><path clip-path=\"url(#clip120)\" d=\"M83.7466 503.159 L88.6308 503.159 L88.6308 509.039 L83.7466 509.039 L83.7466 503.159 Z\" fill=\"#000000\" fill-rule=\"nonzero\" fill-opacity=\"1\" /><path clip-path=\"url(#clip120)\" d=\"M98.8622 474.479 L117.219 474.479 L117.219 478.414 L103.145 478.414 L103.145 486.886 Q104.163 486.539 105.182 486.377 Q106.2 486.192 107.219 486.192 Q113.006 486.192 116.385 489.363 Q119.765 492.534 119.765 497.951 Q119.765 503.529 116.293 506.631 Q112.82 509.71 106.501 509.71 Q104.325 509.71 102.057 509.34 Q99.8113 508.969 97.4039 508.228 L97.4039 503.529 Q99.4872 504.664 101.709 505.219 Q103.932 505.775 106.408 505.775 Q110.413 505.775 112.751 503.668 Q115.089 501.562 115.089 497.951 Q115.089 494.34 112.751 492.233 Q110.413 490.127 106.408 490.127 Q104.534 490.127 102.659 490.543 Q100.807 490.96 98.8622 491.84 L98.8622 474.479 Z\" fill=\"#000000\" fill-rule=\"nonzero\" fill-opacity=\"1\" /><path clip-path=\"url(#clip120)\" d=\"M66.7559 199.716 Q70.1124 200.434 71.9874 202.702 Q73.8855 204.971 73.8855 208.304 Q73.8855 213.42 70.367 216.221 Q66.8485 219.022 60.3671 219.022 Q58.1912 219.022 55.8764 218.582 Q53.5847 218.165 51.131 217.309 L51.131 212.795 Q53.0754 213.929 55.3903 214.508 Q57.7051 215.086 60.2282 215.086 Q64.6263 215.086 66.918 213.35 Q69.2328 211.614 69.2328 208.304 Q69.2328 205.249 67.08 203.536 Q64.9504 201.799 61.131 201.799 L57.1032 201.799 L57.1032 197.957 L61.3161 197.957 Q64.7652 197.957 66.5939 196.591 Q68.4226 195.202 68.4226 192.61 Q68.4226 189.948 66.5245 188.536 Q64.6495 187.1 61.131 187.1 Q59.2097 187.1 57.0106 187.517 Q54.8115 187.934 52.1727 188.813 L52.1727 184.647 Q54.8347 183.906 57.1495 183.536 Q59.4875 183.165 61.5476 183.165 Q66.8717 183.165 69.9735 185.596 Q73.0753 188.003 73.0753 192.124 Q73.0753 194.994 71.4318 196.985 Q69.7883 198.952 66.7559 199.716 Z\" fill=\"#000000\" fill-rule=\"nonzero\" fill-opacity=\"1\" /><path clip-path=\"url(#clip120)\" d=\"M82.7512 212.471 L87.6354 212.471 L87.6354 218.35 L82.7512 218.35 L82.7512 212.471 Z\" fill=\"#000000\" fill-rule=\"nonzero\" fill-opacity=\"1\" /><path clip-path=\"url(#clip120)\" d=\"M107.821 186.869 Q104.209 186.869 102.381 190.434 Q100.575 193.975 100.575 201.105 Q100.575 208.211 102.381 211.776 Q104.209 215.318 107.821 215.318 Q111.455 215.318 113.26 211.776 Q115.089 208.211 115.089 201.105 Q115.089 193.975 113.26 190.434 Q111.455 186.869 107.821 186.869 M107.821 183.165 Q113.631 183.165 116.686 187.772 Q119.765 192.355 119.765 201.105 Q119.765 209.832 116.686 214.438 Q113.631 219.022 107.821 219.022 Q102.01 219.022 98.9317 214.438 Q95.8761 209.832 95.8761 201.105 Q95.8761 192.355 98.9317 187.772 Q102.01 183.165 107.821 183.165 Z\" fill=\"#000000\" fill-rule=\"nonzero\" fill-opacity=\"1\" /><polyline clip-path=\"url(#clip122)\" style=\"stroke:#009af9; stroke-linecap:round; stroke-linejoin:round; stroke-width:4; stroke-opacity:1; fill:none\" points=\"217.944,1306.49 231.438,1303.97 356.209,1281.2 431.191,1267.92 494.588,1256.93 563.455,1245.23 626.943,1234.64 695.01,1223.5 773.872,1210.85 843.955,1199.84 905.412,1190.35 972.416,1180.18 1039.82,1170.12 1114.34,1159.2 1185.25,1149 1258.97,1138.58 1321.03,1129.95 1396.8,1119.59 1466.21,1110.25 1530.32,1101.76 1595.26,1093.28 1668.03,1083.93 1733.98,1075.58 1809.48,1066.16 1879.39,1057.58 1948.32,1049.24 2015.24,1041.26 2083.84,1033.18 2159,1024.46 2268.18,1012.03 2290.58,1009.51 \"/>\n",
       "<polyline clip-path=\"url(#clip122)\" style=\"stroke:#e26f46; stroke-linecap:round; stroke-linejoin:round; stroke-width:4; stroke-opacity:1; fill:none\" points=\"217.944,1445.72 231.438,1440.55 356.209,1391.21 431.191,1360.09 494.588,1332.89 563.455,1302.38 626.943,1273.34 695.01,1241.2 773.872,1202.63 843.955,1167.09 905.412,1134.93 972.416,1098.75 1039.82,1061.16 1114.34,1018.16 1185.25,975.779 1258.97,930.149 1321.03,890.46 1396.8,840.364 1466.21,792.839 1530.32,747.508 1595.26,700.138 1668.03,645.256 1733.98,593.832 1809.48,532.91 1879.39,474.488 1948.32,414.93 2015.24,355.177 2083.84,291.887 2159,220.098 2268.18,111.064 2290.58,87.9763 \"/>\n",
       "<polyline clip-path=\"url(#clip122)\" style=\"stroke:#3da44d; stroke-linecap:round; stroke-linejoin:round; stroke-width:4; stroke-opacity:1; fill:none\" points=\"217.944,1363.82 231.438,1360.04 356.209,1325.04 431.191,1304.01 494.588,1286.22 563.455,1266.91 626.943,1249.1 695.01,1230.01 773.872,1207.88 843.955,1188.23 905.412,1170.99 972.416,1152.19 1039.82,1133.29 1114.34,1112.38 1185.25,1092.49 1258.97,1071.81 1321.03,1054.41 1396.8,1033.15 1466.21,1013.68 1530.32,995.701 1595.26,977.486 1668.03,957.072 1733.98,938.574 1809.48,917.395 1879.39,897.785 1948.32,878.451 2015.24,859.681 2083.84,840.438 2159,819.356 2268.18,788.73 2290.58,782.447 \"/>\n",
       "<path clip-path=\"url(#clip120)\" d=\"M228.998 302.578 L476.042 302.578 L476.042 95.2176 L228.998 95.2176  Z\" fill=\"#ffffff\" fill-rule=\"evenodd\" fill-opacity=\"1\"/>\n",
       "<polyline clip-path=\"url(#clip120)\" style=\"stroke:#000000; stroke-linecap:round; stroke-linejoin:round; stroke-width:4; stroke-opacity:1; fill:none\" points=\"228.998,302.578 476.042,302.578 476.042,95.2176 228.998,95.2176 228.998,302.578 \"/>\n",
       "<polyline clip-path=\"url(#clip120)\" style=\"stroke:#009af9; stroke-linecap:round; stroke-linejoin:round; stroke-width:4; stroke-opacity:1; fill:none\" points=\"253.409,147.058 399.875,147.058 \"/>\n",
       "<path clip-path=\"url(#clip120)\" d=\"M446.303 133.734 Q446.303 133.757 446.163 134.6 L440.822 155.891 Q440.541 157.016 439.745 158.14 Q438.972 159.288 437.731 160.271 Q436.513 161.279 434.639 161.888 Q432.788 162.52 430.657 162.52 Q427.261 162.52 425.762 161.794 Q424.286 161.091 424.286 159.592 Q424.286 158.281 425.106 157.531 Q425.926 156.805 426.862 156.805 Q427.753 156.805 428.221 157.32 Q428.689 157.835 428.689 158.491 Q428.689 159.217 428.198 159.944 Q427.706 160.693 426.722 160.974 Q428.291 161.466 430.563 161.466 Q435.365 161.466 437.426 156.383 Q437.473 156.313 437.473 156.29 L439.066 149.942 L438.995 149.895 Q438.597 150.364 437.965 150.902 Q437.356 151.418 436.044 152.05 Q434.732 152.683 433.444 152.683 Q430.751 152.683 428.9 150.621 Q427.073 148.537 427.073 145.094 Q427.073 142.587 428.08 140.081 Q429.111 137.552 430.704 135.701 Q432.32 133.827 434.381 132.656 Q436.466 131.485 438.48 131.485 Q439.885 131.485 441.08 132.328 Q442.274 133.148 442.93 134.507 Q443.047 133.382 443.68 132.914 Q444.336 132.446 444.898 132.446 Q445.53 132.446 445.905 132.797 Q446.303 133.125 446.303 133.734 M442.368 136.662 Q442.368 136.521 442.274 136.146 Q442.181 135.748 441.9 135.116 Q441.642 134.483 441.244 133.921 Q440.846 133.359 440.12 132.961 Q439.417 132.539 438.527 132.539 Q437.075 132.539 435.622 133.757 Q434.17 134.952 433.163 136.802 Q432.226 138.582 431.336 142.025 Q430.47 145.468 430.47 147.225 Q430.47 148.958 431.219 150.293 Q431.969 151.629 433.585 151.629 Q435.459 151.629 437.473 149.895 Q439.557 148.092 439.909 146.546 L442.228 137.388 Q442.368 136.826 442.368 136.662 Z\" fill=\"#000000\" fill-rule=\"nonzero\" fill-opacity=\"1\" /><polyline clip-path=\"url(#clip120)\" style=\"stroke:#e26f46; stroke-linecap:round; stroke-linejoin:round; stroke-width:4; stroke-opacity:1; fill:none\" points=\"253.409,198.898 399.875,198.898 \"/>\n",
       "<path clip-path=\"url(#clip120)\" d=\"M447.826 208.246 Q447.826 208.433 447.615 209.159 Q447.404 209.885 446.889 211.01 Q446.397 212.134 445.718 213.164 Q445.038 214.172 443.914 214.921 Q442.813 215.647 441.548 215.647 Q439.862 215.647 438.738 214.523 Q437.613 213.399 437.613 211.712 Q437.613 211.478 437.637 211.244 Q437.66 211.01 437.684 210.869 Q437.707 210.705 437.777 210.447 Q437.871 210.166 437.894 210.049 Q437.941 209.932 438.058 209.581 Q438.199 209.206 438.246 209.066 Q441.22 201.477 441.22 198.315 Q441.22 194.965 438.621 194.965 Q436.302 194.965 434.006 196.652 Q432.952 197.495 431.945 198.994 Q430.938 200.493 430.751 201.055 Q430.54 202.273 430.235 203.21 Q430.095 203.866 429.416 206.419 L428.362 210.752 L427.448 214.382 Q427.261 214.898 426.745 215.272 Q426.23 215.647 425.668 215.647 Q425.2 215.647 424.731 215.319 Q424.286 215.015 424.286 214.289 Q424.286 213.914 424.473 213.235 L431.43 185.596 L431.57 184.659 Q431.57 184.378 431.453 184.238 Q431.36 184.074 430.797 183.957 Q430.259 183.84 429.181 183.84 Q428.736 183.84 428.525 183.816 Q428.338 183.793 428.174 183.676 Q428.01 183.535 428.01 183.254 Q428.01 182.856 428.174 182.645 Q428.362 182.411 428.502 182.364 Q428.643 182.317 428.924 182.294 Q429.322 182.27 430.657 182.153 Q431.992 182.013 433.14 181.919 Q434.287 181.825 434.779 181.825 Q435.06 181.825 435.201 181.966 Q435.365 182.083 435.388 182.223 L435.412 182.34 L431.664 197.589 Q434.639 193.911 438.761 193.911 Q441.431 193.911 442.86 195.293 Q444.289 196.652 444.289 199.041 Q444.289 201.781 441.361 209.581 Q440.494 211.759 440.494 213 Q440.494 213.82 440.752 214.195 Q441.033 214.57 441.642 214.57 Q442.579 214.57 443.399 214.031 Q444.242 213.469 444.828 212.555 Q445.413 211.619 445.811 210.682 Q446.233 209.721 446.537 208.644 Q446.725 208.058 446.818 207.918 Q446.936 207.777 447.263 207.777 Q447.826 207.777 447.826 208.246 Z\" fill=\"#000000\" fill-rule=\"nonzero\" fill-opacity=\"1\" /><polyline clip-path=\"url(#clip120)\" style=\"stroke:#3da44d; stroke-linecap:round; stroke-linejoin:round; stroke-width:4; stroke-opacity:1; fill:none\" points=\"253.409,250.738 399.875,250.738 \"/>\n",
       "<path clip-path=\"url(#clip120)\" d=\"M448.177 242.929 Q448.177 244.24 447.357 244.99 Q446.537 245.716 445.6 245.716 Q444.71 245.716 444.242 245.201 Q443.774 244.686 443.774 244.03 Q443.774 243.14 444.429 242.367 Q445.085 241.594 446.069 241.43 Q445.109 240.821 443.68 240.821 Q442.743 240.821 441.923 241.313 Q441.127 241.805 440.635 242.437 Q440.166 243.069 439.745 243.983 Q439.347 244.873 439.183 245.412 Q439.042 245.927 438.925 246.489 L437.285 253.047 Q436.489 256.163 436.489 257.263 Q436.489 258.622 437.145 259.535 Q437.801 260.425 439.112 260.425 Q439.628 260.425 440.213 260.285 Q440.799 260.121 441.548 259.699 Q442.321 259.254 443.001 258.598 Q443.703 257.919 444.382 256.771 Q445.062 255.624 445.507 254.148 Q445.647 253.633 446.116 253.633 Q446.701 253.633 446.701 254.101 Q446.701 254.5 446.373 255.343 Q446.069 256.163 445.39 257.24 Q444.734 258.294 443.867 259.254 Q443.001 260.191 441.712 260.847 Q440.424 261.503 439.019 261.503 Q437.004 261.503 435.669 260.425 Q434.334 259.348 433.842 257.849 Q433.725 258.06 433.561 258.341 Q433.397 258.622 432.905 259.254 Q432.437 259.863 431.898 260.332 Q431.36 260.777 430.516 261.128 Q429.697 261.503 428.807 261.503 Q427.682 261.503 426.675 261.175 Q425.691 260.847 424.989 260.097 Q424.286 259.348 424.286 258.317 Q424.286 257.17 425.059 256.373 Q425.855 255.554 426.933 255.554 Q427.612 255.554 428.151 255.952 Q428.713 256.35 428.713 257.217 Q428.713 258.177 428.057 258.903 Q427.401 259.629 426.464 259.816 Q427.425 260.425 428.853 260.425 Q430.399 260.425 431.617 259.067 Q432.835 257.708 433.421 255.436 Q434.873 249.979 435.435 247.543 Q435.997 245.084 435.997 244.03 Q435.997 243.046 435.74 242.367 Q435.482 241.687 435.037 241.383 Q434.615 241.055 434.217 240.938 Q433.842 240.821 433.421 240.821 Q432.718 240.821 431.922 241.102 Q431.149 241.383 430.212 242.039 Q429.298 242.671 428.432 243.983 Q427.565 245.295 426.98 247.098 Q426.862 247.637 426.347 247.637 Q425.785 247.613 425.785 247.145 Q425.785 246.747 426.09 245.927 Q426.417 245.084 427.073 244.03 Q427.753 242.976 428.619 242.039 Q429.509 241.078 430.797 240.423 Q432.109 239.767 433.514 239.767 Q434.147 239.767 434.756 239.907 Q435.388 240.024 436.138 240.376 Q436.911 240.727 437.59 241.5 Q438.269 242.273 438.691 243.397 Q438.972 242.859 439.347 242.343 Q439.745 241.828 440.354 241.196 Q440.986 240.54 441.853 240.165 Q442.743 239.767 443.727 239.767 Q444.687 239.767 445.624 240.024 Q446.561 240.259 447.357 241.032 Q448.177 241.781 448.177 242.929 Z\" fill=\"#000000\" fill-rule=\"nonzero\" fill-opacity=\"1\" /></svg>\n"
      ]
     },
     "execution_count": 15,
     "metadata": {},
     "output_type": "execute_result"
    }
   ],
   "source": [
    "g = x -> log( 2*x + 1 );    \n",
    "h = x -> (exp(x) - 1)/2;\n",
    "id = x -> x;\n",
    "\n",
    "@show (g(1), g(2));\n",
    "@show (h(1), h(2));\n",
    "\n",
    "plot( [g, h, id], 1, 2, label=[L\"g\" L\"h\" L\"x\"])"
   ]
  },
  {
   "cell_type": "markdown",
   "id": "6449418f",
   "metadata": {},
   "source": [
    "* Consider iterative methods of the form $x_{n+1} := g(x_n)$ for some $x_1 \\in [a,b]$\n",
    "* Lemma: if $(x_{n}) \\to \\xi$ then $\\xi$ is a fixed point of $g$. Proof: Use the fact that $x_{n+1}\\to \\xi$ and $g$ is continuous so $g(x_n)\\to g(\\xi)$.\n",
    "\n",
    "<div style='background-color: #cce0ff; padding: 10px; border-left: 5px solid #0066ff;'><strong>Example (cont.).</strong> \n",
    "\n",
    "Returning to $f(x) = e^x - 2x - 1$, do the iterative methods $x_{n+1} = g(x_n)$ and $y_{n+1} = h(y_n)$ converge for $x_1 = y_1 = 1$?\n",
    "\n",
    " </div> "
   ]
  },
  {
   "cell_type": "code",
   "execution_count": 16,
   "id": "1ea03f4f",
   "metadata": {},
   "outputs": [
    {
     "name": "stdout",
     "output_type": "stream",
     "text": [
      "(x[15], y[15]) = (1.2563147213300918, 0.0004396618681772324)\n"
     ]
    },
    {
     "data": {
      "image/svg+xml": [
       "<?xml version=\"1.0\" encoding=\"utf-8\"?>\n",
       "<svg xmlns=\"http://www.w3.org/2000/svg\" xmlns:xlink=\"http://www.w3.org/1999/xlink\" width=\"600\" height=\"400\" viewBox=\"0 0 2400 1600\">\n",
       "<defs>\n",
       "  <clipPath id=\"clip160\">\n",
       "    <rect x=\"0\" y=\"0\" width=\"2400\" height=\"1600\"/>\n",
       "  </clipPath>\n",
       "</defs>\n",
       "<path clip-path=\"url(#clip160)\" d=\"M0 1600 L2400 1600 L2400 0 L0 0  Z\" fill=\"#ffffff\" fill-rule=\"evenodd\" fill-opacity=\"1\"/>\n",
       "<defs>\n",
       "  <clipPath id=\"clip161\">\n",
       "    <rect x=\"480\" y=\"0\" width=\"1681\" height=\"1600\"/>\n",
       "  </clipPath>\n",
       "</defs>\n",
       "<path clip-path=\"url(#clip160)\" d=\"M110.881 1486.45 L2352.76 1486.45 L2352.76 47.2441 L110.881 47.2441  Z\" fill=\"#ffffff\" fill-rule=\"evenodd\" fill-opacity=\"1\"/>\n",
       "<defs>\n",
       "  <clipPath id=\"clip162\">\n",
       "    <rect x=\"110\" y=\"47\" width=\"2243\" height=\"1440\"/>\n",
       "  </clipPath>\n",
       "</defs>\n",
       "<polyline clip-path=\"url(#clip162)\" style=\"stroke:#000000; stroke-linecap:round; stroke-linejoin:round; stroke-width:2; stroke-opacity:0.1; fill:none\" points=\"409.328,1486.45 409.328,47.2441 \"/>\n",
       "<polyline clip-path=\"url(#clip162)\" style=\"stroke:#000000; stroke-linecap:round; stroke-linejoin:round; stroke-width:2; stroke-opacity:0.1; fill:none\" points=\"879.322,1486.45 879.322,47.2441 \"/>\n",
       "<polyline clip-path=\"url(#clip162)\" style=\"stroke:#000000; stroke-linecap:round; stroke-linejoin:round; stroke-width:2; stroke-opacity:0.1; fill:none\" points=\"1349.32,1486.45 1349.32,47.2441 \"/>\n",
       "<polyline clip-path=\"url(#clip162)\" style=\"stroke:#000000; stroke-linecap:round; stroke-linejoin:round; stroke-width:2; stroke-opacity:0.1; fill:none\" points=\"1819.31,1486.45 1819.31,47.2441 \"/>\n",
       "<polyline clip-path=\"url(#clip162)\" style=\"stroke:#000000; stroke-linecap:round; stroke-linejoin:round; stroke-width:2; stroke-opacity:0.1; fill:none\" points=\"2289.31,1486.45 2289.31,47.2441 \"/>\n",
       "<polyline clip-path=\"url(#clip160)\" style=\"stroke:#000000; stroke-linecap:round; stroke-linejoin:round; stroke-width:4; stroke-opacity:1; fill:none\" points=\"110.881,1486.45 2352.76,1486.45 \"/>\n",
       "<polyline clip-path=\"url(#clip160)\" style=\"stroke:#000000; stroke-linecap:round; stroke-linejoin:round; stroke-width:4; stroke-opacity:1; fill:none\" points=\"409.328,1486.45 409.328,1467.55 \"/>\n",
       "<polyline clip-path=\"url(#clip160)\" style=\"stroke:#000000; stroke-linecap:round; stroke-linejoin:round; stroke-width:4; stroke-opacity:1; fill:none\" points=\"879.322,1486.45 879.322,1467.55 \"/>\n",
       "<polyline clip-path=\"url(#clip160)\" style=\"stroke:#000000; stroke-linecap:round; stroke-linejoin:round; stroke-width:4; stroke-opacity:1; fill:none\" points=\"1349.32,1486.45 1349.32,1467.55 \"/>\n",
       "<polyline clip-path=\"url(#clip160)\" style=\"stroke:#000000; stroke-linecap:round; stroke-linejoin:round; stroke-width:4; stroke-opacity:1; fill:none\" points=\"1819.31,1486.45 1819.31,1467.55 \"/>\n",
       "<polyline clip-path=\"url(#clip160)\" style=\"stroke:#000000; stroke-linecap:round; stroke-linejoin:round; stroke-width:4; stroke-opacity:1; fill:none\" points=\"2289.31,1486.45 2289.31,1467.55 \"/>\n",
       "<path clip-path=\"url(#clip160)\" d=\"M386.712 1517.37 Q383.101 1517.37 381.272 1520.93 Q379.467 1524.47 379.467 1531.6 Q379.467 1538.71 381.272 1542.27 Q383.101 1545.82 386.712 1545.82 Q390.346 1545.82 392.152 1542.27 Q393.98 1538.71 393.98 1531.6 Q393.98 1524.47 392.152 1520.93 Q390.346 1517.37 386.712 1517.37 M386.712 1513.66 Q392.522 1513.66 395.578 1518.27 Q398.656 1522.85 398.656 1531.6 Q398.656 1540.33 395.578 1544.94 Q392.522 1549.52 386.712 1549.52 Q380.902 1549.52 377.823 1544.94 Q374.768 1540.33 374.768 1531.6 Q374.768 1522.85 377.823 1518.27 Q380.902 1513.66 386.712 1513.66 Z\" fill=\"#000000\" fill-rule=\"nonzero\" fill-opacity=\"1\" /><path clip-path=\"url(#clip160)\" d=\"M406.874 1542.97 L411.758 1542.97 L411.758 1548.85 L406.874 1548.85 L406.874 1542.97 Z\" fill=\"#000000\" fill-rule=\"nonzero\" fill-opacity=\"1\" /><path clip-path=\"url(#clip160)\" d=\"M431.943 1517.37 Q428.332 1517.37 426.503 1520.93 Q424.698 1524.47 424.698 1531.6 Q424.698 1538.71 426.503 1542.27 Q428.332 1545.82 431.943 1545.82 Q435.577 1545.82 437.383 1542.27 Q439.212 1538.71 439.212 1531.6 Q439.212 1524.47 437.383 1520.93 Q435.577 1517.37 431.943 1517.37 M431.943 1513.66 Q437.753 1513.66 440.809 1518.27 Q443.888 1522.85 443.888 1531.6 Q443.888 1540.33 440.809 1544.94 Q437.753 1549.52 431.943 1549.52 Q426.133 1549.52 423.054 1544.94 Q419.999 1540.33 419.999 1531.6 Q419.999 1522.85 423.054 1518.27 Q426.133 1513.66 431.943 1513.66 Z\" fill=\"#000000\" fill-rule=\"nonzero\" fill-opacity=\"1\" /><path clip-path=\"url(#clip160)\" d=\"M857.204 1517.37 Q853.593 1517.37 851.765 1520.93 Q849.959 1524.47 849.959 1531.6 Q849.959 1538.71 851.765 1542.27 Q853.593 1545.82 857.204 1545.82 Q860.839 1545.82 862.644 1542.27 Q864.473 1538.71 864.473 1531.6 Q864.473 1524.47 862.644 1520.93 Q860.839 1517.37 857.204 1517.37 M857.204 1513.66 Q863.015 1513.66 866.07 1518.27 Q869.149 1522.85 869.149 1531.6 Q869.149 1540.33 866.07 1544.94 Q863.015 1549.52 857.204 1549.52 Q851.394 1549.52 848.316 1544.94 Q845.26 1540.33 845.26 1531.6 Q845.26 1522.85 848.316 1518.27 Q851.394 1513.66 857.204 1513.66 Z\" fill=\"#000000\" fill-rule=\"nonzero\" fill-opacity=\"1\" /><path clip-path=\"url(#clip160)\" d=\"M877.366 1542.97 L882.251 1542.97 L882.251 1548.85 L877.366 1548.85 L877.366 1542.97 Z\" fill=\"#000000\" fill-rule=\"nonzero\" fill-opacity=\"1\" /><path clip-path=\"url(#clip160)\" d=\"M892.482 1514.29 L910.838 1514.29 L910.838 1518.22 L896.764 1518.22 L896.764 1526.7 Q897.783 1526.35 898.801 1526.19 Q899.82 1526 900.838 1526 Q906.625 1526 910.005 1529.17 Q913.385 1532.34 913.385 1537.76 Q913.385 1543.34 909.912 1546.44 Q906.44 1549.52 900.121 1549.52 Q897.945 1549.52 895.676 1549.15 Q893.431 1548.78 891.024 1548.04 L891.024 1543.34 Q893.107 1544.47 895.329 1545.03 Q897.551 1545.58 900.028 1545.58 Q904.033 1545.58 906.371 1543.48 Q908.709 1541.37 908.709 1537.76 Q908.709 1534.15 906.371 1532.04 Q904.033 1529.94 900.028 1529.94 Q898.153 1529.94 896.278 1530.35 Q894.426 1530.77 892.482 1531.65 L892.482 1514.29 Z\" fill=\"#000000\" fill-rule=\"nonzero\" fill-opacity=\"1\" /><path clip-path=\"url(#clip160)\" d=\"M1316.47 1544.91 L1324.11 1544.91 L1324.11 1518.55 L1315.8 1520.21 L1315.8 1515.95 L1324.06 1514.29 L1328.74 1514.29 L1328.74 1544.91 L1336.38 1544.91 L1336.38 1548.85 L1316.47 1548.85 L1316.47 1544.91 Z\" fill=\"#000000\" fill-rule=\"nonzero\" fill-opacity=\"1\" /><path clip-path=\"url(#clip160)\" d=\"M1345.82 1542.97 L1350.71 1542.97 L1350.71 1548.85 L1345.82 1548.85 L1345.82 1542.97 Z\" fill=\"#000000\" fill-rule=\"nonzero\" fill-opacity=\"1\" /><path clip-path=\"url(#clip160)\" d=\"M1370.89 1517.37 Q1367.28 1517.37 1365.45 1520.93 Q1363.65 1524.47 1363.65 1531.6 Q1363.65 1538.71 1365.45 1542.27 Q1367.28 1545.82 1370.89 1545.82 Q1374.53 1545.82 1376.33 1542.27 Q1378.16 1538.71 1378.16 1531.6 Q1378.16 1524.47 1376.33 1520.93 Q1374.53 1517.37 1370.89 1517.37 M1370.89 1513.66 Q1376.7 1513.66 1379.76 1518.27 Q1382.84 1522.85 1382.84 1531.6 Q1382.84 1540.33 1379.76 1544.94 Q1376.7 1549.52 1370.89 1549.52 Q1365.08 1549.52 1362 1544.94 Q1358.95 1540.33 1358.95 1531.6 Q1358.95 1522.85 1362 1518.27 Q1365.08 1513.66 1370.89 1513.66 Z\" fill=\"#000000\" fill-rule=\"nonzero\" fill-opacity=\"1\" /><path clip-path=\"url(#clip160)\" d=\"M1786.96 1544.91 L1794.6 1544.91 L1794.6 1518.55 L1786.29 1520.21 L1786.29 1515.95 L1794.56 1514.29 L1799.23 1514.29 L1799.23 1544.91 L1806.87 1544.91 L1806.87 1548.85 L1786.96 1548.85 L1786.96 1544.91 Z\" fill=\"#000000\" fill-rule=\"nonzero\" fill-opacity=\"1\" /><path clip-path=\"url(#clip160)\" d=\"M1816.31 1542.97 L1821.2 1542.97 L1821.2 1548.85 L1816.31 1548.85 L1816.31 1542.97 Z\" fill=\"#000000\" fill-rule=\"nonzero\" fill-opacity=\"1\" /><path clip-path=\"url(#clip160)\" d=\"M1831.43 1514.29 L1849.79 1514.29 L1849.79 1518.22 L1835.71 1518.22 L1835.71 1526.7 Q1836.73 1526.35 1837.75 1526.19 Q1838.77 1526 1839.79 1526 Q1845.57 1526 1848.95 1529.17 Q1852.33 1532.34 1852.33 1537.76 Q1852.33 1543.34 1848.86 1546.44 Q1845.39 1549.52 1839.07 1549.52 Q1836.89 1549.52 1834.62 1549.15 Q1832.38 1548.78 1829.97 1548.04 L1829.97 1543.34 Q1832.05 1544.47 1834.28 1545.03 Q1836.5 1545.58 1838.98 1545.58 Q1842.98 1545.58 1845.32 1543.48 Q1847.66 1541.37 1847.66 1537.76 Q1847.66 1534.15 1845.32 1532.04 Q1842.98 1529.94 1838.98 1529.94 Q1837.1 1529.94 1835.23 1530.35 Q1833.37 1530.77 1831.43 1531.65 L1831.43 1514.29 Z\" fill=\"#000000\" fill-rule=\"nonzero\" fill-opacity=\"1\" /><path clip-path=\"url(#clip160)\" d=\"M2260.55 1544.91 L2276.86 1544.91 L2276.86 1548.85 L2254.92 1548.85 L2254.92 1544.91 Q2257.58 1542.16 2262.17 1537.53 Q2266.77 1532.88 2267.95 1531.53 Q2270.2 1529.01 2271.08 1527.27 Q2271.98 1525.51 2271.98 1523.82 Q2271.98 1521.07 2270.04 1519.33 Q2268.11 1517.6 2265.01 1517.6 Q2262.81 1517.6 2260.36 1518.36 Q2257.93 1519.13 2255.15 1520.68 L2255.15 1515.95 Q2257.98 1514.82 2260.43 1514.24 Q2262.88 1513.66 2264.92 1513.66 Q2270.29 1513.66 2273.48 1516.35 Q2276.68 1519.03 2276.68 1523.52 Q2276.68 1525.65 2275.87 1527.57 Q2275.08 1529.47 2272.98 1532.07 Q2272.4 1532.74 2269.3 1535.95 Q2266.19 1539.15 2260.55 1544.91 Z\" fill=\"#000000\" fill-rule=\"nonzero\" fill-opacity=\"1\" /><path clip-path=\"url(#clip160)\" d=\"M2286.68 1542.97 L2291.56 1542.97 L2291.56 1548.85 L2286.68 1548.85 L2286.68 1542.97 Z\" fill=\"#000000\" fill-rule=\"nonzero\" fill-opacity=\"1\" /><path clip-path=\"url(#clip160)\" d=\"M2311.75 1517.37 Q2308.14 1517.37 2306.31 1520.93 Q2304.5 1524.47 2304.5 1531.6 Q2304.5 1538.71 2306.31 1542.27 Q2308.14 1545.82 2311.75 1545.82 Q2315.38 1545.82 2317.19 1542.27 Q2319.02 1538.71 2319.02 1531.6 Q2319.02 1524.47 2317.19 1520.93 Q2315.38 1517.37 2311.75 1517.37 M2311.75 1513.66 Q2317.56 1513.66 2320.61 1518.27 Q2323.69 1522.85 2323.69 1531.6 Q2323.69 1540.33 2320.61 1544.94 Q2317.56 1549.52 2311.75 1549.52 Q2305.94 1549.52 2302.86 1544.94 Q2299.8 1540.33 2299.8 1531.6 Q2299.8 1522.85 2302.86 1518.27 Q2305.94 1513.66 2311.75 1513.66 Z\" fill=\"#000000\" fill-rule=\"nonzero\" fill-opacity=\"1\" /><polyline clip-path=\"url(#clip162)\" style=\"stroke:#000000; stroke-linecap:round; stroke-linejoin:round; stroke-width:2; stroke-opacity:0.1; fill:none\" points=\"110.881,1203.64 2352.76,1203.64 \"/>\n",
       "<polyline clip-path=\"url(#clip162)\" style=\"stroke:#000000; stroke-linecap:round; stroke-linejoin:round; stroke-width:2; stroke-opacity:0.1; fill:none\" points=\"110.881,854.398 2352.76,854.398 \"/>\n",
       "<polyline clip-path=\"url(#clip162)\" style=\"stroke:#000000; stroke-linecap:round; stroke-linejoin:round; stroke-width:2; stroke-opacity:0.1; fill:none\" points=\"110.881,505.156 2352.76,505.156 \"/>\n",
       "<polyline clip-path=\"url(#clip162)\" style=\"stroke:#000000; stroke-linecap:round; stroke-linejoin:round; stroke-width:2; stroke-opacity:0.1; fill:none\" points=\"110.881,155.914 2352.76,155.914 \"/>\n",
       "<polyline clip-path=\"url(#clip160)\" style=\"stroke:#000000; stroke-linecap:round; stroke-linejoin:round; stroke-width:4; stroke-opacity:1; fill:none\" points=\"110.881,1486.45 110.881,47.2441 \"/>\n",
       "<polyline clip-path=\"url(#clip160)\" style=\"stroke:#000000; stroke-linecap:round; stroke-linejoin:round; stroke-width:4; stroke-opacity:1; fill:none\" points=\"110.881,1203.64 129.779,1203.64 \"/>\n",
       "<polyline clip-path=\"url(#clip160)\" style=\"stroke:#000000; stroke-linecap:round; stroke-linejoin:round; stroke-width:4; stroke-opacity:1; fill:none\" points=\"110.881,854.398 129.779,854.398 \"/>\n",
       "<polyline clip-path=\"url(#clip160)\" style=\"stroke:#000000; stroke-linecap:round; stroke-linejoin:round; stroke-width:4; stroke-opacity:1; fill:none\" points=\"110.881,505.156 129.779,505.156 \"/>\n",
       "<polyline clip-path=\"url(#clip160)\" style=\"stroke:#000000; stroke-linecap:round; stroke-linejoin:round; stroke-width:4; stroke-opacity:1; fill:none\" points=\"110.881,155.914 129.779,155.914 \"/>\n",
       "<path clip-path=\"url(#clip160)\" d=\"M62.9365 1189.44 Q59.3254 1189.44 57.4967 1193 Q55.6912 1196.54 55.6912 1203.67 Q55.6912 1210.78 57.4967 1214.35 Q59.3254 1217.89 62.9365 1217.89 Q66.5707 1217.89 68.3763 1214.35 Q70.205 1210.78 70.205 1203.67 Q70.205 1196.54 68.3763 1193 Q66.5707 1189.44 62.9365 1189.44 M62.9365 1185.73 Q68.7467 1185.73 71.8022 1190.34 Q74.8809 1194.92 74.8809 1203.67 Q74.8809 1212.4 71.8022 1217.01 Q68.7467 1221.59 62.9365 1221.59 Q57.1264 1221.59 54.0477 1217.01 Q50.9921 1212.4 50.9921 1203.67 Q50.9921 1194.92 54.0477 1190.34 Q57.1264 1185.73 62.9365 1185.73 Z\" fill=\"#000000\" fill-rule=\"nonzero\" fill-opacity=\"1\" /><path clip-path=\"url(#clip160)\" d=\"M54.9736 867.742 L62.6124 867.742 L62.6124 841.377 L54.3023 843.044 L54.3023 838.784 L62.5661 837.118 L67.242 837.118 L67.242 867.742 L74.8809 867.742 L74.8809 871.678 L54.9736 871.678 L54.9736 867.742 Z\" fill=\"#000000\" fill-rule=\"nonzero\" fill-opacity=\"1\" /><path clip-path=\"url(#clip160)\" d=\"M58.5615 518.5 L74.8809 518.5 L74.8809 522.436 L52.9366 522.436 L52.9366 518.5 Q55.5986 515.746 60.1819 511.116 Q64.7883 506.463 65.9689 505.121 Q68.2143 502.598 69.0939 500.862 Q69.9967 499.102 69.9967 497.413 Q69.9967 494.658 68.0522 492.922 Q66.1309 491.186 63.0291 491.186 Q60.83 491.186 58.3763 491.95 Q55.9458 492.714 53.168 494.264 L53.168 489.542 Q55.9921 488.408 58.4458 487.829 Q60.8995 487.251 62.9365 487.251 Q68.3068 487.251 71.5013 489.936 Q74.6957 492.621 74.6957 497.112 Q74.6957 499.241 73.8855 501.163 Q73.0985 503.061 70.992 505.653 Q70.4133 506.325 67.3115 509.542 Q64.2096 512.737 58.5615 518.5 Z\" fill=\"#000000\" fill-rule=\"nonzero\" fill-opacity=\"1\" /><path clip-path=\"url(#clip160)\" d=\"M67.7513 154.559 Q71.1078 155.277 72.9827 157.546 Q74.8809 159.814 74.8809 163.147 Q74.8809 168.263 71.3624 171.064 Q67.8439 173.865 61.3624 173.865 Q59.1865 173.865 56.8717 173.425 Q54.5801 173.008 52.1264 172.152 L52.1264 167.638 Q54.0708 168.772 56.3856 169.351 Q58.7004 169.93 61.2236 169.93 Q65.6217 169.93 67.9133 168.194 Q70.2281 166.458 70.2281 163.147 Q70.2281 160.092 68.0754 158.379 Q65.9457 156.643 62.1263 156.643 L58.0986 156.643 L58.0986 152.8 L62.3115 152.8 Q65.7606 152.8 67.5893 151.434 Q69.418 150.046 69.418 147.453 Q69.418 144.791 67.5198 143.379 Q65.6448 141.944 62.1263 141.944 Q60.205 141.944 58.006 142.36 Q55.8069 142.777 53.168 143.657 L53.168 139.49 Q55.8301 138.749 58.1449 138.379 Q60.4828 138.009 62.543 138.009 Q67.867 138.009 70.9689 140.439 Q74.0707 142.847 74.0707 146.967 Q74.0707 149.837 72.4272 151.828 Q70.7837 153.796 67.7513 154.559 Z\" fill=\"#000000\" fill-rule=\"nonzero\" fill-opacity=\"1\" /><polyline clip-path=\"url(#clip162)\" style=\"stroke:#009af9; stroke-linecap:round; stroke-linejoin:round; stroke-width:4; stroke-opacity:1; fill:none\" points=\"174.33,1445.72 177.773,1440.64 181.215,1435.63 184.657,1430.7 188.1,1425.83 204.015,1404.17 219.93,1383.78 235.845,1364.51 251.76,1346.25 267.675,1328.9 283.59,1312.37 299.505,1296.59 315.42,1281.49 334.549,1264.16 353.677,1247.65 372.806,1231.89 391.934,1216.81 424.28,1192.7 456.626,1170.15 491.763,1147.2 526.9,1125.66 559.292,1106.92 591.685,1089.14 626.414,1071.02 661.143,1053.8 701.379,1034.86 741.616,1016.89 777.373,1001.66 813.131,987.065 844.487,974.752 875.843,962.859 944.216,938.249 1013,915.127 1089.04,891.228 1161.39,869.913 1236.63,849.049 1299.96,832.404 1377.27,813.101 1448.1,796.309 1513.52,781.486 1579.78,767.086 1654.04,751.624 1721.34,738.18 1798.38,723.397 1869.72,710.246 1940.05,697.748 2008.34,686.027 2078.34,674.407 2155.04,662.104 2266.45,644.97 2289.31,641.556 \"/>\n",
       "<polyline clip-path=\"url(#clip162)\" style=\"stroke:#e26f46; stroke-linecap:round; stroke-linejoin:round; stroke-width:4; stroke-opacity:1; fill:none\" points=\"174.33,1242.27 188.1,1240.26 315.42,1220.24 391.934,1206.84 456.626,1194.63 526.9,1180.37 591.685,1166.25 661.143,1150 741.616,1129.59 813.131,1109.94 875.843,1091.42 944.216,1069.78 1013,1046.36 1089.04,1018.4 1161.39,989.603 1236.63,957.219 1299.96,927.875 1377.27,889.262 1448.1,850.993 1480.81,832.323 1513.52,812.993 1546.65,792.713 1579.78,771.707 1616.91,747.267 1654.04,721.843 1687.69,697.921 1721.34,673.127 1759.86,643.628 1798.38,612.895 1834.05,583.294 1869.72,552.548 1904.89,521.072 1940.05,488.397 1974.2,455.48 2008.34,421.346 2043.34,385.043 2078.34,347.363 2116.69,304.437 2155.04,259.724 2182.89,226.084 2210.74,191.433 2238.6,155.739 2266.45,118.972 2272.16,111.294 2277.88,103.568 2283.59,95.7961 2289.31,87.9763 \"/>\n",
       "<circle clip-path=\"url(#clip162)\" cx=\"1349.32\" cy=\"819.958\" r=\"14.4\" fill=\"#3da44d\" fill-rule=\"evenodd\" fill-opacity=\"1\" stroke=\"#000000\" stroke-opacity=\"1\" stroke-width=\"3.2\"/>\n",
       "<circle clip-path=\"url(#clip162)\" cx=\"1442.01\" cy=\"797.722\" r=\"14.4\" fill=\"#3da44d\" fill-rule=\"evenodd\" fill-opacity=\"1\" stroke=\"#000000\" stroke-opacity=\"1\" stroke-width=\"3.2\"/>\n",
       "<circle clip-path=\"url(#clip162)\" cx=\"1501.86\" cy=\"784.082\" r=\"14.4\" fill=\"#3da44d\" fill-rule=\"evenodd\" fill-opacity=\"1\" stroke=\"#000000\" stroke-opacity=\"1\" stroke-width=\"3.2\"/>\n",
       "<circle clip-path=\"url(#clip162)\" cx=\"1538.57\" cy=\"775.971\" r=\"14.4\" fill=\"#3da44d\" fill-rule=\"evenodd\" fill-opacity=\"1\" stroke=\"#000000\" stroke-opacity=\"1\" stroke-width=\"3.2\"/>\n",
       "<circle clip-path=\"url(#clip162)\" cx=\"1560.4\" cy=\"771.236\" r=\"14.4\" fill=\"#3da44d\" fill-rule=\"evenodd\" fill-opacity=\"1\" stroke=\"#000000\" stroke-opacity=\"1\" stroke-width=\"3.2\"/>\n",
       "<circle clip-path=\"url(#clip162)\" cx=\"1573.15\" cy=\"768.501\" r=\"14.4\" fill=\"#3da44d\" fill-rule=\"evenodd\" fill-opacity=\"1\" stroke=\"#000000\" stroke-opacity=\"1\" stroke-width=\"3.2\"/>\n",
       "<circle clip-path=\"url(#clip162)\" cx=\"1580.51\" cy=\"766.931\" r=\"14.4\" fill=\"#3da44d\" fill-rule=\"evenodd\" fill-opacity=\"1\" stroke=\"#000000\" stroke-opacity=\"1\" stroke-width=\"3.2\"/>\n",
       "<circle clip-path=\"url(#clip162)\" cx=\"1584.73\" cy=\"766.033\" r=\"14.4\" fill=\"#3da44d\" fill-rule=\"evenodd\" fill-opacity=\"1\" stroke=\"#000000\" stroke-opacity=\"1\" stroke-width=\"3.2\"/>\n",
       "<circle clip-path=\"url(#clip162)\" cx=\"1587.15\" cy=\"765.52\" r=\"14.4\" fill=\"#3da44d\" fill-rule=\"evenodd\" fill-opacity=\"1\" stroke=\"#000000\" stroke-opacity=\"1\" stroke-width=\"3.2\"/>\n",
       "<circle clip-path=\"url(#clip162)\" cx=\"1588.53\" cy=\"765.228\" r=\"14.4\" fill=\"#3da44d\" fill-rule=\"evenodd\" fill-opacity=\"1\" stroke=\"#000000\" stroke-opacity=\"1\" stroke-width=\"3.2\"/>\n",
       "<circle clip-path=\"url(#clip162)\" cx=\"1589.32\" cy=\"765.061\" r=\"14.4\" fill=\"#3da44d\" fill-rule=\"evenodd\" fill-opacity=\"1\" stroke=\"#000000\" stroke-opacity=\"1\" stroke-width=\"3.2\"/>\n",
       "<circle clip-path=\"url(#clip162)\" cx=\"1589.77\" cy=\"764.967\" r=\"14.4\" fill=\"#3da44d\" fill-rule=\"evenodd\" fill-opacity=\"1\" stroke=\"#000000\" stroke-opacity=\"1\" stroke-width=\"3.2\"/>\n",
       "<circle clip-path=\"url(#clip162)\" cx=\"1590.02\" cy=\"764.913\" r=\"14.4\" fill=\"#3da44d\" fill-rule=\"evenodd\" fill-opacity=\"1\" stroke=\"#000000\" stroke-opacity=\"1\" stroke-width=\"3.2\"/>\n",
       "<circle clip-path=\"url(#clip162)\" cx=\"1590.17\" cy=\"764.882\" r=\"14.4\" fill=\"#3da44d\" fill-rule=\"evenodd\" fill-opacity=\"1\" stroke=\"#000000\" stroke-opacity=\"1\" stroke-width=\"3.2\"/>\n",
       "<circle clip-path=\"url(#clip162)\" cx=\"1590.25\" cy=\"764.864\" r=\"14.4\" fill=\"#3da44d\" fill-rule=\"evenodd\" fill-opacity=\"1\" stroke=\"#000000\" stroke-opacity=\"1\" stroke-width=\"3.2\"/>\n",
       "<circle clip-path=\"url(#clip162)\" cx=\"1349.32\" cy=\"903.592\" r=\"14.4\" fill=\"#c271d2\" fill-rule=\"evenodd\" fill-opacity=\"1\" stroke=\"#000000\" stroke-opacity=\"1\" stroke-width=\"3.2\"/>\n",
       "<circle clip-path=\"url(#clip162)\" cx=\"1216.91\" cy=\"965.957\" r=\"14.4\" fill=\"#c271d2\" fill-rule=\"evenodd\" fill-opacity=\"1\" stroke=\"#000000\" stroke-opacity=\"1\" stroke-width=\"3.2\"/>\n",
       "<circle clip-path=\"url(#clip162)\" cx=\"1049.05\" cy=\"1033.39\" r=\"14.4\" fill=\"#c271d2\" fill-rule=\"evenodd\" fill-opacity=\"1\" stroke=\"#000000\" stroke-opacity=\"1\" stroke-width=\"3.2\"/>\n",
       "<circle clip-path=\"url(#clip162)\" cx=\"867.57\" cy=\"1093.94\" r=\"14.4\" fill=\"#c271d2\" fill-rule=\"evenodd\" fill-opacity=\"1\" stroke=\"#000000\" stroke-opacity=\"1\" stroke-width=\"3.2\"/>\n",
       "<circle clip-path=\"url(#clip162)\" cx=\"704.595\" cy=\"1139.2\" r=\"14.4\" fill=\"#c271d2\" fill-rule=\"evenodd\" fill-opacity=\"1\" stroke=\"#000000\" stroke-opacity=\"1\" stroke-width=\"3.2\"/>\n",
       "<circle clip-path=\"url(#clip162)\" cx=\"582.78\" cy=\"1168.25\" r=\"14.4\" fill=\"#c271d2\" fill-rule=\"evenodd\" fill-opacity=\"1\" stroke=\"#000000\" stroke-opacity=\"1\" stroke-width=\"3.2\"/>\n",
       "<circle clip-path=\"url(#clip162)\" cx=\"504.571\" cy=\"1185.02\" r=\"14.4\" fill=\"#c271d2\" fill-rule=\"evenodd\" fill-opacity=\"1\" stroke=\"#000000\" stroke-opacity=\"1\" stroke-width=\"3.2\"/>\n",
       "<circle clip-path=\"url(#clip162)\" cx=\"459.445\" cy=\"1194.08\" r=\"14.4\" fill=\"#c271d2\" fill-rule=\"evenodd\" fill-opacity=\"1\" stroke=\"#000000\" stroke-opacity=\"1\" stroke-width=\"3.2\"/>\n",
       "<circle clip-path=\"url(#clip162)\" cx=\"435.067\" cy=\"1198.79\" r=\"14.4\" fill=\"#c271d2\" fill-rule=\"evenodd\" fill-opacity=\"1\" stroke=\"#000000\" stroke-opacity=\"1\" stroke-width=\"3.2\"/>\n",
       "<circle clip-path=\"url(#clip162)\" cx=\"422.375\" cy=\"1201.2\" r=\"14.4\" fill=\"#c271d2\" fill-rule=\"evenodd\" fill-opacity=\"1\" stroke=\"#000000\" stroke-opacity=\"1\" stroke-width=\"3.2\"/>\n",
       "<circle clip-path=\"url(#clip162)\" cx=\"415.897\" cy=\"1202.41\" r=\"14.4\" fill=\"#c271d2\" fill-rule=\"evenodd\" fill-opacity=\"1\" stroke=\"#000000\" stroke-opacity=\"1\" stroke-width=\"3.2\"/>\n",
       "<circle clip-path=\"url(#clip162)\" cx=\"412.624\" cy=\"1203.03\" r=\"14.4\" fill=\"#c271d2\" fill-rule=\"evenodd\" fill-opacity=\"1\" stroke=\"#000000\" stroke-opacity=\"1\" stroke-width=\"3.2\"/>\n",
       "<circle clip-path=\"url(#clip162)\" cx=\"410.978\" cy=\"1203.33\" r=\"14.4\" fill=\"#c271d2\" fill-rule=\"evenodd\" fill-opacity=\"1\" stroke=\"#000000\" stroke-opacity=\"1\" stroke-width=\"3.2\"/>\n",
       "<circle clip-path=\"url(#clip162)\" cx=\"410.154\" cy=\"1203.49\" r=\"14.4\" fill=\"#c271d2\" fill-rule=\"evenodd\" fill-opacity=\"1\" stroke=\"#000000\" stroke-opacity=\"1\" stroke-width=\"3.2\"/>\n",
       "<circle clip-path=\"url(#clip162)\" cx=\"409.741\" cy=\"1203.56\" r=\"14.4\" fill=\"#c271d2\" fill-rule=\"evenodd\" fill-opacity=\"1\" stroke=\"#000000\" stroke-opacity=\"1\" stroke-width=\"3.2\"/>\n",
       "<path clip-path=\"url(#clip160)\" d=\"M185.61 401.913 L705.632 401.913 L705.632 95.2176 L185.61 95.2176  Z\" fill=\"#ffffff\" fill-rule=\"evenodd\" fill-opacity=\"1\"/>\n",
       "<polyline clip-path=\"url(#clip160)\" style=\"stroke:#000000; stroke-linecap:round; stroke-linejoin:round; stroke-width:4; stroke-opacity:1; fill:none\" points=\"185.61,401.913 705.632,401.913 705.632,95.2176 185.61,95.2176 185.61,401.913 \"/>\n",
       "<polyline clip-path=\"url(#clip160)\" style=\"stroke:#009af9; stroke-linecap:round; stroke-linejoin:round; stroke-width:4; stroke-opacity:1; fill:none\" points=\"210.52,156.557 359.978,156.557 \"/>\n",
       "<path clip-path=\"url(#clip160)\" d=\"M408.802 137.912 Q408.802 139.2 407.982 139.997 Q407.186 140.793 406.179 140.793 Q405.453 140.793 404.914 140.348 Q404.399 139.903 404.399 139.13 Q404.399 138.334 405.008 137.491 Q405.617 136.647 406.999 136.53 Q406.085 135.664 404.633 135.664 Q403.907 135.664 403.298 136.132 Q402.712 136.577 402.384 137.303 Q402.033 138.053 401.237 142.292 Q400.979 143.674 400.745 145.009 Q400.511 146.344 400.23 147.75 L404.211 147.75 Q404.727 147.75 404.937 147.773 Q405.148 147.796 405.312 147.914 Q405.5 148.031 405.5 148.288 Q405.5 148.944 405.195 149.108 Q404.914 149.249 404.071 149.249 L399.948 149.249 L397.068 164.45 Q396.997 164.895 396.693 166.3 Q396.412 167.682 395.732 169.954 Q395.053 172.249 394.374 173.608 Q393.999 174.381 393.507 175.107 Q393.039 175.857 392.36 176.606 Q391.68 177.356 390.79 177.801 Q389.9 178.269 388.963 178.269 Q387.371 178.269 386.129 177.379 Q384.888 176.489 384.888 174.966 Q384.888 173.678 385.684 172.882 Q386.504 172.086 387.511 172.086 Q388.237 172.086 388.753 172.531 Q389.291 172.976 389.291 173.749 Q389.291 174.076 389.174 174.451 Q389.057 174.826 388.799 175.248 Q388.542 175.693 387.98 175.997 Q387.417 176.302 386.645 176.348 Q387.558 177.215 388.963 177.215 Q389.408 177.215 389.807 177.028 Q390.205 176.864 390.533 176.442 Q390.884 176.02 391.142 175.599 Q391.399 175.201 391.657 174.428 Q391.915 173.678 392.079 173.116 Q392.242 172.554 392.453 171.547 Q392.688 170.54 392.805 169.931 Q392.922 169.345 393.133 168.197 L396.716 149.249 L393.554 149.249 Q392.992 149.249 392.758 149.225 Q392.547 149.202 392.383 149.085 Q392.219 148.944 392.219 148.663 Q392.219 148.218 392.406 148.031 Q392.617 147.82 392.851 147.796 Q393.086 147.75 393.648 147.75 L396.974 147.75 Q398.098 141.824 398.543 140.231 Q399.058 138.545 399.855 137.373 Q400.651 136.179 401.541 135.617 Q402.431 135.055 403.157 134.844 Q403.907 134.61 404.633 134.61 Q406.273 134.61 407.537 135.5 Q408.802 136.366 408.802 137.912 Z\" fill=\"#000000\" fill-rule=\"nonzero\" fill-opacity=\"1\" /><path clip-path=\"url(#clip160)\" d=\"M415.255 156.439 Q415.255 148.335 418.276 141.8 Q419.565 139.06 421.368 136.764 Q423.172 134.469 424.366 133.462 Q425.561 132.455 425.889 132.455 Q426.357 132.455 426.38 132.923 Q426.38 133.157 425.748 133.743 Q418.019 141.613 418.042 156.439 Q418.042 171.313 425.561 178.878 Q426.38 179.698 426.38 179.955 Q426.38 180.424 425.889 180.424 Q425.561 180.424 424.413 179.464 Q423.265 178.503 421.485 176.302 Q419.705 174.1 418.417 171.406 Q415.255 164.871 415.255 156.439 Z\" fill=\"#000000\" fill-rule=\"nonzero\" fill-opacity=\"1\" /><path clip-path=\"url(#clip160)\" d=\"M453.913 150.396 Q453.913 151.708 453.093 152.458 Q452.274 153.184 451.337 153.184 Q450.447 153.184 449.978 152.668 Q449.51 152.153 449.51 151.497 Q449.51 150.607 450.166 149.834 Q450.821 149.061 451.805 148.897 Q450.845 148.288 449.416 148.288 Q448.479 148.288 447.659 148.78 Q446.863 149.272 446.371 149.904 Q445.903 150.537 445.481 151.45 Q445.083 152.34 444.919 152.879 Q444.778 153.394 444.661 153.957 L443.022 160.515 Q442.225 163.63 442.225 164.731 Q442.225 166.089 442.881 167.003 Q443.537 167.893 444.849 167.893 Q445.364 167.893 445.95 167.752 Q446.535 167.588 447.285 167.167 Q448.058 166.722 448.737 166.066 Q449.44 165.387 450.119 164.239 Q450.798 163.091 451.243 161.616 Q451.384 161.1 451.852 161.1 Q452.438 161.1 452.438 161.569 Q452.438 161.967 452.11 162.81 Q451.805 163.63 451.126 164.707 Q450.47 165.761 449.603 166.722 Q448.737 167.659 447.449 168.315 Q446.16 168.97 444.755 168.97 Q442.741 168.97 441.406 167.893 Q440.071 166.815 439.579 165.316 Q439.462 165.527 439.298 165.808 Q439.134 166.089 438.642 166.722 Q438.173 167.331 437.635 167.799 Q437.096 168.244 436.253 168.596 Q435.433 168.97 434.543 168.97 Q433.419 168.97 432.411 168.642 Q431.428 168.315 430.725 167.565 Q430.022 166.815 430.022 165.785 Q430.022 164.637 430.795 163.841 Q431.592 163.021 432.669 163.021 Q433.348 163.021 433.887 163.419 Q434.449 163.817 434.449 164.684 Q434.449 165.644 433.793 166.37 Q433.137 167.097 432.201 167.284 Q433.161 167.893 434.59 167.893 Q436.136 167.893 437.354 166.534 Q438.571 165.176 439.157 162.904 Q440.609 157.446 441.171 155.011 Q441.734 152.551 441.734 151.497 Q441.734 150.513 441.476 149.834 Q441.218 149.155 440.773 148.85 Q440.352 148.523 439.953 148.405 Q439.579 148.288 439.157 148.288 Q438.454 148.288 437.658 148.569 Q436.885 148.85 435.948 149.506 Q435.035 150.139 434.168 151.45 Q433.301 152.762 432.716 154.566 Q432.599 155.104 432.083 155.104 Q431.521 155.081 431.521 154.612 Q431.521 154.214 431.826 153.394 Q432.154 152.551 432.81 151.497 Q433.489 150.443 434.355 149.506 Q435.246 148.546 436.534 147.89 Q437.845 147.234 439.251 147.234 Q439.883 147.234 440.492 147.375 Q441.125 147.492 441.874 147.843 Q442.647 148.195 443.326 148.968 Q444.006 149.741 444.427 150.865 Q444.708 150.326 445.083 149.811 Q445.481 149.295 446.09 148.663 Q446.723 148.007 447.589 147.632 Q448.479 147.234 449.463 147.234 Q450.423 147.234 451.36 147.492 Q452.297 147.726 453.093 148.499 Q453.913 149.249 453.913 150.396 Z\" fill=\"#000000\" fill-rule=\"nonzero\" fill-opacity=\"1\" /><path clip-path=\"url(#clip160)\" d=\"M458.526 179.955 Q458.526 179.721 459.135 179.136 Q466.864 171.266 466.864 156.439 Q466.864 141.566 459.439 134.047 Q458.526 133.181 458.526 132.923 Q458.526 132.455 458.994 132.455 Q459.322 132.455 460.47 133.415 Q461.641 134.375 463.398 136.577 Q465.178 138.779 466.489 141.472 Q469.651 148.007 469.651 156.439 Q469.651 164.543 466.63 171.078 Q465.342 173.819 463.538 176.114 Q461.735 178.41 460.54 179.417 Q459.346 180.424 458.994 180.424 Q458.526 180.424 458.526 179.955 Z\" fill=\"#000000\" fill-rule=\"nonzero\" fill-opacity=\"1\" /><polyline clip-path=\"url(#clip160)\" style=\"stroke:#e26f46; stroke-linecap:round; stroke-linejoin:round; stroke-width:4; stroke-opacity:1; fill:none\" points=\"210.52,217.896 359.978,217.896 \"/>\n",
       "<path clip-path=\"url(#clip160)\" d=\"M408.779 211.735 Q408.779 213.047 407.959 213.797 Q407.139 214.523 406.202 214.523 Q405.312 214.523 404.844 214.007 Q404.375 213.492 404.375 212.836 Q404.375 211.946 405.031 211.173 Q405.687 210.4 406.671 210.236 Q405.71 209.627 404.282 209.627 Q403.345 209.627 402.525 210.119 Q401.729 210.611 401.237 211.244 Q400.768 211.876 400.347 212.789 Q399.948 213.679 399.785 214.218 Q399.644 214.733 399.527 215.296 L397.887 221.854 Q397.091 224.969 397.091 226.07 Q397.091 227.428 397.747 228.342 Q398.403 229.232 399.714 229.232 Q400.23 229.232 400.815 229.091 Q401.401 228.927 402.15 228.506 Q402.923 228.061 403.602 227.405 Q404.305 226.726 404.984 225.578 Q405.664 224.43 406.109 222.955 Q406.249 222.439 406.718 222.439 Q407.303 222.439 407.303 222.908 Q407.303 223.306 406.975 224.149 Q406.671 224.969 405.991 226.047 Q405.336 227.101 404.469 228.061 Q403.602 228.998 402.314 229.654 Q401.026 230.309 399.621 230.309 Q397.606 230.309 396.271 229.232 Q394.936 228.155 394.444 226.655 Q394.327 226.866 394.163 227.147 Q393.999 227.428 393.507 228.061 Q393.039 228.67 392.5 229.138 Q391.961 229.583 391.118 229.935 Q390.298 230.309 389.408 230.309 Q388.284 230.309 387.277 229.981 Q386.293 229.654 385.591 228.904 Q384.888 228.155 384.888 227.124 Q384.888 225.976 385.661 225.18 Q386.457 224.36 387.535 224.36 Q388.214 224.36 388.753 224.758 Q389.315 225.156 389.315 226.023 Q389.315 226.983 388.659 227.71 Q388.003 228.436 387.066 228.623 Q388.026 229.232 389.455 229.232 Q391.001 229.232 392.219 227.873 Q393.437 226.515 394.023 224.243 Q395.475 218.786 396.037 216.35 Q396.599 213.89 396.599 212.836 Q396.599 211.853 396.341 211.173 Q396.084 210.494 395.639 210.19 Q395.217 209.862 394.819 209.744 Q394.444 209.627 394.023 209.627 Q393.32 209.627 392.524 209.908 Q391.751 210.19 390.814 210.845 Q389.9 211.478 389.034 212.789 Q388.167 214.101 387.581 215.905 Q387.464 216.443 386.949 216.443 Q386.387 216.42 386.387 215.951 Q386.387 215.553 386.691 214.733 Q387.019 213.89 387.675 212.836 Q388.354 211.782 389.221 210.845 Q390.111 209.885 391.399 209.229 Q392.711 208.573 394.116 208.573 Q394.749 208.573 395.358 208.714 Q395.99 208.831 396.74 209.182 Q397.513 209.534 398.192 210.307 Q398.871 211.08 399.293 212.204 Q399.574 211.665 399.948 211.15 Q400.347 210.635 400.956 210.002 Q401.588 209.346 402.455 208.972 Q403.345 208.573 404.328 208.573 Q405.289 208.573 406.226 208.831 Q407.163 209.065 407.959 209.838 Q408.779 210.588 408.779 211.735 Z\" fill=\"#000000\" fill-rule=\"nonzero\" fill-opacity=\"1\" /><path clip-path=\"url(#clip160)\" d=\"M457.019 217.099 Q457.3 217.38 457.3 217.778 Q457.3 218.177 457.019 218.458 Q456.738 218.739 456.34 218.739 L426.312 218.739 Q425.914 218.739 425.633 218.458 Q425.352 218.177 425.352 217.778 Q425.352 217.38 425.633 217.099 Q425.914 216.818 426.312 216.818 L456.34 216.818 Q456.738 216.818 457.019 217.099 Z\" fill=\"#000000\" fill-rule=\"nonzero\" fill-opacity=\"1\" /><path clip-path=\"url(#clip160)\" d=\"M497.621 210.822 Q497.621 210.845 497.48 211.689 L492.14 232.98 Q491.859 234.104 491.062 235.228 Q490.29 236.376 489.048 237.36 Q487.83 238.367 485.956 238.976 Q484.106 239.608 481.975 239.608 Q478.578 239.608 477.079 238.882 Q475.604 238.179 475.604 236.68 Q475.604 235.369 476.423 234.619 Q477.243 233.893 478.18 233.893 Q479.07 233.893 479.539 234.408 Q480.007 234.924 480.007 235.579 Q480.007 236.306 479.515 237.032 Q479.023 237.781 478.04 238.062 Q479.609 238.554 481.881 238.554 Q486.682 238.554 488.744 233.471 Q488.791 233.401 488.791 233.378 L490.383 227.03 L490.313 226.983 Q489.915 227.452 489.282 227.991 Q488.673 228.506 487.362 229.138 Q486.05 229.771 484.762 229.771 Q482.068 229.771 480.218 227.71 Q478.391 225.625 478.391 222.182 Q478.391 219.676 479.398 217.169 Q480.429 214.64 482.021 212.789 Q483.638 210.916 485.699 209.744 Q487.783 208.573 489.798 208.573 Q491.203 208.573 492.398 209.417 Q493.592 210.236 494.248 211.595 Q494.365 210.471 494.997 210.002 Q495.653 209.534 496.215 209.534 Q496.848 209.534 497.223 209.885 Q497.621 210.213 497.621 210.822 M493.686 213.75 Q493.686 213.609 493.592 213.234 Q493.498 212.836 493.217 212.204 Q492.96 211.571 492.562 211.009 Q492.163 210.447 491.437 210.049 Q490.735 209.627 489.845 209.627 Q488.392 209.627 486.94 210.845 Q485.488 212.04 484.481 213.89 Q483.544 215.67 482.654 219.113 Q481.787 222.557 481.787 224.313 Q481.787 226.047 482.537 227.382 Q483.286 228.717 484.902 228.717 Q486.776 228.717 488.791 226.983 Q490.875 225.18 491.226 223.634 L493.545 214.476 Q493.686 213.914 493.686 213.75 Z\" fill=\"#000000\" fill-rule=\"nonzero\" fill-opacity=\"1\" /><path clip-path=\"url(#clip160)\" d=\"M504.192 217.778 Q504.192 209.674 507.214 203.139 Q508.502 200.399 510.306 198.104 Q512.109 195.808 513.304 194.801 Q514.498 193.794 514.826 193.794 Q515.295 193.794 515.318 194.262 Q515.318 194.496 514.686 195.082 Q506.956 202.952 506.98 217.778 Q506.98 232.652 514.498 240.217 Q515.318 241.037 515.318 241.295 Q515.318 241.763 514.826 241.763 Q514.498 241.763 513.351 240.803 Q512.203 239.842 510.423 237.641 Q508.643 235.439 507.354 232.745 Q504.192 226.21 504.192 217.778 Z\" fill=\"#000000\" fill-rule=\"nonzero\" fill-opacity=\"1\" /><path clip-path=\"url(#clip160)\" d=\"M542.851 211.735 Q542.851 213.047 542.031 213.797 Q541.211 214.523 540.274 214.523 Q539.384 214.523 538.916 214.007 Q538.447 213.492 538.447 212.836 Q538.447 211.946 539.103 211.173 Q539.759 210.4 540.743 210.236 Q539.782 209.627 538.354 209.627 Q537.417 209.627 536.597 210.119 Q535.801 210.611 535.309 211.244 Q534.84 211.876 534.419 212.789 Q534.021 213.679 533.857 214.218 Q533.716 214.733 533.599 215.296 L531.959 221.854 Q531.163 224.969 531.163 226.07 Q531.163 227.428 531.819 228.342 Q532.475 229.232 533.786 229.232 Q534.302 229.232 534.887 229.091 Q535.473 228.927 536.222 228.506 Q536.995 228.061 537.674 227.405 Q538.377 226.726 539.056 225.578 Q539.736 224.43 540.181 222.955 Q540.321 222.439 540.79 222.439 Q541.375 222.439 541.375 222.908 Q541.375 223.306 541.047 224.149 Q540.743 224.969 540.064 226.047 Q539.408 227.101 538.541 228.061 Q537.674 228.998 536.386 229.654 Q535.098 230.309 533.693 230.309 Q531.678 230.309 530.343 229.232 Q529.008 228.155 528.516 226.655 Q528.399 226.866 528.235 227.147 Q528.071 227.428 527.579 228.061 Q527.111 228.67 526.572 229.138 Q526.034 229.583 525.19 229.935 Q524.371 230.309 523.48 230.309 Q522.356 230.309 521.349 229.981 Q520.365 229.654 519.663 228.904 Q518.96 228.155 518.96 227.124 Q518.96 225.976 519.733 225.18 Q520.529 224.36 521.607 224.36 Q522.286 224.36 522.825 224.758 Q523.387 225.156 523.387 226.023 Q523.387 226.983 522.731 227.71 Q522.075 228.436 521.138 228.623 Q522.099 229.232 523.527 229.232 Q525.073 229.232 526.291 227.873 Q527.509 226.515 528.095 224.243 Q529.547 218.786 530.109 216.35 Q530.671 213.89 530.671 212.836 Q530.671 211.853 530.414 211.173 Q530.156 210.494 529.711 210.19 Q529.289 209.862 528.891 209.744 Q528.516 209.627 528.095 209.627 Q527.392 209.627 526.596 209.908 Q525.823 210.19 524.886 210.845 Q523.972 211.478 523.106 212.789 Q522.239 214.101 521.654 215.905 Q521.536 216.443 521.021 216.443 Q520.459 216.42 520.459 215.951 Q520.459 215.553 520.763 214.733 Q521.091 213.89 521.747 212.836 Q522.426 211.782 523.293 210.845 Q524.183 209.885 525.471 209.229 Q526.783 208.573 528.188 208.573 Q528.821 208.573 529.43 208.714 Q530.062 208.831 530.812 209.182 Q531.585 209.534 532.264 210.307 Q532.943 211.08 533.365 212.204 Q533.646 211.665 534.021 211.15 Q534.419 210.635 535.028 210.002 Q535.66 209.346 536.527 208.972 Q537.417 208.573 538.401 208.573 Q539.361 208.573 540.298 208.831 Q541.235 209.065 542.031 209.838 Q542.851 210.588 542.851 211.735 Z\" fill=\"#000000\" fill-rule=\"nonzero\" fill-opacity=\"1\" /><path clip-path=\"url(#clip160)\" d=\"M547.463 241.295 Q547.463 241.06 548.072 240.475 Q555.802 232.605 555.802 217.778 Q555.802 202.905 548.377 195.387 Q547.463 194.52 547.463 194.262 Q547.463 193.794 547.932 193.794 Q548.26 193.794 549.407 194.754 Q550.579 195.714 552.335 197.916 Q554.115 200.118 555.427 202.811 Q558.589 209.346 558.589 217.778 Q558.589 225.883 555.568 232.417 Q554.279 235.158 552.476 237.453 Q550.672 239.749 549.478 240.756 Q548.283 241.763 547.932 241.763 Q547.463 241.763 547.463 241.295 Z\" fill=\"#000000\" fill-rule=\"nonzero\" fill-opacity=\"1\" /><circle clip-path=\"url(#clip160)\" cx=\"285.249\" cy=\"279.235\" r=\"20.48\" fill=\"#3da44d\" fill-rule=\"evenodd\" fill-opacity=\"1\" stroke=\"#000000\" stroke-opacity=\"1\" stroke-width=\"4.55111\"/>\n",
       "<path clip-path=\"url(#clip160)\" d=\"M408.779 270.756 Q408.779 272.068 407.959 272.818 Q407.139 273.544 406.202 273.544 Q405.312 273.544 404.844 273.028 Q404.375 272.513 404.375 271.857 Q404.375 270.967 405.031 270.194 Q405.687 269.421 406.671 269.257 Q405.71 268.648 404.282 268.648 Q403.345 268.648 402.525 269.14 Q401.729 269.632 401.237 270.265 Q400.768 270.897 400.347 271.811 Q399.948 272.701 399.785 273.239 Q399.644 273.755 399.527 274.317 L397.887 280.875 Q397.091 283.99 397.091 285.091 Q397.091 286.45 397.747 287.363 Q398.403 288.253 399.714 288.253 Q400.23 288.253 400.815 288.113 Q401.401 287.949 402.15 287.527 Q402.923 287.082 403.602 286.426 Q404.305 285.747 404.984 284.599 Q405.664 283.451 406.109 281.976 Q406.249 281.461 406.718 281.461 Q407.303 281.461 407.303 281.929 Q407.303 282.327 406.975 283.17 Q406.671 283.99 405.991 285.068 Q405.336 286.122 404.469 287.082 Q403.602 288.019 402.314 288.675 Q401.026 289.33 399.621 289.33 Q397.606 289.33 396.271 288.253 Q394.936 287.176 394.444 285.677 Q394.327 285.887 394.163 286.168 Q393.999 286.45 393.507 287.082 Q393.039 287.691 392.5 288.159 Q391.961 288.604 391.118 288.956 Q390.298 289.33 389.408 289.33 Q388.284 289.33 387.277 289.003 Q386.293 288.675 385.591 287.925 Q384.888 287.176 384.888 286.145 Q384.888 284.997 385.661 284.201 Q386.457 283.381 387.535 283.381 Q388.214 283.381 388.753 283.779 Q389.315 284.178 389.315 285.044 Q389.315 286.005 388.659 286.731 Q388.003 287.457 387.066 287.644 Q388.026 288.253 389.455 288.253 Q391.001 288.253 392.219 286.895 Q393.437 285.536 394.023 283.264 Q395.475 277.807 396.037 275.371 Q396.599 272.911 396.599 271.857 Q396.599 270.874 396.341 270.194 Q396.084 269.515 395.639 269.211 Q395.217 268.883 394.819 268.766 Q394.444 268.648 394.023 268.648 Q393.32 268.648 392.524 268.93 Q391.751 269.211 390.814 269.866 Q389.9 270.499 389.034 271.811 Q388.167 273.122 387.581 274.926 Q387.464 275.464 386.949 275.464 Q386.387 275.441 386.387 274.973 Q386.387 274.574 386.691 273.755 Q387.019 272.911 387.675 271.857 Q388.354 270.803 389.221 269.866 Q390.111 268.906 391.399 268.25 Q392.711 267.594 394.116 267.594 Q394.749 267.594 395.358 267.735 Q395.99 267.852 396.74 268.203 Q397.513 268.555 398.192 269.328 Q398.871 270.101 399.293 271.225 Q399.574 270.686 399.948 270.171 Q400.347 269.656 400.956 269.023 Q401.588 268.367 402.455 267.993 Q403.345 267.594 404.328 267.594 Q405.289 267.594 406.226 267.852 Q407.163 268.086 407.959 268.859 Q408.779 269.609 408.779 270.756 Z\" fill=\"#000000\" fill-rule=\"nonzero\" fill-opacity=\"1\" /><path clip-path=\"url(#clip160)\" d=\"M431.863 297.808 Q431.863 297.939 431.716 298.448 Q431.568 298.956 431.207 299.743 Q430.863 300.53 430.388 301.251 Q429.912 301.956 429.125 302.481 Q428.355 302.989 427.469 302.989 Q426.289 302.989 425.502 302.202 Q424.715 301.415 424.715 300.235 Q424.715 299.579 425.059 298.677 Q427.24 292.857 427.24 290.856 Q427.24 288.512 425.42 288.512 Q424.518 288.512 423.665 288.856 Q422.829 289.184 422.255 289.643 Q421.682 290.102 421.157 290.742 Q420.649 291.365 420.386 291.791 Q420.14 292.201 419.944 292.611 L419.517 294.283 Q419.419 294.742 418.944 296.529 L418.206 299.562 Q417.681 301.825 417.566 302.038 Q417.402 302.497 417.042 302.743 Q416.681 302.989 416.32 302.989 Q415.91 302.989 415.632 302.743 Q415.353 302.497 415.353 302.071 Q415.353 302.005 415.402 301.76 Q415.451 301.514 415.533 301.169 Q415.615 300.825 415.648 300.628 L417.599 292.873 Q417.96 291.463 418.042 291.02 Q418.14 290.561 418.14 290.053 Q418.14 288.512 417.091 288.512 Q416.238 288.512 415.681 289.528 Q415.123 290.545 414.648 292.512 Q414.5 293.053 414.402 293.168 Q414.32 293.283 414.074 293.283 Q413.664 293.267 413.664 292.939 Q413.664 292.857 413.795 292.316 Q413.926 291.775 414.172 291.004 Q414.435 290.217 414.681 289.692 Q414.894 289.299 415.009 289.118 Q415.14 288.922 415.451 288.545 Q415.779 288.151 416.205 287.971 Q416.648 287.774 417.189 287.774 Q418.402 287.774 419.288 288.561 Q420.173 289.332 420.288 290.692 Q422.469 287.774 425.518 287.774 Q427.322 287.774 428.355 288.725 Q429.388 289.676 429.388 291.365 Q429.388 291.758 429.306 292.266 Q429.24 292.758 429.076 293.381 Q428.928 294.004 428.797 294.48 Q428.666 294.955 428.404 295.726 Q428.141 296.48 428.027 296.808 Q427.912 297.136 427.633 297.907 Q427.371 298.661 427.338 298.743 Q426.731 300.267 426.731 301.136 Q426.731 301.71 426.912 301.973 Q427.109 302.235 427.535 302.235 Q428.683 302.235 429.535 301.104 Q430.404 299.956 430.962 298.087 Q431.093 297.677 431.158 297.579 Q431.24 297.48 431.47 297.48 Q431.863 297.48 431.863 297.808 Z\" fill=\"#000000\" fill-rule=\"nonzero\" fill-opacity=\"1\" /><path clip-path=\"url(#clip160)\" d=\"M443.685 294.627 Q442.914 294.627 442.914 294.217 Q442.914 293.808 443.718 293.808 Q443.816 293.808 443.98 293.824 Q444.16 293.84 444.193 293.84 L453.654 293.84 L453.654 284.347 Q453.654 284.314 453.637 284.167 Q453.621 284.003 453.621 283.905 Q453.621 283.101 454.014 283.101 Q454.424 283.101 454.424 283.905 L454.424 293.84 L463.901 293.84 Q463.934 293.84 464.098 293.824 Q464.262 293.808 464.36 293.808 Q465.131 293.808 465.131 294.217 Q465.147 294.627 464.327 294.627 Q464.229 294.627 464.081 294.611 Q463.934 294.595 463.901 294.595 L454.424 294.595 L454.424 304.563 Q454.424 305.334 454.014 305.334 Q453.621 305.334 453.621 304.53 Q453.621 304.432 453.637 304.268 Q453.654 304.12 453.654 304.088 L453.654 294.595 L444.193 294.595 Q444.16 294.595 443.964 294.611 Q443.783 294.627 443.685 294.627 Z\" fill=\"#000000\" fill-rule=\"nonzero\" fill-opacity=\"1\" /><path clip-path=\"url(#clip160)\" d=\"M478.091 283.445 L478.091 282.396 Q482.124 282.396 484.206 280.248 Q484.78 280.248 484.878 280.38 Q484.977 280.511 484.977 281.117 L484.977 299.956 Q484.977 300.956 485.469 301.268 Q485.961 301.579 488.108 301.579 L489.174 301.579 L489.174 302.612 Q487.994 302.514 483.731 302.514 Q479.468 302.514 478.304 302.612 L478.304 301.579 L479.369 301.579 Q481.485 301.579 481.993 301.284 Q482.501 300.973 482.501 299.956 L482.501 282.56 Q480.747 283.445 478.091 283.445 Z\" fill=\"#000000\" fill-rule=\"nonzero\" fill-opacity=\"1\" /><path clip-path=\"url(#clip160)\" d=\"M513.14 281.507 Q513.187 280.922 514.101 280.922 L543.496 280.922 Q544.878 280.922 544.901 281.461 Q544.901 282.046 543.589 282.023 L514.429 282.023 Q513.14 282.046 513.14 281.507 M513.14 272.138 Q513.14 271.553 514.147 271.576 L543.449 271.576 Q544.878 271.576 544.901 272.138 Q544.901 272.677 543.683 272.677 L514.101 272.677 Q513.14 272.677 513.14 272.138 Z\" fill=\"#000000\" fill-rule=\"nonzero\" fill-opacity=\"1\" /><path clip-path=\"url(#clip160)\" d=\"M585.409 269.843 Q585.409 269.866 585.269 270.71 L579.928 292.001 Q579.647 293.125 578.851 294.249 Q578.078 295.397 576.836 296.381 Q575.619 297.388 573.745 297.997 Q571.894 298.629 569.763 298.629 Q566.367 298.629 564.868 297.903 Q563.392 297.2 563.392 295.701 Q563.392 294.39 564.212 293.64 Q565.032 292.914 565.968 292.914 Q566.859 292.914 567.327 293.429 Q567.795 293.945 567.795 294.601 Q567.795 295.327 567.304 296.053 Q566.812 296.802 565.828 297.083 Q567.397 297.575 569.669 297.575 Q574.471 297.575 576.532 292.493 Q576.579 292.422 576.579 292.399 L578.172 286.051 L578.101 286.005 Q577.703 286.473 577.071 287.012 Q576.462 287.527 575.15 288.159 Q573.838 288.792 572.55 288.792 Q569.857 288.792 568.006 286.731 Q566.179 284.646 566.179 281.203 Q566.179 278.697 567.186 276.19 Q568.217 273.661 569.81 271.811 Q571.426 269.937 573.487 268.766 Q575.572 267.594 577.586 267.594 Q578.991 267.594 580.186 268.438 Q581.38 269.257 582.036 270.616 Q582.153 269.492 582.786 269.023 Q583.442 268.555 584.004 268.555 Q584.636 268.555 585.011 268.906 Q585.409 269.234 585.409 269.843 M581.474 272.771 Q581.474 272.63 581.38 272.256 Q581.287 271.857 581.006 271.225 Q580.748 270.593 580.35 270.03 Q579.952 269.468 579.226 269.07 Q578.523 268.648 577.633 268.648 Q576.181 268.648 574.728 269.866 Q573.276 271.061 572.269 272.911 Q571.332 274.691 570.442 278.135 Q569.576 281.578 569.576 283.334 Q569.576 285.068 570.325 286.403 Q571.075 287.738 572.691 287.738 Q574.565 287.738 576.579 286.005 Q578.663 284.201 579.015 282.655 L581.334 273.497 Q581.474 272.935 581.474 272.771 Z\" fill=\"#000000\" fill-rule=\"nonzero\" fill-opacity=\"1\" /><path clip-path=\"url(#clip160)\" d=\"M591.981 276.799 Q591.981 268.695 595.002 262.16 Q596.29 259.42 598.094 257.125 Q599.898 254.829 601.092 253.822 Q602.287 252.815 602.615 252.815 Q603.083 252.815 603.106 253.283 Q603.106 253.518 602.474 254.103 Q594.745 261.973 594.768 276.799 Q594.768 291.673 602.287 299.238 Q603.106 300.058 603.106 300.316 Q603.106 300.784 602.615 300.784 Q602.287 300.784 601.139 299.824 Q599.991 298.863 598.211 296.662 Q596.431 294.46 595.143 291.766 Q591.981 285.232 591.981 276.799 Z\" fill=\"#000000\" fill-rule=\"nonzero\" fill-opacity=\"1\" /><path clip-path=\"url(#clip160)\" d=\"M634.287 270.756 Q634.287 272.068 633.467 272.818 Q632.648 273.544 631.711 273.544 Q630.821 273.544 630.352 273.028 Q629.884 272.513 629.884 271.857 Q629.884 270.967 630.54 270.194 Q631.195 269.421 632.179 269.257 Q631.219 268.648 629.79 268.648 Q628.853 268.648 628.033 269.14 Q627.237 269.632 626.745 270.265 Q626.277 270.897 625.855 271.811 Q625.457 272.701 625.293 273.239 Q625.152 273.755 625.035 274.317 L623.396 280.875 Q622.599 283.99 622.599 285.091 Q622.599 286.45 623.255 287.363 Q623.911 288.253 625.223 288.253 Q625.738 288.253 626.324 288.113 Q626.909 287.949 627.659 287.527 Q628.432 287.082 629.111 286.426 Q629.813 285.747 630.493 284.599 Q631.172 283.451 631.617 281.976 Q631.758 281.461 632.226 281.461 Q632.812 281.461 632.812 281.929 Q632.812 282.327 632.484 283.17 Q632.179 283.99 631.5 285.068 Q630.844 286.122 629.977 287.082 Q629.111 288.019 627.823 288.675 Q626.534 289.33 625.129 289.33 Q623.115 289.33 621.78 288.253 Q620.444 287.176 619.953 285.677 Q619.836 285.887 619.672 286.168 Q619.508 286.45 619.016 287.082 Q618.547 287.691 618.009 288.159 Q617.47 288.604 616.627 288.956 Q615.807 289.33 614.917 289.33 Q613.793 289.33 612.785 289.003 Q611.802 288.675 611.099 287.925 Q610.396 287.176 610.396 286.145 Q610.396 284.997 611.169 284.201 Q611.966 283.381 613.043 283.381 Q613.722 283.381 614.261 283.779 Q614.823 284.178 614.823 285.044 Q614.823 286.005 614.167 286.731 Q613.511 287.457 612.575 287.644 Q613.535 288.253 614.964 288.253 Q616.51 288.253 617.727 286.895 Q618.945 285.536 619.531 283.264 Q620.983 277.807 621.545 275.371 Q622.107 272.911 622.107 271.857 Q622.107 270.874 621.85 270.194 Q621.592 269.515 621.147 269.211 Q620.726 268.883 620.327 268.766 Q619.953 268.648 619.531 268.648 Q618.828 268.648 618.032 268.93 Q617.259 269.211 616.322 269.866 Q615.409 270.499 614.542 271.811 Q613.675 273.122 613.09 274.926 Q612.973 275.464 612.457 275.464 Q611.895 275.441 611.895 274.973 Q611.895 274.574 612.2 273.755 Q612.528 272.911 613.184 271.857 Q613.863 270.803 614.729 269.866 Q615.619 268.906 616.908 268.25 Q618.219 267.594 619.625 267.594 Q620.257 267.594 620.866 267.735 Q621.498 267.852 622.248 268.203 Q623.021 268.555 623.7 269.328 Q624.379 270.101 624.801 271.225 Q625.082 270.686 625.457 270.171 Q625.855 269.656 626.464 269.023 Q627.096 268.367 627.963 267.993 Q628.853 267.594 629.837 267.594 Q630.797 267.594 631.734 267.852 Q632.671 268.086 633.467 268.859 Q634.287 269.609 634.287 270.756 Z\" fill=\"#000000\" fill-rule=\"nonzero\" fill-opacity=\"1\" /><path clip-path=\"url(#clip160)\" d=\"M657.372 293.333 Q657.372 293.464 657.224 293.972 Q657.077 294.48 656.716 295.267 Q656.372 296.054 655.896 296.776 Q655.421 297.481 654.634 298.005 Q653.863 298.514 652.978 298.514 Q651.797 298.514 651.01 297.727 Q650.223 296.94 650.223 295.759 Q650.223 295.103 650.568 294.201 Q652.748 288.381 652.748 286.381 Q652.748 284.036 650.928 284.036 Q650.026 284.036 649.174 284.38 Q648.338 284.708 647.764 285.167 Q647.19 285.627 646.665 286.266 Q646.157 286.889 645.895 287.315 Q645.649 287.725 645.452 288.135 L645.026 289.807 Q644.927 290.267 644.452 292.054 L643.714 295.087 Q643.189 297.349 643.075 297.563 Q642.911 298.022 642.55 298.268 Q642.189 298.514 641.829 298.514 Q641.419 298.514 641.14 298.268 Q640.861 298.022 640.861 297.595 Q640.861 297.53 640.91 297.284 Q640.96 297.038 641.042 296.694 Q641.124 296.349 641.156 296.153 L643.107 288.397 Q643.468 286.987 643.55 286.545 Q643.649 286.086 643.649 285.577 Q643.649 284.036 642.599 284.036 Q641.747 284.036 641.189 285.053 Q640.632 286.069 640.156 288.037 Q640.009 288.578 639.91 288.693 Q639.828 288.807 639.582 288.807 Q639.173 288.791 639.173 288.463 Q639.173 288.381 639.304 287.84 Q639.435 287.299 639.681 286.528 Q639.943 285.741 640.189 285.217 Q640.402 284.823 640.517 284.643 Q640.648 284.446 640.96 284.069 Q641.288 283.675 641.714 283.495 Q642.157 283.298 642.698 283.298 Q643.911 283.298 644.796 284.085 Q645.682 284.856 645.796 286.217 Q647.977 283.298 651.027 283.298 Q652.83 283.298 653.863 284.249 Q654.896 285.2 654.896 286.889 Q654.896 287.282 654.814 287.791 Q654.748 288.283 654.584 288.906 Q654.437 289.529 654.306 290.004 Q654.175 290.48 653.912 291.25 Q653.65 292.004 653.535 292.332 Q653.42 292.66 653.142 293.431 Q652.879 294.185 652.847 294.267 Q652.24 295.792 652.24 296.661 Q652.24 297.235 652.42 297.497 Q652.617 297.759 653.043 297.759 Q654.191 297.759 655.044 296.628 Q655.913 295.48 656.47 293.611 Q656.601 293.201 656.667 293.103 Q656.749 293.005 656.978 293.005 Q657.372 293.005 657.372 293.333 Z\" fill=\"#000000\" fill-rule=\"nonzero\" fill-opacity=\"1\" /><path clip-path=\"url(#clip160)\" d=\"M662.307 300.316 Q662.307 300.081 662.916 299.496 Q670.645 291.626 670.645 276.799 Q670.645 261.926 663.22 254.408 Q662.307 253.541 662.307 253.283 Q662.307 252.815 662.775 252.815 Q663.103 252.815 664.251 253.775 Q665.422 254.736 667.178 256.937 Q668.959 259.139 670.27 261.833 Q673.432 268.367 673.432 276.799 Q673.432 284.904 670.411 291.439 Q669.123 294.179 667.319 296.474 Q665.515 298.77 664.321 299.777 Q663.126 300.784 662.775 300.784 Q662.307 300.784 662.307 300.316 Z\" fill=\"#000000\" fill-rule=\"nonzero\" fill-opacity=\"1\" /><circle clip-path=\"url(#clip160)\" cx=\"285.249\" cy=\"340.574\" r=\"20.48\" fill=\"#c271d2\" fill-rule=\"evenodd\" fill-opacity=\"1\" stroke=\"#000000\" stroke-opacity=\"1\" stroke-width=\"4.55111\"/>\n",
       "<path clip-path=\"url(#clip160)\" d=\"M407.022 326.159 Q407.022 326.487 406.811 327.26 L402.22 345.576 Q401.213 349.652 397.934 352.509 Q394.678 355.367 390.978 355.367 Q388.753 355.367 387.324 354.172 Q385.895 353.001 385.895 351.198 Q385.895 349.605 386.738 348.832 Q387.581 348.082 388.589 348.082 Q388.916 348.082 389.268 348.176 Q389.619 348.27 389.994 348.668 Q390.369 349.066 390.369 349.745 Q390.369 350.846 389.408 351.713 Q388.94 352.111 388.495 352.205 Q388.073 352.298 387.347 352.298 Q387.628 352.954 388.144 353.399 Q388.659 353.844 389.244 354.008 Q389.83 354.196 390.205 354.242 Q390.603 354.313 390.978 354.313 Q393.976 354.313 396.271 351.291 Q396.95 350.378 397.442 349.464 Q397.958 348.574 398.332 347.473 Q398.707 346.396 398.871 345.81 Q399.058 345.225 399.386 343.89 Q397.208 346.068 394.538 346.068 Q393.414 346.068 392.406 345.763 Q391.423 345.459 390.556 344.827 Q389.689 344.171 389.174 343.023 Q388.682 341.875 388.682 340.353 Q388.682 338.737 389.315 336.535 Q389.947 334.333 391.47 330.281 Q392.289 328.009 392.289 326.908 Q392.289 326.37 392.172 326.042 Q392.055 325.69 391.821 325.573 Q391.587 325.433 391.446 325.409 Q391.329 325.386 391.095 325.386 Q389.713 325.386 388.425 326.791 Q387.136 328.197 386.246 331.335 Q386.059 331.921 385.942 332.061 Q385.825 332.202 385.473 332.202 Q384.888 332.178 384.888 331.71 Q384.888 331.523 385.099 330.797 Q385.309 330.047 385.801 328.946 Q386.317 327.822 387.019 326.815 Q387.722 325.784 388.823 325.058 Q389.947 324.332 391.235 324.332 Q392.992 324.332 394.069 325.48 Q395.17 326.604 395.17 328.267 Q395.17 328.946 394.983 329.555 Q394.819 330.141 394.21 331.71 Q391.751 338.034 391.751 341.126 Q391.751 341.875 391.868 342.508 Q392.008 343.117 392.313 343.726 Q392.617 344.311 393.226 344.663 Q393.859 344.991 394.725 344.991 Q395.826 344.991 396.857 344.475 Q397.911 343.937 398.567 343.21 Q399.246 342.484 399.644 341.875 Q400.066 341.243 400.159 340.915 L402.314 332.296 L403.274 328.454 Q403.719 326.37 403.93 325.854 Q404.211 325.363 404.703 325.105 Q405.195 324.847 405.617 324.847 Q406.202 324.847 406.6 325.199 Q407.022 325.55 407.022 326.159 Z\" fill=\"#000000\" fill-rule=\"nonzero\" fill-opacity=\"1\" /><path clip-path=\"url(#clip160)\" d=\"M430.113 363.749 Q430.113 363.88 429.966 364.388 Q429.818 364.896 429.457 365.683 Q429.113 366.47 428.638 367.192 Q428.162 367.897 427.375 368.422 Q426.605 368.93 425.719 368.93 Q424.539 368.93 423.752 368.143 Q422.965 367.356 422.965 366.175 Q422.965 365.52 423.309 364.618 Q425.49 358.797 425.49 356.797 Q425.49 354.452 423.67 354.452 Q422.768 354.452 421.915 354.797 Q421.079 355.125 420.505 355.584 Q419.932 356.043 419.407 356.682 Q418.899 357.305 418.636 357.732 Q418.39 358.141 418.194 358.551 L417.767 360.224 Q417.669 360.683 417.194 362.47 L416.456 365.503 Q415.931 367.766 415.816 367.979 Q415.652 368.438 415.292 368.684 Q414.931 368.93 414.57 368.93 Q414.16 368.93 413.882 368.684 Q413.603 368.438 413.603 368.012 Q413.603 367.946 413.652 367.7 Q413.701 367.454 413.783 367.11 Q413.865 366.766 413.898 366.569 L415.849 358.814 Q416.21 357.404 416.292 356.961 Q416.39 356.502 416.39 355.994 Q416.39 354.452 415.341 354.452 Q414.488 354.452 413.931 355.469 Q413.373 356.485 412.898 358.453 Q412.75 358.994 412.652 359.109 Q412.57 359.224 412.324 359.224 Q411.914 359.207 411.914 358.879 Q411.914 358.797 412.045 358.256 Q412.176 357.715 412.422 356.945 Q412.685 356.158 412.931 355.633 Q413.144 355.239 413.259 355.059 Q413.39 354.862 413.701 354.485 Q414.029 354.092 414.455 353.911 Q414.898 353.715 415.439 353.715 Q416.652 353.715 417.538 354.502 Q418.423 355.272 418.538 356.633 Q420.719 353.715 423.768 353.715 Q425.572 353.715 426.605 354.666 Q427.638 355.616 427.638 357.305 Q427.638 357.699 427.556 358.207 Q427.49 358.699 427.326 359.322 Q427.178 359.945 427.047 360.42 Q426.916 360.896 426.654 361.667 Q426.391 362.421 426.277 362.749 Q426.162 363.077 425.883 363.847 Q425.621 364.601 425.588 364.683 Q424.981 366.208 424.981 367.077 Q424.981 367.651 425.162 367.913 Q425.359 368.176 425.785 368.176 Q426.933 368.176 427.785 367.044 Q428.654 365.897 429.212 364.027 Q429.343 363.618 429.408 363.519 Q429.49 363.421 429.72 363.421 Q430.113 363.421 430.113 363.749 Z\" fill=\"#000000\" fill-rule=\"nonzero\" fill-opacity=\"1\" /><path clip-path=\"url(#clip160)\" d=\"M441.935 360.568 Q441.164 360.568 441.164 360.158 Q441.164 359.748 441.968 359.748 Q442.066 359.748 442.23 359.765 Q442.41 359.781 442.443 359.781 L451.904 359.781 L451.904 350.288 Q451.904 350.255 451.887 350.108 Q451.871 349.944 451.871 349.845 Q451.871 349.042 452.264 349.042 Q452.674 349.042 452.674 349.845 L452.674 359.781 L462.151 359.781 Q462.184 359.781 462.348 359.765 Q462.512 359.748 462.61 359.748 Q463.381 359.748 463.381 360.158 Q463.397 360.568 462.577 360.568 Q462.479 360.568 462.331 360.552 Q462.184 360.535 462.151 360.535 L452.674 360.535 L452.674 370.504 Q452.674 371.274 452.264 371.274 Q451.871 371.274 451.871 370.471 Q451.871 370.373 451.887 370.209 Q451.904 370.061 451.904 370.028 L451.904 360.535 L442.443 360.535 Q442.41 360.535 442.214 360.552 Q442.033 360.568 441.935 360.568 Z\" fill=\"#000000\" fill-rule=\"nonzero\" fill-opacity=\"1\" /><path clip-path=\"url(#clip160)\" d=\"M476.341 349.386 L476.341 348.337 Q480.374 348.337 482.456 346.189 Q483.03 346.189 483.128 346.32 Q483.227 346.451 483.227 347.058 L483.227 365.897 Q483.227 366.897 483.719 367.208 Q484.211 367.52 486.358 367.52 L487.424 367.52 L487.424 368.553 Q486.244 368.454 481.981 368.454 Q477.718 368.454 476.554 368.553 L476.554 367.52 L477.619 367.52 Q479.735 367.52 480.243 367.225 Q480.751 366.913 480.751 365.897 L480.751 348.501 Q478.997 349.386 476.341 349.386 Z\" fill=\"#000000\" fill-rule=\"nonzero\" fill-opacity=\"1\" /><path clip-path=\"url(#clip160)\" d=\"M511.39 338.245 Q511.437 337.659 512.351 337.659 L541.746 337.659 Q543.128 337.659 543.151 338.198 Q543.151 338.784 541.839 338.76 L512.679 338.76 Q511.39 338.784 511.39 338.245 M511.39 328.876 Q511.39 328.29 512.397 328.314 L541.699 328.314 Q543.128 328.314 543.151 328.876 Q543.151 329.415 541.933 329.415 L512.351 329.415 Q511.39 329.415 511.39 328.876 Z\" fill=\"#000000\" fill-rule=\"nonzero\" fill-opacity=\"1\" /><path clip-path=\"url(#clip160)\" d=\"M585.182 338.666 Q585.182 338.854 584.971 339.58 Q584.76 340.306 584.245 341.43 Q583.753 342.555 583.074 343.585 Q582.394 344.592 581.27 345.342 Q580.169 346.068 578.904 346.068 Q577.218 346.068 576.094 344.944 Q574.969 343.819 574.969 342.133 Q574.969 341.899 574.993 341.665 Q575.016 341.43 575.04 341.29 Q575.063 341.126 575.133 340.868 Q575.227 340.587 575.25 340.47 Q575.297 340.353 575.414 340.002 Q575.555 339.627 575.602 339.486 Q578.576 331.897 578.576 328.735 Q578.576 325.386 575.977 325.386 Q573.658 325.386 571.362 327.072 Q570.308 327.916 569.301 329.415 Q568.294 330.914 568.107 331.476 Q567.896 332.694 567.591 333.631 Q567.451 334.286 566.772 336.84 L565.718 341.173 L564.804 344.803 Q564.617 345.318 564.101 345.693 Q563.586 346.068 563.024 346.068 Q562.555 346.068 562.087 345.74 Q561.642 345.436 561.642 344.709 Q561.642 344.335 561.829 343.655 L568.786 316.017 L568.926 315.08 Q568.926 314.799 568.809 314.658 Q568.716 314.495 568.153 314.377 Q567.615 314.26 566.537 314.26 Q566.092 314.26 565.881 314.237 Q565.694 314.213 565.53 314.096 Q565.366 313.956 565.366 313.675 Q565.366 313.277 565.53 313.066 Q565.718 312.832 565.858 312.785 Q565.999 312.738 566.28 312.714 Q566.678 312.691 568.013 312.574 Q569.348 312.433 570.496 312.34 Q571.643 312.246 572.135 312.246 Q572.416 312.246 572.557 312.387 Q572.721 312.504 572.744 312.644 L572.768 312.761 L569.02 328.009 Q571.995 324.332 576.117 324.332 Q578.787 324.332 580.216 325.714 Q581.645 327.072 581.645 329.461 Q581.645 332.202 578.717 340.002 Q577.85 342.18 577.85 343.421 Q577.85 344.241 578.108 344.616 Q578.389 344.991 578.998 344.991 Q579.935 344.991 580.755 344.452 Q581.598 343.89 582.183 342.976 Q582.769 342.039 583.167 341.102 Q583.589 340.142 583.893 339.065 Q584.081 338.479 584.174 338.339 Q584.292 338.198 584.619 338.198 Q585.182 338.198 585.182 338.666 Z\" fill=\"#000000\" fill-rule=\"nonzero\" fill-opacity=\"1\" /><path clip-path=\"url(#clip160)\" d=\"M591.099 333.537 Q591.099 325.433 594.12 318.898 Q595.409 316.158 597.212 313.862 Q599.016 311.567 600.21 310.56 Q601.405 309.552 601.733 309.552 Q602.201 309.552 602.225 310.021 Q602.225 310.255 601.592 310.841 Q593.863 318.711 593.886 333.537 Q593.886 348.41 601.405 355.976 Q602.225 356.795 602.225 357.053 Q602.225 357.522 601.733 357.522 Q601.405 357.522 600.257 356.561 Q599.109 355.601 597.329 353.399 Q595.549 351.198 594.261 348.504 Q591.099 341.969 591.099 333.537 Z\" fill=\"#000000\" fill-rule=\"nonzero\" fill-opacity=\"1\" /><path clip-path=\"url(#clip160)\" d=\"M631.649 326.159 Q631.649 326.487 631.438 327.26 L626.847 345.576 Q625.84 349.652 622.561 352.509 Q619.305 355.367 615.604 355.367 Q613.379 355.367 611.95 354.172 Q610.522 353.001 610.522 351.198 Q610.522 349.605 611.365 348.832 Q612.208 348.082 613.215 348.082 Q613.543 348.082 613.895 348.176 Q614.246 348.27 614.621 348.668 Q614.995 349.066 614.995 349.745 Q614.995 350.846 614.035 351.713 Q613.567 352.111 613.122 352.205 Q612.7 352.298 611.974 352.298 Q612.255 352.954 612.77 353.399 Q613.286 353.844 613.871 354.008 Q614.457 354.196 614.831 354.242 Q615.23 354.313 615.604 354.313 Q618.602 354.313 620.898 351.291 Q621.577 350.378 622.069 349.464 Q622.584 348.574 622.959 347.473 Q623.334 346.396 623.498 345.81 Q623.685 345.225 624.013 343.89 Q621.835 346.068 619.165 346.068 Q618.04 346.068 617.033 345.763 Q616.049 345.459 615.183 344.827 Q614.316 344.171 613.801 343.023 Q613.309 341.875 613.309 340.353 Q613.309 338.737 613.941 336.535 Q614.574 334.333 616.096 330.281 Q616.916 328.009 616.916 326.908 Q616.916 326.37 616.799 326.042 Q616.682 325.69 616.448 325.573 Q616.213 325.433 616.073 325.409 Q615.956 325.386 615.721 325.386 Q614.34 325.386 613.051 326.791 Q611.763 328.197 610.873 331.335 Q610.686 331.921 610.569 332.061 Q610.451 332.202 610.1 332.202 Q609.515 332.178 609.515 331.71 Q609.515 331.523 609.725 330.797 Q609.936 330.047 610.428 328.946 Q610.943 327.822 611.646 326.815 Q612.349 325.784 613.449 325.058 Q614.574 324.332 615.862 324.332 Q617.619 324.332 618.696 325.48 Q619.797 326.604 619.797 328.267 Q619.797 328.946 619.61 329.555 Q619.446 330.141 618.837 331.71 Q616.377 338.034 616.377 341.126 Q616.377 341.875 616.494 342.508 Q616.635 343.117 616.939 343.726 Q617.244 344.311 617.853 344.663 Q618.485 344.991 619.352 344.991 Q620.453 344.991 621.483 344.475 Q622.537 343.937 623.193 343.21 Q623.872 342.484 624.271 341.875 Q624.692 341.243 624.786 340.915 L626.941 332.296 L627.901 328.454 Q628.346 326.37 628.557 325.854 Q628.838 325.363 629.33 325.105 Q629.822 324.847 630.243 324.847 Q630.829 324.847 631.227 325.199 Q631.649 325.55 631.649 326.159 Z\" fill=\"#000000\" fill-rule=\"nonzero\" fill-opacity=\"1\" /><path clip-path=\"url(#clip160)\" d=\"M654.74 359.273 Q654.74 359.404 654.592 359.913 Q654.445 360.421 654.084 361.208 Q653.74 361.995 653.264 362.716 Q652.789 363.421 652.002 363.946 Q651.231 364.454 650.346 364.454 Q649.165 364.454 648.378 363.667 Q647.591 362.88 647.591 361.7 Q647.591 361.044 647.936 360.142 Q650.116 354.322 650.116 352.321 Q650.116 349.977 648.296 349.977 Q647.395 349.977 646.542 350.321 Q645.706 350.649 645.132 351.108 Q644.558 351.567 644.034 352.207 Q643.525 352.83 643.263 353.256 Q643.017 353.666 642.82 354.076 L642.394 355.748 Q642.296 356.207 641.82 357.994 L641.082 361.027 Q640.558 363.29 640.443 363.503 Q640.279 363.962 639.918 364.208 Q639.558 364.454 639.197 364.454 Q638.787 364.454 638.508 364.208 Q638.23 363.962 638.23 363.536 Q638.23 363.47 638.279 363.225 Q638.328 362.979 638.41 362.634 Q638.492 362.29 638.525 362.093 L640.476 354.338 Q640.836 352.928 640.918 352.485 Q641.017 352.026 641.017 351.518 Q641.017 349.977 639.967 349.977 Q639.115 349.977 638.557 350.993 Q638 352.01 637.525 353.977 Q637.377 354.518 637.279 354.633 Q637.197 354.748 636.951 354.748 Q636.541 354.732 636.541 354.404 Q636.541 354.322 636.672 353.781 Q636.803 353.24 637.049 352.469 Q637.311 351.682 637.557 351.157 Q637.77 350.764 637.885 350.583 Q638.016 350.387 638.328 350.01 Q638.656 349.616 639.082 349.436 Q639.525 349.239 640.066 349.239 Q641.279 349.239 642.164 350.026 Q643.05 350.797 643.165 352.157 Q645.345 349.239 648.395 349.239 Q650.198 349.239 651.231 350.19 Q652.264 351.141 652.264 352.83 Q652.264 353.223 652.182 353.731 Q652.117 354.223 651.953 354.846 Q651.805 355.469 651.674 355.945 Q651.543 356.42 651.281 357.191 Q651.018 357.945 650.903 358.273 Q650.789 358.601 650.51 359.372 Q650.248 360.126 650.215 360.208 Q649.608 361.732 649.608 362.601 Q649.608 363.175 649.788 363.438 Q649.985 363.7 650.412 363.7 Q651.559 363.7 652.412 362.569 Q653.281 361.421 653.838 359.552 Q653.969 359.142 654.035 359.044 Q654.117 358.945 654.347 358.945 Q654.74 358.945 654.74 359.273 Z\" fill=\"#000000\" fill-rule=\"nonzero\" fill-opacity=\"1\" /><path clip-path=\"url(#clip160)\" d=\"M659.675 357.053 Q659.675 356.819 660.284 356.233 Q668.013 348.363 668.013 333.537 Q668.013 318.664 660.588 311.145 Q659.675 310.278 659.675 310.021 Q659.675 309.552 660.143 309.552 Q660.471 309.552 661.619 310.513 Q662.79 311.473 664.547 313.675 Q666.327 315.876 667.638 318.57 Q670.8 325.105 670.8 333.537 Q670.8 341.641 667.779 348.176 Q666.491 350.916 664.687 353.212 Q662.884 355.507 661.689 356.514 Q660.495 357.522 660.143 357.522 Q659.675 357.522 659.675 357.053 Z\" fill=\"#000000\" fill-rule=\"nonzero\" fill-opacity=\"1\" /></svg>\n"
      ]
     },
     "execution_count": 16,
     "metadata": {},
     "output_type": "execute_result"
    }
   ],
   "source": [
    "x, y = zeros( 15 ), zeros( 15 );\n",
    "x[1] = 1; y[1] = 1;\n",
    "for n in 1:14\n",
    "    x[n+1] = g(x[n]);\n",
    "    y[n+1] = h(y[n]);\n",
    "end\n",
    "@show (x[15], y[15]);\n",
    "\n",
    "plot( [g, h] , -0.25, 2, label=[ L\"f(x)\" L\"x - g(x)\" L\"x - h(x)\"])\n",
    "plot!( x, g.(x), seriestype=:scatter, label=L\"x_{n+1} = g(x_n)\" )\n",
    "plot!( y, h.(y), seriestype=:scatter, label=L\"y_{n+1} = h(y_n)\" )"
   ]
  },
  {
   "cell_type": "markdown",
   "id": "b047b5b1",
   "metadata": {},
   "source": [
    "<div style='background-color: #cce0ff; padding: 10px; border-left: 5px solid #0066ff;'>\n",
    "\n",
    "Here, we see that $x_n \\to \\xi \\approx 1.26 \\in [1,2]$ but $y_{n} \\to \\widetilde{\\xi} \\approx 0$ so the formulations $g(x) = x$ and $h(x) = x$ are equivalent, but they lead to different numerical methods.\n",
    " </div> "
   ]
  },
  {
   "cell_type": "markdown",
   "id": "3a0e4661",
   "metadata": {},
   "source": [
    "<div style='background-color: #ddff99; padding: 10px; border-left: 5px solid #009933;'><strong>Definition.</strong> \n",
    "\n",
    "Let $x_n \\to \\xi$. Suppose that there exist $\\alpha\\geq1$ and $\\mu \\geq 0$ such that\n",
    "\n",
    "\\begin{align}\n",
    "    \\lim_{n\\to\\infty}  \\frac{\\left|x_{n+1} - \\xi\\right|}{\\left|x_n - \\xi\\right|^\\alpha} = \\mu\n",
    "\\end{align}\n",
    "\n",
    "* If $\\alpha = 1$ and $\\mu \\in (0,1)$, we say the convergence is *linear*,\n",
    "* If $\\alpha = 1$ but $\\mu = 0$, we say the convergence is *superlinear* (i.e. faster than linear),\n",
    "* If $\\alpha = 1$ and $\\mu = 1$, we say the convergence is *sublinear* (i.e slower than linear),\n",
    "* If $\\alpha = 2$, we say the convergence is *quadratic*,...\n",
    "\n",
    "In the case where *(i)* $\\alpha = 1, \\mu \\in (0,1)$ or *(ii)* $\\alpha>1, \\mu> 0$, we say\n",
    "* $x_n \\to \\xi$ with *order* $\\alpha$, \n",
    "* $\\mu$ is the *asymptotic error constant*, and\n",
    "* $\\rho := - \\log_{10} \\mu$ is the *asymptotic rate of convergence*.\n",
    "\n",
    " </div> "
   ]
  },
  {
   "cell_type": "markdown",
   "id": "8ba2e2cc",
   "metadata": {},
   "source": [
    "* Define the errors $e_n \\coloneqq |x_{n}-\\xi|$. Then, we have $e_{n+1} \\approx \\mu e_{n}^\\alpha$,\n",
    "* For linear convergence, $e_{n+N} \\approx \\mu^n e_N = 10^{-\\rho n} e_N$ and so $\\rho$ measures the number of decimal digits of accuracy gained in one iteration (for sufficiently large $N$)\n",
    "\n",
    "<div style='background-color: #cce0ff; padding: 10px; border-left: 5px solid #0066ff;'><strong>Example (cont.).</strong> \n",
    "\n",
    "Let's go back to our example: $f(x) = e^x - 2x - 1$. We have defined $g(x) = \\log( 2x + 1 )$ and we are trying to solve the fixed point problem $g(x) = x$ (which is mathematically equivalent to $f(x) = 0$).\n",
    "\n",
    "We have seen (numerically) that $x_{n+1} = g(x_n)$ with $x_1$ converges to $\\xi = g(\\xi) \\approx 1.26$. What is the order of convergence? What is the asymptotic error constant? Asymptotic rate of convergence?\n",
    "</div> "
   ]
  },
  {
   "cell_type": "code",
   "execution_count": 17,
   "id": "736d24e9",
   "metadata": {},
   "outputs": [
    {
     "data": {
      "text/plain": [
       "14-element Vector{Float64}:\n",
       " 0.6154434977067526\n",
       " 0.5965577179668249\n",
       " 0.5851632047756364\n",
       " 0.5784563522754123\n",
       " 0.5745645700825062\n",
       " 0.5723246633711306\n",
       " 0.5710414920687147\n",
       " 0.5703083577906018\n",
       " 0.5698901195281622\n",
       " 0.569651729099643\n",
       " 0.569515916456726\n",
       " 0.5694385647462568\n",
       " 0.5693945163234355\n",
       " 0.569369434946979"
      ]
     },
     "execution_count": 17,
     "metadata": {},
     "output_type": "execute_result"
    }
   ],
   "source": [
    "ξ = 1; \n",
    "for n in 1:100\n",
    "    ξ = g(ξ)\n",
    "end \n",
    "\n",
    "# this is e_{n+1}/e_{n} for n=1,...,14\n",
    "μn = @. abs( ( x[2:15] - ξ )/(x[1:14] - ξ ))\n",
    "μ, ρ = μn[14], -log10( μn[14] );\n",
    "\n",
    "μn"
   ]
  },
  {
   "cell_type": "markdown",
   "id": "08dfca60",
   "metadata": {},
   "source": [
    "<div style='background-color: #cce0ff; padding: 10px; border-left: 5px solid #0066ff;'>\n",
    "\n",
    "This quantity appears to converge to $\\mu \\in (0,1)$. Therefore, we have $x_n \\to \\xi$ linearly with asymptotic error constant $\\mu$ and asymptotic rate of convergence $\\rho$ where these constants are as follows:\n",
    "\n",
    "</div> "
   ]
  },
  {
   "cell_type": "code",
   "execution_count": 18,
   "id": "b91af37e",
   "metadata": {},
   "outputs": [
    {
     "name": "stdout",
     "output_type": "stream",
     "text": [
      "(ξ, μ, ρ) = (1.2564312086261695, 0.569369434946979, 0.24460585048403266)\n"
     ]
    }
   ],
   "source": [
    "@show (ξ, μ, ρ);"
   ]
  },
  {
   "cell_type": "markdown",
   "id": "9cbebe89",
   "metadata": {},
   "source": [
    "<div style='background-color: #cce0ff; padding: 10px; border-left: 5px solid #0066ff;'>\n",
    "\n",
    "Next time, we will prove (mathematically) that $x_{n+1} = g(x_n)$ converges linearly and show that $\\mu = |g'(\\xi)|$. Our computed value of $\\mu$ (after $15$ iterations) is close to this theoretical value: \n",
    "\n",
    "</div>    "
   ]
  },
  {
   "cell_type": "code",
   "execution_count": null,
   "id": "6daf0600",
   "metadata": {},
   "outputs": [
    {
     "name": "stdout",
     "output_type": "stream",
     "text": [
      "der_g(ξ) = 0.569336274081677\n",
      "μ = 0.569369434946979\n"
     ]
    },
    {
     "data": {
      "text/plain": [
       "5.824477872153201e-5"
      ]
     },
     "execution_count": 22,
     "metadata": {},
     "output_type": "execute_result"
    }
   ],
   "source": [
    "der_g = x -> 2/( 2*x + 1);\n",
    "@show der_g( ξ )\n",
    "@show μ;\n",
    "\n",
    "# relative error:\n",
    "abs(( der_g( ξ ) - μ ) / der_g( ξ ) )"
   ]
  }
 ],
 "metadata": {
  "kernelspec": {
   "display_name": "Julia 1.7.1",
   "language": "julia",
   "name": "julia-1.7"
  },
  "language_info": {
   "file_extension": ".jl",
   "mimetype": "application/julia",
   "name": "julia",
   "version": "1.7.1"
  }
 },
 "nbformat": 4,
 "nbformat_minor": 5
}
