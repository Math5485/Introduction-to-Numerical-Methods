{
 "cells": [
  {
   "cell_type": "markdown",
   "id": "3d0a47e3-7c72-43fc-8563-d44cf886a24b",
   "metadata": {},
   "source": [
    "# A4: Solving nonlinear equations in 1d II\n",
    "\n",
    "- Complete the following and submit to Canvas before Oct 1 11:59PM,\n",
    "- Late work will recieve 0%,\n",
    "- Each assignment is worth the same, \n",
    "- Please get in contact with the instructor in plenty of time if you need help,\n",
    "- Before submitting your work, make sure to check everything runs as expected. Click **Kernel > Restart Kernel and Run All Cells**.\n",
    "- Feel free to add more cells to experiment or test your answers,\n",
    "- I encourage you to discuss the course material and assignment questions with your classmates. However, unless otherwise explicitly stated on the assignment, you must complete and write up your solutions on your own,\n",
    "- The use of GenAI is prohibited as outlined in the course syllabus. If I suspect you of cheating, you may be asked to complete a written or oral exam on the content of this assignment,\n",
    "- ✍ indicates a question where a mathematical proof is required\n",
    "- 💻 indicates a question where numerical experiments are required "
   ]
  },
  {
   "cell_type": "markdown",
   "id": "072c9a87",
   "metadata": {},
   "source": [
    "<div class=\"alert alert-info\">\n",
    "Enter your name here: YOUR NAME HERE  \n",
    "\n",
    "Approximate time spent on this assignment: .......\n",
    "</div>"
   ]
  },
  {
   "cell_type": "markdown",
   "id": "57101227",
   "metadata": {},
   "source": [
    "<div class=\"alert alert-block alert-danger\"> \n",
    "    ⚠ Do not edit the following cell. You may find some of these functions useful\n",
    "</div>"
   ]
  },
  {
   "cell_type": "code",
   "execution_count": 5,
   "id": "abcd4e70",
   "metadata": {},
   "outputs": [
    {
     "data": {
      "text/plain": [
       "6.283185307179586"
      ]
     },
     "execution_count": 5,
     "metadata": {},
     "output_type": "execute_result"
    }
   ],
   "source": [
    "# useful definitions that we've used so far:\n",
    "\n",
    "using Plots\n",
    "using LaTeXStrings\n",
    "using Polynomials\n",
    "using PrettyTables\n",
    "\n",
    "function simple_iteration( g, x1; N=100, tol=1e-10 )\n",
    "    x = [ x1 ]\n",
    "    for n in 2:N\n",
    "        push!( x, g(x[n-1]) )\n",
    "        if (abs(g(x[end]) - x[end]) < tol)\n",
    "            break\n",
    "        elseif (x[end] == Inf)\n",
    "            @warn \"simple iteration diverges to Inf\";\n",
    "            break\n",
    "        elseif (x[end] == -Inf)\n",
    "            @warn \"simple iteration diverges to -Inf\";\n",
    "            break\n",
    "        end \n",
    "    end\n",
    "    return x\n",
    "end\n",
    "\n",
    "function relaxation( f, λ, x1; N=100, tol=1e-10)\n",
    "    x = [x1]\n",
    "    r = 0.;\n",
    "    for n in 2:N\n",
    "        push!( x, x[n-1] - λ*f(x[n-1]) )\n",
    "        r = abs(f(x[end]));\n",
    "        if (r < tol)\n",
    "            return x\n",
    "        end\n",
    "    end\n",
    "    @warn \"max interations with |f| = $r\";\n",
    "    return x\n",
    "end\n",
    "\n",
    "function Newton( f, f_prime, x1; N=100, tol=1e-10)\n",
    "    x = [x1]\n",
    "    for n in 2:N\n",
    "        push!( x, x[n-1] - f(x[n-1])/f_prime(x[n-1]) )\n",
    "        r = abs(f(x[end]));\n",
    "        if (r < tol)\n",
    "            return x\n",
    "        end\n",
    "    end\n",
    "    @warn \"max interations |f| = $r\";\n",
    "    return x\n",
    "end\n",
    "\n",
    "function orderOfConvergence( x, ξ; α=0)\n",
    "    err = @. abs(x - ξ)\n",
    "    logerr = @. log10( err )\n",
    "    ratios = [NaN; [logerr[i+1] / logerr[i] for i in 1:length(logerr)-1]]\n",
    "    if (α == 0) \n",
    "        α = ratios[end]\n",
    "        αr = round(α, sigdigits=3)\n",
    "    end\n",
    "    mu = [NaN; [err[i+1] / err[i]^α for i in 1:length(err)-1]]\n",
    "    @pt :header=[\"iteration\", \"absolute error\", \"log error\", \"alpha\", \"mu (α = $α)\" ] [1:length(x) err logerr ratios mu]\n",
    "end\n",
    "\n",
    "function μ( x, ξ; α=1 )\n",
    "    return @. abs( x[2:end] - ξ ) / ( abs(x[1:end-1] - ξ )^α );\n",
    "end \n",
    "\n",
    "ϵ = 1.;\n",
    "f = ψ -> ψ - ϵ * sin(ψ) - 2π; # has a zero at 2π\n",
    "ξ = 2π"
   ]
  },
  {
   "cell_type": "markdown",
   "id": "6b4e2227",
   "metadata": {},
   "source": [
    "Recall that Newton's Method is given by the iteration $x_{n+1} = x_n - \\frac{f(x_n)}{f'(x_n)}$. This method is guaranteed to converge under the following conditions:\n",
    "\n",
    "<div class='alert alert-block alert-info'><b>Theorem.</b> \n",
    "\n",
    "Suppose $f: [a,b] \\to \\mathbb R$ is twice continuously differentiable with $f(\\xi) = 0$ and $f'(\\xi) \\not= 0$ for some $\\xi \\in [a,b]$. Further suppose that \n",
    "\n",
    "\\begin{align}\n",
    "    \\left|\\frac{f''(x)}{f'(y)}\\right| \\leq A\n",
    "\\end{align}\n",
    "\n",
    "for all $x,y \\in [a,b]$. Then, the Newton iteration $x_{n+1} = x_n - \\frac{f(x_n)}{f'(x_n)}$ converges at least quadratically to $\\xi$ for all $x_1 \\in [a,b]$ such that $|x_1 - \\xi| \\leq A^{-1}$.\n",
    "\n",
    "</div> \n",
    "\n",
    "Each of the following parts is worth **50 pts**."
   ]
  },
  {
   "cell_type": "markdown",
   "id": "75830813",
   "metadata": {},
   "source": [
    "## A. Repeated Roots\n",
    "\n",
    "Suppose that $f(\\xi) = f'(\\xi) = 0$ (so that the above theorem is not applicable) and that there exists $0 < m < M < 2m$ such that $m < |f''(x)| < M$ for all $x \\in [\\xi-\\delta, \\xi+\\delta]$. \n",
    "\n",
    "1. ✍ Show that there exists $\\eta_n, \\theta_n$ between $x_n$ and $\\xi$ such that the sequence generated by Newton's method ($x_{n+1} = x_n - \\frac{f(x_n)}{f'(x_n)}$) satisfies\n",
    "\n",
    "\\begin{align}\n",
    "    x_{n+1} - \\xi &= \\frac{1}{2} \\frac{f''(\\eta_n)}{f'(x_n)} (x_n - \\xi)^2  \\nonumber\\\\\n",
    "    %\n",
    "    &= \\frac{1}{2} \\frac{f''(\\eta_n)}{f''(\\theta_n)} (x_n - \\xi).\n",
    "\\end{align}\n",
    "\n",
    "2. ✍ Hence show that Newton's method converges at least linearly in this case. \n",
    "3. 💻 Verify this numerically by finding the zero of $f(x) = (x-1)^2$ and estimating the asymptotic error constant $\\mu$.\n",
    "4. ✍ Show that $g(x) := \\frac{f(x)}{f'(x)}$ is a function such that $g(\\xi) = 0$ but $g'(\\xi) \\not= 0$. Explain why this may be useful in practice."
   ]
  },
  {
   "cell_type": "markdown",
   "id": "990adb20",
   "metadata": {},
   "source": [
    "## C. Newton's Method Examples\n",
    "\n",
    "1. 💻 Run Newton's Method on the following functions (it may help to plot the functions in order to choose a good initial point $x_1$)\n",
    "\n",
    "\\begin{align}\n",
    "    f(x) &= x^3 - 2x^2 - 5 \\nonumber\\\\\n",
    "    g(x) &= e^x - x - 1     \\nonumber\\\\\n",
    "    h(x) &= \\frac{x}{1+x^2} \\nonumber\\\\ \n",
    "    j(x) &= \\sqrt[3]{x}\n",
    "\\end{align}\n",
    "\n",
    "2. 💻 If the iteration converges, what is the (numerically calculated) order of convergence? \n",
    "3. ✍ In each case, explain why your observations do not contradict the Theorem stated above and do not contradict your observations made in part A."
   ]
  }
 ],
 "metadata": {
  "kernelspec": {
   "display_name": "Julia 1.7.1",
   "language": "julia",
   "name": "julia-1.7"
  },
  "language_info": {
   "file_extension": ".jl",
   "mimetype": "application/julia",
   "name": "julia",
   "version": "1.7.1"
  }
 },
 "nbformat": 4,
 "nbformat_minor": 5
}
