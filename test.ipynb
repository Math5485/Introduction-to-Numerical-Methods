{
 "cells": [
  {
   "cell_type": "markdown",
   "id": "b62516bf",
   "metadata": {},
   "source": [
    "> [!NOTE]\n",
    "> This is a note providing general information.\n",
    "\n",
    "> [!TIP]\n",
    "> Use this tip to make your workflow more efficient.\n",
    "\n",
    "> [!IMPORTANT]\n",
    "> This information is crucial for completing the task.\n",
    "\n",
    "> [!WARNING]\n",
    "> Proceed with caution, as this action has potential risks.\n",
    "\n",
    "> [!CAUTION]\n",
    "> Be aware of the negative consequences if you proceed without understanding."
   ]
  }
 ],
 "metadata": {
  "language_info": {
   "name": "python"
  }
 },
 "nbformat": 4,
 "nbformat_minor": 5
}
