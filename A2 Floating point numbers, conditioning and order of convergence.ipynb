{
 "cells": [
  {
   "cell_type": "markdown",
   "id": "3d0a47e3-7c72-43fc-8563-d44cf886a24b",
   "metadata": {},
   "source": [
    "# A2: Floating-point numbers, conditioning, and order of convergence\n",
    "\n",
    "- Complete the following and submit to Canvas before Sept 17 5PM,\n",
    "- Late work will recieve 0%,\n",
    "- Each assignment is worth the same, \n",
    "- Please get in contact with the instructor in plenty of time if you need help,\n",
    "- Before submitting your work, make sure to check everything runs as expected. Click **Kernel > Restart Kernel and Run All Cells**.\n",
    "- Feel free to add more cells to experiment or test your answers,\n",
    "- I encourage you to discuss the course material and assignment questions with your classmates. However, unless otherwise explicitly stated on the assignment, you must complete and write up your solutions on your own,\n",
    "- The use of GenAI is prohibited as outlined in the course syllabus. If I suspect you of cheating, you may be asked to complete a written or oral exam on the content of this assignment."
   ]
  },
  {
   "cell_type": "markdown",
   "id": "072c9a87",
   "metadata": {},
   "source": [
    "<div class=\"alert alert-info\">\n",
    "Enter your name here: YOUR NAME HERE </br>\n",
    "Approximate time spent on this assignment: ....... </br>\n",
    "</br> \n",
    "Please upload your file as \"A2 SURNAME Firstname.ipynb\" \n",
    "</div>"
   ]
  },
  {
   "cell_type": "markdown",
   "id": "57101227",
   "metadata": {},
   "source": [
    "<div class=\"alert alert-block alert-danger\"> ⚠ Do not edit the following cell</div>"
   ]
  },
  {
   "cell_type": "code",
   "execution_count": 35,
   "id": "abcd4e70",
   "metadata": {},
   "outputs": [],
   "source": [
    "using Plots\n",
    "using LaTeXStrings"
   ]
  },
  {
   "cell_type": "markdown",
   "id": "46771a44",
   "metadata": {},
   "source": [
    "## A. Floating-point numbers"
   ]
  },
  {
   "cell_type": "markdown",
   "id": "710db40f",
   "metadata": {},
   "source": [
    "In this section (and for the rest of the course), we will use ``Float64``. Let $\\epsilon$ be the machine precision in this case:"
   ]
  },
  {
   "cell_type": "code",
   "execution_count": 18,
   "id": "08d992e2",
   "metadata": {},
   "outputs": [
    {
     "data": {
      "text/plain": [
       "2.220446049250313e-16"
      ]
     },
     "execution_count": 18,
     "metadata": {},
     "output_type": "execute_result"
    }
   ],
   "source": [
    "ϵ = eps( Float64 )"
   ]
  },
  {
   "cell_type": "markdown",
   "id": "05d1e627",
   "metadata": {},
   "source": [
    "Here, ``eps( FloatN )`` with $N=16, 32,$ and $64$ gives the machine precision in half, single, and double precision with the default being ``Float64``. That is, ``eps() = eps( Float64 )``."
   ]
  },
  {
   "cell_type": "markdown",
   "id": "1f2bf61e",
   "metadata": {},
   "source": [
    "**[15 pts]** Note: use the value of $\\epsilon$ as defined above.\n",
    "1. What is $\\textrm{fl}( 1 + \\epsilon/2 )$ in Julia?  \n",
    "2. Explain why ``(1.0 + ϵ/2) - 1.0``  is **not** the same as ``1.0 + (ϵ/2 - 1.0)`` in ``Float64``.  "
   ]
  },
  {
   "cell_type": "markdown",
   "id": "e72c7b9f",
   "metadata": {},
   "source": [
    "## B. Conditioning"
   ]
  },
  {
   "cell_type": "markdown",
   "id": "820ba3d4",
   "metadata": {},
   "source": [
    "**[10 pts]**  For fixed $f$, define\n",
    "\n",
    "\\begin{align}\n",
    "    g(x) &= f(x - a), \\\\ \n",
    "    h(x) &= b f(x), \\\\ \n",
    "    j(x) &= f(c x), \n",
    "\\end{align}\n",
    "\n",
    "1. What is $\\kappa_g(x)$?\n",
    "2. Write $\\kappa_{h}(x)$ in terms of $\\kappa_f$?\n",
    "3. Write $\\kappa_{j}(x)$ in terms of $\\kappa_f$?\n",
    "4. What is $\\kappa_f(x)$ when $f(x) = e^{-x^2}$?"
   ]
  },
  {
   "cell_type": "markdown",
   "id": "46da6da8",
   "metadata": {},
   "source": [
    "**[25 pts]**  Consider the differential equation (initial value problem)\n",
    "\n",
    "\\begin{align}\n",
    "\\begin{split}\n",
    "    u'(x) &= u(x) +e^{-x} \\nonumber \\\\\n",
    "    u(0) &= -\\frac12 .\n",
    "\\end{split}\\tag{$\\star$}\n",
    "\\end{align}\n",
    "\n",
    "1. Show that $u(x) = -\\frac12 e^{-x}$ solves $(\\star)$\n",
    "\n",
    "Now we perturb the initial data, by considering \n",
    "\n",
    "\\begin{align}\n",
    "\\begin{split}\n",
    "    u'(x) &= u(x) +e^{-x} \\nonumber \\\\\n",
    "    u(0) &= \\alpha\n",
    "\\end{split}\\tag{$\\star\\star$}\n",
    "\\end{align}\n",
    "\n",
    "for $\\alpha := \\epsilon - \\frac12$.  \n",
    "\n",
    "2. Show that $u_{\\alpha}(x) = (\\alpha + \\frac12) e^x -\\frac12 e^{-x} $ solves $(\\star\\star)$.\n",
    "3. Plot the functions $u$ and $u_{\\alpha}$ and comment on the difference between the solutions for large $x$.\n",
    "4. Let $f( \\alpha ) = u_\\alpha( 100 )$. What is the condition number $\\kappa_f( \\alpha )$? \n",
    "5. Explain what happens for $\\alpha \\approx -\\frac12$. Link your observations to your answer for question 3.  \n",
    "\n"
   ]
  },
  {
   "cell_type": "markdown",
   "id": "8ff9b57a",
   "metadata": {},
   "source": [
    "**[15 pts]** Let $x_{\\pm}(\\epsilon)$ be the roots of $x^2 - (2 + \\epsilon)x + 1$.  \n",
    "1. Show that $x_{\\pm}(\\epsilon) \\to 1$ as $\\epsilon \\to 0$,\n",
    "2. Tabulate the quantities $\\frac{|x_{\\pm}(\\epsilon) - 1|}{\\sqrt{\\epsilon}}$,\n",
    "3. Explain why your answer to question 2 means that the relative condition number $\\kappa_{ x_{\\pm} }$ is unbounded near $0$.\n",
    "\n"
   ]
  },
  {
   "cell_type": "markdown",
   "id": "8ca926b8",
   "metadata": {},
   "source": [
    "**[10 pts]** Let $p_{\\alpha}(x) = \\alpha x^n + \\sum_{j=0}^{n-1} a_{j} x^j$ be a polynomial of degree $n$ and let $r(\\alpha)$ be a root of $p_{\\alpha}$. What is the condition number $\\kappa_r(\\alpha)$? "
   ]
  },
  {
   "cell_type": "markdown",
   "id": "8d65c2da",
   "metadata": {},
   "source": [
    "## C. Order of convergence"
   ]
  },
  {
   "cell_type": "markdown",
   "id": "fcee2eba",
   "metadata": {},
   "source": [
    "**[25 pts]**   \n",
    "Fix $a, x_1 > 0$ and define the iteration $x_{n+1} = \\frac{1}{2}\\big( x_n + \\frac{a}{x_n} \\big)$.  \n",
    "1. ✍ Show that $x_{n+1}$ has the same sign as $x_n$,  \n",
    "2. ✍ Suppose that $(x_n) \\to x$. What is the value of $x$?  \n",
    "3. 💻 Let $x$ be as in question 2. Show numerically that $(x_n) \\to x$ for a few different choices of $a$ and $x_1$,  \n",
    "4. 💻 This iteration can be seen as a way of approximating $x$. What is the correseponding order of convergence?"
   ]
  },
  {
   "cell_type": "markdown",
   "id": "7203074d",
   "metadata": {},
   "source": [
    "<div class='alert alert-block alert-info'><b>Hint.</b> For the last part, you may tabulate the absolute errors and ratios:  \n",
    "\n",
    "$\\begin{align}\n",
    "|x - x_n| \\qquad \\text{and} \\qquad \n",
    "\\frac\n",
    "    {|x_{n+1} - x|}\n",
    "    {|x_n - x|^\\alpha}\n",
    "\\end{align}$\n",
    "\n",
    "for $n=1,2,3,...$ and different values of $\\alpha$. For large $n$, what would you expect to happen to this ratio if the order of convergence was $\\alpha$?\n",
    "</div> "
   ]
  }
 ],
 "metadata": {
  "kernelspec": {
   "display_name": "Julia 1.7.1",
   "language": "julia",
   "name": "julia-1.7"
  },
  "language_info": {
   "file_extension": ".jl",
   "mimetype": "application/julia",
   "name": "julia",
   "version": "1.7.1"
  }
 },
 "nbformat": 4,
 "nbformat_minor": 5
}
