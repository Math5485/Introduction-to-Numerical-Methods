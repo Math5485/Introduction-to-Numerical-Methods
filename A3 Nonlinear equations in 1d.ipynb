{
 "cells": [
  {
   "cell_type": "markdown",
   "id": "3d0a47e3-7c72-43fc-8563-d44cf886a24b",
   "metadata": {},
   "source": [
    "# A3: Solving nonlinear equations in 1d\n",
    "\n",
    "- Complete the following and submit to Canvas before Sept 24 11:59PM,\n",
    "- Late work will recieve 0%,\n",
    "- Each assignment is worth the same, \n",
    "- Please get in contact with the instructor in plenty of time if you need help,\n",
    "- Before submitting your work, make sure to check everything runs as expected. Click **Kernel > Restart Kernel and Run All Cells**.\n",
    "- Feel free to add more cells to experiment or test your answers,\n",
    "- I encourage you to discuss the course material and assignment questions with your classmates. However, unless otherwise explicitly stated on the assignment, you must complete and write up your solutions on your own,\n",
    "- The use of GenAI is prohibited as outlined in the course syllabus. If I suspect you of cheating, you may be asked to complete a written or oral exam on the content of this assignment,\n",
    "- ✍ indicates a question where a mathematical proof is required\n",
    "- 💻 indicates a question where numerical experiments are required "
   ]
  },
  {
   "cell_type": "markdown",
   "id": "072c9a87",
   "metadata": {},
   "source": [
    "<div class=\"alert alert-info\">\n",
    "Enter your name here: YOUR NAME HERE  \n",
    "\n",
    "Approximate time spent on this assignment: .......\n",
    "</div>"
   ]
  },
  {
   "cell_type": "markdown",
   "id": "57101227",
   "metadata": {},
   "source": [
    "<div class=\"alert alert-block alert-danger\"> \n",
    "    ⚠ Do not edit the following cell. You may find some of these functions useful\n",
    "</div>"
   ]
  },
  {
   "cell_type": "code",
   "execution_count": null,
   "id": "abcd4e70",
   "metadata": {},
   "outputs": [
    {
     "name": "stdout",
     "output_type": "stream",
     "text": [
      "Ω = 0.5671432904097845 (to 15 significant digits)\n"
     ]
    }
   ],
   "source": [
    "using Plots\n",
    "using LaTeXStrings\n",
    "\n",
    "function simple_iteration( g, x1, N=100, tol=1e-10 )\n",
    "    x = [ x1 ]\n",
    "    for n in 2:N\n",
    "        push!( x, g(x[n-1]) )\n",
    "        if (abs(g(x[end]) - x[end]) < tol)\n",
    "            break\n",
    "        end\n",
    "    end\n",
    "    return x\n",
    "end\n",
    "\n",
    "# asymptotic rate of convergence\n",
    "function μ( x, ξ, α=1 )\n",
    "    return @. abs( x[2:end] - ξ ) / ( abs(x[1:end-1] - ξ )^α );\n",
    "end \n",
    "\n",
    "# some useful functions\n",
    "id = x -> x;\n",
    "g = x -> exp(-x);\n",
    "g_prime = x -> -exp(-x);\n",
    "h = x -> log(abs(1/x)); \n",
    "h_prime = x -> -1/x;\n",
    "\n",
    "Ω = simple_iteration( g, 0.56, 100, 1e-15 )[end];\n",
    "println( \"Ω = \", Ω, \" (to 15 significant digits)\" ) \n"
   ]
  },
  {
   "cell_type": "markdown",
   "id": "7e77beb0",
   "metadata": {},
   "source": [
    "## A. Lambert $W$ function\n",
    "\n",
    "**[50pts]** In A1, you were asked to prove that the *Lambert W function* (also called the *product-log function*) is a well-defined function $W : [0,\\infty) \\to [0,\\infty)$ satisfying $W(a) e^{W(a)} = a$. Define $\\Omega := W(1)$. Last time, essentially by the change of sign theorem, you showed that $\\Omega \\in [0.56, 0.58]$. \n",
    "\n",
    "1. ✍ Show that $\\Omega$ is a fixed point of $g$ and $h$ as defined by  \n",
    "\n",
    "\\begin{align}\n",
    "    g(x) = e^{-x}, \\qquad h(x) = \\log \\left|\\frac{1}{x}\\right|\n",
    "\\end{align}\n",
    "\n",
    "2. 💻 Show numerically that $x_{n+1} = g(x_n)$ converges and $y_{n+1} = h(y_n)$ diverges for a few different choices of $x_1$ and $y_1$.\n",
    "   \n",
    "We will show that $\\Omega$ is a stable fixed point of $g$ but an unstable fixed point of $h$.\n",
    "\n",
    "3. ✍ Show that $g:[\\frac{1}{e}, 1]\\to[\\frac{1}{e},1]$ with $|g'| < 1$, \n",
    "4. ✍ Explain why this means that the iteration $x_{n+1} = g(x_n)$ converges for all $x_1 \\in [\\frac{1}{e}, 1]$,\n",
    "5. ✍ Now fix $x_1 \\in \\mathbb R$. Show that the sequence $(x_n)$ is eventually contained in $[0,1]$ and that $g : [0,1] \\to [\\frac{1}{e}, 1]$. Explain why this means that $(x_n)$ converges for all $x_1 \\in \\mathbb R$,\n",
    "6. ✍ What is the order of convergence of this method? \n",
    "7. 💻 Confirm this numerically. \n",
    "8. ✍ Show that $(y_n)$ doesn't converge to $\\Omega$ for any choice of $y_1 \\not= \\Omega$\n"
   ]
  },
  {
   "cell_type": "markdown",
   "id": "f77510e2",
   "metadata": {},
   "source": [
    "## B. Bisection Method\n",
    "\n",
    "**[50pts]** Suppose that $f \\colon [a,b] \\to \\mathbb R$ is continuous with $f(a) f(b) \\leq 0$. By the change of sign theorem, there exists $\\xi \\in [a,b]$ for which $f(\\xi) = 0$. The bisection method can be described by the following pseudocode:\n",
    "\n",
    "<div style=\"font-family:monospace;\">\n",
    "<pre>\n",
    "    INPUT:  f    : function\n",
    "            a, b : interval on which f is defined     \n",
    "            tol  : tolerance\n",
    "            N    : maximum number of iterations\n",
    "    OUTPUT: x    : such that |f(x)| < tol\n",
    "    for n in 1:N\n",
    "        x[n] = midpoint of a and b\n",
    "        if ( |f(c)| < tol ) \n",
    "            println(\"approximate root found after n iterations\")\n",
    "            OUTPUT: x[n]\n",
    "        else if ( f changes sign on [a,c] )                                    \n",
    "            b = x[n]; \n",
    "        else \n",
    "            a = x[n];      \n",
    "    end\n",
    "    println( \"root not found\" )\n",
    "    OUTPUT: x[N] \n",
    "</pre>\n",
    "</div>\n",
    "\n",
    "1. 💻 Implement this method in the following cell"
   ]
  },
  {
   "cell_type": "code",
   "execution_count": null,
   "id": "9a9bf9a9",
   "metadata": {},
   "outputs": [
    {
     "name": "stdout",
     "output_type": "stream",
     "text": [
      "x = bisection(f, 0.0, 1.0) = 0.5\n"
     ]
    },
    {
     "data": {
      "image/svg+xml": [
       "<?xml version=\"1.0\" encoding=\"utf-8\"?>\n",
       "<svg xmlns=\"http://www.w3.org/2000/svg\" xmlns:xlink=\"http://www.w3.org/1999/xlink\" width=\"600\" height=\"400\" viewBox=\"0 0 2400 1600\">\n",
       "<defs>\n",
       "  <clipPath id=\"clip360\">\n",
       "    <rect x=\"0\" y=\"0\" width=\"2400\" height=\"1600\"/>\n",
       "  </clipPath>\n",
       "</defs>\n",
       "<path clip-path=\"url(#clip360)\" d=\"M0 1600 L2400 1600 L2400 0 L0 0  Z\" fill=\"#ffffff\" fill-rule=\"evenodd\" fill-opacity=\"1\"/>\n",
       "<defs>\n",
       "  <clipPath id=\"clip361\">\n",
       "    <rect x=\"480\" y=\"0\" width=\"1681\" height=\"1600\"/>\n",
       "  </clipPath>\n",
       "</defs>\n",
       "<path clip-path=\"url(#clip360)\" d=\"M193.936 1486.45 L2352.76 1486.45 L2352.76 47.2441 L193.936 47.2441  Z\" fill=\"#ffffff\" fill-rule=\"evenodd\" fill-opacity=\"1\"/>\n",
       "<defs>\n",
       "  <clipPath id=\"clip362\">\n",
       "    <rect x=\"193\" y=\"47\" width=\"2160\" height=\"1440\"/>\n",
       "  </clipPath>\n",
       "</defs>\n",
       "<polyline clip-path=\"url(#clip362)\" style=\"stroke:#000000; stroke-linecap:round; stroke-linejoin:round; stroke-width:2; stroke-opacity:0.1; fill:none\" points=\"255.035,1486.45 255.035,47.2441 \"/>\n",
       "<polyline clip-path=\"url(#clip362)\" style=\"stroke:#000000; stroke-linecap:round; stroke-linejoin:round; stroke-width:2; stroke-opacity:0.1; fill:none\" points=\"764.19,1486.45 764.19,47.2441 \"/>\n",
       "<polyline clip-path=\"url(#clip362)\" style=\"stroke:#000000; stroke-linecap:round; stroke-linejoin:round; stroke-width:2; stroke-opacity:0.1; fill:none\" points=\"1273.35,1486.45 1273.35,47.2441 \"/>\n",
       "<polyline clip-path=\"url(#clip362)\" style=\"stroke:#000000; stroke-linecap:round; stroke-linejoin:round; stroke-width:2; stroke-opacity:0.1; fill:none\" points=\"1782.5,1486.45 1782.5,47.2441 \"/>\n",
       "<polyline clip-path=\"url(#clip362)\" style=\"stroke:#000000; stroke-linecap:round; stroke-linejoin:round; stroke-width:2; stroke-opacity:0.1; fill:none\" points=\"2291.66,1486.45 2291.66,47.2441 \"/>\n",
       "<polyline clip-path=\"url(#clip360)\" style=\"stroke:#000000; stroke-linecap:round; stroke-linejoin:round; stroke-width:4; stroke-opacity:1; fill:none\" points=\"193.936,1486.45 2352.76,1486.45 \"/>\n",
       "<polyline clip-path=\"url(#clip360)\" style=\"stroke:#000000; stroke-linecap:round; stroke-linejoin:round; stroke-width:4; stroke-opacity:1; fill:none\" points=\"255.035,1486.45 255.035,1467.55 \"/>\n",
       "<polyline clip-path=\"url(#clip360)\" style=\"stroke:#000000; stroke-linecap:round; stroke-linejoin:round; stroke-width:4; stroke-opacity:1; fill:none\" points=\"764.19,1486.45 764.19,1467.55 \"/>\n",
       "<polyline clip-path=\"url(#clip360)\" style=\"stroke:#000000; stroke-linecap:round; stroke-linejoin:round; stroke-width:4; stroke-opacity:1; fill:none\" points=\"1273.35,1486.45 1273.35,1467.55 \"/>\n",
       "<polyline clip-path=\"url(#clip360)\" style=\"stroke:#000000; stroke-linecap:round; stroke-linejoin:round; stroke-width:4; stroke-opacity:1; fill:none\" points=\"1782.5,1486.45 1782.5,1467.55 \"/>\n",
       "<polyline clip-path=\"url(#clip360)\" style=\"stroke:#000000; stroke-linecap:round; stroke-linejoin:round; stroke-width:4; stroke-opacity:1; fill:none\" points=\"2291.66,1486.45 2291.66,1467.55 \"/>\n",
       "<path clip-path=\"url(#clip360)\" d=\"M217.338 1517.37 Q213.727 1517.37 211.898 1520.93 Q210.093 1524.47 210.093 1531.6 Q210.093 1538.71 211.898 1542.27 Q213.727 1545.82 217.338 1545.82 Q220.972 1545.82 222.778 1542.27 Q224.607 1538.71 224.607 1531.6 Q224.607 1524.47 222.778 1520.93 Q220.972 1517.37 217.338 1517.37 M217.338 1513.66 Q223.148 1513.66 226.204 1518.27 Q229.282 1522.85 229.282 1531.6 Q229.282 1540.33 226.204 1544.94 Q223.148 1549.52 217.338 1549.52 Q211.528 1549.52 208.449 1544.94 Q205.394 1540.33 205.394 1531.6 Q205.394 1522.85 208.449 1518.27 Q211.528 1513.66 217.338 1513.66 Z\" fill=\"#000000\" fill-rule=\"nonzero\" fill-opacity=\"1\" /><path clip-path=\"url(#clip360)\" d=\"M237.5 1542.97 L242.384 1542.97 L242.384 1548.85 L237.5 1548.85 L237.5 1542.97 Z\" fill=\"#000000\" fill-rule=\"nonzero\" fill-opacity=\"1\" /><path clip-path=\"url(#clip360)\" d=\"M262.569 1517.37 Q258.958 1517.37 257.13 1520.93 Q255.324 1524.47 255.324 1531.6 Q255.324 1538.71 257.13 1542.27 Q258.958 1545.82 262.569 1545.82 Q266.204 1545.82 268.009 1542.27 Q269.838 1538.71 269.838 1531.6 Q269.838 1524.47 268.009 1520.93 Q266.204 1517.37 262.569 1517.37 M262.569 1513.66 Q268.38 1513.66 271.435 1518.27 Q274.514 1522.85 274.514 1531.6 Q274.514 1540.33 271.435 1544.94 Q268.38 1549.52 262.569 1549.52 Q256.759 1549.52 253.681 1544.94 Q250.625 1540.33 250.625 1531.6 Q250.625 1522.85 253.681 1518.27 Q256.759 1513.66 262.569 1513.66 Z\" fill=\"#000000\" fill-rule=\"nonzero\" fill-opacity=\"1\" /><path clip-path=\"url(#clip360)\" d=\"M292.731 1517.37 Q289.12 1517.37 287.291 1520.93 Q285.486 1524.47 285.486 1531.6 Q285.486 1538.71 287.291 1542.27 Q289.12 1545.82 292.731 1545.82 Q296.365 1545.82 298.171 1542.27 Q300 1538.71 300 1531.6 Q300 1524.47 298.171 1520.93 Q296.365 1517.37 292.731 1517.37 M292.731 1513.66 Q298.541 1513.66 301.597 1518.27 Q304.676 1522.85 304.676 1531.6 Q304.676 1540.33 301.597 1544.94 Q298.541 1549.52 292.731 1549.52 Q286.921 1549.52 283.842 1544.94 Q280.787 1540.33 280.787 1531.6 Q280.787 1522.85 283.842 1518.27 Q286.921 1513.66 292.731 1513.66 Z\" fill=\"#000000\" fill-rule=\"nonzero\" fill-opacity=\"1\" /><path clip-path=\"url(#clip360)\" d=\"M726.991 1517.37 Q723.38 1517.37 721.552 1520.93 Q719.746 1524.47 719.746 1531.6 Q719.746 1538.71 721.552 1542.27 Q723.38 1545.82 726.991 1545.82 Q730.626 1545.82 732.431 1542.27 Q734.26 1538.71 734.26 1531.6 Q734.26 1524.47 732.431 1520.93 Q730.626 1517.37 726.991 1517.37 M726.991 1513.66 Q732.802 1513.66 735.857 1518.27 Q738.936 1522.85 738.936 1531.6 Q738.936 1540.33 735.857 1544.94 Q732.802 1549.52 726.991 1549.52 Q721.181 1549.52 718.103 1544.94 Q715.047 1540.33 715.047 1531.6 Q715.047 1522.85 718.103 1518.27 Q721.181 1513.66 726.991 1513.66 Z\" fill=\"#000000\" fill-rule=\"nonzero\" fill-opacity=\"1\" /><path clip-path=\"url(#clip360)\" d=\"M747.153 1542.97 L752.038 1542.97 L752.038 1548.85 L747.153 1548.85 L747.153 1542.97 Z\" fill=\"#000000\" fill-rule=\"nonzero\" fill-opacity=\"1\" /><path clip-path=\"url(#clip360)\" d=\"M766.25 1544.91 L782.57 1544.91 L782.57 1548.85 L760.626 1548.85 L760.626 1544.91 Q763.288 1542.16 767.871 1537.53 Q772.477 1532.88 773.658 1531.53 Q775.903 1529.01 776.783 1527.27 Q777.686 1525.51 777.686 1523.82 Q777.686 1521.07 775.741 1519.33 Q773.82 1517.6 770.718 1517.6 Q768.519 1517.6 766.065 1518.36 Q763.635 1519.13 760.857 1520.68 L760.857 1515.95 Q763.681 1514.82 766.135 1514.24 Q768.588 1513.66 770.625 1513.66 Q775.996 1513.66 779.19 1516.35 Q782.385 1519.03 782.385 1523.52 Q782.385 1525.65 781.574 1527.57 Q780.787 1529.47 778.681 1532.07 Q778.102 1532.74 775 1535.95 Q771.899 1539.15 766.25 1544.91 Z\" fill=\"#000000\" fill-rule=\"nonzero\" fill-opacity=\"1\" /><path clip-path=\"url(#clip360)\" d=\"M792.431 1514.29 L810.787 1514.29 L810.787 1518.22 L796.713 1518.22 L796.713 1526.7 Q797.732 1526.35 798.75 1526.19 Q799.769 1526 800.787 1526 Q806.574 1526 809.954 1529.17 Q813.334 1532.34 813.334 1537.76 Q813.334 1543.34 809.861 1546.44 Q806.389 1549.52 800.07 1549.52 Q797.894 1549.52 795.625 1549.15 Q793.38 1548.78 790.973 1548.04 L790.973 1543.34 Q793.056 1544.47 795.278 1545.03 Q797.5 1545.58 799.977 1545.58 Q803.982 1545.58 806.32 1543.48 Q808.658 1541.37 808.658 1537.76 Q808.658 1534.15 806.32 1532.04 Q803.982 1529.94 799.977 1529.94 Q798.102 1529.94 796.227 1530.35 Q794.375 1530.77 792.431 1531.65 L792.431 1514.29 Z\" fill=\"#000000\" fill-rule=\"nonzero\" fill-opacity=\"1\" /><path clip-path=\"url(#clip360)\" d=\"M1235.65 1517.37 Q1232.04 1517.37 1230.21 1520.93 Q1228.4 1524.47 1228.4 1531.6 Q1228.4 1538.71 1230.21 1542.27 Q1232.04 1545.82 1235.65 1545.82 Q1239.28 1545.82 1241.09 1542.27 Q1242.92 1538.71 1242.92 1531.6 Q1242.92 1524.47 1241.09 1520.93 Q1239.28 1517.37 1235.65 1517.37 M1235.65 1513.66 Q1241.46 1513.66 1244.52 1518.27 Q1247.59 1522.85 1247.59 1531.6 Q1247.59 1540.33 1244.52 1544.94 Q1241.46 1549.52 1235.65 1549.52 Q1229.84 1549.52 1226.76 1544.94 Q1223.71 1540.33 1223.71 1531.6 Q1223.71 1522.85 1226.76 1518.27 Q1229.84 1513.66 1235.65 1513.66 Z\" fill=\"#000000\" fill-rule=\"nonzero\" fill-opacity=\"1\" /><path clip-path=\"url(#clip360)\" d=\"M1255.81 1542.97 L1260.7 1542.97 L1260.7 1548.85 L1255.81 1548.85 L1255.81 1542.97 Z\" fill=\"#000000\" fill-rule=\"nonzero\" fill-opacity=\"1\" /><path clip-path=\"url(#clip360)\" d=\"M1270.93 1514.29 L1289.28 1514.29 L1289.28 1518.22 L1275.21 1518.22 L1275.21 1526.7 Q1276.23 1526.35 1277.25 1526.19 Q1278.26 1526 1279.28 1526 Q1285.07 1526 1288.45 1529.17 Q1291.83 1532.34 1291.83 1537.76 Q1291.83 1543.34 1288.36 1546.44 Q1284.89 1549.52 1278.57 1549.52 Q1276.39 1549.52 1274.12 1549.15 Q1271.88 1548.78 1269.47 1548.04 L1269.47 1543.34 Q1271.55 1544.47 1273.77 1545.03 Q1276 1545.58 1278.47 1545.58 Q1282.48 1545.58 1284.82 1543.48 Q1287.15 1541.37 1287.15 1537.76 Q1287.15 1534.15 1284.82 1532.04 Q1282.48 1529.94 1278.47 1529.94 Q1276.6 1529.94 1274.72 1530.35 Q1272.87 1530.77 1270.93 1531.65 L1270.93 1514.29 Z\" fill=\"#000000\" fill-rule=\"nonzero\" fill-opacity=\"1\" /><path clip-path=\"url(#clip360)\" d=\"M1311.04 1517.37 Q1307.43 1517.37 1305.6 1520.93 Q1303.8 1524.47 1303.8 1531.6 Q1303.8 1538.71 1305.6 1542.27 Q1307.43 1545.82 1311.04 1545.82 Q1314.68 1545.82 1316.48 1542.27 Q1318.31 1538.71 1318.31 1531.6 Q1318.31 1524.47 1316.48 1520.93 Q1314.68 1517.37 1311.04 1517.37 M1311.04 1513.66 Q1316.85 1513.66 1319.91 1518.27 Q1322.99 1522.85 1322.99 1531.6 Q1322.99 1540.33 1319.91 1544.94 Q1316.85 1549.52 1311.04 1549.52 Q1305.23 1549.52 1302.15 1544.94 Q1299.1 1540.33 1299.1 1531.6 Q1299.1 1522.85 1302.15 1518.27 Q1305.23 1513.66 1311.04 1513.66 Z\" fill=\"#000000\" fill-rule=\"nonzero\" fill-opacity=\"1\" /><path clip-path=\"url(#clip360)\" d=\"M1745.3 1517.37 Q1741.69 1517.37 1739.86 1520.93 Q1738.06 1524.47 1738.06 1531.6 Q1738.06 1538.71 1739.86 1542.27 Q1741.69 1545.82 1745.3 1545.82 Q1748.94 1545.82 1750.74 1542.27 Q1752.57 1538.71 1752.57 1531.6 Q1752.57 1524.47 1750.74 1520.93 Q1748.94 1517.37 1745.3 1517.37 M1745.3 1513.66 Q1751.11 1513.66 1754.17 1518.27 Q1757.25 1522.85 1757.25 1531.6 Q1757.25 1540.33 1754.17 1544.94 Q1751.11 1549.52 1745.3 1549.52 Q1739.49 1549.52 1736.41 1544.94 Q1733.36 1540.33 1733.36 1531.6 Q1733.36 1522.85 1736.41 1518.27 Q1739.49 1513.66 1745.3 1513.66 Z\" fill=\"#000000\" fill-rule=\"nonzero\" fill-opacity=\"1\" /><path clip-path=\"url(#clip360)\" d=\"M1765.46 1542.97 L1770.35 1542.97 L1770.35 1548.85 L1765.46 1548.85 L1765.46 1542.97 Z\" fill=\"#000000\" fill-rule=\"nonzero\" fill-opacity=\"1\" /><path clip-path=\"url(#clip360)\" d=\"M1779.35 1514.29 L1801.58 1514.29 L1801.58 1516.28 L1789.03 1548.85 L1784.15 1548.85 L1795.95 1518.22 L1779.35 1518.22 L1779.35 1514.29 Z\" fill=\"#000000\" fill-rule=\"nonzero\" fill-opacity=\"1\" /><path clip-path=\"url(#clip360)\" d=\"M1810.74 1514.29 L1829.1 1514.29 L1829.1 1518.22 L1815.02 1518.22 L1815.02 1526.7 Q1816.04 1526.35 1817.06 1526.19 Q1818.08 1526 1819.1 1526 Q1824.89 1526 1828.27 1529.17 Q1831.64 1532.34 1831.64 1537.76 Q1831.64 1543.34 1828.17 1546.44 Q1824.7 1549.52 1818.38 1549.52 Q1816.21 1549.52 1813.94 1549.15 Q1811.69 1548.78 1809.28 1548.04 L1809.28 1543.34 Q1811.37 1544.47 1813.59 1545.03 Q1815.81 1545.58 1818.29 1545.58 Q1822.29 1545.58 1824.63 1543.48 Q1826.97 1541.37 1826.97 1537.76 Q1826.97 1534.15 1824.63 1532.04 Q1822.29 1529.94 1818.29 1529.94 Q1816.41 1529.94 1814.54 1530.35 Q1812.69 1530.77 1810.74 1531.65 L1810.74 1514.29 Z\" fill=\"#000000\" fill-rule=\"nonzero\" fill-opacity=\"1\" /><path clip-path=\"url(#clip360)\" d=\"M2243.73 1544.91 L2251.37 1544.91 L2251.37 1518.55 L2243.06 1520.21 L2243.06 1515.95 L2251.32 1514.29 L2256 1514.29 L2256 1544.91 L2263.64 1544.91 L2263.64 1548.85 L2243.73 1548.85 L2243.73 1544.91 Z\" fill=\"#000000\" fill-rule=\"nonzero\" fill-opacity=\"1\" /><path clip-path=\"url(#clip360)\" d=\"M2273.08 1542.97 L2277.97 1542.97 L2277.97 1548.85 L2273.08 1548.85 L2273.08 1542.97 Z\" fill=\"#000000\" fill-rule=\"nonzero\" fill-opacity=\"1\" /><path clip-path=\"url(#clip360)\" d=\"M2298.15 1517.37 Q2294.54 1517.37 2292.71 1520.93 Q2290.9 1524.47 2290.9 1531.6 Q2290.9 1538.71 2292.71 1542.27 Q2294.54 1545.82 2298.15 1545.82 Q2301.78 1545.82 2303.59 1542.27 Q2305.42 1538.71 2305.42 1531.6 Q2305.42 1524.47 2303.59 1520.93 Q2301.78 1517.37 2298.15 1517.37 M2298.15 1513.66 Q2303.96 1513.66 2307.02 1518.27 Q2310.09 1522.85 2310.09 1531.6 Q2310.09 1540.33 2307.02 1544.94 Q2303.96 1549.52 2298.15 1549.52 Q2292.34 1549.52 2289.26 1544.94 Q2286.21 1540.33 2286.21 1531.6 Q2286.21 1522.85 2289.26 1518.27 Q2292.34 1513.66 2298.15 1513.66 Z\" fill=\"#000000\" fill-rule=\"nonzero\" fill-opacity=\"1\" /><path clip-path=\"url(#clip360)\" d=\"M2328.31 1517.37 Q2324.7 1517.37 2322.87 1520.93 Q2321.07 1524.47 2321.07 1531.6 Q2321.07 1538.71 2322.87 1542.27 Q2324.7 1545.82 2328.31 1545.82 Q2331.95 1545.82 2333.75 1542.27 Q2335.58 1538.71 2335.58 1531.6 Q2335.58 1524.47 2333.75 1520.93 Q2331.95 1517.37 2328.31 1517.37 M2328.31 1513.66 Q2334.12 1513.66 2337.18 1518.27 Q2340.26 1522.85 2340.26 1531.6 Q2340.26 1540.33 2337.18 1544.94 Q2334.12 1549.52 2328.31 1549.52 Q2322.5 1549.52 2319.42 1544.94 Q2316.37 1540.33 2316.37 1531.6 Q2316.37 1522.85 2319.42 1518.27 Q2322.5 1513.66 2328.31 1513.66 Z\" fill=\"#000000\" fill-rule=\"nonzero\" fill-opacity=\"1\" /><polyline clip-path=\"url(#clip362)\" style=\"stroke:#000000; stroke-linecap:round; stroke-linejoin:round; stroke-width:2; stroke-opacity:0.1; fill:none\" points=\"193.936,1445.75 2352.76,1445.75 \"/>\n",
       "<polyline clip-path=\"url(#clip362)\" style=\"stroke:#000000; stroke-linecap:round; stroke-linejoin:round; stroke-width:2; stroke-opacity:0.1; fill:none\" points=\"193.936,1106.3 2352.76,1106.3 \"/>\n",
       "<polyline clip-path=\"url(#clip362)\" style=\"stroke:#000000; stroke-linecap:round; stroke-linejoin:round; stroke-width:2; stroke-opacity:0.1; fill:none\" points=\"193.936,766.862 2352.76,766.862 \"/>\n",
       "<polyline clip-path=\"url(#clip362)\" style=\"stroke:#000000; stroke-linecap:round; stroke-linejoin:round; stroke-width:2; stroke-opacity:0.1; fill:none\" points=\"193.936,427.419 2352.76,427.419 \"/>\n",
       "<polyline clip-path=\"url(#clip362)\" style=\"stroke:#000000; stroke-linecap:round; stroke-linejoin:round; stroke-width:2; stroke-opacity:0.1; fill:none\" points=\"193.936,87.9763 2352.76,87.9763 \"/>\n",
       "<polyline clip-path=\"url(#clip360)\" style=\"stroke:#000000; stroke-linecap:round; stroke-linejoin:round; stroke-width:4; stroke-opacity:1; fill:none\" points=\"193.936,1486.45 193.936,47.2441 \"/>\n",
       "<polyline clip-path=\"url(#clip360)\" style=\"stroke:#000000; stroke-linecap:round; stroke-linejoin:round; stroke-width:4; stroke-opacity:1; fill:none\" points=\"193.936,1445.75 212.834,1445.75 \"/>\n",
       "<polyline clip-path=\"url(#clip360)\" style=\"stroke:#000000; stroke-linecap:round; stroke-linejoin:round; stroke-width:4; stroke-opacity:1; fill:none\" points=\"193.936,1106.3 212.834,1106.3 \"/>\n",
       "<polyline clip-path=\"url(#clip360)\" style=\"stroke:#000000; stroke-linecap:round; stroke-linejoin:round; stroke-width:4; stroke-opacity:1; fill:none\" points=\"193.936,766.862 212.834,766.862 \"/>\n",
       "<polyline clip-path=\"url(#clip360)\" style=\"stroke:#000000; stroke-linecap:round; stroke-linejoin:round; stroke-width:4; stroke-opacity:1; fill:none\" points=\"193.936,427.419 212.834,427.419 \"/>\n",
       "<polyline clip-path=\"url(#clip360)\" style=\"stroke:#000000; stroke-linecap:round; stroke-linejoin:round; stroke-width:4; stroke-opacity:1; fill:none\" points=\"193.936,87.9763 212.834,87.9763 \"/>\n",
       "<path clip-path=\"url(#clip360)\" d=\"M50.9921 1446.2 L80.6679 1446.2 L80.6679 1450.13 L50.9921 1450.13 L50.9921 1446.2 Z\" fill=\"#000000\" fill-rule=\"nonzero\" fill-opacity=\"1\" /><path clip-path=\"url(#clip360)\" d=\"M91.5706 1459.09 L99.2095 1459.09 L99.2095 1432.73 L90.8993 1434.39 L90.8993 1430.13 L99.1632 1428.47 L103.839 1428.47 L103.839 1459.09 L111.478 1459.09 L111.478 1463.03 L91.5706 1463.03 L91.5706 1459.09 Z\" fill=\"#000000\" fill-rule=\"nonzero\" fill-opacity=\"1\" /><path clip-path=\"url(#clip360)\" d=\"M120.922 1457.15 L125.807 1457.15 L125.807 1463.03 L120.922 1463.03 L120.922 1457.15 Z\" fill=\"#000000\" fill-rule=\"nonzero\" fill-opacity=\"1\" /><path clip-path=\"url(#clip360)\" d=\"M145.992 1431.55 Q142.381 1431.55 140.552 1435.11 Q138.746 1438.65 138.746 1445.78 Q138.746 1452.89 140.552 1456.45 Q142.381 1460 145.992 1460 Q149.626 1460 151.431 1456.45 Q153.26 1452.89 153.26 1445.78 Q153.26 1438.65 151.431 1435.11 Q149.626 1431.55 145.992 1431.55 M145.992 1427.84 Q151.802 1427.84 154.857 1432.45 Q157.936 1437.03 157.936 1445.78 Q157.936 1454.51 154.857 1459.12 Q151.802 1463.7 145.992 1463.7 Q140.181 1463.7 137.103 1459.12 Q134.047 1454.51 134.047 1445.78 Q134.047 1437.03 137.103 1432.45 Q140.181 1427.84 145.992 1427.84 Z\" fill=\"#000000\" fill-rule=\"nonzero\" fill-opacity=\"1\" /><path clip-path=\"url(#clip360)\" d=\"M51.9875 1106.76 L81.6633 1106.76 L81.6633 1110.69 L51.9875 1110.69 L51.9875 1106.76 Z\" fill=\"#000000\" fill-rule=\"nonzero\" fill-opacity=\"1\" /><path clip-path=\"url(#clip360)\" d=\"M101.756 1092.1 Q98.1447 1092.1 96.316 1095.67 Q94.5104 1099.21 94.5104 1106.34 Q94.5104 1113.45 96.316 1117.01 Q98.1447 1120.55 101.756 1120.55 Q105.39 1120.55 107.196 1117.01 Q109.024 1113.45 109.024 1106.34 Q109.024 1099.21 107.196 1095.67 Q105.39 1092.1 101.756 1092.1 M101.756 1088.4 Q107.566 1088.4 110.621 1093.01 Q113.7 1097.59 113.7 1106.34 Q113.7 1115.07 110.621 1119.67 Q107.566 1124.26 101.756 1124.26 Q95.9456 1124.26 92.8669 1119.67 Q89.8114 1115.07 89.8114 1106.34 Q89.8114 1097.59 92.8669 1093.01 Q95.9456 1088.4 101.756 1088.4 Z\" fill=\"#000000\" fill-rule=\"nonzero\" fill-opacity=\"1\" /><path clip-path=\"url(#clip360)\" d=\"M121.918 1117.71 L126.802 1117.71 L126.802 1123.58 L121.918 1123.58 L121.918 1117.71 Z\" fill=\"#000000\" fill-rule=\"nonzero\" fill-opacity=\"1\" /><path clip-path=\"url(#clip360)\" d=\"M137.033 1089.02 L155.39 1089.02 L155.39 1092.96 L141.316 1092.96 L141.316 1101.43 Q142.334 1101.08 143.353 1100.92 Q144.371 1100.74 145.39 1100.74 Q151.177 1100.74 154.556 1103.91 Q157.936 1107.08 157.936 1112.5 Q157.936 1118.08 154.464 1121.18 Q150.992 1124.26 144.672 1124.26 Q142.496 1124.26 140.228 1123.89 Q137.982 1123.52 135.575 1122.77 L135.575 1118.08 Q137.658 1119.21 139.881 1119.77 Q142.103 1120.32 144.58 1120.32 Q148.584 1120.32 150.922 1118.21 Q153.26 1116.11 153.26 1112.5 Q153.26 1108.89 150.922 1106.78 Q148.584 1104.67 144.58 1104.67 Q142.705 1104.67 140.83 1105.09 Q138.978 1105.51 137.033 1106.39 L137.033 1089.02 Z\" fill=\"#000000\" fill-rule=\"nonzero\" fill-opacity=\"1\" /><path clip-path=\"url(#clip360)\" d=\"M100.76 752.661 Q97.1493 752.661 95.3206 756.225 Q93.515 759.767 93.515 766.897 Q93.515 774.003 95.3206 777.568 Q97.1493 781.11 100.76 781.11 Q104.395 781.11 106.2 777.568 Q108.029 774.003 108.029 766.897 Q108.029 759.767 106.2 756.225 Q104.395 752.661 100.76 752.661 M100.76 748.957 Q106.571 748.957 109.626 753.563 Q112.705 758.147 112.705 766.897 Q112.705 775.623 109.626 780.23 Q106.571 784.813 100.76 784.813 Q94.9502 784.813 91.8715 780.23 Q88.816 775.623 88.816 766.897 Q88.816 758.147 91.8715 753.563 Q94.9502 748.957 100.76 748.957 Z\" fill=\"#000000\" fill-rule=\"nonzero\" fill-opacity=\"1\" /><path clip-path=\"url(#clip360)\" d=\"M120.922 778.262 L125.807 778.262 L125.807 784.142 L120.922 784.142 L120.922 778.262 Z\" fill=\"#000000\" fill-rule=\"nonzero\" fill-opacity=\"1\" /><path clip-path=\"url(#clip360)\" d=\"M145.992 752.661 Q142.381 752.661 140.552 756.225 Q138.746 759.767 138.746 766.897 Q138.746 774.003 140.552 777.568 Q142.381 781.11 145.992 781.11 Q149.626 781.11 151.431 777.568 Q153.26 774.003 153.26 766.897 Q153.26 759.767 151.431 756.225 Q149.626 752.661 145.992 752.661 M145.992 748.957 Q151.802 748.957 154.857 753.563 Q157.936 758.147 157.936 766.897 Q157.936 775.623 154.857 780.23 Q151.802 784.813 145.992 784.813 Q140.181 784.813 137.103 780.23 Q134.047 775.623 134.047 766.897 Q134.047 758.147 137.103 753.563 Q140.181 748.957 145.992 748.957 Z\" fill=\"#000000\" fill-rule=\"nonzero\" fill-opacity=\"1\" /><path clip-path=\"url(#clip360)\" d=\"M101.756 413.218 Q98.1447 413.218 96.316 416.783 Q94.5104 420.324 94.5104 427.454 Q94.5104 434.56 96.316 438.125 Q98.1447 441.667 101.756 441.667 Q105.39 441.667 107.196 438.125 Q109.024 434.56 109.024 427.454 Q109.024 420.324 107.196 416.783 Q105.39 413.218 101.756 413.218 M101.756 409.514 Q107.566 409.514 110.621 414.121 Q113.7 418.704 113.7 427.454 Q113.7 436.181 110.621 440.787 Q107.566 445.37 101.756 445.37 Q95.9456 445.37 92.8669 440.787 Q89.8114 436.181 89.8114 427.454 Q89.8114 418.704 92.8669 414.121 Q95.9456 409.514 101.756 409.514 Z\" fill=\"#000000\" fill-rule=\"nonzero\" fill-opacity=\"1\" /><path clip-path=\"url(#clip360)\" d=\"M121.918 438.819 L126.802 438.819 L126.802 444.699 L121.918 444.699 L121.918 438.819 Z\" fill=\"#000000\" fill-rule=\"nonzero\" fill-opacity=\"1\" /><path clip-path=\"url(#clip360)\" d=\"M137.033 410.139 L155.39 410.139 L155.39 414.074 L141.316 414.074 L141.316 422.546 Q142.334 422.199 143.353 422.037 Q144.371 421.852 145.39 421.852 Q151.177 421.852 154.556 425.023 Q157.936 428.195 157.936 433.611 Q157.936 439.19 154.464 442.292 Q150.992 445.37 144.672 445.37 Q142.496 445.37 140.228 445 Q137.982 444.63 135.575 443.889 L135.575 439.19 Q137.658 440.324 139.881 440.88 Q142.103 441.435 144.58 441.435 Q148.584 441.435 150.922 439.329 Q153.26 437.222 153.26 433.611 Q153.26 430 150.922 427.894 Q148.584 425.787 144.58 425.787 Q142.705 425.787 140.83 426.204 Q138.978 426.62 137.033 427.5 L137.033 410.139 Z\" fill=\"#000000\" fill-rule=\"nonzero\" fill-opacity=\"1\" /><path clip-path=\"url(#clip360)\" d=\"M91.5706 101.321 L99.2095 101.321 L99.2095 74.9555 L90.8993 76.6222 L90.8993 72.3629 L99.1632 70.6963 L103.839 70.6963 L103.839 101.321 L111.478 101.321 L111.478 105.256 L91.5706 105.256 L91.5706 101.321 Z\" fill=\"#000000\" fill-rule=\"nonzero\" fill-opacity=\"1\" /><path clip-path=\"url(#clip360)\" d=\"M120.922 99.3767 L125.807 99.3767 L125.807 105.256 L120.922 105.256 L120.922 99.3767 Z\" fill=\"#000000\" fill-rule=\"nonzero\" fill-opacity=\"1\" /><path clip-path=\"url(#clip360)\" d=\"M145.992 73.775 Q142.381 73.775 140.552 77.3398 Q138.746 80.8814 138.746 88.011 Q138.746 95.1174 140.552 98.6822 Q142.381 102.224 145.992 102.224 Q149.626 102.224 151.431 98.6822 Q153.26 95.1174 153.26 88.011 Q153.26 80.8814 151.431 77.3398 Q149.626 73.775 145.992 73.775 M145.992 70.0713 Q151.802 70.0713 154.857 74.6777 Q157.936 79.261 157.936 88.011 Q157.936 96.7378 154.857 101.344 Q151.802 105.928 145.992 105.928 Q140.181 105.928 137.103 101.344 Q134.047 96.7378 134.047 88.011 Q134.047 79.261 137.103 74.6777 Q140.181 70.0713 145.992 70.0713 Z\" fill=\"#000000\" fill-rule=\"nonzero\" fill-opacity=\"1\" /><polyline clip-path=\"url(#clip362)\" style=\"stroke:#009af9; stroke-linecap:round; stroke-linejoin:round; stroke-width:8; stroke-opacity:1; fill:none\" points=\"255.035,87.9763 261.664,87.9763 268.294,87.9763 329.596,88.0373 390.898,88.6484 427.737,89.7307 464.577,91.7765 495.725,94.587 526.872,98.7215 560.707,105.128 594.542,114.021 625.735,124.895 656.928,138.801 673.649,147.668 690.37,157.615 707.091,168.717 723.812,181.046 743.185,196.96 762.558,214.726 781.931,234.447 801.304,256.22 818.52,277.36 835.737,300.244 852.953,324.916 870.17,351.412 885.267,376.169 900.364,402.357 915.461,429.978 930.558,459.025 947.018,492.299 963.478,527.21 979.938,563.707 996.398,601.721 1012.96,641.405 1029.51,682.428 1046.07,724.662 1062.63,767.959 1099.24,866.583 1135.86,967.289 1170.69,1062.51 1205.53,1154.28 1223.64,1199.58 1241.75,1242.61 1259.86,1282.87 1277.98,1319.86 1293.22,1348.08 1308.47,1373.31 1323.71,1395.24 1338.96,1413.58 1348.27,1422.9 1357.57,1430.7 1366.88,1436.94 1376.19,1441.56 1385.49,1444.5 1394.8,1445.72 1404.11,1445.16 1413.41,1442.79 1421.94,1438.99 1430.46,1433.61 1438.99,1426.63 1447.51,1418.03 1456.04,1407.8 1464.57,1395.93 1473.09,1382.42 1481.62,1367.26 1489.49,1351.81 1497.36,1334.97 1505.24,1316.75 1513.11,1297.18 1520.99,1276.27 1528.86,1254.05 1536.73,1230.55 1544.61,1205.8 1552.58,1179.51 1560.56,1152.02 1568.54,1123.38 1576.51,1093.67 1584.49,1062.92 1592.46,1031.22 1600.44,998.619 1608.42,965.206 1626.29,887.768 1644.17,807.619 1662.05,725.85 1679.93,643.647 1696.13,569.843 1712.33,497.717 1728.53,428.291 1744.73,362.607 1754,327.09 1763.28,293.336 1772.55,261.533 1781.83,231.868 1791.1,204.524 1800.37,179.674 1809.65,157.486 1818.92,138.119 1827.51,122.829 1836.1,110.193 1844.68,100.308 1853.27,93.2645 1861.86,89.1394 1870.44,87.9989 1879.03,89.8963 1887.62,94.8714 1896.08,102.814 1904.55,113.785 1913.01,127.779 1921.48,144.778 1929.95,164.749 1938.41,187.641 1946.88,213.389 1955.34,241.912 1963.56,272.166 1971.78,304.839 1980,339.812 1988.22,376.952 1996.44,416.111 2004.66,457.129 2012.88,499.832 2021.1,544.034 2037.95,638.493 2054.8,736.544 2071.66,836.162 2088.51,935.187 2097.74,988.375 2106.97,1040.34 2116.2,1090.7 2125.44,1139.08 2134.67,1185.11 2143.9,1228.44 2153.13,1268.71 2162.36,1305.59 2169.07,1330.07 2175.77,1352.47 2182.48,1372.69 2189.18,1390.62 2195.89,1406.17 2202.59,1419.26 2209.3,1429.8 2216,1437.72 2222.71,1442.98 2229.42,1445.51 2236.12,1445.28 2242.83,1442.26 2249.53,1436.44 2256.24,1427.81 2262.94,1416.38 2269.65,1402.17 2275.15,1388.46 2280.65,1372.92 2286.15,1355.59 2291.66,1336.5 \"/>\n",
       "<circle clip-path=\"url(#clip362)\" cx=\"1273.35\" cy=\"1310.75\" r=\"14.4\" fill=\"#ff0000\" fill-rule=\"evenodd\" fill-opacity=\"1\" stroke=\"#000000\" stroke-opacity=\"1\" stroke-width=\"3.2\"/>\n",
       "</svg>\n"
      ]
     },
     "execution_count": 97,
     "metadata": {},
     "output_type": "execute_result"
    }
   ],
   "source": [
    "function bisection( f, a, b, tol=1e-10, N=100)\n",
    "    \n",
    "    # insert your code here\n",
    "\n",
    "\n",
    "\n",
    "\n",
    "\n",
    "\n",
    "\n",
    "    return (a+b)/2\n",
    "\n",
    "end\n",
    "\n",
    "f = x -> cos( 10 * x^2 ); \n",
    "@show x = bisection( f, 0.0, 1.0 );\n",
    "\n",
    "plot( f , 0, 1, legend=false, lw = 2)\n",
    "scatter!( [x], [f(x)], color=\"red\" )"
   ]
  },
  {
   "cell_type": "markdown",
   "id": "3fbd2438",
   "metadata": {},
   "source": [
    "2. ✍ Suppose there exists a unique root $\\xi \\in [a,b]$. What is the order of convergence of the bisection method? What is the asymptotic error constant?\n",
    "3. ✍💻 Plot $f(x) = (1+x^2) \\mathrm{sign}(x - \\xi)$ and explain what happens when you apply the bisection method to $f$.\n",
    "4. 💻 Use the bisection method to approximate $\\Omega = W(1)$.\n",
    "5. 💻 Use the bisection method to approximate $\\sqrt{2}$."
   ]
  }
 ],
 "metadata": {
  "kernelspec": {
   "display_name": "Julia 1.7.1",
   "language": "julia",
   "name": "julia-1.7"
  },
  "language_info": {
   "file_extension": ".jl",
   "mimetype": "application/julia",
   "name": "julia",
   "version": "1.7.1"
  }
 },
 "nbformat": 4,
 "nbformat_minor": 5
}
